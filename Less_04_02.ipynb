{
  "nbformat": 4,
  "nbformat_minor": 0,
  "metadata": {
    "colab": {
      "provenance": [],
      "authorship_tag": "ABX9TyP3zvJ5KxQTscB0WItmLlz4",
      "include_colab_link": true
    },
    "kernelspec": {
      "name": "python3",
      "display_name": "Python 3"
    },
    "language_info": {
      "name": "python"
    }
  },
  "cells": [
    {
      "cell_type": "markdown",
      "metadata": {
        "id": "view-in-github",
        "colab_type": "text"
      },
      "source": [
        "<a href=\"https://colab.research.google.com/github/MaximTislenko/DS_in_MED/blob/main/Less_04_02.ipynb\" target=\"_parent\"><img src=\"https://colab.research.google.com/assets/colab-badge.svg\" alt=\"Open In Colab\"/></a>"
      ]
    },
    {
      "cell_type": "code",
      "source": [
        "import os\n",
        "import pandas as pd\n",
        "import numpy as np"
      ],
      "metadata": {
        "id": "2HNl8I44yt7e"
      },
      "execution_count": 51,
      "outputs": []
    },
    {
      "cell_type": "code",
      "source": [
        "# !wget https://github.com/MaximTislenko/DS_in_MED/blob/main/NCT06083623.csv"
      ],
      "metadata": {
        "id": "LP5zAHZDzWBu"
      },
      "execution_count": 52,
      "outputs": []
    },
    {
      "cell_type": "code",
      "execution_count": 53,
      "metadata": {
        "colab": {
          "base_uri": "https://localhost:8080/",
          "height": 269
        },
        "id": "mjy06cmpu1kn",
        "outputId": "617f42ce-9995-49d9-c441-57f6d13c21ae"
      },
      "outputs": [
        {
          "output_type": "execute_result",
          "data": {
            "text/plain": [
              "    NCT Number                                        Study Title  \\\n",
              "0  NCT06083623  A Trial to Evaluate the Efficacy and Safety of...   \n",
              "\n",
              "                                      Study URL  Acronym        Study Status  \\\n",
              "0  https://clinicaltrials.gov/study/NCT06083623      NaN  NOT_YET_RECRUITING   \n",
              "\n",
              "                                       Brief Summary Study Results  \\\n",
              "0  The purpose of this study is to evaluate the e...            NO   \n",
              "\n",
              "                               Conditions  \\\n",
              "0  Respiratory Syncytial Virus Infections   \n",
              "\n",
              "                            Interventions  \\\n",
              "0  BIOLOGICAL: TNM001|BIOLOGICAL: placebo   \n",
              "\n",
              "                            Primary Outcome Measures  ...  \\\n",
              "0  Incidence of medically attended LRTI due to RT...  ...   \n",
              "\n",
              "                                        Study Design               Other IDs  \\\n",
              "0  Allocation: RANDOMIZED|Intervention Model: PAR...  TNM001-301|CTR20232792   \n",
              "\n",
              "   Start Date  Primary Completion Date Completion Date First Posted  \\\n",
              "0  2023-10-06               2026-05-31      2026-08-31   2023-10-16   \n",
              "\n",
              "  Results First Posted  Last Update Posted  \\\n",
              "0                  NaN          2023-10-16   \n",
              "\n",
              "                                           Locations Study Documents  \n",
              "0  Peking University Third Hospital, Beijing, Bei...             NaN  \n",
              "\n",
              "[1 rows x 30 columns]"
            ],
            "text/html": [
              "\n",
              "  <div id=\"df-f1be71ef-71e3-480d-a9c8-a92c8583acd4\" class=\"colab-df-container\">\n",
              "    <div>\n",
              "<style scoped>\n",
              "    .dataframe tbody tr th:only-of-type {\n",
              "        vertical-align: middle;\n",
              "    }\n",
              "\n",
              "    .dataframe tbody tr th {\n",
              "        vertical-align: top;\n",
              "    }\n",
              "\n",
              "    .dataframe thead th {\n",
              "        text-align: right;\n",
              "    }\n",
              "</style>\n",
              "<table border=\"1\" class=\"dataframe\">\n",
              "  <thead>\n",
              "    <tr style=\"text-align: right;\">\n",
              "      <th></th>\n",
              "      <th>NCT Number</th>\n",
              "      <th>Study Title</th>\n",
              "      <th>Study URL</th>\n",
              "      <th>Acronym</th>\n",
              "      <th>Study Status</th>\n",
              "      <th>Brief Summary</th>\n",
              "      <th>Study Results</th>\n",
              "      <th>Conditions</th>\n",
              "      <th>Interventions</th>\n",
              "      <th>Primary Outcome Measures</th>\n",
              "      <th>...</th>\n",
              "      <th>Study Design</th>\n",
              "      <th>Other IDs</th>\n",
              "      <th>Start Date</th>\n",
              "      <th>Primary Completion Date</th>\n",
              "      <th>Completion Date</th>\n",
              "      <th>First Posted</th>\n",
              "      <th>Results First Posted</th>\n",
              "      <th>Last Update Posted</th>\n",
              "      <th>Locations</th>\n",
              "      <th>Study Documents</th>\n",
              "    </tr>\n",
              "  </thead>\n",
              "  <tbody>\n",
              "    <tr>\n",
              "      <th>0</th>\n",
              "      <td>NCT06083623</td>\n",
              "      <td>A Trial to Evaluate the Efficacy and Safety of...</td>\n",
              "      <td>https://clinicaltrials.gov/study/NCT06083623</td>\n",
              "      <td>NaN</td>\n",
              "      <td>NOT_YET_RECRUITING</td>\n",
              "      <td>The purpose of this study is to evaluate the e...</td>\n",
              "      <td>NO</td>\n",
              "      <td>Respiratory Syncytial Virus Infections</td>\n",
              "      <td>BIOLOGICAL: TNM001|BIOLOGICAL: placebo</td>\n",
              "      <td>Incidence of medically attended LRTI due to RT...</td>\n",
              "      <td>...</td>\n",
              "      <td>Allocation: RANDOMIZED|Intervention Model: PAR...</td>\n",
              "      <td>TNM001-301|CTR20232792</td>\n",
              "      <td>2023-10-06</td>\n",
              "      <td>2026-05-31</td>\n",
              "      <td>2026-08-31</td>\n",
              "      <td>2023-10-16</td>\n",
              "      <td>NaN</td>\n",
              "      <td>2023-10-16</td>\n",
              "      <td>Peking University Third Hospital, Beijing, Bei...</td>\n",
              "      <td>NaN</td>\n",
              "    </tr>\n",
              "  </tbody>\n",
              "</table>\n",
              "<p>1 rows × 30 columns</p>\n",
              "</div>\n",
              "    <div class=\"colab-df-buttons\">\n",
              "\n",
              "  <div class=\"colab-df-container\">\n",
              "    <button class=\"colab-df-convert\" onclick=\"convertToInteractive('df-f1be71ef-71e3-480d-a9c8-a92c8583acd4')\"\n",
              "            title=\"Convert this dataframe to an interactive table.\"\n",
              "            style=\"display:none;\">\n",
              "\n",
              "  <svg xmlns=\"http://www.w3.org/2000/svg\" height=\"24px\" viewBox=\"0 -960 960 960\">\n",
              "    <path d=\"M120-120v-720h720v720H120Zm60-500h600v-160H180v160Zm220 220h160v-160H400v160Zm0 220h160v-160H400v160ZM180-400h160v-160H180v160Zm440 0h160v-160H620v160ZM180-180h160v-160H180v160Zm440 0h160v-160H620v160Z\"/>\n",
              "  </svg>\n",
              "    </button>\n",
              "\n",
              "  <style>\n",
              "    .colab-df-container {\n",
              "      display:flex;\n",
              "      gap: 12px;\n",
              "    }\n",
              "\n",
              "    .colab-df-convert {\n",
              "      background-color: #E8F0FE;\n",
              "      border: none;\n",
              "      border-radius: 50%;\n",
              "      cursor: pointer;\n",
              "      display: none;\n",
              "      fill: #1967D2;\n",
              "      height: 32px;\n",
              "      padding: 0 0 0 0;\n",
              "      width: 32px;\n",
              "    }\n",
              "\n",
              "    .colab-df-convert:hover {\n",
              "      background-color: #E2EBFA;\n",
              "      box-shadow: 0px 1px 2px rgba(60, 64, 67, 0.3), 0px 1px 3px 1px rgba(60, 64, 67, 0.15);\n",
              "      fill: #174EA6;\n",
              "    }\n",
              "\n",
              "    .colab-df-buttons div {\n",
              "      margin-bottom: 4px;\n",
              "    }\n",
              "\n",
              "    [theme=dark] .colab-df-convert {\n",
              "      background-color: #3B4455;\n",
              "      fill: #D2E3FC;\n",
              "    }\n",
              "\n",
              "    [theme=dark] .colab-df-convert:hover {\n",
              "      background-color: #434B5C;\n",
              "      box-shadow: 0px 1px 3px 1px rgba(0, 0, 0, 0.15);\n",
              "      filter: drop-shadow(0px 1px 2px rgba(0, 0, 0, 0.3));\n",
              "      fill: #FFFFFF;\n",
              "    }\n",
              "  </style>\n",
              "\n",
              "    <script>\n",
              "      const buttonEl =\n",
              "        document.querySelector('#df-f1be71ef-71e3-480d-a9c8-a92c8583acd4 button.colab-df-convert');\n",
              "      buttonEl.style.display =\n",
              "        google.colab.kernel.accessAllowed ? 'block' : 'none';\n",
              "\n",
              "      async function convertToInteractive(key) {\n",
              "        const element = document.querySelector('#df-f1be71ef-71e3-480d-a9c8-a92c8583acd4');\n",
              "        const dataTable =\n",
              "          await google.colab.kernel.invokeFunction('convertToInteractive',\n",
              "                                                    [key], {});\n",
              "        if (!dataTable) return;\n",
              "\n",
              "        const docLinkHtml = 'Like what you see? Visit the ' +\n",
              "          '<a target=\"_blank\" href=https://colab.research.google.com/notebooks/data_table.ipynb>data table notebook</a>'\n",
              "          + ' to learn more about interactive tables.';\n",
              "        element.innerHTML = '';\n",
              "        dataTable['output_type'] = 'display_data';\n",
              "        await google.colab.output.renderOutput(dataTable, element);\n",
              "        const docLink = document.createElement('div');\n",
              "        docLink.innerHTML = docLinkHtml;\n",
              "        element.appendChild(docLink);\n",
              "      }\n",
              "    </script>\n",
              "  </div>\n",
              "\n",
              "    </div>\n",
              "  </div>\n"
            ]
          },
          "metadata": {},
          "execution_count": 53
        }
      ],
      "source": [
        "study = pd.read_csv('/content/NCT06083623.csv')\n",
        "study"
      ]
    },
    {
      "cell_type": "code",
      "source": [
        "study.columns.values.tolist()"
      ],
      "metadata": {
        "id": "E3FCP_18G6Kb",
        "outputId": "05291af0-7dde-4732-9664-897e73491bd1",
        "colab": {
          "base_uri": "https://localhost:8080/"
        }
      },
      "execution_count": 54,
      "outputs": [
        {
          "output_type": "execute_result",
          "data": {
            "text/plain": [
              "['NCT Number',\n",
              " 'Study Title',\n",
              " 'Study URL',\n",
              " 'Acronym',\n",
              " 'Study Status',\n",
              " 'Brief Summary',\n",
              " 'Study Results',\n",
              " 'Conditions',\n",
              " 'Interventions',\n",
              " 'Primary Outcome Measures',\n",
              " 'Secondary Outcome Measures',\n",
              " 'Other Outcome Measures',\n",
              " 'Sponsor',\n",
              " 'Collaborators',\n",
              " 'Sex',\n",
              " 'Age',\n",
              " 'Phases',\n",
              " 'Enrollment',\n",
              " 'Funder Type',\n",
              " 'Study Type',\n",
              " 'Study Design',\n",
              " 'Other IDs',\n",
              " 'Start Date',\n",
              " 'Primary Completion Date',\n",
              " 'Completion Date',\n",
              " 'First Posted',\n",
              " 'Results First Posted',\n",
              " 'Last Update Posted',\n",
              " 'Locations',\n",
              " 'Study Documents']"
            ]
          },
          "metadata": {},
          "execution_count": 54
        }
      ]
    },
    {
      "cell_type": "markdown",
      "source": [
        "##Разбор столбцов\n",
        "* 'NCT Number' - номер исследования,\n",
        "* 'Study Title' - наименование исследования,\n",
        "* 'Study URL' - ссылка на первоисточник,\n",
        "* 'Acronym' - краткое описание,\n",
        "* 'Study Status'- стадия исследования,\n",
        "* 'Brief Summary' - краткое содержание (интересно, чем отличается от **Acronum**,\n",
        "* 'Study Results' - результаты исследования,\n",
        "* 'Conditions' - условия,\n",
        "* 'Interventions' - вмешательства,\n",
        "* 'Primary Outcome Measures'- первичные результаты,\n",
        "* 'Secondary Outcome Measures' - вторичные результаты,\n",
        "* 'Other Outcome Measures' - другие рзультаты,\n",
        "* 'Sponsor' - спонсор (заказчик),\n",
        "* 'Collaborators' - соавторы,\n",
        "* 'Sex' - пол,\n",
        "* 'Age' - возраст,\n",
        "* 'Phases' - Фазы исследования,\n",
        "* 'Enrollment' - регистрация,\n",
        "* 'Funder Type' - тип спонсора,\n",
        "* 'Study Type' - тип исследования,\n",
        "* 'Study Design' - дизайн исследования,\n",
        "* 'Other IDs' - идентефикаторы,\n",
        "* 'Start Date' - дата начала,\n",
        "* 'Primary Completion Date' - дата подведения предварительных итогов,\n",
        "* 'Completion Date' - дата подведения окончательных итогов,\n",
        "* 'First Posted' - первое сообщение,\n",
        "* 'Results First Posted' - результаты,\n",
        "* 'Last Update Posted' - последнее опубликованное сообщение,\n",
        "* 'Locations' - местоположение,\n",
        "* 'Study Documents' - документы по исследованию"
      ],
      "metadata": {
        "id": "JIwzLkM6HE3S"
      }
    },
    {
      "cell_type": "code",
      "source": [
        "X = study['Study Title'].values\n",
        "print(X)"
      ],
      "metadata": {
        "id": "rLnBHFNiFvwq",
        "outputId": "35161eca-3c34-49fe-b5f3-a3f3e5b473d1",
        "colab": {
          "base_uri": "https://localhost:8080/"
        }
      },
      "execution_count": 55,
      "outputs": [
        {
          "output_type": "stream",
          "name": "stdout",
          "text": [
            "['A Trial to Evaluate the Efficacy and Safety of TNM001 for the Prevention of Lower Respiratory Tract Infection Caused by Respiratory Syncytial Virus in Infants']\n"
          ]
        }
      ]
    },
    {
      "cell_type": "markdown",
      "source": [
        "###Исследование по оценке эффективности и безопасности TNM001 для профилактики инфекций нижних дыхательных путей, вызванных респираторно-синцитиальным вирусом, у младенцев"
      ],
      "metadata": {
        "id": "1hA-LqUO4je5"
      }
    },
    {
      "cell_type": "code",
      "source": [
        "X = study['Study Status'].values\n",
        "print(X)"
      ],
      "metadata": {
        "id": "Njes6rEo4qd5",
        "outputId": "5f823d88-81d2-44f9-8b8e-ca095c299a9d",
        "colab": {
          "base_uri": "https://localhost:8080/"
        }
      },
      "execution_count": 69,
      "outputs": [
        {
          "output_type": "stream",
          "name": "stdout",
          "text": [
            "['NOT_YET_RECRUITING']\n"
          ]
        }
      ]
    },
    {
      "cell_type": "markdown",
      "source": [
        "Пока нет данных"
      ],
      "metadata": {
        "id": "Dz8lf3f95Ioy"
      }
    },
    {
      "cell_type": "code",
      "source": [
        "X = study['Study Design'].values\n",
        "print(X)"
      ],
      "metadata": {
        "id": "r9i_GFww5N6Z",
        "outputId": "934026f5-ecbb-45ea-ede6-eb9b16d9f4aa",
        "colab": {
          "base_uri": "https://localhost:8080/"
        }
      },
      "execution_count": 70,
      "outputs": [
        {
          "output_type": "stream",
          "name": "stdout",
          "text": [
            "['Allocation: RANDOMIZED|Intervention Model: PARALLEL|Masking: QUADRUPLE (PARTICIPANT, CARE_PROVIDER, INVESTIGATOR, OUTCOMES_ASSESSOR)|Primary Purpose: PREVENTION']\n"
          ]
        }
      ]
    },
    {
      "cell_type": "code",
      "source": [
        "pip install googletrans"
      ],
      "metadata": {
        "id": "eOvPrKvgReB1",
        "outputId": "86f5bac6-18b0-4bf1-ab34-7ae9b407e064",
        "colab": {
          "base_uri": "https://localhost:8080/"
        }
      },
      "execution_count": 56,
      "outputs": [
        {
          "output_type": "stream",
          "name": "stdout",
          "text": [
            "Requirement already satisfied: googletrans in /usr/local/lib/python3.10/dist-packages (3.0.0)\n",
            "Requirement already satisfied: httpx==0.13.3 in /usr/local/lib/python3.10/dist-packages (from googletrans) (0.13.3)\n",
            "Requirement already satisfied: certifi in /usr/local/lib/python3.10/dist-packages (from httpx==0.13.3->googletrans) (2023.7.22)\n",
            "Requirement already satisfied: hstspreload in /usr/local/lib/python3.10/dist-packages (from httpx==0.13.3->googletrans) (2023.1.1)\n",
            "Requirement already satisfied: sniffio in /usr/local/lib/python3.10/dist-packages (from httpx==0.13.3->googletrans) (1.3.0)\n",
            "Requirement already satisfied: chardet==3.* in /usr/local/lib/python3.10/dist-packages (from httpx==0.13.3->googletrans) (3.0.4)\n",
            "Requirement already satisfied: idna==2.* in /usr/local/lib/python3.10/dist-packages (from httpx==0.13.3->googletrans) (2.10)\n",
            "Requirement already satisfied: rfc3986<2,>=1.3 in /usr/local/lib/python3.10/dist-packages (from httpx==0.13.3->googletrans) (1.5.0)\n",
            "Requirement already satisfied: httpcore==0.9.* in /usr/local/lib/python3.10/dist-packages (from httpx==0.13.3->googletrans) (0.9.1)\n",
            "Requirement already satisfied: h11<0.10,>=0.8 in /usr/local/lib/python3.10/dist-packages (from httpcore==0.9.*->httpx==0.13.3->googletrans) (0.9.0)\n",
            "Requirement already satisfied: h2==3.* in /usr/local/lib/python3.10/dist-packages (from httpcore==0.9.*->httpx==0.13.3->googletrans) (3.2.0)\n",
            "Requirement already satisfied: hyperframe<6,>=5.2.0 in /usr/local/lib/python3.10/dist-packages (from h2==3.*->httpcore==0.9.*->httpx==0.13.3->googletrans) (5.2.0)\n",
            "Requirement already satisfied: hpack<4,>=3.0 in /usr/local/lib/python3.10/dist-packages (from h2==3.*->httpcore==0.9.*->httpx==0.13.3->googletrans) (3.0.0)\n"
          ]
        }
      ]
    },
    {
      "cell_type": "code",
      "source": [
        "import googletrans as trgoog"
      ],
      "metadata": {
        "id": "sS89-4xVRnLc"
      },
      "execution_count": 57,
      "outputs": []
    },
    {
      "cell_type": "code",
      "source": [
        "help(trgoog)"
      ],
      "metadata": {
        "id": "5VU3nHjrR25s",
        "outputId": "da1c5b87-bf1e-4a6e-986b-abdc4e32d85f",
        "colab": {
          "base_uri": "https://localhost:8080/"
        }
      },
      "execution_count": 58,
      "outputs": [
        {
          "output_type": "stream",
          "name": "stdout",
          "text": [
            "Help on package googletrans:\n",
            "\n",
            "NAME\n",
            "    googletrans - Free Google Translate API for Python. Translates totally free of charge.\n",
            "\n",
            "PACKAGE CONTENTS\n",
            "    client\n",
            "    constants\n",
            "    gtoken\n",
            "    models\n",
            "    urls\n",
            "    utils\n",
            "\n",
            "CLASSES\n",
            "    builtins.object\n",
            "        googletrans.client.Translator\n",
            "    \n",
            "    class Translator(builtins.object)\n",
            "     |  Translator(service_urls=None, user_agent='Mozilla/5.0 (Windows NT 10.0; Win64; x64)', raise_exception=False, proxies: Dict[str, httpcore._sync.base.SyncHTTPTransport] = None, timeout: httpx._config.Timeout = None)\n",
            "     |  \n",
            "     |  Google Translate ajax API implementation class\n",
            "     |  \n",
            "     |      You have to create an instance of Translator to use this API\n",
            "     |  \n",
            "     |      :param service_urls: google translate url list. URLs will be used randomly.\n",
            "     |                           For example ``['translate.google.com', 'translate.google.co.kr']``\n",
            "     |      :type service_urls: a sequence of strings\n",
            "     |  \n",
            "     |      :param user_agent: the User-Agent header to send when making requests.\n",
            "     |      :type user_agent: :class:`str`\n",
            "     |  \n",
            "     |      :param proxies: proxies configuration.\n",
            "     |                      Dictionary mapping protocol or protocol and host to the URL of the proxy\n",
            "     |                      For example ``{'http': 'foo.bar:3128', 'http://host.name': 'foo.bar:4012'}``\n",
            "     |      :type proxies: dictionary\n",
            "     |  \n",
            "     |      :param timeout: Definition of timeout for httpx library.\n",
            "     |                      Will be used for every request.\n",
            "     |      :type timeout: number or a double of numbers\n",
            "     |  ||||||| constructed merge base\n",
            "     |      :param proxies: proxies configuration.\n",
            "     |                      Dictionary mapping protocol or protocol and host to the URL of the proxy\n",
            "     |                      For example ``{'http': 'foo.bar:3128', 'http://host.name': 'foo.bar:4012'}``\n",
            "     |      :param raise_exception: if `True` then raise exception if smth will go wrong\n",
            "     |      :type raise_exception: boolean\n",
            "     |  \n",
            "     |  Methods defined here:\n",
            "     |  \n",
            "     |  __init__(self, service_urls=None, user_agent='Mozilla/5.0 (Windows NT 10.0; Win64; x64)', raise_exception=False, proxies: Dict[str, httpcore._sync.base.SyncHTTPTransport] = None, timeout: httpx._config.Timeout = None)\n",
            "     |      Initialize self.  See help(type(self)) for accurate signature.\n",
            "     |  \n",
            "     |  detect(self, text, **kwargs)\n",
            "     |      Detect language of the input text\n",
            "     |      \n",
            "     |      :param text: The source text(s) whose language you want to identify.\n",
            "     |                   Batch detection is supported via sequence input.\n",
            "     |      :type text: UTF-8 :class:`str`; :class:`unicode`; string sequence (list, tuple, iterator, generator)\n",
            "     |      \n",
            "     |      :rtype: Detected\n",
            "     |      :rtype: :class:`list` (when a list is passed)\n",
            "     |      \n",
            "     |      Basic usage:\n",
            "     |          >>> from googletrans import Translator\n",
            "     |          >>> translator = Translator()\n",
            "     |          >>> translator.detect('이 문장은 한글로 쓰여졌습니다.')\n",
            "     |          <Detected lang=ko confidence=0.27041003>\n",
            "     |          >>> translator.detect('この文章は日本語で書かれました。')\n",
            "     |          <Detected lang=ja confidence=0.64889508>\n",
            "     |          >>> translator.detect('This sentence is written in English.')\n",
            "     |          <Detected lang=en confidence=0.22348526>\n",
            "     |          >>> translator.detect('Tiu frazo estas skribita en Esperanto.')\n",
            "     |          <Detected lang=eo confidence=0.10538048>\n",
            "     |      \n",
            "     |      Advanced usage:\n",
            "     |          >>> langs = translator.detect(['한국어', '日本語', 'English', 'le français'])\n",
            "     |          >>> for lang in langs:\n",
            "     |          ...    print(lang.lang, lang.confidence)\n",
            "     |          ko 1\n",
            "     |          ja 0.92929292\n",
            "     |          en 0.96954316\n",
            "     |          fr 0.043500196\n",
            "     |  \n",
            "     |  translate(self, text, dest='en', src='auto', **kwargs)\n",
            "     |      Translate text from source language to destination language\n",
            "     |      \n",
            "     |      :param text: The source text(s) to be translated. Batch translation is supported via sequence input.\n",
            "     |      :type text: UTF-8 :class:`str`; :class:`unicode`; string sequence (list, tuple, iterator, generator)\n",
            "     |      \n",
            "     |      :param dest: The language to translate the source text into.\n",
            "     |                   The value should be one of the language codes listed in :const:`googletrans.LANGUAGES`\n",
            "     |                   or one of the language names listed in :const:`googletrans.LANGCODES`.\n",
            "     |      :param dest: :class:`str`; :class:`unicode`\n",
            "     |      \n",
            "     |      :param src: The language of the source text.\n",
            "     |                  The value should be one of the language codes listed in :const:`googletrans.LANGUAGES`\n",
            "     |                  or one of the language names listed in :const:`googletrans.LANGCODES`.\n",
            "     |                  If a language is not specified,\n",
            "     |                  the system will attempt to identify the source language automatically.\n",
            "     |      :param src: :class:`str`; :class:`unicode`\n",
            "     |      \n",
            "     |      :rtype: Translated\n",
            "     |      :rtype: :class:`list` (when a list is passed)\n",
            "     |      \n",
            "     |      Basic usage:\n",
            "     |          >>> from googletrans import Translator\n",
            "     |          >>> translator = Translator()\n",
            "     |          >>> translator.translate('안녕하세요.')\n",
            "     |          <Translated src=ko dest=en text=Good evening. pronunciation=Good evening.>\n",
            "     |          >>> translator.translate('안녕하세요.', dest='ja')\n",
            "     |          <Translated src=ko dest=ja text=こんにちは。 pronunciation=Kon'nichiwa.>\n",
            "     |          >>> translator.translate('veritas lux mea', src='la')\n",
            "     |          <Translated src=la dest=en text=The truth is my light pronunciation=The truth is my light>\n",
            "     |      \n",
            "     |      Advanced usage:\n",
            "     |          >>> translations = translator.translate(['The quick brown fox', 'jumps over', 'the lazy dog'], dest='ko')\n",
            "     |          >>> for translation in translations:\n",
            "     |          ...    print(translation.origin, ' -> ', translation.text)\n",
            "     |          The quick brown fox  ->  빠른 갈색 여우\n",
            "     |          jumps over  ->  이상 점프\n",
            "     |          the lazy dog  ->  게으른 개\n",
            "     |  \n",
            "     |  ----------------------------------------------------------------------\n",
            "     |  Data descriptors defined here:\n",
            "     |  \n",
            "     |  __dict__\n",
            "     |      dictionary for instance variables (if defined)\n",
            "     |  \n",
            "     |  __weakref__\n",
            "     |      list of weak references to the object (if defined)\n",
            "\n",
            "DATA\n",
            "    __all__ = ('Translator',)\n",
            "\n",
            "VERSION\n",
            "    3.0.0\n",
            "\n",
            "FILE\n",
            "    /usr/local/lib/python3.10/dist-packages/googletrans/__init__.py\n",
            "\n",
            "\n"
          ]
        }
      ]
    },
    {
      "cell_type": "code",
      "source": [
        "# translate(self, text, dest='en', src='auto', **kwargs)\n",
        "trgoog.Translator(X)"
      ],
      "metadata": {
        "id": "DbD1mhHjnhn2",
        "outputId": "aeb47f46-9bc0-42ec-acf6-d317ce7b1ebb",
        "colab": {
          "base_uri": "https://localhost:8080/"
        }
      },
      "execution_count": 59,
      "outputs": [
        {
          "output_type": "execute_result",
          "data": {
            "text/plain": [
              "<googletrans.client.Translator at 0x788405612920>"
            ]
          },
          "metadata": {},
          "execution_count": 59
        }
      ]
    },
    {
      "cell_type": "code",
      "source": [
        "# from googletrans import Translator\n",
        "# translator = Translator()\n",
        "# translator.translate(X)"
      ],
      "metadata": {
        "id": "8mSQDuq-SJ5d"
      },
      "execution_count": 60,
      "outputs": []
    },
    {
      "cell_type": "code",
      "source": [
        "# from googletrans import Translator\n",
        "# Translator(service_urls=['translate.google.com'])\n",
        "translator = trgoog.Translator(service_urls=['translate.google.com'])\n",
        "translator\n"
      ],
      "metadata": {
        "id": "pfRT4m0km1Eu",
        "outputId": "7a801bb3-042e-45dc-feb7-84189e26cf67",
        "colab": {
          "base_uri": "https://localhost:8080/"
        }
      },
      "execution_count": 66,
      "outputs": [
        {
          "output_type": "execute_result",
          "data": {
            "text/plain": [
              "<googletrans.client.Translator at 0x788405282020>"
            ]
          },
          "metadata": {},
          "execution_count": 66
        }
      ]
    },
    {
      "cell_type": "code",
      "source": [
        "translator.translate('Study Documents', dest='en', src='rus')"
      ],
      "metadata": {
        "id": "jbYrqMjh22Bp",
        "outputId": "b36779f9-5e4b-4478-d541-ae7591759f6b",
        "colab": {
          "base_uri": "https://localhost:8080/",
          "height": 297
        }
      },
      "execution_count": 68,
      "outputs": [
        {
          "output_type": "error",
          "ename": "ValueError",
          "evalue": "ignored",
          "traceback": [
            "\u001b[0;31m---------------------------------------------------------------------------\u001b[0m",
            "\u001b[0;31mValueError\u001b[0m                                Traceback (most recent call last)",
            "\u001b[0;32m<ipython-input-68-4f2ac5b3e9a9>\u001b[0m in \u001b[0;36m<cell line: 1>\u001b[0;34m()\u001b[0m\n\u001b[0;32m----> 1\u001b[0;31m \u001b[0mtranslator\u001b[0m\u001b[0;34m.\u001b[0m\u001b[0mtranslate\u001b[0m\u001b[0;34m(\u001b[0m\u001b[0;34m'Study Documents'\u001b[0m\u001b[0;34m,\u001b[0m \u001b[0mdest\u001b[0m\u001b[0;34m=\u001b[0m\u001b[0;34m'en'\u001b[0m\u001b[0;34m,\u001b[0m \u001b[0msrc\u001b[0m\u001b[0;34m=\u001b[0m\u001b[0;34m'rus'\u001b[0m\u001b[0;34m)\u001b[0m\u001b[0;34m\u001b[0m\u001b[0;34m\u001b[0m\u001b[0m\n\u001b[0m",
            "\u001b[0;32m/usr/local/lib/python3.10/dist-packages/googletrans/client.py\u001b[0m in \u001b[0;36mtranslate\u001b[0;34m(self, text, dest, src, **kwargs)\u001b[0m\n\u001b[1;32m    162\u001b[0m                 \u001b[0msrc\u001b[0m \u001b[0;34m=\u001b[0m \u001b[0mLANGCODES\u001b[0m\u001b[0;34m[\u001b[0m\u001b[0msrc\u001b[0m\u001b[0;34m]\u001b[0m\u001b[0;34m\u001b[0m\u001b[0;34m\u001b[0m\u001b[0m\n\u001b[1;32m    163\u001b[0m             \u001b[0;32melse\u001b[0m\u001b[0;34m:\u001b[0m\u001b[0;34m\u001b[0m\u001b[0;34m\u001b[0m\u001b[0m\n\u001b[0;32m--> 164\u001b[0;31m                 \u001b[0;32mraise\u001b[0m \u001b[0mValueError\u001b[0m\u001b[0;34m(\u001b[0m\u001b[0;34m'invalid source language'\u001b[0m\u001b[0;34m)\u001b[0m\u001b[0;34m\u001b[0m\u001b[0;34m\u001b[0m\u001b[0m\n\u001b[0m\u001b[1;32m    165\u001b[0m \u001b[0;34m\u001b[0m\u001b[0m\n\u001b[1;32m    166\u001b[0m         \u001b[0;32mif\u001b[0m \u001b[0mdest\u001b[0m \u001b[0;32mnot\u001b[0m \u001b[0;32min\u001b[0m \u001b[0mLANGUAGES\u001b[0m\u001b[0;34m:\u001b[0m\u001b[0;34m\u001b[0m\u001b[0;34m\u001b[0m\u001b[0m\n",
            "\u001b[0;31mValueError\u001b[0m: invalid source language"
          ]
        }
      ]
    },
    {
      "cell_type": "code",
      "source": [
        "# translator.translate('안녕하세요.')\n",
        "translator.translate('안녕하세요.', dest='ja')\n",
        "# translator.translate('veritas lux mea', src='la')"
      ],
      "metadata": {
        "id": "vkR_PF2Hqnz4",
        "outputId": "fe6f42eb-5345-4ad2-e65f-fd2a6d6977ed",
        "colab": {
          "base_uri": "https://localhost:8080/",
          "height": 355
        }
      },
      "execution_count": 62,
      "outputs": [
        {
          "output_type": "error",
          "ename": "AttributeError",
          "evalue": "ignored",
          "traceback": [
            "\u001b[0;31m---------------------------------------------------------------------------\u001b[0m",
            "\u001b[0;31mAttributeError\u001b[0m                            Traceback (most recent call last)",
            "\u001b[0;32m<ipython-input-62-71aa5960c8ad>\u001b[0m in \u001b[0;36m<cell line: 2>\u001b[0;34m()\u001b[0m\n\u001b[1;32m      1\u001b[0m \u001b[0;31m# translator.translate('안녕하세요.')\u001b[0m\u001b[0;34m\u001b[0m\u001b[0;34m\u001b[0m\u001b[0m\n\u001b[0;32m----> 2\u001b[0;31m \u001b[0mtranslator\u001b[0m\u001b[0;34m.\u001b[0m\u001b[0mtranslate\u001b[0m\u001b[0;34m(\u001b[0m\u001b[0;34m'안녕하세요.'\u001b[0m\u001b[0;34m,\u001b[0m \u001b[0mdest\u001b[0m\u001b[0;34m=\u001b[0m\u001b[0;34m'ja'\u001b[0m\u001b[0;34m)\u001b[0m\u001b[0;34m\u001b[0m\u001b[0;34m\u001b[0m\u001b[0m\n\u001b[0m\u001b[1;32m      3\u001b[0m \u001b[0;31m# translator.translate('veritas lux mea', src='la')\u001b[0m\u001b[0;34m\u001b[0m\u001b[0;34m\u001b[0m\u001b[0m\n",
            "\u001b[0;32m/usr/local/lib/python3.10/dist-packages/googletrans/client.py\u001b[0m in \u001b[0;36mtranslate\u001b[0;34m(self, text, dest, src, **kwargs)\u001b[0m\n\u001b[1;32m    180\u001b[0m \u001b[0;34m\u001b[0m\u001b[0m\n\u001b[1;32m    181\u001b[0m         \u001b[0morigin\u001b[0m \u001b[0;34m=\u001b[0m \u001b[0mtext\u001b[0m\u001b[0;34m\u001b[0m\u001b[0;34m\u001b[0m\u001b[0m\n\u001b[0;32m--> 182\u001b[0;31m         \u001b[0mdata\u001b[0m \u001b[0;34m=\u001b[0m \u001b[0mself\u001b[0m\u001b[0;34m.\u001b[0m\u001b[0m_translate\u001b[0m\u001b[0;34m(\u001b[0m\u001b[0mtext\u001b[0m\u001b[0;34m,\u001b[0m \u001b[0mdest\u001b[0m\u001b[0;34m,\u001b[0m \u001b[0msrc\u001b[0m\u001b[0;34m,\u001b[0m \u001b[0mkwargs\u001b[0m\u001b[0;34m)\u001b[0m\u001b[0;34m\u001b[0m\u001b[0;34m\u001b[0m\u001b[0m\n\u001b[0m\u001b[1;32m    183\u001b[0m \u001b[0;34m\u001b[0m\u001b[0m\n\u001b[1;32m    184\u001b[0m         \u001b[0;31m# this code will be updated when the format is changed.\u001b[0m\u001b[0;34m\u001b[0m\u001b[0;34m\u001b[0m\u001b[0m\n",
            "\u001b[0;32m/usr/local/lib/python3.10/dist-packages/googletrans/client.py\u001b[0m in \u001b[0;36m_translate\u001b[0;34m(self, text, dest, src, override)\u001b[0m\n\u001b[1;32m     76\u001b[0m \u001b[0;34m\u001b[0m\u001b[0m\n\u001b[1;32m     77\u001b[0m     \u001b[0;32mdef\u001b[0m \u001b[0m_translate\u001b[0m\u001b[0;34m(\u001b[0m\u001b[0mself\u001b[0m\u001b[0;34m,\u001b[0m \u001b[0mtext\u001b[0m\u001b[0;34m,\u001b[0m \u001b[0mdest\u001b[0m\u001b[0;34m,\u001b[0m \u001b[0msrc\u001b[0m\u001b[0;34m,\u001b[0m \u001b[0moverride\u001b[0m\u001b[0;34m)\u001b[0m\u001b[0;34m:\u001b[0m\u001b[0;34m\u001b[0m\u001b[0;34m\u001b[0m\u001b[0m\n\u001b[0;32m---> 78\u001b[0;31m         \u001b[0mtoken\u001b[0m \u001b[0;34m=\u001b[0m \u001b[0mself\u001b[0m\u001b[0;34m.\u001b[0m\u001b[0mtoken_acquirer\u001b[0m\u001b[0;34m.\u001b[0m\u001b[0mdo\u001b[0m\u001b[0;34m(\u001b[0m\u001b[0mtext\u001b[0m\u001b[0;34m)\u001b[0m\u001b[0;34m\u001b[0m\u001b[0;34m\u001b[0m\u001b[0m\n\u001b[0m\u001b[1;32m     79\u001b[0m         params = utils.build_params(query=text, src=src, dest=dest,\n\u001b[1;32m     80\u001b[0m                                     token=token, override=override)\n",
            "\u001b[0;32m/usr/local/lib/python3.10/dist-packages/googletrans/gtoken.py\u001b[0m in \u001b[0;36mdo\u001b[0;34m(self, text)\u001b[0m\n\u001b[1;32m    192\u001b[0m \u001b[0;34m\u001b[0m\u001b[0m\n\u001b[1;32m    193\u001b[0m     \u001b[0;32mdef\u001b[0m \u001b[0mdo\u001b[0m\u001b[0;34m(\u001b[0m\u001b[0mself\u001b[0m\u001b[0;34m,\u001b[0m \u001b[0mtext\u001b[0m\u001b[0;34m)\u001b[0m\u001b[0;34m:\u001b[0m\u001b[0;34m\u001b[0m\u001b[0;34m\u001b[0m\u001b[0m\n\u001b[0;32m--> 194\u001b[0;31m         \u001b[0mself\u001b[0m\u001b[0;34m.\u001b[0m\u001b[0m_update\u001b[0m\u001b[0;34m(\u001b[0m\u001b[0;34m)\u001b[0m\u001b[0;34m\u001b[0m\u001b[0;34m\u001b[0m\u001b[0m\n\u001b[0m\u001b[1;32m    195\u001b[0m         \u001b[0mtk\u001b[0m \u001b[0;34m=\u001b[0m \u001b[0mself\u001b[0m\u001b[0;34m.\u001b[0m\u001b[0macquire\u001b[0m\u001b[0;34m(\u001b[0m\u001b[0mtext\u001b[0m\u001b[0;34m)\u001b[0m\u001b[0;34m\u001b[0m\u001b[0;34m\u001b[0m\u001b[0m\n\u001b[1;32m    196\u001b[0m         \u001b[0;32mreturn\u001b[0m \u001b[0mtk\u001b[0m\u001b[0;34m\u001b[0m\u001b[0;34m\u001b[0m\u001b[0m\n",
            "\u001b[0;32m/usr/local/lib/python3.10/dist-packages/googletrans/gtoken.py\u001b[0m in \u001b[0;36m_update\u001b[0;34m(self)\u001b[0m\n\u001b[1;32m     60\u001b[0m \u001b[0;34m\u001b[0m\u001b[0m\n\u001b[1;32m     61\u001b[0m         \u001b[0;31m# this will be the same as python code after stripping out a reserved word 'var'\u001b[0m\u001b[0;34m\u001b[0m\u001b[0;34m\u001b[0m\u001b[0m\n\u001b[0;32m---> 62\u001b[0;31m         \u001b[0mcode\u001b[0m \u001b[0;34m=\u001b[0m \u001b[0mself\u001b[0m\u001b[0;34m.\u001b[0m\u001b[0mRE_TKK\u001b[0m\u001b[0;34m.\u001b[0m\u001b[0msearch\u001b[0m\u001b[0;34m(\u001b[0m\u001b[0mr\u001b[0m\u001b[0;34m.\u001b[0m\u001b[0mtext\u001b[0m\u001b[0;34m)\u001b[0m\u001b[0;34m.\u001b[0m\u001b[0mgroup\u001b[0m\u001b[0;34m(\u001b[0m\u001b[0;36m1\u001b[0m\u001b[0;34m)\u001b[0m\u001b[0;34m.\u001b[0m\u001b[0mreplace\u001b[0m\u001b[0;34m(\u001b[0m\u001b[0;34m'var '\u001b[0m\u001b[0;34m,\u001b[0m \u001b[0;34m''\u001b[0m\u001b[0;34m)\u001b[0m\u001b[0;34m\u001b[0m\u001b[0;34m\u001b[0m\u001b[0m\n\u001b[0m\u001b[1;32m     63\u001b[0m         \u001b[0;31m# unescape special ascii characters such like a \\x3d(=)\u001b[0m\u001b[0;34m\u001b[0m\u001b[0;34m\u001b[0m\u001b[0m\n\u001b[1;32m     64\u001b[0m         \u001b[0mcode\u001b[0m \u001b[0;34m=\u001b[0m \u001b[0mcode\u001b[0m\u001b[0;34m.\u001b[0m\u001b[0mencode\u001b[0m\u001b[0;34m(\u001b[0m\u001b[0;34m)\u001b[0m\u001b[0;34m.\u001b[0m\u001b[0mdecode\u001b[0m\u001b[0;34m(\u001b[0m\u001b[0;34m'unicode-escape'\u001b[0m\u001b[0;34m)\u001b[0m\u001b[0;34m\u001b[0m\u001b[0;34m\u001b[0m\u001b[0m\n",
            "\u001b[0;31mAttributeError\u001b[0m: 'NoneType' object has no attribute 'group'"
          ]
        }
      ]
    },
    {
      "cell_type": "code",
      "source": [
        "# translations = translator.translate(['The quick brown fox', 'jumps over', 'the lazy dog'], dest='ko')\n",
        "# for translation in translations:\n",
        "#   print(translation.origin, ' -> ', translation.text)\n",
        "# # The quick brown fox  ->  빠른 갈색 여우\n",
        "# # jumps over  ->  이상 점프\n",
        "# # the lazy dog  ->  게으른 개"
      ],
      "metadata": {
        "id": "16-Jg8c7mh6-"
      },
      "execution_count": null,
      "outputs": []
    }
  ]
}