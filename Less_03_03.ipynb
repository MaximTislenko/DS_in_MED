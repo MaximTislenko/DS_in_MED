{
  "nbformat": 4,
  "nbformat_minor": 0,
  "metadata": {
    "colab": {
      "provenance": [],
      "authorship_tag": "ABX9TyO8Ac20l9ogIVKP8yjPWO3X",
      "include_colab_link": true
    },
    "kernelspec": {
      "name": "python3",
      "display_name": "Python 3"
    },
    "language_info": {
      "name": "python"
    }
  },
  "cells": [
    {
      "cell_type": "markdown",
      "metadata": {
        "id": "view-in-github",
        "colab_type": "text"
      },
      "source": [
        "<a href=\"https://colab.research.google.com/github/MaximTislenko/DS_in_MED/blob/main/Less_03_03.ipynb\" target=\"_parent\"><img src=\"https://colab.research.google.com/assets/colab-badge.svg\" alt=\"Open In Colab\"/></a>"
      ]
    },
    {
      "cell_type": "code",
      "execution_count": 29,
      "metadata": {
        "id": "N-9admadUuYW"
      },
      "outputs": [],
      "source": [
        "import requests\n",
        "from bs4 import BeautifulSoup\n",
        "import re\n",
        "import os"
      ]
    },
    {
      "cell_type": "markdown",
      "source": [
        "#Работа с PUG-REST\n",
        "\n",
        "Попробуем получить все данные по аспирину"
      ],
      "metadata": {
        "id": "8k00PRBtU_AJ"
      }
    },
    {
      "cell_type": "code",
      "source": [
        "data_p = requests.get(\"https://pubchem.ncbi.nlm.nih.gov/rest/pug/compound/name/aspirin/xml\")\n",
        "xml = BeautifulSoup(data_p.content, 'xml')\n",
        "SM_tag = xml.find(name=\"PC-Urn_name\", string=\"Canonical\")\n",
        "SM_parents = SM_tag.find_parent(\"PC-InfoData\")\n",
        "# SM_parents\n",
        "X = SM_parents.find('PC-InfoData_value_sval').string\n",
        "X"
      ],
      "metadata": {
        "id": "6IgMWQRRUU4t",
        "outputId": "fbcbc92d-0952-4064-c631-2802d5502feb",
        "colab": {
          "base_uri": "https://localhost:8080/",
          "height": 35
        }
      },
      "execution_count": 39,
      "outputs": [
        {
          "output_type": "execute_result",
          "data": {
            "text/plain": [
              "'CC(=O)OC1=CC=CC=C1C(=O)O'"
            ],
            "application/vnd.google.colaboratory.intrinsic+json": {
              "type": "string"
            }
          },
          "metadata": {},
          "execution_count": 39
        }
      ]
    },
    {
      "cell_type": "markdown",
      "source": [
        "Скрипт для очистки данных о температуре плавления, полученных от PubChem.\n",
        "##НАДО РАЗБИРАТЬСЯ!!!"
      ],
      "metadata": {
        "id": "z9x0c2wTgTKy"
      }
    },
    {
      "cell_type": "code",
      "source": [
        "if not os.path.exists('/content/gdrive/MyDrive/Data/mp/clean.csv'):\n",
        "  data['mp'] = None\n",
        "\n",
        "  # discard data with spread beyond this tolerance level/отбрасывать данные с разбросом, превышающим этот уровень допуска\n",
        "  tolerance = 1\n",
        "\n",
        "  for key in melting_point:\n",
        "    # Get index to later input data/Получить индекс для последующих входных данных\n",
        "    index = data[data['cid'] == key].index\n",
        "\n",
        "    # Get all the melting points of a compound/Получить все точки плавления соединения\n",
        "    values = melting_point[key]\n",
        "\n",
        "    farenheit = []\n",
        "    celcius = []\n",
        "\n",
        "    # Get strings that have farenheit/celcius and ignore those with annotations\n",
        "    # Получить строки с градусами Фаренгейта/Цельсия и игнорировать строки с аннотациями.\n",
        "    for value in values:\n",
        "      temp = value.get_text()\n",
        "      if bool(re.search(\"^[\\-|0-9][0-9]*[.]?[0-9]*[ ]*[u'\\N{DEGREE SIGN}'][F ]$\", temp)):\n",
        "\n",
        "        temp = temp.split(u'\\N{DEGREE SIGN}')[0].strip()\n",
        "        farenheit.append(float(temp))\n",
        "\n",
        "      elif bool(re.search(\"^[\\-|0-9][0-9]*[.]?[0-9]*[ ]*[u'\\N{DEGREE SIGN}'][C ]$\", temp)):\n",
        "\n",
        "        temp = temp.split(u'\\N{DEGREE SIGN}')[0].strip()\n",
        "        celcius.append(float(temp))\n",
        "\n",
        "    # Situation 1: reports with both T scale/Ситуация 1: отчеты с обеими T-шкалами\n",
        "    if farenheit and celcius:\n",
        "      if np.std(farenheit) < tolerance and np.std(celcius) < tolerance:\n",
        "        if abs(f_to_c(np.mean(farenheit)) - np.mean(celcius)) < 1:\n",
        "\n",
        "          data.loc[index, 'mp'] = round(np.mean(celcius), 2)\n",
        "\n",
        "    # Situation 2: reports with only farenheit/Ситуация 2: отчеты содержат только фаренгейты\n",
        "    elif farenheit and not celcius:\n",
        "      if np.std(farenheit) < tolerance:\n",
        "\n",
        "        data.loc[index, 'mp'] = f_to_c(np.mean(farenheit))\n",
        "\n",
        "    # Situation 3: reports with only celcius/Ситуация 3: отчеты содержат только градусы Цельсия\n",
        "    elif celcius and not farenheit:\n",
        "      if np.std(celcius) < tolerance:\n",
        "\n",
        "        data.loc[index, 'mp'] = round(np.mean(celcius), 2)\n",
        "\n",
        "  data = data.dropna().reset_index(drop=True)\n",
        "  data['mp'] = data['mp'].astype('float64')\n",
        "  data.to_csv('/content/gdrive/MyDrive/Data/mp/clean.csv', index=False)\n",
        "else:\n",
        "  data = pd.read_csv('/content/gdrive/MyDrive/Data/mp/clean.csv')"
      ],
      "metadata": {
        "colab": {
          "base_uri": "https://localhost:8080/",
          "height": 245
        },
        "id": "B9_YOalbgVJb",
        "outputId": "32d083fc-ebf9-458d-e798-462c4d133b40"
      },
      "execution_count": null,
      "outputs": [
        {
          "output_type": "error",
          "ename": "TypeError",
          "evalue": "ignored",
          "traceback": [
            "\u001b[0;31m---------------------------------------------------------------------------\u001b[0m",
            "\u001b[0;31mTypeError\u001b[0m                                 Traceback (most recent call last)",
            "\u001b[0;32m<ipython-input-23-6044acfc336f>\u001b[0m in \u001b[0;36m<cell line: 1>\u001b[0;34m()\u001b[0m\n\u001b[1;32m      1\u001b[0m \u001b[0;32mif\u001b[0m \u001b[0;32mnot\u001b[0m \u001b[0mos\u001b[0m\u001b[0;34m.\u001b[0m\u001b[0mpath\u001b[0m\u001b[0;34m.\u001b[0m\u001b[0mexists\u001b[0m\u001b[0;34m(\u001b[0m\u001b[0;34m'/content/gdrive/MyDrive/Data/mp/clean.csv'\u001b[0m\u001b[0;34m)\u001b[0m\u001b[0;34m:\u001b[0m\u001b[0;34m\u001b[0m\u001b[0;34m\u001b[0m\u001b[0m\n\u001b[0;32m----> 2\u001b[0;31m   \u001b[0mdata\u001b[0m\u001b[0;34m[\u001b[0m\u001b[0;34m'mp'\u001b[0m\u001b[0;34m]\u001b[0m \u001b[0;34m=\u001b[0m \u001b[0;32mNone\u001b[0m\u001b[0;34m\u001b[0m\u001b[0;34m\u001b[0m\u001b[0m\n\u001b[0m\u001b[1;32m      3\u001b[0m \u001b[0;34m\u001b[0m\u001b[0m\n\u001b[1;32m      4\u001b[0m   \u001b[0;31m# discard data with spread beyond this tolerance level\u001b[0m\u001b[0;34m\u001b[0m\u001b[0;34m\u001b[0m\u001b[0m\n\u001b[1;32m      5\u001b[0m   \u001b[0mtolerance\u001b[0m \u001b[0;34m=\u001b[0m \u001b[0;36m1\u001b[0m\u001b[0;34m\u001b[0m\u001b[0;34m\u001b[0m\u001b[0m\n",
            "\u001b[0;31mTypeError\u001b[0m: 'Response' object does not support item assignment"
          ]
        }
      ]
    }
  ]
}