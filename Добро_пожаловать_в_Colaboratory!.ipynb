{
  "cells": [
    {
      "cell_type": "markdown",
      "metadata": {
        "id": "view-in-github",
        "colab_type": "text"
      },
      "source": [
        "<a href=\"https://colab.research.google.com/github/MaximTislenko/DS_in_MED/blob/main/%D0%94%D0%BE%D0%B1%D1%80%D0%BE_%D0%BF%D0%BE%D0%B6%D0%B0%D0%BB%D0%BE%D0%B2%D0%B0%D1%82%D1%8C_%D0%B2_Colaboratory!.ipynb\" target=\"_parent\"><img src=\"https://colab.research.google.com/assets/colab-badge.svg\" alt=\"Open In Colab\"/></a>"
      ]
    },
    {
      "cell_type": "code",
      "source": [
        "from bs4 import BeautifulSoup"
      ],
      "metadata": {
        "id": "cXNQDaPSsPSC"
      },
      "execution_count": 26,
      "outputs": []
    },
    {
      "cell_type": "code",
      "source": [
        "# help(BeautifulSoup)"
      ],
      "metadata": {
        "id": "OUyr_WdasTML"
      },
      "execution_count": 27,
      "outputs": []
    },
    {
      "cell_type": "code",
      "source": [
        "import requests"
      ],
      "metadata": {
        "id": "SIgK4a3Cshf5"
      },
      "execution_count": 28,
      "outputs": []
    },
    {
      "cell_type": "code",
      "source": [
        "url = 'https://yandex.com.am/weather/?lat=56.33122827234496&lon=37.540197101642505'\n",
        "response = requests.get(url)\n",
        "print(response)"
      ],
      "metadata": {
        "id": "z9ymSPhfszIB",
        "outputId": "ad0d1676-a0d1-4b92-fcbb-cf6ca83be5d0",
        "colab": {
          "base_uri": "https://localhost:8080/"
        }
      },
      "execution_count": 29,
      "outputs": [
        {
          "output_type": "stream",
          "name": "stdout",
          "text": [
            "<Response [200]>\n"
          ]
        }
      ]
    },
    {
      "cell_type": "code",
      "source": [
        "bs = BeautifulSoup(response.text,\"lxml\")\n",
        "# print(bs)"
      ],
      "metadata": {
        "id": "G512Lri8s9oJ"
      },
      "execution_count": 30,
      "outputs": []
    },
    {
      "cell_type": "code",
      "source": [
        "temp = bs.find('span', 'temp__value temp__value_with-unit')\n",
        "print(temp)"
      ],
      "metadata": {
        "id": "hS6z9dM6z68n",
        "outputId": "8a5e0289-5b9e-4a5a-9f78-e646d31e89aa",
        "colab": {
          "base_uri": "https://localhost:8080/"
        }
      },
      "execution_count": 31,
      "outputs": [
        {
          "output_type": "stream",
          "name": "stdout",
          "text": [
            "<span class=\"temp__value temp__value_with-unit\">+9</span>\n"
          ]
        }
      ]
    },
    {
      "cell_type": "code",
      "source": [
        "print(temp.text)"
      ],
      "metadata": {
        "id": "o3Ub9Leq0Oi_",
        "outputId": "2ac35755-01f7-4b68-cd65-525a8759adec",
        "colab": {
          "base_uri": "https://localhost:8080/"
        }
      },
      "execution_count": 32,
      "outputs": [
        {
          "output_type": "stream",
          "name": "stdout",
          "text": [
            "+9\n"
          ]
        }
      ]
    }
  ],
  "metadata": {
    "colab": {
      "name": "Добро пожаловать в Colaboratory!",
      "toc_visible": true,
      "provenance": [],
      "include_colab_link": true
    },
    "kernelspec": {
      "display_name": "Python 3",
      "name": "python3"
    }
  },
  "nbformat": 4,
  "nbformat_minor": 0
}