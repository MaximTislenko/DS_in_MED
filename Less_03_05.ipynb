{
  "nbformat": 4,
  "nbformat_minor": 0,
  "metadata": {
    "colab": {
      "provenance": [],
      "mount_file_id": "15eygxko3Ml1E4BOdLXICNdUzIucDTLq9",
      "authorship_tag": "ABX9TyN3r97PtWxUZo8xmAIWmz/O",
      "include_colab_link": true
    },
    "kernelspec": {
      "name": "python3",
      "display_name": "Python 3"
    },
    "language_info": {
      "name": "python"
    }
  },
  "cells": [
    {
      "cell_type": "markdown",
      "metadata": {
        "id": "view-in-github",
        "colab_type": "text"
      },
      "source": [
        "<a href=\"https://colab.research.google.com/github/MaximTislenko/DS_in_MED/blob/main/Less_03_05.ipynb\" target=\"_parent\"><img src=\"https://colab.research.google.com/assets/colab-badge.svg\" alt=\"Open In Colab\"/></a>"
      ]
    },
    {
      "cell_type": "code",
      "execution_count": 15,
      "metadata": {
        "id": "N-9admadUuYW"
      },
      "outputs": [],
      "source": [
        "import requests\n",
        "from bs4 import BeautifulSoup\n",
        "import re\n",
        "import os\n",
        "import pandas as pd\n",
        "import numpy as np"
      ]
    },
    {
      "cell_type": "markdown",
      "source": [
        "#Работа с PUG-REST\n",
        "\n",
        "Попробуем получить все данные по аспирину"
      ],
      "metadata": {
        "id": "8k00PRBtU_AJ"
      }
    },
    {
      "cell_type": "code",
      "source": [
        "data_p = requests.get(\"https://pubchem.ncbi.nlm.nih.gov/rest/pug/compound/name/aspirin/xml\")\n",
        "xml = BeautifulSoup(data_p.content, 'xml')\n",
        "SM_tag = xml.find(name=\"PC-Urn_name\", string=\"Canonical\")\n",
        "SM_parents = SM_tag.find_parent(\"PC-InfoData\")\n",
        "X = SM_parents.find('PC-InfoData_value_sval').string\n",
        "X"
      ],
      "metadata": {
        "id": "6IgMWQRRUU4t",
        "outputId": "8cd9ba4c-0ee5-473c-e5af-8d6961d0796c",
        "colab": {
          "base_uri": "https://localhost:8080/",
          "height": 35
        }
      },
      "execution_count": 8,
      "outputs": [
        {
          "output_type": "execute_result",
          "data": {
            "text/plain": [
              "'CC(=O)OC1=CC=CC=C1C(=O)O'"
            ],
            "application/vnd.google.colaboratory.intrinsic+json": {
              "type": "string"
            }
          },
          "metadata": {},
          "execution_count": 8
        }
      ]
    },
    {
      "cell_type": "code",
      "source": [
        "data_p = requests.get(\"https://pubchem.ncbi.nlm.nih.gov/rest/pug/compound/name/diphenhydramine/xml\")\n",
        "xml = BeautifulSoup(data_p.content, 'xml')\n",
        "SM_tag = xml.find(name=\"PC-Urn_name\", string=\"Canonical\")\n",
        "SM_parents = SM_tag.find_parent(\"PC-InfoData\")\n",
        "Y = SM_parents.find('PC-InfoData_value_sval').string\n",
        "Y"
      ],
      "metadata": {
        "colab": {
          "base_uri": "https://localhost:8080/",
          "height": 35
        },
        "id": "E3byfYAVaopE",
        "outputId": "72e5d15f-42f2-402a-8b25-9a76b1b30c4e"
      },
      "execution_count": 9,
      "outputs": [
        {
          "output_type": "execute_result",
          "data": {
            "text/plain": [
              "'CN(C)CCOC(C1=CC=CC=C1)C2=CC=CC=C2'"
            ],
            "application/vnd.google.colaboratory.intrinsic+json": {
              "type": "string"
            }
          },
          "metadata": {},
          "execution_count": 9
        }
      ]
    },
    {
      "cell_type": "code",
      "source": [
        "data_p = requests.get(\"https://pubchem.ncbi.nlm.nih.gov/rest/pug/compound/name/ethanol/xml\")\n",
        "xml = BeautifulSoup(data_p.content, 'xml')\n",
        "SM_tag = xml.find(name=\"PC-Urn_name\", string=\"Canonical\")\n",
        "SM_parents = SM_tag.find_parent(\"PC-InfoData\")\n",
        "Z = SM_parents.find('PC-InfoData_value_sval').string\n",
        "Z"
      ],
      "metadata": {
        "colab": {
          "base_uri": "https://localhost:8080/",
          "height": 35
        },
        "id": "dwL8EyTncnwM",
        "outputId": "65714e44-ad78-4534-85ef-eab8591e85c5"
      },
      "execution_count": 10,
      "outputs": [
        {
          "output_type": "execute_result",
          "data": {
            "text/plain": [
              "'CCO'"
            ],
            "application/vnd.google.colaboratory.intrinsic+json": {
              "type": "string"
            }
          },
          "metadata": {},
          "execution_count": 10
        }
      ]
    },
    {
      "cell_type": "code",
      "source": [
        "print('Аспирин - ', X )\n",
        "print('Димедрол - ', Y )\n",
        "print('Этиловый спирт - ', Z )"
      ],
      "metadata": {
        "colab": {
          "base_uri": "https://localhost:8080/"
        },
        "id": "H4i5h38fdZFV",
        "outputId": "ac3ab0c7-0b14-480d-fc68-cfccba732a0c"
      },
      "execution_count": 12,
      "outputs": [
        {
          "output_type": "stream",
          "name": "stdout",
          "text": [
            "Аспирин -  CC(=O)OC1=CC=CC=C1C(=O)O\n",
            "Димедрол -  CN(C)CCOC(C1=CC=CC=C1)C2=CC=CC=C2\n",
            "Этиловый спирт -  CCO\n"
          ]
        }
      ]
    },
    {
      "cell_type": "markdown",
      "source": [
        "#Этиловый спирт\n",
        "К сожалению, молекулы с числом тяжелых атомов менее 5 не могут быть отправлены в SwissTargetPrediction."
      ],
      "metadata": {
        "id": "MTpksLUlfrWd"
      }
    },
    {
      "cell_type": "markdown",
      "source": [
        "#Димедрол"
      ],
      "metadata": {
        "id": "XyNZOjkahzOA"
      }
    },
    {
      "cell_type": "code",
      "source": [
        "dimedrol = pd.read_csv('/content/drive/MyDrive/DS_in_MED/SwissTargetPrediction_Dimedrol.csv')\n",
        "dimedrol"
      ],
      "metadata": {
        "colab": {
          "base_uri": "https://localhost:8080/",
          "height": 424
        },
        "id": "qMioRXQriXIX",
        "outputId": "d04510e3-2ec7-4948-add4-18aa59b80a02"
      },
      "execution_count": 37,
      "outputs": [
        {
          "output_type": "execute_result",
          "data": {
            "text/plain": [
              "                                               Target Common name Uniprot ID  \\\n",
              "0                Muscarinic acetylcholine receptor M4       CHRM4     P08173   \n",
              "1                      Serotonin 2b (5-HT2b) receptor       HTR2B     P41595   \n",
              "2                Muscarinic acetylcholine receptor M5       CHRM5     P08912   \n",
              "3                Muscarinic acetylcholine receptor M2       CHRM2     P08172   \n",
              "4                Muscarinic acetylcholine receptor M1       CHRM1     P11229   \n",
              "..                                                ...         ...        ...   \n",
              "95  Dual specificity mitogen-activated protein kin...      MAP2K4     P45985   \n",
              "96  cAMP-dependent protein kinase beta-1 catalytic...      PRKACB     P22694   \n",
              "97                             Protein kinase C gamma       PRKCG     P05129   \n",
              "98                             Protein kinase C alpha       PRKCA     P17252   \n",
              "99                                  Protein kinase N2        PKN2     Q16513   \n",
              "\n",
              "     ChEMBL ID                         Target Class  Probability*  \\\n",
              "0   CHEMBL1821  Family A G protein-coupled receptor           1.0   \n",
              "1   CHEMBL1833  Family A G protein-coupled receptor           1.0   \n",
              "2   CHEMBL2035  Family A G protein-coupled receptor           1.0   \n",
              "3    CHEMBL211  Family A G protein-coupled receptor           1.0   \n",
              "4    CHEMBL216  Family A G protein-coupled receptor           1.0   \n",
              "..         ...                                  ...           ...   \n",
              "95  CHEMBL2897                               Kinase           0.0   \n",
              "96  CHEMBL2918                               Kinase           0.0   \n",
              "97  CHEMBL2938                               Kinase           0.0   \n",
              "98   CHEMBL299                               Kinase           0.0   \n",
              "99  CHEMBL3032                               Kinase           0.0   \n",
              "\n",
              "   Known actives (3D/2D)  \n",
              "0          86 /  20       \n",
              "1           75 /  5       \n",
              "2          89 /  16       \n",
              "3         311 /  30       \n",
              "4         350 /  41       \n",
              "..                   ...  \n",
              "95           2 /  0       \n",
              "96           2 /  0       \n",
              "97          22 /  0       \n",
              "98          79 /  0       \n",
              "99           5 /  0       \n",
              "\n",
              "[100 rows x 7 columns]"
            ],
            "text/html": [
              "\n",
              "  <div id=\"df-174a1900-3319-4e93-841c-7643e1e1cb98\" class=\"colab-df-container\">\n",
              "    <div>\n",
              "<style scoped>\n",
              "    .dataframe tbody tr th:only-of-type {\n",
              "        vertical-align: middle;\n",
              "    }\n",
              "\n",
              "    .dataframe tbody tr th {\n",
              "        vertical-align: top;\n",
              "    }\n",
              "\n",
              "    .dataframe thead th {\n",
              "        text-align: right;\n",
              "    }\n",
              "</style>\n",
              "<table border=\"1\" class=\"dataframe\">\n",
              "  <thead>\n",
              "    <tr style=\"text-align: right;\">\n",
              "      <th></th>\n",
              "      <th>Target</th>\n",
              "      <th>Common name</th>\n",
              "      <th>Uniprot ID</th>\n",
              "      <th>ChEMBL ID</th>\n",
              "      <th>Target Class</th>\n",
              "      <th>Probability*</th>\n",
              "      <th>Known actives (3D/2D)</th>\n",
              "    </tr>\n",
              "  </thead>\n",
              "  <tbody>\n",
              "    <tr>\n",
              "      <th>0</th>\n",
              "      <td>Muscarinic acetylcholine receptor M4</td>\n",
              "      <td>CHRM4</td>\n",
              "      <td>P08173</td>\n",
              "      <td>CHEMBL1821</td>\n",
              "      <td>Family A G protein-coupled receptor</td>\n",
              "      <td>1.0</td>\n",
              "      <td>86 /  20</td>\n",
              "    </tr>\n",
              "    <tr>\n",
              "      <th>1</th>\n",
              "      <td>Serotonin 2b (5-HT2b) receptor</td>\n",
              "      <td>HTR2B</td>\n",
              "      <td>P41595</td>\n",
              "      <td>CHEMBL1833</td>\n",
              "      <td>Family A G protein-coupled receptor</td>\n",
              "      <td>1.0</td>\n",
              "      <td>75 /  5</td>\n",
              "    </tr>\n",
              "    <tr>\n",
              "      <th>2</th>\n",
              "      <td>Muscarinic acetylcholine receptor M5</td>\n",
              "      <td>CHRM5</td>\n",
              "      <td>P08912</td>\n",
              "      <td>CHEMBL2035</td>\n",
              "      <td>Family A G protein-coupled receptor</td>\n",
              "      <td>1.0</td>\n",
              "      <td>89 /  16</td>\n",
              "    </tr>\n",
              "    <tr>\n",
              "      <th>3</th>\n",
              "      <td>Muscarinic acetylcholine receptor M2</td>\n",
              "      <td>CHRM2</td>\n",
              "      <td>P08172</td>\n",
              "      <td>CHEMBL211</td>\n",
              "      <td>Family A G protein-coupled receptor</td>\n",
              "      <td>1.0</td>\n",
              "      <td>311 /  30</td>\n",
              "    </tr>\n",
              "    <tr>\n",
              "      <th>4</th>\n",
              "      <td>Muscarinic acetylcholine receptor M1</td>\n",
              "      <td>CHRM1</td>\n",
              "      <td>P11229</td>\n",
              "      <td>CHEMBL216</td>\n",
              "      <td>Family A G protein-coupled receptor</td>\n",
              "      <td>1.0</td>\n",
              "      <td>350 /  41</td>\n",
              "    </tr>\n",
              "    <tr>\n",
              "      <th>...</th>\n",
              "      <td>...</td>\n",
              "      <td>...</td>\n",
              "      <td>...</td>\n",
              "      <td>...</td>\n",
              "      <td>...</td>\n",
              "      <td>...</td>\n",
              "      <td>...</td>\n",
              "    </tr>\n",
              "    <tr>\n",
              "      <th>95</th>\n",
              "      <td>Dual specificity mitogen-activated protein kin...</td>\n",
              "      <td>MAP2K4</td>\n",
              "      <td>P45985</td>\n",
              "      <td>CHEMBL2897</td>\n",
              "      <td>Kinase</td>\n",
              "      <td>0.0</td>\n",
              "      <td>2 /  0</td>\n",
              "    </tr>\n",
              "    <tr>\n",
              "      <th>96</th>\n",
              "      <td>cAMP-dependent protein kinase beta-1 catalytic...</td>\n",
              "      <td>PRKACB</td>\n",
              "      <td>P22694</td>\n",
              "      <td>CHEMBL2918</td>\n",
              "      <td>Kinase</td>\n",
              "      <td>0.0</td>\n",
              "      <td>2 /  0</td>\n",
              "    </tr>\n",
              "    <tr>\n",
              "      <th>97</th>\n",
              "      <td>Protein kinase C gamma</td>\n",
              "      <td>PRKCG</td>\n",
              "      <td>P05129</td>\n",
              "      <td>CHEMBL2938</td>\n",
              "      <td>Kinase</td>\n",
              "      <td>0.0</td>\n",
              "      <td>22 /  0</td>\n",
              "    </tr>\n",
              "    <tr>\n",
              "      <th>98</th>\n",
              "      <td>Protein kinase C alpha</td>\n",
              "      <td>PRKCA</td>\n",
              "      <td>P17252</td>\n",
              "      <td>CHEMBL299</td>\n",
              "      <td>Kinase</td>\n",
              "      <td>0.0</td>\n",
              "      <td>79 /  0</td>\n",
              "    </tr>\n",
              "    <tr>\n",
              "      <th>99</th>\n",
              "      <td>Protein kinase N2</td>\n",
              "      <td>PKN2</td>\n",
              "      <td>Q16513</td>\n",
              "      <td>CHEMBL3032</td>\n",
              "      <td>Kinase</td>\n",
              "      <td>0.0</td>\n",
              "      <td>5 /  0</td>\n",
              "    </tr>\n",
              "  </tbody>\n",
              "</table>\n",
              "<p>100 rows × 7 columns</p>\n",
              "</div>\n",
              "    <div class=\"colab-df-buttons\">\n",
              "\n",
              "  <div class=\"colab-df-container\">\n",
              "    <button class=\"colab-df-convert\" onclick=\"convertToInteractive('df-174a1900-3319-4e93-841c-7643e1e1cb98')\"\n",
              "            title=\"Convert this dataframe to an interactive table.\"\n",
              "            style=\"display:none;\">\n",
              "\n",
              "  <svg xmlns=\"http://www.w3.org/2000/svg\" height=\"24px\" viewBox=\"0 -960 960 960\">\n",
              "    <path d=\"M120-120v-720h720v720H120Zm60-500h600v-160H180v160Zm220 220h160v-160H400v160Zm0 220h160v-160H400v160ZM180-400h160v-160H180v160Zm440 0h160v-160H620v160ZM180-180h160v-160H180v160Zm440 0h160v-160H620v160Z\"/>\n",
              "  </svg>\n",
              "    </button>\n",
              "\n",
              "  <style>\n",
              "    .colab-df-container {\n",
              "      display:flex;\n",
              "      gap: 12px;\n",
              "    }\n",
              "\n",
              "    .colab-df-convert {\n",
              "      background-color: #E8F0FE;\n",
              "      border: none;\n",
              "      border-radius: 50%;\n",
              "      cursor: pointer;\n",
              "      display: none;\n",
              "      fill: #1967D2;\n",
              "      height: 32px;\n",
              "      padding: 0 0 0 0;\n",
              "      width: 32px;\n",
              "    }\n",
              "\n",
              "    .colab-df-convert:hover {\n",
              "      background-color: #E2EBFA;\n",
              "      box-shadow: 0px 1px 2px rgba(60, 64, 67, 0.3), 0px 1px 3px 1px rgba(60, 64, 67, 0.15);\n",
              "      fill: #174EA6;\n",
              "    }\n",
              "\n",
              "    .colab-df-buttons div {\n",
              "      margin-bottom: 4px;\n",
              "    }\n",
              "\n",
              "    [theme=dark] .colab-df-convert {\n",
              "      background-color: #3B4455;\n",
              "      fill: #D2E3FC;\n",
              "    }\n",
              "\n",
              "    [theme=dark] .colab-df-convert:hover {\n",
              "      background-color: #434B5C;\n",
              "      box-shadow: 0px 1px 3px 1px rgba(0, 0, 0, 0.15);\n",
              "      filter: drop-shadow(0px 1px 2px rgba(0, 0, 0, 0.3));\n",
              "      fill: #FFFFFF;\n",
              "    }\n",
              "  </style>\n",
              "\n",
              "    <script>\n",
              "      const buttonEl =\n",
              "        document.querySelector('#df-174a1900-3319-4e93-841c-7643e1e1cb98 button.colab-df-convert');\n",
              "      buttonEl.style.display =\n",
              "        google.colab.kernel.accessAllowed ? 'block' : 'none';\n",
              "\n",
              "      async function convertToInteractive(key) {\n",
              "        const element = document.querySelector('#df-174a1900-3319-4e93-841c-7643e1e1cb98');\n",
              "        const dataTable =\n",
              "          await google.colab.kernel.invokeFunction('convertToInteractive',\n",
              "                                                    [key], {});\n",
              "        if (!dataTable) return;\n",
              "\n",
              "        const docLinkHtml = 'Like what you see? Visit the ' +\n",
              "          '<a target=\"_blank\" href=https://colab.research.google.com/notebooks/data_table.ipynb>data table notebook</a>'\n",
              "          + ' to learn more about interactive tables.';\n",
              "        element.innerHTML = '';\n",
              "        dataTable['output_type'] = 'display_data';\n",
              "        await google.colab.output.renderOutput(dataTable, element);\n",
              "        const docLink = document.createElement('div');\n",
              "        docLink.innerHTML = docLinkHtml;\n",
              "        element.appendChild(docLink);\n",
              "      }\n",
              "    </script>\n",
              "  </div>\n",
              "\n",
              "\n",
              "<div id=\"df-2ffce9f4-f9a9-4402-98bf-b043dd50ddc7\">\n",
              "  <button class=\"colab-df-quickchart\" onclick=\"quickchart('df-2ffce9f4-f9a9-4402-98bf-b043dd50ddc7')\"\n",
              "            title=\"Suggest charts.\"\n",
              "            style=\"display:none;\">\n",
              "\n",
              "<svg xmlns=\"http://www.w3.org/2000/svg\" height=\"24px\"viewBox=\"0 0 24 24\"\n",
              "     width=\"24px\">\n",
              "    <g>\n",
              "        <path d=\"M19 3H5c-1.1 0-2 .9-2 2v14c0 1.1.9 2 2 2h14c1.1 0 2-.9 2-2V5c0-1.1-.9-2-2-2zM9 17H7v-7h2v7zm4 0h-2V7h2v10zm4 0h-2v-4h2v4z\"/>\n",
              "    </g>\n",
              "</svg>\n",
              "  </button>\n",
              "\n",
              "<style>\n",
              "  .colab-df-quickchart {\n",
              "      --bg-color: #E8F0FE;\n",
              "      --fill-color: #1967D2;\n",
              "      --hover-bg-color: #E2EBFA;\n",
              "      --hover-fill-color: #174EA6;\n",
              "      --disabled-fill-color: #AAA;\n",
              "      --disabled-bg-color: #DDD;\n",
              "  }\n",
              "\n",
              "  [theme=dark] .colab-df-quickchart {\n",
              "      --bg-color: #3B4455;\n",
              "      --fill-color: #D2E3FC;\n",
              "      --hover-bg-color: #434B5C;\n",
              "      --hover-fill-color: #FFFFFF;\n",
              "      --disabled-bg-color: #3B4455;\n",
              "      --disabled-fill-color: #666;\n",
              "  }\n",
              "\n",
              "  .colab-df-quickchart {\n",
              "    background-color: var(--bg-color);\n",
              "    border: none;\n",
              "    border-radius: 50%;\n",
              "    cursor: pointer;\n",
              "    display: none;\n",
              "    fill: var(--fill-color);\n",
              "    height: 32px;\n",
              "    padding: 0;\n",
              "    width: 32px;\n",
              "  }\n",
              "\n",
              "  .colab-df-quickchart:hover {\n",
              "    background-color: var(--hover-bg-color);\n",
              "    box-shadow: 0 1px 2px rgba(60, 64, 67, 0.3), 0 1px 3px 1px rgba(60, 64, 67, 0.15);\n",
              "    fill: var(--button-hover-fill-color);\n",
              "  }\n",
              "\n",
              "  .colab-df-quickchart-complete:disabled,\n",
              "  .colab-df-quickchart-complete:disabled:hover {\n",
              "    background-color: var(--disabled-bg-color);\n",
              "    fill: var(--disabled-fill-color);\n",
              "    box-shadow: none;\n",
              "  }\n",
              "\n",
              "  .colab-df-spinner {\n",
              "    border: 2px solid var(--fill-color);\n",
              "    border-color: transparent;\n",
              "    border-bottom-color: var(--fill-color);\n",
              "    animation:\n",
              "      spin 1s steps(1) infinite;\n",
              "  }\n",
              "\n",
              "  @keyframes spin {\n",
              "    0% {\n",
              "      border-color: transparent;\n",
              "      border-bottom-color: var(--fill-color);\n",
              "      border-left-color: var(--fill-color);\n",
              "    }\n",
              "    20% {\n",
              "      border-color: transparent;\n",
              "      border-left-color: var(--fill-color);\n",
              "      border-top-color: var(--fill-color);\n",
              "    }\n",
              "    30% {\n",
              "      border-color: transparent;\n",
              "      border-left-color: var(--fill-color);\n",
              "      border-top-color: var(--fill-color);\n",
              "      border-right-color: var(--fill-color);\n",
              "    }\n",
              "    40% {\n",
              "      border-color: transparent;\n",
              "      border-right-color: var(--fill-color);\n",
              "      border-top-color: var(--fill-color);\n",
              "    }\n",
              "    60% {\n",
              "      border-color: transparent;\n",
              "      border-right-color: var(--fill-color);\n",
              "    }\n",
              "    80% {\n",
              "      border-color: transparent;\n",
              "      border-right-color: var(--fill-color);\n",
              "      border-bottom-color: var(--fill-color);\n",
              "    }\n",
              "    90% {\n",
              "      border-color: transparent;\n",
              "      border-bottom-color: var(--fill-color);\n",
              "    }\n",
              "  }\n",
              "</style>\n",
              "\n",
              "  <script>\n",
              "    async function quickchart(key) {\n",
              "      const quickchartButtonEl =\n",
              "        document.querySelector('#' + key + ' button');\n",
              "      quickchartButtonEl.disabled = true;  // To prevent multiple clicks.\n",
              "      quickchartButtonEl.classList.add('colab-df-spinner');\n",
              "      try {\n",
              "        const charts = await google.colab.kernel.invokeFunction(\n",
              "            'suggestCharts', [key], {});\n",
              "      } catch (error) {\n",
              "        console.error('Error during call to suggestCharts:', error);\n",
              "      }\n",
              "      quickchartButtonEl.classList.remove('colab-df-spinner');\n",
              "      quickchartButtonEl.classList.add('colab-df-quickchart-complete');\n",
              "    }\n",
              "    (() => {\n",
              "      let quickchartButtonEl =\n",
              "        document.querySelector('#df-2ffce9f4-f9a9-4402-98bf-b043dd50ddc7 button');\n",
              "      quickchartButtonEl.style.display =\n",
              "        google.colab.kernel.accessAllowed ? 'block' : 'none';\n",
              "    })();\n",
              "  </script>\n",
              "</div>\n",
              "    </div>\n",
              "  </div>\n"
            ]
          },
          "metadata": {},
          "execution_count": 37
        }
      ]
    }
  ]
}