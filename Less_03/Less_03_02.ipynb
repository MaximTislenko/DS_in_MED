{
  "nbformat": 4,
  "nbformat_minor": 0,
  "metadata": {
    "colab": {
      "provenance": [],
      "authorship_tag": "ABX9TyN67Y6BGn3at200ikDdVQHU",
      "include_colab_link": true
    },
    "kernelspec": {
      "name": "python3",
      "display_name": "Python 3"
    },
    "language_info": {
      "name": "python"
    }
  },
  "cells": [
    {
      "cell_type": "markdown",
      "metadata": {
        "id": "view-in-github",
        "colab_type": "text"
      },
      "source": [
        "<a href=\"https://colab.research.google.com/github/MaximTislenko/DS_in_MED/blob/main/Less_03_02.ipynb\" target=\"_parent\"><img src=\"https://colab.research.google.com/assets/colab-badge.svg\" alt=\"Open In Colab\"/></a>"
      ]
    },
    {
      "cell_type": "code",
      "execution_count": null,
      "metadata": {
        "id": "N-9admadUuYW"
      },
      "outputs": [],
      "source": [
        "import requests\n",
        "from bs4 import BeautifulSoup\n",
        "import re\n",
        "import os"
      ]
    },
    {
      "cell_type": "markdown",
      "source": [
        "#Working with PUG-REST\n",
        "Let's try to get all data on aspirin"
      ],
      "metadata": {
        "id": "f0-QjaPvU7X6"
      }
    },
    {
      "cell_type": "markdown",
      "source": [
        "#Работа с PUG-REST\n",
        "\n",
        "Попробуем получить все данные по аспирину"
      ],
      "metadata": {
        "id": "8k00PRBtU_AJ"
      }
    },
    {
      "cell_type": "code",
      "source": [
        "data = requests.get(\"https://pubchem.ncbi.nlm.nih.gov/rest/pug/compound/name/aspirin\")\n",
        "data"
      ],
      "metadata": {
        "colab": {
          "base_uri": "https://localhost:8080/"
        },
        "id": "0RXD0gFoVPTU",
        "outputId": "7df60834-004f-4815-f579-99d48ad9f7fe"
      },
      "execution_count": null,
      "outputs": [
        {
          "output_type": "execute_result",
          "data": {
            "text/plain": [
              "<Response [400]>"
            ]
          },
          "metadata": {},
          "execution_count": 2
        }
      ]
    },
    {
      "cell_type": "markdown",
      "source": [
        "Хммм... Код ответа 400 означает ошибку. Похоже, нам нужно указать тип выходного файла. В противном случае запросы не будут работать."
      ],
      "metadata": {
        "id": "hTPYCl9vVV-S"
      }
    },
    {
      "cell_type": "code",
      "source": [
        "data = requests.get(\"https://pubchem.ncbi.nlm.nih.gov/rest/pug/compound/name/aspirin/xml\")\n",
        "data"
      ],
      "metadata": {
        "colab": {
          "base_uri": "https://localhost:8080/"
        },
        "id": "AEfAphRpVajK",
        "outputId": "465c3f8a-4180-45a7-9847-e8494fc6ac92"
      },
      "execution_count": null,
      "outputs": [
        {
          "output_type": "execute_result",
          "data": {
            "text/plain": [
              "<Response [200]>"
            ]
          },
          "metadata": {},
          "execution_count": 3
        }
      ]
    },
    {
      "cell_type": "markdown",
      "source": [
        "Хорошо. Давайте проанализируем эту информацию с помощью Beautiful Soup."
      ],
      "metadata": {
        "id": "3Nxt6ihuVhcS"
      }
    },
    {
      "cell_type": "code",
      "source": [
        "html = BeautifulSoup(data.content, \"xml\")"
      ],
      "metadata": {
        "id": "M1rL3-tMVmeS"
      },
      "execution_count": null,
      "outputs": []
    },
    {
      "cell_type": "markdown",
      "source": [
        "Давайте выясним, какую информацию мы можем получить."
      ],
      "metadata": {
        "id": "ILdgfByXVreS"
      }
    },
    {
      "cell_type": "code",
      "source": [
        "html.find_all(\"PC-Urn_label\")"
      ],
      "metadata": {
        "colab": {
          "base_uri": "https://localhost:8080/"
        },
        "id": "PEhqT8xgVvhS",
        "outputId": "90af6d99-5696-456e-e80d-dba78c0db61e"
      },
      "execution_count": null,
      "outputs": [
        {
          "output_type": "execute_result",
          "data": {
            "text/plain": [
              "[<PC-Urn_label>Compound</PC-Urn_label>,\n",
              " <PC-Urn_label>Compound Complexity</PC-Urn_label>,\n",
              " <PC-Urn_label>Count</PC-Urn_label>,\n",
              " <PC-Urn_label>Count</PC-Urn_label>,\n",
              " <PC-Urn_label>Count</PC-Urn_label>,\n",
              " <PC-Urn_label>Fingerprint</PC-Urn_label>,\n",
              " <PC-Urn_label>IUPAC Name</PC-Urn_label>,\n",
              " <PC-Urn_label>IUPAC Name</PC-Urn_label>,\n",
              " <PC-Urn_label>IUPAC Name</PC-Urn_label>,\n",
              " <PC-Urn_label>IUPAC Name</PC-Urn_label>,\n",
              " <PC-Urn_label>IUPAC Name</PC-Urn_label>,\n",
              " <PC-Urn_label>IUPAC Name</PC-Urn_label>,\n",
              " <PC-Urn_label>InChI</PC-Urn_label>,\n",
              " <PC-Urn_label>InChIKey</PC-Urn_label>,\n",
              " <PC-Urn_label>Log P</PC-Urn_label>,\n",
              " <PC-Urn_label>Mass</PC-Urn_label>,\n",
              " <PC-Urn_label>Molecular Formula</PC-Urn_label>,\n",
              " <PC-Urn_label>Molecular Weight</PC-Urn_label>,\n",
              " <PC-Urn_label>SMILES</PC-Urn_label>,\n",
              " <PC-Urn_label>SMILES</PC-Urn_label>,\n",
              " <PC-Urn_label>Topological</PC-Urn_label>,\n",
              " <PC-Urn_label>Weight</PC-Urn_label>]"
            ]
          },
          "metadata": {},
          "execution_count": 5
        }
      ]
    },
    {
      "cell_type": "markdown",
      "source": [
        "Давайте найдем молекулярный вес. Сначала мы находим тег."
      ],
      "metadata": {
        "id": "Km0RatsLV39q"
      }
    },
    {
      "cell_type": "code",
      "source": [
        "mw_tag = html.find(name=\"PC-Urn_label\", string=\"Molecular Weight\")\n",
        "mw_tag"
      ],
      "metadata": {
        "colab": {
          "base_uri": "https://localhost:8080/"
        },
        "id": "SQJFOCO_V9ZK",
        "outputId": "e19a589f-4d4e-4e1e-b457-8b0f3ec9165e"
      },
      "execution_count": null,
      "outputs": [
        {
          "output_type": "execute_result",
          "data": {
            "text/plain": [
              "<PC-Urn_label>Molecular Weight</PC-Urn_label>"
            ]
          },
          "metadata": {},
          "execution_count": 6
        }
      ]
    },
    {
      "cell_type": "markdown",
      "source": [
        "Затем давайте посмотрим на родителя этого тега."
      ],
      "metadata": {
        "id": "etniVDEGWEfS"
      }
    },
    {
      "cell_type": "code",
      "source": [
        "mw_parents = mw_tag.find_parent(\"PC-InfoData\")\n",
        "mw_parents"
      ],
      "metadata": {
        "colab": {
          "base_uri": "https://localhost:8080/"
        },
        "id": "6bngRzByWCHi",
        "outputId": "a96f62f6-0381-4d92-fcd5-87d5bb8b7d7a"
      },
      "execution_count": null,
      "outputs": [
        {
          "output_type": "execute_result",
          "data": {
            "text/plain": [
              "<PC-InfoData>\n",
              "<PC-InfoData_urn>\n",
              "<PC-Urn>\n",
              "<PC-Urn_label>Molecular Weight</PC-Urn_label>\n",
              "<PC-Urn_datatype>\n",
              "<PC-UrnDataType value=\"string\">1</PC-UrnDataType>\n",
              "</PC-Urn_datatype>\n",
              "<PC-Urn_version>2.1</PC-Urn_version>\n",
              "<PC-Urn_software>PubChem</PC-Urn_software>\n",
              "<PC-Urn_source>ncbi.nlm.nih.gov</PC-Urn_source>\n",
              "<PC-Urn_release>2021.05.07</PC-Urn_release>\n",
              "</PC-Urn>\n",
              "</PC-InfoData_urn>\n",
              "<PC-InfoData_value>\n",
              "<PC-InfoData_value_sval>180.16</PC-InfoData_value_sval>\n",
              "</PC-InfoData_value>\n",
              "</PC-InfoData>"
            ]
          },
          "metadata": {},
          "execution_count": 7
        }
      ]
    },
    {
      "cell_type": "markdown",
      "source": [
        "Нужная нам информация содержится между тегом PC-InfoData_value_sval. Итак, давайте перейдем к делу."
      ],
      "metadata": {
        "id": "AG7sokKBWUtS"
      }
    },
    {
      "cell_type": "code",
      "source": [
        "mw = mw_parents.find('PC-InfoData_value_sval').string\n",
        "mw"
      ],
      "metadata": {
        "colab": {
          "base_uri": "https://localhost:8080/",
          "height": 35
        },
        "id": "GJ8FdExDWjfc",
        "outputId": "9ca70685-9e78-4247-ac42-fd62df0292f8"
      },
      "execution_count": null,
      "outputs": [
        {
          "output_type": "execute_result",
          "data": {
            "text/plain": [
              "'180.16'"
            ],
            "application/vnd.google.colaboratory.intrinsic+json": {
              "type": "string"
            }
          },
          "metadata": {},
          "execution_count": 8
        }
      ]
    },
    {
      "cell_type": "markdown",
      "source": [
        "Вот и все. Это требует некоторой игры. Вы всегда можете перейти по URL-адресу, который отобразит данные в вашем браузере. Это то, что я сделал, чтобы помочь ориентироваться в этом дереве."
      ],
      "metadata": {
        "id": "opeVuzgnWtda"
      }
    },
    {
      "cell_type": "markdown",
      "source": [
        "#Работа с PUG-View\n",
        "\n",
        "Давайте сделаем то же самое для PUG-View и посмотрим, что мы можем получить от него в отношении аспирина."
      ],
      "metadata": {
        "id": "1hOnI760W8M5"
      }
    },
    {
      "cell_type": "code",
      "source": [
        "data = requests.get(\"https://pubchem.ncbi.nlm.nih.gov/rest/pug_view/data/compound/2244/xml\")\n",
        "data"
      ],
      "metadata": {
        "colab": {
          "base_uri": "https://localhost:8080/"
        },
        "id": "rkqSQ69-XEOy",
        "outputId": "d11bce8b-1dee-4dfb-e686-91c4c614d69c"
      },
      "execution_count": null,
      "outputs": [
        {
          "output_type": "execute_result",
          "data": {
            "text/plain": [
              "<Response [200]>"
            ]
          },
          "metadata": {},
          "execution_count": 9
        }
      ]
    },
    {
      "cell_type": "code",
      "source": [
        "html = BeautifulSoup(data.content, \"xml\")"
      ],
      "metadata": {
        "id": "9iAVVKqoXOzi"
      },
      "execution_count": null,
      "outputs": []
    },
    {
      "cell_type": "markdown",
      "source": [
        "Чтобы получить представление о том, какая информация доступна, мы можем найти TOCHeadings с помощью html.find_all('TOCHeading'). Я не буду запускать здесь код, потому что это очень длинный список. Допустим, мы хотим узнать температуру плавления."
      ],
      "metadata": {
        "id": "CX0bfSjFYRat"
      }
    },
    {
      "cell_type": "code",
      "source": [
        "mp_tag = html.find_all('TOCHeading')\n",
        "mp_tag"
      ],
      "metadata": {
        "colab": {
          "base_uri": "https://localhost:8080/"
        },
        "id": "yz2EfGFnYSsq",
        "outputId": "0ea8f00d-aae9-4d1d-fcb0-71bdff5803c6"
      },
      "execution_count": null,
      "outputs": [
        {
          "output_type": "execute_result",
          "data": {
            "text/plain": [
              "[<TOCHeading>Structures</TOCHeading>,\n",
              " <TOCHeading>2D Structure</TOCHeading>,\n",
              " <TOCHeading>3D Conformer</TOCHeading>,\n",
              " <TOCHeading>Crystal Structures</TOCHeading>,\n",
              " <TOCHeading>CCDC Number</TOCHeading>,\n",
              " <TOCHeading>COD Number</TOCHeading>,\n",
              " <TOCHeading>Associated Article</TOCHeading>,\n",
              " <TOCHeading>Crystal Structure Data</TOCHeading>,\n",
              " <TOCHeading>Chemical Safety</TOCHeading>,\n",
              " <TOCHeading>Names and Identifiers</TOCHeading>,\n",
              " <TOCHeading>Record Description</TOCHeading>,\n",
              " <TOCHeading>Computed Descriptors</TOCHeading>,\n",
              " <TOCHeading>IUPAC Name</TOCHeading>,\n",
              " <TOCHeading>InChI</TOCHeading>,\n",
              " <TOCHeading>InChIKey</TOCHeading>,\n",
              " <TOCHeading>Canonical SMILES</TOCHeading>,\n",
              " <TOCHeading>Molecular Formula</TOCHeading>,\n",
              " <TOCHeading>Other Identifiers</TOCHeading>,\n",
              " <TOCHeading>CAS</TOCHeading>,\n",
              " <TOCHeading>Deprecated CAS</TOCHeading>,\n",
              " <TOCHeading>European Community (EC) Number</TOCHeading>,\n",
              " <TOCHeading>ICSC Number</TOCHeading>,\n",
              " <TOCHeading>NSC Number</TOCHeading>,\n",
              " <TOCHeading>UN Number</TOCHeading>,\n",
              " <TOCHeading>UNII</TOCHeading>,\n",
              " <TOCHeading>DSSTox Substance ID</TOCHeading>,\n",
              " <TOCHeading>Nikkaji Number</TOCHeading>,\n",
              " <TOCHeading>Wikipedia</TOCHeading>,\n",
              " <TOCHeading>Wikidata</TOCHeading>,\n",
              " <TOCHeading>NCI Thesaurus Code</TOCHeading>,\n",
              " <TOCHeading>RXCUI</TOCHeading>,\n",
              " <TOCHeading>Pharos Ligand ID</TOCHeading>,\n",
              " <TOCHeading>Metabolomics Workbench ID</TOCHeading>,\n",
              " <TOCHeading>ChEMBL ID</TOCHeading>,\n",
              " <TOCHeading>KEGG ID</TOCHeading>,\n",
              " <TOCHeading>Synonyms</TOCHeading>,\n",
              " <TOCHeading>MeSH Entry Terms</TOCHeading>,\n",
              " <TOCHeading>Depositor-Supplied Synonyms</TOCHeading>,\n",
              " <TOCHeading>Removed Synonyms</TOCHeading>,\n",
              " <TOCHeading>Create Date</TOCHeading>,\n",
              " <TOCHeading>Modify Date</TOCHeading>,\n",
              " <TOCHeading>Chemical and Physical Properties</TOCHeading>,\n",
              " <TOCHeading>Computed Properties</TOCHeading>,\n",
              " <TOCHeading>Molecular Weight</TOCHeading>,\n",
              " <TOCHeading>XLogP3</TOCHeading>,\n",
              " <TOCHeading>Hydrogen Bond Donor Count</TOCHeading>,\n",
              " <TOCHeading>Hydrogen Bond Acceptor Count</TOCHeading>,\n",
              " <TOCHeading>Rotatable Bond Count</TOCHeading>,\n",
              " <TOCHeading>Exact Mass</TOCHeading>,\n",
              " <TOCHeading>Monoisotopic Mass</TOCHeading>,\n",
              " <TOCHeading>Topological Polar Surface Area</TOCHeading>,\n",
              " <TOCHeading>Heavy Atom Count</TOCHeading>,\n",
              " <TOCHeading>Formal Charge</TOCHeading>,\n",
              " <TOCHeading>Complexity</TOCHeading>,\n",
              " <TOCHeading>Isotope Atom Count</TOCHeading>,\n",
              " <TOCHeading>Defined Atom Stereocenter Count</TOCHeading>,\n",
              " <TOCHeading>Undefined Atom Stereocenter Count</TOCHeading>,\n",
              " <TOCHeading>Defined Bond Stereocenter Count</TOCHeading>,\n",
              " <TOCHeading>Undefined Bond Stereocenter Count</TOCHeading>,\n",
              " <TOCHeading>Covalently-Bonded Unit Count</TOCHeading>,\n",
              " <TOCHeading>Compound Is Canonicalized</TOCHeading>,\n",
              " <TOCHeading>Experimental Properties</TOCHeading>,\n",
              " <TOCHeading>Physical Description</TOCHeading>,\n",
              " <TOCHeading>Color/Form</TOCHeading>,\n",
              " <TOCHeading>Odor</TOCHeading>,\n",
              " <TOCHeading>Boiling Point</TOCHeading>,\n",
              " <TOCHeading>Melting Point</TOCHeading>,\n",
              " <TOCHeading>Flash Point</TOCHeading>,\n",
              " <TOCHeading>Solubility</TOCHeading>,\n",
              " <TOCHeading>Density</TOCHeading>,\n",
              " <TOCHeading>Vapor Pressure</TOCHeading>,\n",
              " <TOCHeading>LogP</TOCHeading>,\n",
              " <TOCHeading>Stability/Shelf Life</TOCHeading>,\n",
              " <TOCHeading>Decomposition</TOCHeading>,\n",
              " <TOCHeading>Dissociation Constants</TOCHeading>,\n",
              " <TOCHeading>Collision Cross Section</TOCHeading>,\n",
              " <TOCHeading>Kovats Retention Index</TOCHeading>,\n",
              " <TOCHeading>Other Experimental Properties</TOCHeading>,\n",
              " <TOCHeading>Chemical Classes</TOCHeading>,\n",
              " <TOCHeading>SpringerMaterials Properties</TOCHeading>,\n",
              " <TOCHeading>Spectral Information</TOCHeading>,\n",
              " <TOCHeading>1D NMR Spectra</TOCHeading>,\n",
              " <TOCHeading>1H NMR Spectra</TOCHeading>,\n",
              " <TOCHeading>13C NMR Spectra</TOCHeading>,\n",
              " <TOCHeading>2D NMR Spectra</TOCHeading>,\n",
              " <TOCHeading>1H-13C NMR Spectra</TOCHeading>,\n",
              " <TOCHeading>Mass Spectrometry</TOCHeading>,\n",
              " <TOCHeading>GC-MS</TOCHeading>,\n",
              " <TOCHeading>MS-MS</TOCHeading>,\n",
              " <TOCHeading>LC-MS</TOCHeading>,\n",
              " <TOCHeading>Other MS</TOCHeading>,\n",
              " <TOCHeading>UV Spectra</TOCHeading>,\n",
              " <TOCHeading>IR Spectra</TOCHeading>,\n",
              " <TOCHeading>FTIR Spectra</TOCHeading>,\n",
              " <TOCHeading>ATR-IR Spectra</TOCHeading>,\n",
              " <TOCHeading>Raman Spectra</TOCHeading>,\n",
              " <TOCHeading>Other Spectra</TOCHeading>,\n",
              " <TOCHeading>Related Records</TOCHeading>,\n",
              " <TOCHeading>Related Compounds with Annotation</TOCHeading>,\n",
              " <TOCHeading>Related Compounds</TOCHeading>,\n",
              " <TOCHeading>Substances</TOCHeading>,\n",
              " <TOCHeading>Related Substances</TOCHeading>,\n",
              " <TOCHeading>Substances by Category</TOCHeading>,\n",
              " <TOCHeading>Entrez Crosslinks</TOCHeading>,\n",
              " <TOCHeading>NCBI LinkOut</TOCHeading>,\n",
              " <TOCHeading>Chemical Vendors</TOCHeading>,\n",
              " <TOCHeading>Drug and Medication Information</TOCHeading>,\n",
              " <TOCHeading>Drug Indication</TOCHeading>,\n",
              " <TOCHeading>LiverTox Summary</TOCHeading>,\n",
              " <TOCHeading>Drug Classes</TOCHeading>,\n",
              " <TOCHeading>FDA Medication Guides</TOCHeading>,\n",
              " <TOCHeading>WHO Essential Medicines</TOCHeading>,\n",
              " <TOCHeading>FDA Approved Drugs</TOCHeading>,\n",
              " <TOCHeading>FDA Orange Book</TOCHeading>,\n",
              " <TOCHeading>FDA National Drug Code Directory</TOCHeading>,\n",
              " <TOCHeading>Drug Labels</TOCHeading>,\n",
              " <TOCHeading>Clinical Trials</TOCHeading>,\n",
              " <TOCHeading>ClinicalTrials.gov</TOCHeading>,\n",
              " <TOCHeading>EU Clinical Trials Register</TOCHeading>,\n",
              " <TOCHeading>NIPH Clinical Trials Search of Japan</TOCHeading>,\n",
              " <TOCHeading>Therapeutic Uses</TOCHeading>,\n",
              " <TOCHeading>Drug Warnings</TOCHeading>,\n",
              " <TOCHeading>Drug Idiosyncrasies</TOCHeading>,\n",
              " <TOCHeading>Reported Fatal Dose</TOCHeading>,\n",
              " <TOCHeading>Maximum Drug Dose</TOCHeading>,\n",
              " <TOCHeading>Pharmacology and Biochemistry</TOCHeading>,\n",
              " <TOCHeading>Pharmacodynamics</TOCHeading>,\n",
              " <TOCHeading>MeSH Pharmacological Classification</TOCHeading>,\n",
              " <TOCHeading>FDA Pharmacological Classification</TOCHeading>,\n",
              " <TOCHeading>ATC Code</TOCHeading>,\n",
              " <TOCHeading>Absorption, Distribution and Excretion</TOCHeading>,\n",
              " <TOCHeading>Metabolism/Metabolites</TOCHeading>,\n",
              " <TOCHeading>Biological Half-Life</TOCHeading>,\n",
              " <TOCHeading>Mechanism of Action</TOCHeading>,\n",
              " <TOCHeading>Human Metabolite Information</TOCHeading>,\n",
              " <TOCHeading>Tissue Locations</TOCHeading>,\n",
              " <TOCHeading>Cellular Locations</TOCHeading>,\n",
              " <TOCHeading>Metabolite Pathways</TOCHeading>,\n",
              " <TOCHeading>Biochemical Reactions</TOCHeading>,\n",
              " <TOCHeading>Transformations</TOCHeading>,\n",
              " <TOCHeading>Use and Manufacturing</TOCHeading>,\n",
              " <TOCHeading>Uses</TOCHeading>,\n",
              " <TOCHeading>Use Classification</TOCHeading>,\n",
              " <TOCHeading>Methods of Manufacturing</TOCHeading>,\n",
              " <TOCHeading>Impurities</TOCHeading>,\n",
              " <TOCHeading>Formulations/Preparations</TOCHeading>,\n",
              " <TOCHeading>Consumption Patterns</TOCHeading>,\n",
              " <TOCHeading>U.S. Production</TOCHeading>,\n",
              " <TOCHeading>U.S. Imports</TOCHeading>,\n",
              " <TOCHeading>U.S. Exports</TOCHeading>,\n",
              " <TOCHeading>General Manufacturing Information</TOCHeading>,\n",
              " <TOCHeading>Identification</TOCHeading>,\n",
              " <TOCHeading>Analytic Laboratory Methods</TOCHeading>,\n",
              " <TOCHeading>Clinical Laboratory Methods</TOCHeading>,\n",
              " <TOCHeading>Safety and Hazards</TOCHeading>,\n",
              " <TOCHeading>Hazards Identification</TOCHeading>,\n",
              " <TOCHeading>GHS Classification</TOCHeading>,\n",
              " <TOCHeading>Hazard Classes and Categories</TOCHeading>,\n",
              " <TOCHeading>Health Hazards</TOCHeading>,\n",
              " <TOCHeading>Fire Hazards</TOCHeading>,\n",
              " <TOCHeading>Hazards Summary</TOCHeading>,\n",
              " <TOCHeading>Fire Potential</TOCHeading>,\n",
              " <TOCHeading>Skin, Eye, and Respiratory Irritations</TOCHeading>,\n",
              " <TOCHeading>Safety and Hazard Properties</TOCHeading>,\n",
              " <TOCHeading>Flammable Limits</TOCHeading>,\n",
              " <TOCHeading>Physical Dangers</TOCHeading>,\n",
              " <TOCHeading>OSHA Standards</TOCHeading>,\n",
              " <TOCHeading>NIOSH Recommendations</TOCHeading>,\n",
              " <TOCHeading>First Aid Measures</TOCHeading>,\n",
              " <TOCHeading>First Aid</TOCHeading>,\n",
              " <TOCHeading>Inhalation First Aid</TOCHeading>,\n",
              " <TOCHeading>Skin First Aid</TOCHeading>,\n",
              " <TOCHeading>Eye First Aid</TOCHeading>,\n",
              " <TOCHeading>Ingestion First Aid</TOCHeading>,\n",
              " <TOCHeading>Fire Fighting</TOCHeading>,\n",
              " <TOCHeading>Accidental Release Measures</TOCHeading>,\n",
              " <TOCHeading>Isolation and Evacuation</TOCHeading>,\n",
              " <TOCHeading>Spillage Disposal</TOCHeading>,\n",
              " <TOCHeading>Disposal Methods</TOCHeading>,\n",
              " <TOCHeading>Preventive Measures</TOCHeading>,\n",
              " <TOCHeading>Handling and Storage</TOCHeading>,\n",
              " <TOCHeading>Nonfire Spill Response</TOCHeading>,\n",
              " <TOCHeading>Safe Storage</TOCHeading>,\n",
              " <TOCHeading>Storage Conditions</TOCHeading>,\n",
              " <TOCHeading>Exposure Control and Personal Protection</TOCHeading>,\n",
              " <TOCHeading>Recommended Exposure Limit (REL)</TOCHeading>,\n",
              " <TOCHeading>Permissible Exposure Limit (PEL)</TOCHeading>,\n",
              " <TOCHeading>Immediately Dangerous to Life or Health (IDLH)</TOCHeading>,\n",
              " <TOCHeading>Threshold Limit Values (TLV)</TOCHeading>,\n",
              " <TOCHeading>Inhalation Risk</TOCHeading>,\n",
              " <TOCHeading>Effects of Short Term Exposure</TOCHeading>,\n",
              " <TOCHeading>Effects of Long Term Exposure</TOCHeading>,\n",
              " <TOCHeading>Personal Protective Equipment (PPE)</TOCHeading>,\n",
              " <TOCHeading>Respirator Recommendations</TOCHeading>,\n",
              " <TOCHeading>Fire Prevention</TOCHeading>,\n",
              " <TOCHeading>Exposure Prevention</TOCHeading>,\n",
              " <TOCHeading>Inhalation Prevention</TOCHeading>,\n",
              " <TOCHeading>Skin Prevention</TOCHeading>,\n",
              " <TOCHeading>Eye Prevention</TOCHeading>,\n",
              " <TOCHeading>Ingestion Prevention</TOCHeading>,\n",
              " <TOCHeading>Stability and Reactivity</TOCHeading>,\n",
              " <TOCHeading>Air and Water Reactions</TOCHeading>,\n",
              " <TOCHeading>Reactive Group</TOCHeading>,\n",
              " <TOCHeading>Reactivity Profile</TOCHeading>,\n",
              " <TOCHeading>Hazardous Reactivities and Incompatibilities</TOCHeading>,\n",
              " <TOCHeading>Transport Information</TOCHeading>,\n",
              " <TOCHeading>DOT Label</TOCHeading>,\n",
              " <TOCHeading>Other Safety Information</TOCHeading>,\n",
              " <TOCHeading>Special Reports</TOCHeading>,\n",
              " <TOCHeading>Toxicity</TOCHeading>,\n",
              " <TOCHeading>Toxicological Information</TOCHeading>,\n",
              " <TOCHeading>Toxicity Summary</TOCHeading>,\n",
              " <TOCHeading>Hepatotoxicity</TOCHeading>,\n",
              " <TOCHeading>Drug Induced Liver Injury</TOCHeading>,\n",
              " <TOCHeading>Carcinogen Classification</TOCHeading>,\n",
              " <TOCHeading>Health Effects</TOCHeading>,\n",
              " <TOCHeading>Effects During Pregnancy and Lactation</TOCHeading>,\n",
              " <TOCHeading>Exposure Routes</TOCHeading>,\n",
              " <TOCHeading>Symptoms</TOCHeading>,\n",
              " <TOCHeading>Inhalation Symptoms</TOCHeading>,\n",
              " <TOCHeading>Skin Symptoms</TOCHeading>,\n",
              " <TOCHeading>Eye Symptoms</TOCHeading>,\n",
              " <TOCHeading>Ingestion Symptoms</TOCHeading>,\n",
              " <TOCHeading>Target Organs</TOCHeading>,\n",
              " <TOCHeading>Acute Effects</TOCHeading>,\n",
              " <TOCHeading>Toxicity Data</TOCHeading>,\n",
              " <TOCHeading>Interactions</TOCHeading>,\n",
              " <TOCHeading>Antidote and Emergency Treatment</TOCHeading>,\n",
              " <TOCHeading>Human Toxicity Excerpts</TOCHeading>,\n",
              " <TOCHeading>Non-Human Toxicity Excerpts</TOCHeading>,\n",
              " <TOCHeading>Human Toxicity Values</TOCHeading>,\n",
              " <TOCHeading>Non-Human Toxicity Values</TOCHeading>,\n",
              " <TOCHeading>Ecotoxicity Values</TOCHeading>,\n",
              " <TOCHeading>Ecotoxicity Excerpts</TOCHeading>,\n",
              " <TOCHeading>Populations at Special Risk</TOCHeading>,\n",
              " <TOCHeading>Protein Binding</TOCHeading>,\n",
              " <TOCHeading>Ecological Information</TOCHeading>,\n",
              " <TOCHeading>Environmental Fate/Exposure Summary</TOCHeading>,\n",
              " <TOCHeading>Artificial Pollution Sources</TOCHeading>,\n",
              " <TOCHeading>Environmental Fate</TOCHeading>,\n",
              " <TOCHeading>Environmental Biodegradation</TOCHeading>,\n",
              " <TOCHeading>Environmental Abiotic Degradation</TOCHeading>,\n",
              " <TOCHeading>Environmental Bioconcentration</TOCHeading>,\n",
              " <TOCHeading>Soil Adsorption/Mobility</TOCHeading>,\n",
              " <TOCHeading>Volatilization from Water/Soil</TOCHeading>,\n",
              " <TOCHeading>Environmental Water Concentrations</TOCHeading>,\n",
              " <TOCHeading>Effluent Concentrations</TOCHeading>,\n",
              " <TOCHeading>Milk Concentrations</TOCHeading>,\n",
              " <TOCHeading>Probable Routes of Human Exposure</TOCHeading>,\n",
              " <TOCHeading>Body Burden</TOCHeading>,\n",
              " <TOCHeading>Associated Disorders and Diseases</TOCHeading>,\n",
              " <TOCHeading>Literature</TOCHeading>,\n",
              " <TOCHeading>Consolidated References</TOCHeading>,\n",
              " <TOCHeading>Coronavirus Studies</TOCHeading>,\n",
              " <TOCHeading>NLM Curated PubMed Citations</TOCHeading>,\n",
              " <TOCHeading>Springer Nature References</TOCHeading>,\n",
              " <TOCHeading>Thieme References</TOCHeading>,\n",
              " <TOCHeading>Wiley References</TOCHeading>,\n",
              " <TOCHeading>Depositor Provided PubMed Citations</TOCHeading>,\n",
              " <TOCHeading>Synthesis References</TOCHeading>,\n",
              " <TOCHeading>General References</TOCHeading>,\n",
              " <TOCHeading>Chemical Co-Occurrences in Literature</TOCHeading>,\n",
              " <TOCHeading>Chemical-Gene Co-Occurrences in Literature</TOCHeading>,\n",
              " <TOCHeading>Chemical-Disease Co-Occurrences in Literature</TOCHeading>,\n",
              " <TOCHeading>Patents</TOCHeading>,\n",
              " <TOCHeading>Depositor-Supplied Patent Identifiers</TOCHeading>,\n",
              " <TOCHeading>WIPO PATENTSCOPE</TOCHeading>,\n",
              " <TOCHeading>FDA Orange Book Patents</TOCHeading>,\n",
              " <TOCHeading>Interactions and Pathways</TOCHeading>,\n",
              " <TOCHeading>Protein Bound 3D Structures</TOCHeading>,\n",
              " <TOCHeading>Ligands from Protein Bound 3D Structures</TOCHeading>,\n",
              " <TOCHeading>PDBe Ligand Code</TOCHeading>,\n",
              " <TOCHeading>PDBe Structure Code</TOCHeading>,\n",
              " <TOCHeading>PDBe Conformer</TOCHeading>,\n",
              " <TOCHeading>Chemical-Target Interactions</TOCHeading>,\n",
              " <TOCHeading>Drug-Drug Interactions</TOCHeading>,\n",
              " <TOCHeading>Drug-Food Interactions</TOCHeading>,\n",
              " <TOCHeading>Pathways</TOCHeading>,\n",
              " <TOCHeading>Biological Test Results</TOCHeading>,\n",
              " <TOCHeading>BioAssay Results</TOCHeading>,\n",
              " <TOCHeading>Taxonomy</TOCHeading>,\n",
              " <TOCHeading>Classification</TOCHeading>,\n",
              " <TOCHeading>MeSH Tree</TOCHeading>,\n",
              " <TOCHeading>NCI Thesaurus Tree</TOCHeading>,\n",
              " <TOCHeading>ChEBI Ontology</TOCHeading>,\n",
              " <TOCHeading>KEGG: Drug</TOCHeading>,\n",
              " <TOCHeading>KEGG: ATC</TOCHeading>,\n",
              " <TOCHeading>KEGG: Target-based Classification of Drugs</TOCHeading>,\n",
              " <TOCHeading>KEGG: JP15</TOCHeading>,\n",
              " <TOCHeading>KEGG: Risk Category of Japanese OTC Drugs</TOCHeading>,\n",
              " <TOCHeading>KEGG: OTC drugs</TOCHeading>,\n",
              " <TOCHeading>KEGG: Drug Groups</TOCHeading>,\n",
              " <TOCHeading>KEGG: Drug Classes</TOCHeading>,\n",
              " <TOCHeading>WHO ATC Classification System</TOCHeading>,\n",
              " <TOCHeading>FDA Pharm Classes</TOCHeading>,\n",
              " <TOCHeading>ChemIDplus</TOCHeading>,\n",
              " <TOCHeading>CAMEO Chemicals</TOCHeading>,\n",
              " <TOCHeading>IUPHAR/BPS Guide to PHARMACOLOGY Target Classification</TOCHeading>,\n",
              " <TOCHeading>ChEMBL Target Tree</TOCHeading>,\n",
              " <TOCHeading>UN GHS Classification</TOCHeading>,\n",
              " <TOCHeading>EPA CPDat Classification</TOCHeading>,\n",
              " <TOCHeading>NORMAN Suspect List Exchange Classification</TOCHeading>,\n",
              " <TOCHeading>CCSBase Classification</TOCHeading>,\n",
              " <TOCHeading>EPA DSSTox Classification</TOCHeading>,\n",
              " <TOCHeading>LOTUS Tree</TOCHeading>,\n",
              " <TOCHeading>FDA Drug Type and Pharmacologic Classification</TOCHeading>,\n",
              " <TOCHeading>EPA Substance Registry Services Tree</TOCHeading>]"
            ]
          },
          "metadata": {},
          "execution_count": 11
        }
      ]
    },
    {
      "cell_type": "code",
      "source": [
        "mp_tag = html.find(name='TOCHeading', string='Melting Point')#Температура плавления\n",
        "mp_tag"
      ],
      "metadata": {
        "colab": {
          "base_uri": "https://localhost:8080/"
        },
        "id": "kHefekdtYnUi",
        "outputId": "4cd6a24e-bcbd-4a95-e9f6-fe206e07649f"
      },
      "execution_count": null,
      "outputs": [
        {
          "output_type": "execute_result",
          "data": {
            "text/plain": [
              "<TOCHeading>Melting Point</TOCHeading>"
            ]
          },
          "metadata": {},
          "execution_count": 12
        }
      ]
    },
    {
      "cell_type": "markdown",
      "source": [
        "Если вы посмотрите на структуру xml, вы увидите, что у этого TOCHeading есть дочерние элементы с тегами «Информация». Информация, которая нам нужна, является дочерним элементом этого тега «Информация» под тегом «Строка». Итак, чтобы найти первое значение, мы можем сделать это:"
      ],
      "metadata": {
        "id": "ytzVFCvGZHSi"
      }
    },
    {
      "cell_type": "code",
      "source": [
        "mp_tag"
      ],
      "metadata": {
        "colab": {
          "base_uri": "https://localhost:8080/"
        },
        "id": "wzZLA1txZaji",
        "outputId": "414b791b-59ab-4824-c874-deb40857254e"
      },
      "execution_count": null,
      "outputs": [
        {
          "output_type": "execute_result",
          "data": {
            "text/plain": [
              "<TOCHeading>Melting Point</TOCHeading>"
            ]
          },
          "metadata": {},
          "execution_count": 17
        }
      ]
    },
    {
      "cell_type": "code",
      "source": [
        "mp_tag.find_next_sibling('Information').find(name='String').string"
      ],
      "metadata": {
        "colab": {
          "base_uri": "https://localhost:8080/",
          "height": 35
        },
        "id": "kBO8jfl3ZQhN",
        "outputId": "9c6bf6f6-6155-4ff0-a136-fb8bfe846b39"
      },
      "execution_count": null,
      "outputs": [
        {
          "output_type": "execute_result",
          "data": {
            "text/plain": [
              "'275 °F (NTP, 1992)'"
            ],
            "application/vnd.google.colaboratory.intrinsic+json": {
              "type": "string"
            }
          },
          "metadata": {},
          "execution_count": 13
        }
      ]
    },
    {
      "cell_type": "markdown",
      "source": [
        "Как видите, эти цифры содержат не только единицы измерения, но и пояснения того, откуда берутся данные. Мало того, существует несколько значений температуры плавления, поскольку она измеряется экспериментально. Это был довольно долгий путь к поиску точки плавления. Более простой способ — включить в URL то, что мы хотим."
      ],
      "metadata": {
        "id": "a6UjR7gXaOgC"
      }
    },
    {
      "cell_type": "code",
      "source": [
        "data = requests.get(\"https://pubchem.ncbi.nlm.nih.gov/rest/pug_view/data/compound/2244/xml?heading=Melting+Point\")\n",
        "data"
      ],
      "metadata": {
        "colab": {
          "base_uri": "https://localhost:8080/"
        },
        "id": "QNynkfWeacTy",
        "outputId": "7d330d1b-53a2-4f65-90a9-bdbda03dd884"
      },
      "execution_count": null,
      "outputs": [
        {
          "output_type": "execute_result",
          "data": {
            "text/plain": [
              "<Response [200]>"
            ]
          },
          "metadata": {},
          "execution_count": 18
        }
      ]
    },
    {
      "cell_type": "code",
      "source": [
        "html = BeautifulSoup(data.content, \"xml\")"
      ],
      "metadata": {
        "id": "TWOyoPQ5ahoK"
      },
      "execution_count": null,
      "outputs": []
    },
    {
      "cell_type": "code",
      "source": [
        "html.find_all('String')"
      ],
      "metadata": {
        "colab": {
          "base_uri": "https://localhost:8080/"
        },
        "id": "j_tYKgIHamI6",
        "outputId": "c582b493-4447-4e74-bf5b-2f2372b6217e"
      },
      "execution_count": null,
      "outputs": [
        {
          "output_type": "execute_result",
          "data": {
            "text/plain": [
              "[<String>275 °F (NTP, 1992)</String>,\n",
              " <String>138-140</String>,\n",
              " <String>135 °C (rapid heating)</String>,\n",
              " <String>135 °C</String>,\n",
              " <String>135 °C</String>,\n",
              " <String>275 °F</String>,\n",
              " <String>275 °F</String>]"
            ]
          },
          "metadata": {},
          "execution_count": 20
        }
      ]
    },
    {
      "cell_type": "markdown",
      "source": [
        "Скрипт для очистки данных о температуре плавления, полученных от PubChem.\n",
        "##НАДО РАЗБИРАТЬСЯ!!!"
      ],
      "metadata": {
        "id": "z9x0c2wTgTKy"
      }
    },
    {
      "cell_type": "code",
      "source": [
        "if not os.path.exists('/content/gdrive/MyDrive/Data/mp/clean.csv'):\n",
        "  data['mp'] = None\n",
        "\n",
        "  # discard data with spread beyond this tolerance level/отбрасывать данные с разбросом, превышающим этот уровень допуска\n",
        "  tolerance = 1\n",
        "\n",
        "  for key in melting_point:\n",
        "    # Get index to later input data/Получить индекс для последующих входных данных\n",
        "    index = data[data['cid'] == key].index\n",
        "\n",
        "    # Get all the melting points of a compound/Получить все точки плавления соединения\n",
        "    values = melting_point[key]\n",
        "\n",
        "    farenheit = []\n",
        "    celcius = []\n",
        "\n",
        "    # Get strings that have farenheit/celcius and ignore those with annotations\n",
        "    # Получить строки с градусами Фаренгейта/Цельсия и игнорировать строки с аннотациями.\n",
        "    for value in values:\n",
        "      temp = value.get_text()\n",
        "      if bool(re.search(\"^[\\-|0-9][0-9]*[.]?[0-9]*[ ]*[u'\\N{DEGREE SIGN}'][F ]$\", temp)):\n",
        "\n",
        "        temp = temp.split(u'\\N{DEGREE SIGN}')[0].strip()\n",
        "        farenheit.append(float(temp))\n",
        "\n",
        "      elif bool(re.search(\"^[\\-|0-9][0-9]*[.]?[0-9]*[ ]*[u'\\N{DEGREE SIGN}'][C ]$\", temp)):\n",
        "\n",
        "        temp = temp.split(u'\\N{DEGREE SIGN}')[0].strip()\n",
        "        celcius.append(float(temp))\n",
        "\n",
        "    # Situation 1: reports with both T scale/Ситуация 1: отчеты с обеими T-шкалами\n",
        "    if farenheit and celcius:\n",
        "      if np.std(farenheit) < tolerance and np.std(celcius) < tolerance:\n",
        "        if abs(f_to_c(np.mean(farenheit)) - np.mean(celcius)) < 1:\n",
        "\n",
        "          data.loc[index, 'mp'] = round(np.mean(celcius), 2)\n",
        "\n",
        "    # Situation 2: reports with only farenheit/Ситуация 2: отчеты содержат только фаренгейты\n",
        "    elif farenheit and not celcius:\n",
        "      if np.std(farenheit) < tolerance:\n",
        "\n",
        "        data.loc[index, 'mp'] = f_to_c(np.mean(farenheit))\n",
        "\n",
        "    # Situation 3: reports with only celcius/Ситуация 3: отчеты содержат только градусы Цельсия\n",
        "    elif celcius and not farenheit:\n",
        "      if np.std(celcius) < tolerance:\n",
        "\n",
        "        data.loc[index, 'mp'] = round(np.mean(celcius), 2)\n",
        "\n",
        "  data = data.dropna().reset_index(drop=True)\n",
        "  data['mp'] = data['mp'].astype('float64')\n",
        "  data.to_csv('/content/gdrive/MyDrive/Data/mp/clean.csv', index=False)\n",
        "else:\n",
        "  data = pd.read_csv('/content/gdrive/MyDrive/Data/mp/clean.csv')"
      ],
      "metadata": {
        "colab": {
          "base_uri": "https://localhost:8080/",
          "height": 245
        },
        "id": "B9_YOalbgVJb",
        "outputId": "32d083fc-ebf9-458d-e798-462c4d133b40"
      },
      "execution_count": null,
      "outputs": [
        {
          "output_type": "error",
          "ename": "TypeError",
          "evalue": "ignored",
          "traceback": [
            "\u001b[0;31m---------------------------------------------------------------------------\u001b[0m",
            "\u001b[0;31mTypeError\u001b[0m                                 Traceback (most recent call last)",
            "\u001b[0;32m<ipython-input-23-6044acfc336f>\u001b[0m in \u001b[0;36m<cell line: 1>\u001b[0;34m()\u001b[0m\n\u001b[1;32m      1\u001b[0m \u001b[0;32mif\u001b[0m \u001b[0;32mnot\u001b[0m \u001b[0mos\u001b[0m\u001b[0;34m.\u001b[0m\u001b[0mpath\u001b[0m\u001b[0;34m.\u001b[0m\u001b[0mexists\u001b[0m\u001b[0;34m(\u001b[0m\u001b[0;34m'/content/gdrive/MyDrive/Data/mp/clean.csv'\u001b[0m\u001b[0;34m)\u001b[0m\u001b[0;34m:\u001b[0m\u001b[0;34m\u001b[0m\u001b[0;34m\u001b[0m\u001b[0m\n\u001b[0;32m----> 2\u001b[0;31m   \u001b[0mdata\u001b[0m\u001b[0;34m[\u001b[0m\u001b[0;34m'mp'\u001b[0m\u001b[0;34m]\u001b[0m \u001b[0;34m=\u001b[0m \u001b[0;32mNone\u001b[0m\u001b[0;34m\u001b[0m\u001b[0;34m\u001b[0m\u001b[0m\n\u001b[0m\u001b[1;32m      3\u001b[0m \u001b[0;34m\u001b[0m\u001b[0m\n\u001b[1;32m      4\u001b[0m   \u001b[0;31m# discard data with spread beyond this tolerance level\u001b[0m\u001b[0;34m\u001b[0m\u001b[0;34m\u001b[0m\u001b[0m\n\u001b[1;32m      5\u001b[0m   \u001b[0mtolerance\u001b[0m \u001b[0;34m=\u001b[0m \u001b[0;36m1\u001b[0m\u001b[0;34m\u001b[0m\u001b[0;34m\u001b[0m\u001b[0m\n",
            "\u001b[0;31mTypeError\u001b[0m: 'Response' object does not support item assignment"
          ]
        }
      ]
    }
  ]
}
