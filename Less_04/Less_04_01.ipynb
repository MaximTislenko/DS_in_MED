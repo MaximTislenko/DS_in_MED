{
  "nbformat": 4,
  "nbformat_minor": 0,
  "metadata": {
    "colab": {
      "provenance": [],
      "authorship_tag": "ABX9TyNhN9eHBiP6KIgtJI2weaKx",
      "include_colab_link": true
    },
    "kernelspec": {
      "name": "python3",
      "display_name": "Python 3"
    },
    "language_info": {
      "name": "python"
    }
  },
  "cells": [
    {
      "cell_type": "markdown",
      "metadata": {
        "id": "view-in-github",
        "colab_type": "text"
      },
      "source": [
        "<a href=\"https://colab.research.google.com/github/MaximTislenko/DS_in_MED/blob/main/Less_04_01.ipynb\" target=\"_parent\"><img src=\"https://colab.research.google.com/assets/colab-badge.svg\" alt=\"Open In Colab\"/></a>"
      ]
    },
    {
      "cell_type": "code",
      "source": [
        "import os\n",
        "import pandas as pd\n",
        "import numpy as np"
      ],
      "metadata": {
        "id": "2HNl8I44yt7e"
      },
      "execution_count": 1,
      "outputs": []
    },
    {
      "cell_type": "code",
      "source": [
        "!wget https://github.com/MaximTislenko/DS_in_MED/blob/main/NCT06083623.csv"
      ],
      "metadata": {
        "colab": {
          "base_uri": "https://localhost:8080/"
        },
        "id": "LP5zAHZDzWBu",
        "outputId": "d5fda696-3e7f-4596-a469-a5f8aab2b607"
      },
      "execution_count": 2,
      "outputs": [
        {
          "output_type": "stream",
          "name": "stdout",
          "text": [
            "--2023-10-16 18:44:59--  https://github.com/MaximTislenko/DS_in_MED/blob/main/NCT06083623.csv\n",
            "Resolving github.com (github.com)... 140.82.112.4\n",
            "Connecting to github.com (github.com)|140.82.112.4|:443... connected.\n",
            "HTTP request sent, awaiting response... 200 OK\n",
            "Length: 11896 (12K) [text/plain]\n",
            "Saving to: ‘NCT06083623.csv’\n",
            "\n",
            "NCT06083623.csv     100%[===================>]  11.62K  --.-KB/s    in 0.01s   \n",
            "\n",
            "2023-10-16 18:44:59 (936 KB/s) - ‘NCT06083623.csv’ saved [11896/11896]\n",
            "\n"
          ]
        }
      ]
    },
    {
      "cell_type": "code",
      "execution_count": 6,
      "metadata": {
        "colab": {
          "base_uri": "https://localhost:8080/",
          "height": 269
        },
        "id": "mjy06cmpu1kn",
        "outputId": "f37cef8e-8eeb-4d09-ed69-32510e9e24db"
      },
      "outputs": [
        {
          "output_type": "execute_result",
          "data": {
            "text/plain": [
              "    NCT Number                                        Study Title  \\\n",
              "0  NCT06083623  A Trial to Evaluate the Efficacy and Safety of...   \n",
              "\n",
              "                                      Study URL  Acronym        Study Status  \\\n",
              "0  https://clinicaltrials.gov/study/NCT06083623      NaN  NOT_YET_RECRUITING   \n",
              "\n",
              "                                       Brief Summary Study Results  \\\n",
              "0  The purpose of this study is to evaluate the e...            NO   \n",
              "\n",
              "                               Conditions  \\\n",
              "0  Respiratory Syncytial Virus Infections   \n",
              "\n",
              "                            Interventions  \\\n",
              "0  BIOLOGICAL: TNM001|BIOLOGICAL: placebo   \n",
              "\n",
              "                            Primary Outcome Measures  ...  \\\n",
              "0  Incidence of medically attended LRTI due to RT...  ...   \n",
              "\n",
              "                                        Study Design               Other IDs  \\\n",
              "0  Allocation: RANDOMIZED|Intervention Model: PAR...  TNM001-301|CTR20232792   \n",
              "\n",
              "   Start Date  Primary Completion Date Completion Date First Posted  \\\n",
              "0  2023-10-06               2026-05-31      2026-08-31   2023-10-16   \n",
              "\n",
              "  Results First Posted  Last Update Posted  \\\n",
              "0                  NaN          2023-10-16   \n",
              "\n",
              "                                           Locations Study Documents  \n",
              "0  Peking University Third Hospital, Beijing, Bei...             NaN  \n",
              "\n",
              "[1 rows x 30 columns]"
            ],
            "text/html": [
              "\n",
              "  <div id=\"df-a74c36bd-3707-48cb-9226-92c1881172d7\" class=\"colab-df-container\">\n",
              "    <div>\n",
              "<style scoped>\n",
              "    .dataframe tbody tr th:only-of-type {\n",
              "        vertical-align: middle;\n",
              "    }\n",
              "\n",
              "    .dataframe tbody tr th {\n",
              "        vertical-align: top;\n",
              "    }\n",
              "\n",
              "    .dataframe thead th {\n",
              "        text-align: right;\n",
              "    }\n",
              "</style>\n",
              "<table border=\"1\" class=\"dataframe\">\n",
              "  <thead>\n",
              "    <tr style=\"text-align: right;\">\n",
              "      <th></th>\n",
              "      <th>NCT Number</th>\n",
              "      <th>Study Title</th>\n",
              "      <th>Study URL</th>\n",
              "      <th>Acronym</th>\n",
              "      <th>Study Status</th>\n",
              "      <th>Brief Summary</th>\n",
              "      <th>Study Results</th>\n",
              "      <th>Conditions</th>\n",
              "      <th>Interventions</th>\n",
              "      <th>Primary Outcome Measures</th>\n",
              "      <th>...</th>\n",
              "      <th>Study Design</th>\n",
              "      <th>Other IDs</th>\n",
              "      <th>Start Date</th>\n",
              "      <th>Primary Completion Date</th>\n",
              "      <th>Completion Date</th>\n",
              "      <th>First Posted</th>\n",
              "      <th>Results First Posted</th>\n",
              "      <th>Last Update Posted</th>\n",
              "      <th>Locations</th>\n",
              "      <th>Study Documents</th>\n",
              "    </tr>\n",
              "  </thead>\n",
              "  <tbody>\n",
              "    <tr>\n",
              "      <th>0</th>\n",
              "      <td>NCT06083623</td>\n",
              "      <td>A Trial to Evaluate the Efficacy and Safety of...</td>\n",
              "      <td>https://clinicaltrials.gov/study/NCT06083623</td>\n",
              "      <td>NaN</td>\n",
              "      <td>NOT_YET_RECRUITING</td>\n",
              "      <td>The purpose of this study is to evaluate the e...</td>\n",
              "      <td>NO</td>\n",
              "      <td>Respiratory Syncytial Virus Infections</td>\n",
              "      <td>BIOLOGICAL: TNM001|BIOLOGICAL: placebo</td>\n",
              "      <td>Incidence of medically attended LRTI due to RT...</td>\n",
              "      <td>...</td>\n",
              "      <td>Allocation: RANDOMIZED|Intervention Model: PAR...</td>\n",
              "      <td>TNM001-301|CTR20232792</td>\n",
              "      <td>2023-10-06</td>\n",
              "      <td>2026-05-31</td>\n",
              "      <td>2026-08-31</td>\n",
              "      <td>2023-10-16</td>\n",
              "      <td>NaN</td>\n",
              "      <td>2023-10-16</td>\n",
              "      <td>Peking University Third Hospital, Beijing, Bei...</td>\n",
              "      <td>NaN</td>\n",
              "    </tr>\n",
              "  </tbody>\n",
              "</table>\n",
              "<p>1 rows × 30 columns</p>\n",
              "</div>\n",
              "    <div class=\"colab-df-buttons\">\n",
              "\n",
              "  <div class=\"colab-df-container\">\n",
              "    <button class=\"colab-df-convert\" onclick=\"convertToInteractive('df-a74c36bd-3707-48cb-9226-92c1881172d7')\"\n",
              "            title=\"Convert this dataframe to an interactive table.\"\n",
              "            style=\"display:none;\">\n",
              "\n",
              "  <svg xmlns=\"http://www.w3.org/2000/svg\" height=\"24px\" viewBox=\"0 -960 960 960\">\n",
              "    <path d=\"M120-120v-720h720v720H120Zm60-500h600v-160H180v160Zm220 220h160v-160H400v160Zm0 220h160v-160H400v160ZM180-400h160v-160H180v160Zm440 0h160v-160H620v160ZM180-180h160v-160H180v160Zm440 0h160v-160H620v160Z\"/>\n",
              "  </svg>\n",
              "    </button>\n",
              "\n",
              "  <style>\n",
              "    .colab-df-container {\n",
              "      display:flex;\n",
              "      gap: 12px;\n",
              "    }\n",
              "\n",
              "    .colab-df-convert {\n",
              "      background-color: #E8F0FE;\n",
              "      border: none;\n",
              "      border-radius: 50%;\n",
              "      cursor: pointer;\n",
              "      display: none;\n",
              "      fill: #1967D2;\n",
              "      height: 32px;\n",
              "      padding: 0 0 0 0;\n",
              "      width: 32px;\n",
              "    }\n",
              "\n",
              "    .colab-df-convert:hover {\n",
              "      background-color: #E2EBFA;\n",
              "      box-shadow: 0px 1px 2px rgba(60, 64, 67, 0.3), 0px 1px 3px 1px rgba(60, 64, 67, 0.15);\n",
              "      fill: #174EA6;\n",
              "    }\n",
              "\n",
              "    .colab-df-buttons div {\n",
              "      margin-bottom: 4px;\n",
              "    }\n",
              "\n",
              "    [theme=dark] .colab-df-convert {\n",
              "      background-color: #3B4455;\n",
              "      fill: #D2E3FC;\n",
              "    }\n",
              "\n",
              "    [theme=dark] .colab-df-convert:hover {\n",
              "      background-color: #434B5C;\n",
              "      box-shadow: 0px 1px 3px 1px rgba(0, 0, 0, 0.15);\n",
              "      filter: drop-shadow(0px 1px 2px rgba(0, 0, 0, 0.3));\n",
              "      fill: #FFFFFF;\n",
              "    }\n",
              "  </style>\n",
              "\n",
              "    <script>\n",
              "      const buttonEl =\n",
              "        document.querySelector('#df-a74c36bd-3707-48cb-9226-92c1881172d7 button.colab-df-convert');\n",
              "      buttonEl.style.display =\n",
              "        google.colab.kernel.accessAllowed ? 'block' : 'none';\n",
              "\n",
              "      async function convertToInteractive(key) {\n",
              "        const element = document.querySelector('#df-a74c36bd-3707-48cb-9226-92c1881172d7');\n",
              "        const dataTable =\n",
              "          await google.colab.kernel.invokeFunction('convertToInteractive',\n",
              "                                                    [key], {});\n",
              "        if (!dataTable) return;\n",
              "\n",
              "        const docLinkHtml = 'Like what you see? Visit the ' +\n",
              "          '<a target=\"_blank\" href=https://colab.research.google.com/notebooks/data_table.ipynb>data table notebook</a>'\n",
              "          + ' to learn more about interactive tables.';\n",
              "        element.innerHTML = '';\n",
              "        dataTable['output_type'] = 'display_data';\n",
              "        await google.colab.output.renderOutput(dataTable, element);\n",
              "        const docLink = document.createElement('div');\n",
              "        docLink.innerHTML = docLinkHtml;\n",
              "        element.appendChild(docLink);\n",
              "      }\n",
              "    </script>\n",
              "  </div>\n",
              "\n",
              "    </div>\n",
              "  </div>\n"
            ]
          },
          "metadata": {},
          "execution_count": 6
        }
      ],
      "source": [
        "dimedrol = pd.read_csv('/content/NCT06083623.csv')\n",
        "dimedrol"
      ]
    }
  ]
}
