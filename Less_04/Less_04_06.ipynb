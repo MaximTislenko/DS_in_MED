{
  "nbformat": 4,
  "nbformat_minor": 0,
  "metadata": {
    "colab": {
      "provenance": [],
      "authorship_tag": "ABX9TyONTcJNe/jmDYYSFsSR5FdC",
      "include_colab_link": true
    },
    "kernelspec": {
      "name": "python3",
      "display_name": "Python 3"
    },
    "language_info": {
      "name": "python"
    }
  },
  "cells": [
    {
      "cell_type": "markdown",
      "metadata": {
        "id": "view-in-github",
        "colab_type": "text"
      },
      "source": [
        "<a href=\"https://colab.research.google.com/github/MaximTislenko/DS_in_MED/blob/main/Less_04/Less_04_06.ipynb\" target=\"_parent\"><img src=\"https://colab.research.google.com/assets/colab-badge.svg\" alt=\"Open In Colab\"/></a>"
      ]
    },
    {
      "cell_type": "code",
      "source": [
        "import os\n",
        "import pandas as pd\n",
        "import numpy as np"
      ],
      "metadata": {
        "id": "kSOzlEoe7srZ"
      },
      "execution_count": 1,
      "outputs": []
    },
    {
      "cell_type": "code",
      "source": [
        "!wget https://raw.githubusercontent.com/MaximTislenko/DS_in_MED/main/Less_04/Vit_D.csv"
      ],
      "metadata": {
        "colab": {
          "base_uri": "https://localhost:8080/"
        },
        "id": "VBHb1L8OEubh",
        "outputId": "e5f33d9a-0299-45e0-917b-41758b32695e"
      },
      "execution_count": 2,
      "outputs": [
        {
          "output_type": "stream",
          "name": "stdout",
          "text": [
            "--2023-10-19 19:37:04--  https://raw.githubusercontent.com/MaximTislenko/DS_in_MED/main/Less_04/Vit_D.csv\n",
            "Resolving raw.githubusercontent.com (raw.githubusercontent.com)... 185.199.108.133, 185.199.109.133, 185.199.110.133, ...\n",
            "Connecting to raw.githubusercontent.com (raw.githubusercontent.com)|185.199.108.133|:443... connected.\n",
            "HTTP request sent, awaiting response... 200 OK\n",
            "Length: 1259 (1.2K) [text/plain]\n",
            "Saving to: ‘Vit_D.csv’\n",
            "\n",
            "\rVit_D.csv             0%[                    ]       0  --.-KB/s               \rVit_D.csv           100%[===================>]   1.23K  --.-KB/s    in 0s      \n",
            "\n",
            "2023-10-19 19:37:04 (37.8 MB/s) - ‘Vit_D.csv’ saved [1259/1259]\n",
            "\n"
          ]
        }
      ]
    },
    {
      "cell_type": "code",
      "source": [
        "study = pd.read_csv('/content/Vit_D.csv')\n",
        "study"
      ],
      "metadata": {
        "colab": {
          "base_uri": "https://localhost:8080/",
          "height": 251
        },
        "id": "tPwwBoT0Ezag",
        "outputId": "fb2b5a65-9528-43ea-cc69-ff002e37582b"
      },
      "execution_count": 3,
      "outputs": [
        {
          "output_type": "execute_result",
          "data": {
            "text/plain": [
              "    NCT Number                                        Study Title  \\\n",
              "0  NCT04411901  The Role of Vitamin D3 in Pediatric Bronchiect...   \n",
              "\n",
              "                                      Study URL  Acronym Study Status  \\\n",
              "0  https://clinicaltrials.gov/study/NCT04411901      NaN    COMPLETED   \n",
              "\n",
              "                                       Brief Summary Study Results  \\\n",
              "0  Vitamin D3 therapy was effective in decreasing...            NO   \n",
              "\n",
              "                                  Conditions  \\\n",
              "0  Cystic Fibrosis and Non CF Bronchiectasis   \n",
              "\n",
              "                       Interventions  \\\n",
              "0  DRUG: Cholecalciferol (vitaminD3)   \n",
              "\n",
              "                            Primary Outcome Measures  ...  \\\n",
              "0  reach sufficient vitamin D level, vitamin D mo...  ...   \n",
              "\n",
              "                                        Study Design       Other IDs  \\\n",
              "0  Allocation: NA|Intervention Model: SINGLE_GROU...  Original study   \n",
              "\n",
              "   Start Date  Primary Completion Date Completion Date First Posted  \\\n",
              "0  2018-03-01               2018-09-06      2019-03-20   2020-06-02   \n",
              "\n",
              "  Results First Posted  Last Update Posted  \\\n",
              "0                  NaN          2020-06-02   \n",
              "\n",
              "                                      Locations Study Documents  \n",
              "0  Children hospital, Cairo, Abbasia, 02, Egypt             NaN  \n",
              "\n",
              "[1 rows x 30 columns]"
            ],
            "text/html": [
              "\n",
              "  <div id=\"df-b7498f66-1522-4cfe-b62f-919f7b0aec30\" class=\"colab-df-container\">\n",
              "    <div>\n",
              "<style scoped>\n",
              "    .dataframe tbody tr th:only-of-type {\n",
              "        vertical-align: middle;\n",
              "    }\n",
              "\n",
              "    .dataframe tbody tr th {\n",
              "        vertical-align: top;\n",
              "    }\n",
              "\n",
              "    .dataframe thead th {\n",
              "        text-align: right;\n",
              "    }\n",
              "</style>\n",
              "<table border=\"1\" class=\"dataframe\">\n",
              "  <thead>\n",
              "    <tr style=\"text-align: right;\">\n",
              "      <th></th>\n",
              "      <th>NCT Number</th>\n",
              "      <th>Study Title</th>\n",
              "      <th>Study URL</th>\n",
              "      <th>Acronym</th>\n",
              "      <th>Study Status</th>\n",
              "      <th>Brief Summary</th>\n",
              "      <th>Study Results</th>\n",
              "      <th>Conditions</th>\n",
              "      <th>Interventions</th>\n",
              "      <th>Primary Outcome Measures</th>\n",
              "      <th>...</th>\n",
              "      <th>Study Design</th>\n",
              "      <th>Other IDs</th>\n",
              "      <th>Start Date</th>\n",
              "      <th>Primary Completion Date</th>\n",
              "      <th>Completion Date</th>\n",
              "      <th>First Posted</th>\n",
              "      <th>Results First Posted</th>\n",
              "      <th>Last Update Posted</th>\n",
              "      <th>Locations</th>\n",
              "      <th>Study Documents</th>\n",
              "    </tr>\n",
              "  </thead>\n",
              "  <tbody>\n",
              "    <tr>\n",
              "      <th>0</th>\n",
              "      <td>NCT04411901</td>\n",
              "      <td>The Role of Vitamin D3 in Pediatric Bronchiect...</td>\n",
              "      <td>https://clinicaltrials.gov/study/NCT04411901</td>\n",
              "      <td>NaN</td>\n",
              "      <td>COMPLETED</td>\n",
              "      <td>Vitamin D3 therapy was effective in decreasing...</td>\n",
              "      <td>NO</td>\n",
              "      <td>Cystic Fibrosis and Non CF Bronchiectasis</td>\n",
              "      <td>DRUG: Cholecalciferol (vitaminD3)</td>\n",
              "      <td>reach sufficient vitamin D level, vitamin D mo...</td>\n",
              "      <td>...</td>\n",
              "      <td>Allocation: NA|Intervention Model: SINGLE_GROU...</td>\n",
              "      <td>Original study</td>\n",
              "      <td>2018-03-01</td>\n",
              "      <td>2018-09-06</td>\n",
              "      <td>2019-03-20</td>\n",
              "      <td>2020-06-02</td>\n",
              "      <td>NaN</td>\n",
              "      <td>2020-06-02</td>\n",
              "      <td>Children hospital, Cairo, Abbasia, 02, Egypt</td>\n",
              "      <td>NaN</td>\n",
              "    </tr>\n",
              "  </tbody>\n",
              "</table>\n",
              "<p>1 rows × 30 columns</p>\n",
              "</div>\n",
              "    <div class=\"colab-df-buttons\">\n",
              "\n",
              "  <div class=\"colab-df-container\">\n",
              "    <button class=\"colab-df-convert\" onclick=\"convertToInteractive('df-b7498f66-1522-4cfe-b62f-919f7b0aec30')\"\n",
              "            title=\"Convert this dataframe to an interactive table.\"\n",
              "            style=\"display:none;\">\n",
              "\n",
              "  <svg xmlns=\"http://www.w3.org/2000/svg\" height=\"24px\" viewBox=\"0 -960 960 960\">\n",
              "    <path d=\"M120-120v-720h720v720H120Zm60-500h600v-160H180v160Zm220 220h160v-160H400v160Zm0 220h160v-160H400v160ZM180-400h160v-160H180v160Zm440 0h160v-160H620v160ZM180-180h160v-160H180v160Zm440 0h160v-160H620v160Z\"/>\n",
              "  </svg>\n",
              "    </button>\n",
              "\n",
              "  <style>\n",
              "    .colab-df-container {\n",
              "      display:flex;\n",
              "      gap: 12px;\n",
              "    }\n",
              "\n",
              "    .colab-df-convert {\n",
              "      background-color: #E8F0FE;\n",
              "      border: none;\n",
              "      border-radius: 50%;\n",
              "      cursor: pointer;\n",
              "      display: none;\n",
              "      fill: #1967D2;\n",
              "      height: 32px;\n",
              "      padding: 0 0 0 0;\n",
              "      width: 32px;\n",
              "    }\n",
              "\n",
              "    .colab-df-convert:hover {\n",
              "      background-color: #E2EBFA;\n",
              "      box-shadow: 0px 1px 2px rgba(60, 64, 67, 0.3), 0px 1px 3px 1px rgba(60, 64, 67, 0.15);\n",
              "      fill: #174EA6;\n",
              "    }\n",
              "\n",
              "    .colab-df-buttons div {\n",
              "      margin-bottom: 4px;\n",
              "    }\n",
              "\n",
              "    [theme=dark] .colab-df-convert {\n",
              "      background-color: #3B4455;\n",
              "      fill: #D2E3FC;\n",
              "    }\n",
              "\n",
              "    [theme=dark] .colab-df-convert:hover {\n",
              "      background-color: #434B5C;\n",
              "      box-shadow: 0px 1px 3px 1px rgba(0, 0, 0, 0.15);\n",
              "      filter: drop-shadow(0px 1px 2px rgba(0, 0, 0, 0.3));\n",
              "      fill: #FFFFFF;\n",
              "    }\n",
              "  </style>\n",
              "\n",
              "    <script>\n",
              "      const buttonEl =\n",
              "        document.querySelector('#df-b7498f66-1522-4cfe-b62f-919f7b0aec30 button.colab-df-convert');\n",
              "      buttonEl.style.display =\n",
              "        google.colab.kernel.accessAllowed ? 'block' : 'none';\n",
              "\n",
              "      async function convertToInteractive(key) {\n",
              "        const element = document.querySelector('#df-b7498f66-1522-4cfe-b62f-919f7b0aec30');\n",
              "        const dataTable =\n",
              "          await google.colab.kernel.invokeFunction('convertToInteractive',\n",
              "                                                    [key], {});\n",
              "        if (!dataTable) return;\n",
              "\n",
              "        const docLinkHtml = 'Like what you see? Visit the ' +\n",
              "          '<a target=\"_blank\" href=https://colab.research.google.com/notebooks/data_table.ipynb>data table notebook</a>'\n",
              "          + ' to learn more about interactive tables.';\n",
              "        element.innerHTML = '';\n",
              "        dataTable['output_type'] = 'display_data';\n",
              "        await google.colab.output.renderOutput(dataTable, element);\n",
              "        const docLink = document.createElement('div');\n",
              "        docLink.innerHTML = docLinkHtml;\n",
              "        element.appendChild(docLink);\n",
              "      }\n",
              "    </script>\n",
              "  </div>\n",
              "\n",
              "    </div>\n",
              "  </div>\n"
            ]
          },
          "metadata": {},
          "execution_count": 3
        }
      ]
    },
    {
      "cell_type": "code",
      "source": [
        "study.to_dict('list')"
      ],
      "metadata": {
        "id": "-Vy8E58ga7dm",
        "colab": {
          "base_uri": "https://localhost:8080/"
        },
        "outputId": "9a490581-92d3-4269-9cba-0781268980fe"
      },
      "execution_count": 4,
      "outputs": [
        {
          "output_type": "execute_result",
          "data": {
            "text/plain": [
              "{'NCT Number': ['NCT04411901'],\n",
              " 'Study Title': ['The Role of Vitamin D3 in Pediatric Bronchiectasis Severity'],\n",
              " 'Study URL': ['https://clinicaltrials.gov/study/NCT04411901'],\n",
              " 'Acronym': [nan],\n",
              " 'Study Status': ['COMPLETED'],\n",
              " 'Brief Summary': ['Vitamin D3 therapy was effective in decreasing the frequency of pulmonary exacerbations and preserving lung functions , thereby improving the disease severity even more in non CF than CF bronchiectasis patients'],\n",
              " 'Study Results': ['NO'],\n",
              " 'Conditions': ['Cystic Fibrosis and Non CF Bronchiectasis'],\n",
              " 'Interventions': ['DRUG: Cholecalciferol (vitaminD3)'],\n",
              " 'Primary Outcome Measures': ['reach sufficient vitamin D level, vitamin D more than 30 ng/dl, 6 months|decrease disease severity, decrease excerbations and increase lung function, 6 months'],\n",
              " 'Secondary Outcome Measures': [nan],\n",
              " 'Other Outcome Measures': [nan],\n",
              " 'Sponsor': ['Heba Omara'],\n",
              " 'Collaborators': [nan],\n",
              " 'Sex': ['ALL'],\n",
              " 'Age': ['CHILD'],\n",
              " 'Phases': ['PHASE2|PHASE3'],\n",
              " 'Enrollment': [40],\n",
              " 'Funder Type': ['OTHER'],\n",
              " 'Study Type': ['INTERVENTIONAL'],\n",
              " 'Study Design': ['Allocation: NA|Intervention Model: SINGLE_GROUP|Masking: NONE|Primary Purpose: TREATMENT'],\n",
              " 'Other IDs': ['Original study'],\n",
              " 'Start Date': ['2018-03-01'],\n",
              " 'Primary Completion Date': ['2018-09-06'],\n",
              " 'Completion Date': ['2019-03-20'],\n",
              " 'First Posted': ['2020-06-02'],\n",
              " 'Results First Posted': [nan],\n",
              " 'Last Update Posted': ['2020-06-02'],\n",
              " 'Locations': ['Children hospital, Cairo, Abbasia, 02, Egypt'],\n",
              " 'Study Documents': [nan]}"
            ]
          },
          "metadata": {},
          "execution_count": 4
        }
      ]
    },
    {
      "cell_type": "markdown",
      "source": [
        "#Озор Клинического исследовыния № NCT04411901\n",
        "##Роль витамина D3 в тяжести бронхоэктазов у ​​детей с муковисцидозом##\n",
        "Исследование проводилось с 01 марта 2018г по 02 июня 2020 года в 'Children hospital, Cairo, Abbasia, 02, Egypt'\n",
        "\n",
        "КИ интевенционная - одиночная группа, заслепления не было. Основная цель - достичь достаточного уровня витамина D, уровень витамина D более 30 нг/дл,| снизить тяжесть заболевания, уменьшить количество обострений и улучшить функцию легких\n",
        "\n",
        "Критерии отбора в группу:\n",
        "* Возраст менее 18 лет;\n",
        "* Пациенты с документально подтвержденным диагнозом муковисцидоз (при наличии двукратного положительного результата теста на хлорид пота и/или парных генетических мутаций ДНК CFTR);\n",
        "* Пациенты с бронхоэктазами, не страдающими муковисцидозом, диагностированными клинически и радиологически (отрицательный тест на хлориды пота) с диагнозом, подтвержденным КТ с высоким разрешением, и историей болезни, соответствующей бронхоэктатической болезни;\n",
        "* Пациенты с бронхоэктазами при муковисцидозе и без муковисцидоза с дефицитом или недостаточностью витамина D.\n",
        "Критерии исключения:\n",
        "* Достаточный уровень витамина D;\n",
        "* Хронические заболевания легких, кроме муковисцидоза и не муковисцидозная  бронхоэктатическая болезнь, заболевания печени или почек;\n",
        "* Сообщили о приеме добавок витамина D или стероидной терапии за последние 6 недель.\n",
        "\n",
        "**Первичная цель** - достичь достаточного уровня витамина D более 30 нг/дл(Клиническая)\n",
        "\n",
        "**Вторичная цель** - уменьшить приступы и улучшить функцию легких (Суррогатная)\n",
        "\n",
        "**Результаты** не опубликованы\n"
      ],
      "metadata": {
        "id": "j5cXCjwWcu5w"
      }
    },
    {
      "cell_type": "markdown",
      "source": [
        "#Заключение\n",
        "Исследование неудачное, ему больше подходит определение \"высосано из пальца\". Групп сравнения не было. Здесь скорее важен вопрос сколько в Египте рахита и как это влияет на развитие бронхоэктатической болезни. Здесь скорее влияет социальное расслоение (ведь если родители контролируют течение болезни, то скорее у них будет возможность контролировать уровень витаминамина Д). Поэтому видимо и результаты не опубликованы.\n",
        "\n",
        "Кстати я попытался в поиске найти Российские исследования - у меня не получилось."
      ],
      "metadata": {
        "id": "ZRJTD699mY6R"
      }
    }
  ]
}