{
  "nbformat": 4,
  "nbformat_minor": 0,
  "metadata": {
    "colab": {
      "provenance": [],
      "authorship_tag": "ABX9TyPIUsnw+BH6NQhY6pq3gJFp",
      "include_colab_link": true
    },
    "kernelspec": {
      "name": "python3",
      "display_name": "Python 3"
    },
    "language_info": {
      "name": "python"
    }
  },
  "cells": [
    {
      "cell_type": "markdown",
      "metadata": {
        "id": "view-in-github",
        "colab_type": "text"
      },
      "source": [
        "<a href=\"https://colab.research.google.com/github/MaximTislenko/DS_in_MED/blob/main/Less_04/Less_04_04.ipynb\" target=\"_parent\"><img src=\"https://colab.research.google.com/assets/colab-badge.svg\" alt=\"Open In Colab\"/></a>"
      ]
    },
    {
      "cell_type": "code",
      "execution_count": 1,
      "metadata": {
        "colab": {
          "base_uri": "https://localhost:8080/"
        },
        "id": "LfZnnmLU7VRJ",
        "outputId": "16874030-6376-4426-dec9-79eeaf1d8d6e"
      },
      "outputs": [
        {
          "output_type": "stream",
          "name": "stdout",
          "text": [
            "Collecting translate\n",
            "  Downloading translate-3.6.1-py2.py3-none-any.whl (12 kB)\n",
            "Requirement already satisfied: click in /usr/local/lib/python3.10/dist-packages (from translate) (8.1.7)\n",
            "Requirement already satisfied: lxml in /usr/local/lib/python3.10/dist-packages (from translate) (4.9.3)\n",
            "Requirement already satisfied: requests in /usr/local/lib/python3.10/dist-packages (from translate) (2.31.0)\n",
            "Collecting libretranslatepy==2.1.1 (from translate)\n",
            "  Downloading libretranslatepy-2.1.1-py3-none-any.whl (3.2 kB)\n",
            "Requirement already satisfied: charset-normalizer<4,>=2 in /usr/local/lib/python3.10/dist-packages (from requests->translate) (3.3.0)\n",
            "Requirement already satisfied: idna<4,>=2.5 in /usr/local/lib/python3.10/dist-packages (from requests->translate) (3.4)\n",
            "Requirement already satisfied: urllib3<3,>=1.21.1 in /usr/local/lib/python3.10/dist-packages (from requests->translate) (2.0.6)\n",
            "Requirement already satisfied: certifi>=2017.4.17 in /usr/local/lib/python3.10/dist-packages (from requests->translate) (2023.7.22)\n",
            "Installing collected packages: libretranslatepy, translate\n",
            "Successfully installed libretranslatepy-2.1.1 translate-3.6.1\n"
          ]
        }
      ],
      "source": [
        "!pip install translate"
      ]
    },
    {
      "cell_type": "code",
      "source": [
        "from translate import Translator\n",
        "import os\n",
        "import pandas as pd\n",
        "import numpy as np"
      ],
      "metadata": {
        "id": "kSOzlEoe7srZ"
      },
      "execution_count": 9,
      "outputs": []
    },
    {
      "cell_type": "code",
      "source": [
        "!wget https://raw.githubusercontent.com/MaximTislenko/DS_in_MED/main/Less_04/NCT06083623.csv"
      ],
      "metadata": {
        "colab": {
          "base_uri": "https://localhost:8080/"
        },
        "id": "VBHb1L8OEubh",
        "outputId": "b696e23e-b938-45ed-c2dc-a07f4f36496b"
      },
      "execution_count": 10,
      "outputs": [
        {
          "output_type": "stream",
          "name": "stdout",
          "text": [
            "--2023-10-18 18:36:14--  https://raw.githubusercontent.com/MaximTislenko/DS_in_MED/main/Less_04/NCT06083623.csv\n",
            "Resolving raw.githubusercontent.com (raw.githubusercontent.com)... 185.199.108.133, 185.199.109.133, 185.199.110.133, ...\n",
            "Connecting to raw.githubusercontent.com (raw.githubusercontent.com)|185.199.108.133|:443... connected.\n",
            "HTTP request sent, awaiting response... 200 OK\n",
            "Length: 5126 (5.0K) [text/plain]\n",
            "Saving to: ‘NCT06083623.csv’\n",
            "\n",
            "\rNCT06083623.csv       0%[                    ]       0  --.-KB/s               \rNCT06083623.csv     100%[===================>]   5.01K  --.-KB/s    in 0s      \n",
            "\n",
            "2023-10-18 18:36:14 (67.8 MB/s) - ‘NCT06083623.csv’ saved [5126/5126]\n",
            "\n"
          ]
        }
      ]
    },
    {
      "cell_type": "code",
      "source": [
        "study = pd.read_csv('/content/NCT06083623.csv')\n",
        "study"
      ],
      "metadata": {
        "colab": {
          "base_uri": "https://localhost:8080/",
          "height": 269
        },
        "id": "tPwwBoT0Ezag",
        "outputId": "cfd4c26f-e781-4212-c8d6-2d1f2848890b"
      },
      "execution_count": 11,
      "outputs": [
        {
          "output_type": "execute_result",
          "data": {
            "text/plain": [
              "    NCT Number                                        Study Title  \\\n",
              "0  NCT06083623  A Trial to Evaluate the Efficacy and Safety of...   \n",
              "\n",
              "                                      Study URL  Acronym        Study Status  \\\n",
              "0  https://clinicaltrials.gov/study/NCT06083623      NaN  NOT_YET_RECRUITING   \n",
              "\n",
              "                                       Brief Summary Study Results  \\\n",
              "0  The purpose of this study is to evaluate the e...            NO   \n",
              "\n",
              "                               Conditions  \\\n",
              "0  Respiratory Syncytial Virus Infections   \n",
              "\n",
              "                            Interventions  \\\n",
              "0  BIOLOGICAL: TNM001|BIOLOGICAL: placebo   \n",
              "\n",
              "                            Primary Outcome Measures  ...  \\\n",
              "0  Incidence of medically attended LRTI due to RT...  ...   \n",
              "\n",
              "                                        Study Design               Other IDs  \\\n",
              "0  Allocation: RANDOMIZED|Intervention Model: PAR...  TNM001-301|CTR20232792   \n",
              "\n",
              "   Start Date  Primary Completion Date Completion Date First Posted  \\\n",
              "0  2023-10-06               2026-05-31      2026-08-31   2023-10-16   \n",
              "\n",
              "  Results First Posted  Last Update Posted  \\\n",
              "0                  NaN          2023-10-16   \n",
              "\n",
              "                                           Locations Study Documents  \n",
              "0  Peking University Third Hospital, Beijing, Bei...             NaN  \n",
              "\n",
              "[1 rows x 30 columns]"
            ],
            "text/html": [
              "\n",
              "  <div id=\"df-9790a9c8-2985-4459-9612-27cf1127df4f\" class=\"colab-df-container\">\n",
              "    <div>\n",
              "<style scoped>\n",
              "    .dataframe tbody tr th:only-of-type {\n",
              "        vertical-align: middle;\n",
              "    }\n",
              "\n",
              "    .dataframe tbody tr th {\n",
              "        vertical-align: top;\n",
              "    }\n",
              "\n",
              "    .dataframe thead th {\n",
              "        text-align: right;\n",
              "    }\n",
              "</style>\n",
              "<table border=\"1\" class=\"dataframe\">\n",
              "  <thead>\n",
              "    <tr style=\"text-align: right;\">\n",
              "      <th></th>\n",
              "      <th>NCT Number</th>\n",
              "      <th>Study Title</th>\n",
              "      <th>Study URL</th>\n",
              "      <th>Acronym</th>\n",
              "      <th>Study Status</th>\n",
              "      <th>Brief Summary</th>\n",
              "      <th>Study Results</th>\n",
              "      <th>Conditions</th>\n",
              "      <th>Interventions</th>\n",
              "      <th>Primary Outcome Measures</th>\n",
              "      <th>...</th>\n",
              "      <th>Study Design</th>\n",
              "      <th>Other IDs</th>\n",
              "      <th>Start Date</th>\n",
              "      <th>Primary Completion Date</th>\n",
              "      <th>Completion Date</th>\n",
              "      <th>First Posted</th>\n",
              "      <th>Results First Posted</th>\n",
              "      <th>Last Update Posted</th>\n",
              "      <th>Locations</th>\n",
              "      <th>Study Documents</th>\n",
              "    </tr>\n",
              "  </thead>\n",
              "  <tbody>\n",
              "    <tr>\n",
              "      <th>0</th>\n",
              "      <td>NCT06083623</td>\n",
              "      <td>A Trial to Evaluate the Efficacy and Safety of...</td>\n",
              "      <td>https://clinicaltrials.gov/study/NCT06083623</td>\n",
              "      <td>NaN</td>\n",
              "      <td>NOT_YET_RECRUITING</td>\n",
              "      <td>The purpose of this study is to evaluate the e...</td>\n",
              "      <td>NO</td>\n",
              "      <td>Respiratory Syncytial Virus Infections</td>\n",
              "      <td>BIOLOGICAL: TNM001|BIOLOGICAL: placebo</td>\n",
              "      <td>Incidence of medically attended LRTI due to RT...</td>\n",
              "      <td>...</td>\n",
              "      <td>Allocation: RANDOMIZED|Intervention Model: PAR...</td>\n",
              "      <td>TNM001-301|CTR20232792</td>\n",
              "      <td>2023-10-06</td>\n",
              "      <td>2026-05-31</td>\n",
              "      <td>2026-08-31</td>\n",
              "      <td>2023-10-16</td>\n",
              "      <td>NaN</td>\n",
              "      <td>2023-10-16</td>\n",
              "      <td>Peking University Third Hospital, Beijing, Bei...</td>\n",
              "      <td>NaN</td>\n",
              "    </tr>\n",
              "  </tbody>\n",
              "</table>\n",
              "<p>1 rows × 30 columns</p>\n",
              "</div>\n",
              "    <div class=\"colab-df-buttons\">\n",
              "\n",
              "  <div class=\"colab-df-container\">\n",
              "    <button class=\"colab-df-convert\" onclick=\"convertToInteractive('df-9790a9c8-2985-4459-9612-27cf1127df4f')\"\n",
              "            title=\"Convert this dataframe to an interactive table.\"\n",
              "            style=\"display:none;\">\n",
              "\n",
              "  <svg xmlns=\"http://www.w3.org/2000/svg\" height=\"24px\" viewBox=\"0 -960 960 960\">\n",
              "    <path d=\"M120-120v-720h720v720H120Zm60-500h600v-160H180v160Zm220 220h160v-160H400v160Zm0 220h160v-160H400v160ZM180-400h160v-160H180v160Zm440 0h160v-160H620v160ZM180-180h160v-160H180v160Zm440 0h160v-160H620v160Z\"/>\n",
              "  </svg>\n",
              "    </button>\n",
              "\n",
              "  <style>\n",
              "    .colab-df-container {\n",
              "      display:flex;\n",
              "      gap: 12px;\n",
              "    }\n",
              "\n",
              "    .colab-df-convert {\n",
              "      background-color: #E8F0FE;\n",
              "      border: none;\n",
              "      border-radius: 50%;\n",
              "      cursor: pointer;\n",
              "      display: none;\n",
              "      fill: #1967D2;\n",
              "      height: 32px;\n",
              "      padding: 0 0 0 0;\n",
              "      width: 32px;\n",
              "    }\n",
              "\n",
              "    .colab-df-convert:hover {\n",
              "      background-color: #E2EBFA;\n",
              "      box-shadow: 0px 1px 2px rgba(60, 64, 67, 0.3), 0px 1px 3px 1px rgba(60, 64, 67, 0.15);\n",
              "      fill: #174EA6;\n",
              "    }\n",
              "\n",
              "    .colab-df-buttons div {\n",
              "      margin-bottom: 4px;\n",
              "    }\n",
              "\n",
              "    [theme=dark] .colab-df-convert {\n",
              "      background-color: #3B4455;\n",
              "      fill: #D2E3FC;\n",
              "    }\n",
              "\n",
              "    [theme=dark] .colab-df-convert:hover {\n",
              "      background-color: #434B5C;\n",
              "      box-shadow: 0px 1px 3px 1px rgba(0, 0, 0, 0.15);\n",
              "      filter: drop-shadow(0px 1px 2px rgba(0, 0, 0, 0.3));\n",
              "      fill: #FFFFFF;\n",
              "    }\n",
              "  </style>\n",
              "\n",
              "    <script>\n",
              "      const buttonEl =\n",
              "        document.querySelector('#df-9790a9c8-2985-4459-9612-27cf1127df4f button.colab-df-convert');\n",
              "      buttonEl.style.display =\n",
              "        google.colab.kernel.accessAllowed ? 'block' : 'none';\n",
              "\n",
              "      async function convertToInteractive(key) {\n",
              "        const element = document.querySelector('#df-9790a9c8-2985-4459-9612-27cf1127df4f');\n",
              "        const dataTable =\n",
              "          await google.colab.kernel.invokeFunction('convertToInteractive',\n",
              "                                                    [key], {});\n",
              "        if (!dataTable) return;\n",
              "\n",
              "        const docLinkHtml = 'Like what you see? Visit the ' +\n",
              "          '<a target=\"_blank\" href=https://colab.research.google.com/notebooks/data_table.ipynb>data table notebook</a>'\n",
              "          + ' to learn more about interactive tables.';\n",
              "        element.innerHTML = '';\n",
              "        dataTable['output_type'] = 'display_data';\n",
              "        await google.colab.output.renderOutput(dataTable, element);\n",
              "        const docLink = document.createElement('div');\n",
              "        docLink.innerHTML = docLinkHtml;\n",
              "        element.appendChild(docLink);\n",
              "      }\n",
              "    </script>\n",
              "  </div>\n",
              "\n",
              "    </div>\n",
              "  </div>\n"
            ]
          },
          "metadata": {},
          "execution_count": 11
        }
      ]
    },
    {
      "cell_type": "code",
      "source": [
        "X = study.columns.values.tolist()\n",
        "type(X)"
      ],
      "metadata": {
        "colab": {
          "base_uri": "https://localhost:8080/"
        },
        "id": "iWPFSiMdKeBC",
        "outputId": "ddc43856-0263-43c1-ead5-02c5c6ac652a"
      },
      "execution_count": 12,
      "outputs": [
        {
          "output_type": "execute_result",
          "data": {
            "text/plain": [
              "list"
            ]
          },
          "metadata": {},
          "execution_count": 12
        }
      ]
    },
    {
      "cell_type": "code",
      "source": [
        "translator = Translator(from_lang=\"English\",to_lang=\"russian\")"
      ],
      "metadata": {
        "id": "HD5ENtiK7w4_"
      },
      "execution_count": 13,
      "outputs": []
    },
    {
      "cell_type": "code",
      "source": [
        "X[0]"
      ],
      "metadata": {
        "colab": {
          "base_uri": "https://localhost:8080/",
          "height": 35
        },
        "id": "R6VwjvXAL1ch",
        "outputId": "7b65de0a-72a0-4ec2-a616-217eb6eead88"
      },
      "execution_count": 18,
      "outputs": [
        {
          "output_type": "execute_result",
          "data": {
            "text/plain": [
              "'NCT Number'"
            ],
            "application/vnd.google.colaboratory.intrinsic+json": {
              "type": "string"
            }
          },
          "metadata": {},
          "execution_count": 18
        }
      ]
    },
    {
      "cell_type": "code",
      "source": [
        "list_Eng = X\n",
        "list_Rus = translator.translate(X[4])\n",
        "print(list_Rus)"
      ],
      "metadata": {
        "colab": {
          "base_uri": "https://localhost:8080/"
        },
        "id": "POJvYqc0KrT5",
        "outputId": "7e9a6fdb-5c4d-461a-95aa-a942e2e595c8"
      },
      "execution_count": 24,
      "outputs": [
        {
          "output_type": "stream",
          "name": "stdout",
          "text": [
            "Статус исследования\n"
          ]
        }
      ]
    },
    {
      "cell_type": "code",
      "source": [
        "X_Rus = []\n",
        "for i in range(0, len(X)):\n",
        "  text_Rus = translator.translate(X[i])\n",
        "  X_Rus.append(text_Rus)\n",
        "print(X_Rus)\n"
      ],
      "metadata": {
        "colab": {
          "base_uri": "https://localhost:8080/"
        },
        "id": "zYqrFn2gNIJS",
        "outputId": "0de1deeb-8640-4981-86cb-dc21ba07387b"
      },
      "execution_count": 95,
      "outputs": [
        {
          "output_type": "stream",
          "name": "stdout",
          "text": [
            "['Номер NCT:<g id=\"1\">\\t</g>156967', 'Название исследования', 'URL', 'Сокращение', 'Статус исследования', 'Краткое резюме', 'Результаты исследования', 'Условия', 'Меры воздействия', 'Основные критерии оценки эффективности:', 'Вспомогательные критерии оценки эффективности:', 'Оценка исхода', 'Заказчик клинического исследования', 'Соисполнители', 'Пол', 'Возраст', 'Фазы', 'Регистрация', 'Финансирующая сторона', 'Тип исследования', 'План исследования', '<x id=\"1\"/>Другое', 'Дата начала', 'Первичный срок выполнения', 'Дата выполнения', 'Первое сообщение', 'Первое сообщение', 'Обновление опубликовано.', 'Локации', 'Первичная документация по исследованию']\n"
          ]
        }
      ]
    },
    {
      "cell_type": "code",
      "source": [
        "type(X)"
      ],
      "metadata": {
        "colab": {
          "base_uri": "https://localhost:8080/"
        },
        "id": "BSrwaiUs5Na6",
        "outputId": "c6f92ee7-4046-4bda-9d43-f5324ad9865d"
      },
      "execution_count": 98,
      "outputs": [
        {
          "output_type": "execute_result",
          "data": {
            "text/plain": [
              "list"
            ]
          },
          "metadata": {},
          "execution_count": 98
        }
      ]
    },
    {
      "cell_type": "code",
      "source": [
        "Z = study.values.tolist()\n",
        "# type(Z)\n",
        "list_eng = Z\n",
        "list_eng"
      ],
      "metadata": {
        "id": "owBDC6NNzcUS"
      },
      "execution_count": null,
      "outputs": []
    },
    {
      "cell_type": "code",
      "source": [
        "list_rus = []\n",
        "for k in range(0, len(list_eng)):\n",
        "  text_rus = translator.translate(list_eng[k])\n",
        "  list_rus.append(text_rus)\n",
        "list_rus"
      ],
      "metadata": {
        "colab": {
          "base_uri": "https://localhost:8080/",
          "height": 390
        },
        "id": "v1B7bvlg2mNZ",
        "outputId": "91982064-857c-4837-d6cd-d26c0727aeb9"
      },
      "execution_count": 101,
      "outputs": [
        {
          "output_type": "error",
          "ename": "AttributeError",
          "evalue": "ignored",
          "traceback": [
            "\u001b[0;31m---------------------------------------------------------------------------\u001b[0m",
            "\u001b[0;31mAttributeError\u001b[0m                            Traceback (most recent call last)",
            "\u001b[0;32m<ipython-input-101-3519dbfa524b>\u001b[0m in \u001b[0;36m<cell line: 2>\u001b[0;34m()\u001b[0m\n\u001b[1;32m      1\u001b[0m \u001b[0mlist_rus\u001b[0m \u001b[0;34m=\u001b[0m \u001b[0;34m[\u001b[0m\u001b[0;34m]\u001b[0m\u001b[0;34m\u001b[0m\u001b[0;34m\u001b[0m\u001b[0m\n\u001b[1;32m      2\u001b[0m \u001b[0;32mfor\u001b[0m \u001b[0mk\u001b[0m \u001b[0;32min\u001b[0m \u001b[0mrange\u001b[0m\u001b[0;34m(\u001b[0m\u001b[0;36m0\u001b[0m\u001b[0;34m,\u001b[0m \u001b[0mlen\u001b[0m\u001b[0;34m(\u001b[0m\u001b[0mlist_eng\u001b[0m\u001b[0;34m)\u001b[0m\u001b[0;34m)\u001b[0m\u001b[0;34m:\u001b[0m\u001b[0;34m\u001b[0m\u001b[0;34m\u001b[0m\u001b[0m\n\u001b[0;32m----> 3\u001b[0;31m   \u001b[0mtext_rus\u001b[0m \u001b[0;34m=\u001b[0m \u001b[0mtranslator\u001b[0m\u001b[0;34m.\u001b[0m\u001b[0mtranslate\u001b[0m\u001b[0;34m(\u001b[0m\u001b[0mlist_eng\u001b[0m\u001b[0;34m[\u001b[0m\u001b[0mk\u001b[0m\u001b[0;34m]\u001b[0m\u001b[0;34m)\u001b[0m\u001b[0;34m\u001b[0m\u001b[0;34m\u001b[0m\u001b[0m\n\u001b[0m\u001b[1;32m      4\u001b[0m   \u001b[0mlist_rus\u001b[0m\u001b[0;34m.\u001b[0m\u001b[0mappend\u001b[0m\u001b[0;34m(\u001b[0m\u001b[0mtext_rus\u001b[0m\u001b[0;34m)\u001b[0m\u001b[0;34m\u001b[0m\u001b[0;34m\u001b[0m\u001b[0m\n\u001b[1;32m      5\u001b[0m \u001b[0mlist_rus\u001b[0m\u001b[0;34m\u001b[0m\u001b[0;34m\u001b[0m\u001b[0m\n",
            "\u001b[0;32m/usr/local/lib/python3.10/dist-packages/translate/translate.py\u001b[0m in \u001b[0;36mtranslate\u001b[0;34m(self, text)\u001b[0m\n\u001b[1;32m     42\u001b[0m             \u001b[0;32mreturn\u001b[0m \u001b[0mtext\u001b[0m\u001b[0;34m\u001b[0m\u001b[0;34m\u001b[0m\u001b[0m\n\u001b[1;32m     43\u001b[0m \u001b[0;34m\u001b[0m\u001b[0m\n\u001b[0;32m---> 44\u001b[0;31m         \u001b[0mtext_list\u001b[0m \u001b[0;34m=\u001b[0m \u001b[0mwrap\u001b[0m\u001b[0;34m(\u001b[0m\u001b[0mtext\u001b[0m\u001b[0;34m,\u001b[0m \u001b[0mTRANSLATION_API_MAX_LENGHT\u001b[0m\u001b[0;34m,\u001b[0m \u001b[0mreplace_whitespace\u001b[0m\u001b[0;34m=\u001b[0m\u001b[0;32mFalse\u001b[0m\u001b[0;34m)\u001b[0m\u001b[0;34m\u001b[0m\u001b[0;34m\u001b[0m\u001b[0m\n\u001b[0m\u001b[1;32m     45\u001b[0m         \u001b[0;32mreturn\u001b[0m \u001b[0;34m' '\u001b[0m\u001b[0;34m.\u001b[0m\u001b[0mjoin\u001b[0m\u001b[0;34m(\u001b[0m\u001b[0mself\u001b[0m\u001b[0;34m.\u001b[0m\u001b[0mprovider\u001b[0m\u001b[0;34m.\u001b[0m\u001b[0mget_translation\u001b[0m\u001b[0;34m(\u001b[0m\u001b[0mtext_wraped\u001b[0m\u001b[0;34m)\u001b[0m \u001b[0;32mfor\u001b[0m \u001b[0mtext_wraped\u001b[0m \u001b[0;32min\u001b[0m \u001b[0mtext_list\u001b[0m\u001b[0;34m)\u001b[0m\u001b[0;34m\u001b[0m\u001b[0;34m\u001b[0m\u001b[0m\n",
            "\u001b[0;32m/usr/lib/python3.10/textwrap.py\u001b[0m in \u001b[0;36mwrap\u001b[0;34m(text, width, **kwargs)\u001b[0m\n\u001b[1;32m    385\u001b[0m     \"\"\"\n\u001b[1;32m    386\u001b[0m     \u001b[0mw\u001b[0m \u001b[0;34m=\u001b[0m \u001b[0mTextWrapper\u001b[0m\u001b[0;34m(\u001b[0m\u001b[0mwidth\u001b[0m\u001b[0;34m=\u001b[0m\u001b[0mwidth\u001b[0m\u001b[0;34m,\u001b[0m \u001b[0;34m**\u001b[0m\u001b[0mkwargs\u001b[0m\u001b[0;34m)\u001b[0m\u001b[0;34m\u001b[0m\u001b[0;34m\u001b[0m\u001b[0m\n\u001b[0;32m--> 387\u001b[0;31m     \u001b[0;32mreturn\u001b[0m \u001b[0mw\u001b[0m\u001b[0;34m.\u001b[0m\u001b[0mwrap\u001b[0m\u001b[0;34m(\u001b[0m\u001b[0mtext\u001b[0m\u001b[0;34m)\u001b[0m\u001b[0;34m\u001b[0m\u001b[0;34m\u001b[0m\u001b[0m\n\u001b[0m\u001b[1;32m    388\u001b[0m \u001b[0;34m\u001b[0m\u001b[0m\n\u001b[1;32m    389\u001b[0m \u001b[0;32mdef\u001b[0m \u001b[0mfill\u001b[0m\u001b[0;34m(\u001b[0m\u001b[0mtext\u001b[0m\u001b[0;34m,\u001b[0m \u001b[0mwidth\u001b[0m\u001b[0;34m=\u001b[0m\u001b[0;36m70\u001b[0m\u001b[0;34m,\u001b[0m \u001b[0;34m**\u001b[0m\u001b[0mkwargs\u001b[0m\u001b[0;34m)\u001b[0m\u001b[0;34m:\u001b[0m\u001b[0;34m\u001b[0m\u001b[0;34m\u001b[0m\u001b[0m\n",
            "\u001b[0;32m/usr/lib/python3.10/textwrap.py\u001b[0m in \u001b[0;36mwrap\u001b[0;34m(self, text)\u001b[0m\n\u001b[1;32m    357\u001b[0m         \u001b[0mconverted\u001b[0m \u001b[0mto\u001b[0m \u001b[0mspace\u001b[0m\u001b[0;34m.\u001b[0m\u001b[0;34m\u001b[0m\u001b[0;34m\u001b[0m\u001b[0m\n\u001b[1;32m    358\u001b[0m         \"\"\"\n\u001b[0;32m--> 359\u001b[0;31m         \u001b[0mchunks\u001b[0m \u001b[0;34m=\u001b[0m \u001b[0mself\u001b[0m\u001b[0;34m.\u001b[0m\u001b[0m_split_chunks\u001b[0m\u001b[0;34m(\u001b[0m\u001b[0mtext\u001b[0m\u001b[0;34m)\u001b[0m\u001b[0;34m\u001b[0m\u001b[0;34m\u001b[0m\u001b[0m\n\u001b[0m\u001b[1;32m    360\u001b[0m         \u001b[0;32mif\u001b[0m \u001b[0mself\u001b[0m\u001b[0;34m.\u001b[0m\u001b[0mfix_sentence_endings\u001b[0m\u001b[0;34m:\u001b[0m\u001b[0;34m\u001b[0m\u001b[0;34m\u001b[0m\u001b[0m\n\u001b[1;32m    361\u001b[0m             \u001b[0mself\u001b[0m\u001b[0;34m.\u001b[0m\u001b[0m_fix_sentence_endings\u001b[0m\u001b[0;34m(\u001b[0m\u001b[0mchunks\u001b[0m\u001b[0;34m)\u001b[0m\u001b[0;34m\u001b[0m\u001b[0;34m\u001b[0m\u001b[0m\n",
            "\u001b[0;32m/usr/lib/python3.10/textwrap.py\u001b[0m in \u001b[0;36m_split_chunks\u001b[0;34m(self, text)\u001b[0m\n\u001b[1;32m    343\u001b[0m \u001b[0;34m\u001b[0m\u001b[0m\n\u001b[1;32m    344\u001b[0m     \u001b[0;32mdef\u001b[0m \u001b[0m_split_chunks\u001b[0m\u001b[0;34m(\u001b[0m\u001b[0mself\u001b[0m\u001b[0;34m,\u001b[0m \u001b[0mtext\u001b[0m\u001b[0;34m)\u001b[0m\u001b[0;34m:\u001b[0m\u001b[0;34m\u001b[0m\u001b[0;34m\u001b[0m\u001b[0m\n\u001b[0;32m--> 345\u001b[0;31m         \u001b[0mtext\u001b[0m \u001b[0;34m=\u001b[0m \u001b[0mself\u001b[0m\u001b[0;34m.\u001b[0m\u001b[0m_munge_whitespace\u001b[0m\u001b[0;34m(\u001b[0m\u001b[0mtext\u001b[0m\u001b[0;34m)\u001b[0m\u001b[0;34m\u001b[0m\u001b[0;34m\u001b[0m\u001b[0m\n\u001b[0m\u001b[1;32m    346\u001b[0m         \u001b[0;32mreturn\u001b[0m \u001b[0mself\u001b[0m\u001b[0;34m.\u001b[0m\u001b[0m_split\u001b[0m\u001b[0;34m(\u001b[0m\u001b[0mtext\u001b[0m\u001b[0;34m)\u001b[0m\u001b[0;34m\u001b[0m\u001b[0;34m\u001b[0m\u001b[0m\n\u001b[1;32m    347\u001b[0m \u001b[0;34m\u001b[0m\u001b[0m\n",
            "\u001b[0;32m/usr/lib/python3.10/textwrap.py\u001b[0m in \u001b[0;36m_munge_whitespace\u001b[0;34m(self, text)\u001b[0m\n\u001b[1;32m    152\u001b[0m         \"\"\"\n\u001b[1;32m    153\u001b[0m         \u001b[0;32mif\u001b[0m \u001b[0mself\u001b[0m\u001b[0;34m.\u001b[0m\u001b[0mexpand_tabs\u001b[0m\u001b[0;34m:\u001b[0m\u001b[0;34m\u001b[0m\u001b[0;34m\u001b[0m\u001b[0m\n\u001b[0;32m--> 154\u001b[0;31m             \u001b[0mtext\u001b[0m \u001b[0;34m=\u001b[0m \u001b[0mtext\u001b[0m\u001b[0;34m.\u001b[0m\u001b[0mexpandtabs\u001b[0m\u001b[0;34m(\u001b[0m\u001b[0mself\u001b[0m\u001b[0;34m.\u001b[0m\u001b[0mtabsize\u001b[0m\u001b[0;34m)\u001b[0m\u001b[0;34m\u001b[0m\u001b[0;34m\u001b[0m\u001b[0m\n\u001b[0m\u001b[1;32m    155\u001b[0m         \u001b[0;32mif\u001b[0m \u001b[0mself\u001b[0m\u001b[0;34m.\u001b[0m\u001b[0mreplace_whitespace\u001b[0m\u001b[0;34m:\u001b[0m\u001b[0;34m\u001b[0m\u001b[0;34m\u001b[0m\u001b[0m\n\u001b[1;32m    156\u001b[0m             \u001b[0mtext\u001b[0m \u001b[0;34m=\u001b[0m \u001b[0mtext\u001b[0m\u001b[0;34m.\u001b[0m\u001b[0mtranslate\u001b[0m\u001b[0;34m(\u001b[0m\u001b[0mself\u001b[0m\u001b[0;34m.\u001b[0m\u001b[0municode_whitespace_trans\u001b[0m\u001b[0;34m)\u001b[0m\u001b[0;34m\u001b[0m\u001b[0;34m\u001b[0m\u001b[0m\n",
            "\u001b[0;31mAttributeError\u001b[0m: 'list' object has no attribute 'expandtabs'"
          ]
        }
      ]
    },
    {
      "cell_type": "code",
      "source": [
        "text_Eng = 'medical pedagogical commission'\n",
        "text_Rus = translator.translate(text_Eng)\n",
        "print(text_Rus)"
      ],
      "metadata": {
        "colab": {
          "base_uri": "https://localhost:8080/"
        },
        "id": "0kZtM2Iz7z2m",
        "outputId": "d6311763-31dd-4f46-c691-e9b45d7aebbf"
      },
      "execution_count": 8,
      "outputs": [
        {
          "output_type": "stream",
          "name": "stdout",
          "text": [
            "Московский Центр Качества Образования, Центральная психолого-медико-педагогическая комиссия г. Москвы\n"
          ]
        }
      ]
    },
    {
      "cell_type": "code",
      "source": [
        "Y = study.to_dict()\n",
        "Y"
      ],
      "metadata": {
        "colab": {
          "base_uri": "https://localhost:8080/"
        },
        "id": "LYh_8dgzaIe7",
        "outputId": "0d5758f8-386b-47f3-995a-74ff36964dc3"
      },
      "execution_count": 29,
      "outputs": [
        {
          "output_type": "execute_result",
          "data": {
            "text/plain": [
              "{'NCT Number': {0: 'NCT06083623'},\n",
              " 'Study Title': {0: 'A Trial to Evaluate the Efficacy and Safety of TNM001 for the Prevention of Lower Respiratory Tract Infection Caused by Respiratory Syncytial Virus in Infants'},\n",
              " 'Study URL': {0: 'https://clinicaltrials.gov/study/NCT06083623'},\n",
              " 'Acronym': {0: nan},\n",
              " 'Study Status': {0: 'NOT_YET_RECRUITING'},\n",
              " 'Brief Summary': {0: 'The purpose of this study is to evaluate the efficacy, safety, pharmacokinetics (PK), neutralizing antibody and antidrug antibody (ADA) response for TNM001 in infants entering their first RSV season.'},\n",
              " 'Study Results': {0: 'NO'},\n",
              " 'Conditions': {0: 'Respiratory Syncytial Virus Infections'},\n",
              " 'Interventions': {0: 'BIOLOGICAL: TNM001|BIOLOGICAL: placebo'},\n",
              " 'Primary Outcome Measures': {0: 'Incidence of medically attended LRTI due to RT-PCR confirmed RSV, 150 days post dose'},\n",
              " 'Secondary Outcome Measures': {0: 'Incidence of hospitalization due to RT-PCR confirmed RSV LRTI, 150 days post dose|Occurrence of adverse events (AEs), 240 days post dose|Change in body temperature (celsius), 240 days post dose|Change in blood pressure (mmHg), 240 days post dose|Change in heart rate (beats per minute), 240 days post dose|Change in respiratory rate (breaths per min), 240 days post dose|Number of subjects with clinical significant abnormality in physical examinations, 240 days post dose|Serum concentration of single dose TNM001 at pre-specified timepoints, 240 days post dose|Serum level of neutralizing antibody to RSV, 240 days post dose|Positive rate of anti-drug antibody (ADA) to TNM001 in serum, 240 days post dose'},\n",
              " 'Other Outcome Measures': {0: nan},\n",
              " 'Sponsor': {0: 'Zhuhai Trinomab Pharmaceutical Co., Ltd.'},\n",
              " 'Collaborators': {0: nan},\n",
              " 'Sex': {0: 'ALL'},\n",
              " 'Age': {0: 'CHILD'},\n",
              " 'Phases': {0: 'PHASE2|PHASE3'},\n",
              " 'Enrollment': {0: 2250},\n",
              " 'Funder Type': {0: 'INDUSTRY'},\n",
              " 'Study Type': {0: 'INTERVENTIONAL'},\n",
              " 'Study Design': {0: 'Allocation: RANDOMIZED|Intervention Model: PARALLEL|Masking: QUADRUPLE (PARTICIPANT, CARE_PROVIDER, INVESTIGATOR, OUTCOMES_ASSESSOR)|Primary Purpose: PREVENTION'},\n",
              " 'Other IDs': {0: 'TNM001-301|CTR20232792'},\n",
              " 'Start Date': {0: '2023-10-06'},\n",
              " 'Primary Completion Date': {0: '2026-05-31'},\n",
              " 'Completion Date': {0: '2026-08-31'},\n",
              " 'First Posted': {0: '2023-10-16'},\n",
              " 'Results First Posted': {0: nan},\n",
              " 'Last Update Posted': {0: '2023-10-16'},\n",
              " 'Locations': {0: \"Peking University Third Hospital, Beijing, Beijing, 100000, China|Children's Hospital Capital Institute Pediatrics, Beijing, Beijing, 100020, China|Jiangjin Central Hospital, Chongqing, Chongqing, 400000, China|Xiamen maternal and Child Health Hospital, Xiamen, Fujian, 361003, China|The Third Affiliated Hospital of Guangzhou Medical University, Guangdong, Guangdong, 510150, China|Guangdong Maternal and Child Health Care Hospital, Guangzhou, Guangdong, 511442, China|University of Chinese Academy of Sciense Shenzhen Hospital, Shenzhen, Guangdong, 518000, China|Affiliated Hospital of Guilin Medical University, Guilin, Guangxi, 541001, China|LiuZhou People's Hospital, Liuzhou, Guangxi, 545006, China|Maternity and Child Health Care of Guangxi Zhuang Autonomous Region, Nanning, Guangxi, 530002, China|HaiNan Women and Children's Medical Center, Haikou, Hainan, 570312, China|Hebei Petro China Central Hospital, Langfang, Hebei, 065000, China|The Fourth Hospital of Hebei Medical University, Shijia Zhuang, Hebei, 050000, China|The Second Hospital of HeBei Medical University (HBMU), Shijia Zhuang, Hebei, 050000, China|Tangshan Maternal and Child Health Hospitaltangshan Maternal and Child Health Hospital, Tangshan, Hebei, 063000, China|Sanmenxia Central Hospital, Sanmenxia, Henan, 472000, China|Xinxiang First People's Hospital, Xinxiang, Henan, 453000, China|Henan (Zhengzhou) Children's Hospital, Zhengzhou, Henan, 450052, China|Renmin Hospital of Wuhan University, Wuhan, Hubei, 430060, China|The Central Hospital of Wuhan, Wuhan, Hubei, 430060, China|The First People'S Hospital of Changde City, Changde, Hunan, 415000, China|The Maternal and Child Health Hospital of Hunan Province, Changsha, Hunan, 410008, China|Xiangya Hospital Central South University, Changsha, Hunan, 410008, China|The Third Xiangya Hospital of Central South University, Changsha, Hunan, 410013, China|The Second Hospital University of South China, Hengyang, Hunan, 421001, China|Loudi Central Hospital, Loudi, Hunan, 417099, China|The First Affiliated Hospital of Shaoyang University, Shaoyang, Hunan, 422000, China|Jiangxi Maternal and Child Health Hospital, Nanchang, Jiangxi, 330000, China|Children's Hospital Affiliated to Shandong University, Jinan, Shandong, 250022, China|The affiliated children'shospital fudan university, Shanghai, Shanghai, 201102, China|Linfen Central Hospital, Linfen, Shanxi, 041000, China|Linfen People's Hospital, Linfen, Shanxi, 041000, China|Yuncheng Central Hospital, Yuncheng, Shanxi, 044000, China|Chengdu Women's and Children's Central Hospital, Chengdu, Sichuan, 610000, China|West China Second University Hospital, Sichuan University, Chengdu, Sichuan, 610000, China|Children's Hospital of Chongqing Medical University, Chongqing, Sichuan, 404100, China|Mianyang Peoples Hospital, Mianyang, Sichuan, 621000, China|Affiliated Hangzhou First People's Hospital, Zhejiang University School of Medicine/Hangzhou First People's Hospital, Hangzhou, Zhejiang, 310006, China|Ningbo Women&Children's Hospital, Ningbo, Zhejiang, 315012, China\"},\n",
              " 'Study Documents': {0: nan}}"
            ]
          },
          "metadata": {},
          "execution_count": 29
        }
      ]
    },
    {
      "cell_type": "code",
      "source": [
        "Z = study.to_dict('list')\n",
        "Z"
      ],
      "metadata": {
        "colab": {
          "base_uri": "https://localhost:8080/"
        },
        "id": "-Vy8E58ga7dm",
        "outputId": "21ad6385-7968-4e44-bbbf-5dfad3dfe4ae"
      },
      "execution_count": 78,
      "outputs": [
        {
          "output_type": "execute_result",
          "data": {
            "text/plain": [
              "{'NCT Number': ['NCT06083623'],\n",
              " 'Study Title': ['A Trial to Evaluate the Efficacy and Safety of TNM001 for the Prevention of Lower Respiratory Tract Infection Caused by Respiratory Syncytial Virus in Infants'],\n",
              " 'Study URL': ['https://clinicaltrials.gov/study/NCT06083623'],\n",
              " 'Acronym': [nan],\n",
              " 'Study Status': ['NOT_YET_RECRUITING'],\n",
              " 'Brief Summary': ['The purpose of this study is to evaluate the efficacy, safety, pharmacokinetics (PK), neutralizing antibody and antidrug antibody (ADA) response for TNM001 in infants entering their first RSV season.'],\n",
              " 'Study Results': ['NO'],\n",
              " 'Conditions': ['Respiratory Syncytial Virus Infections'],\n",
              " 'Interventions': ['BIOLOGICAL: TNM001|BIOLOGICAL: placebo'],\n",
              " 'Primary Outcome Measures': ['Incidence of medically attended LRTI due to RT-PCR confirmed RSV, 150 days post dose'],\n",
              " 'Secondary Outcome Measures': ['Incidence of hospitalization due to RT-PCR confirmed RSV LRTI, 150 days post dose|Occurrence of adverse events (AEs), 240 days post dose|Change in body temperature (celsius), 240 days post dose|Change in blood pressure (mmHg), 240 days post dose|Change in heart rate (beats per minute), 240 days post dose|Change in respiratory rate (breaths per min), 240 days post dose|Number of subjects with clinical significant abnormality in physical examinations, 240 days post dose|Serum concentration of single dose TNM001 at pre-specified timepoints, 240 days post dose|Serum level of neutralizing antibody to RSV, 240 days post dose|Positive rate of anti-drug antibody (ADA) to TNM001 in serum, 240 days post dose'],\n",
              " 'Other Outcome Measures': [nan],\n",
              " 'Sponsor': ['Zhuhai Trinomab Pharmaceutical Co., Ltd.'],\n",
              " 'Collaborators': [nan],\n",
              " 'Sex': ['ALL'],\n",
              " 'Age': ['CHILD'],\n",
              " 'Phases': ['PHASE2|PHASE3'],\n",
              " 'Enrollment': [2250],\n",
              " 'Funder Type': ['INDUSTRY'],\n",
              " 'Study Type': ['INTERVENTIONAL'],\n",
              " 'Study Design': ['Allocation: RANDOMIZED|Intervention Model: PARALLEL|Masking: QUADRUPLE (PARTICIPANT, CARE_PROVIDER, INVESTIGATOR, OUTCOMES_ASSESSOR)|Primary Purpose: PREVENTION'],\n",
              " 'Other IDs': ['TNM001-301|CTR20232792'],\n",
              " 'Start Date': ['2023-10-06'],\n",
              " 'Primary Completion Date': ['2026-05-31'],\n",
              " 'Completion Date': ['2026-08-31'],\n",
              " 'First Posted': ['2023-10-16'],\n",
              " 'Results First Posted': [nan],\n",
              " 'Last Update Posted': ['2023-10-16'],\n",
              " 'Locations': [\"Peking University Third Hospital, Beijing, Beijing, 100000, China|Children's Hospital Capital Institute Pediatrics, Beijing, Beijing, 100020, China|Jiangjin Central Hospital, Chongqing, Chongqing, 400000, China|Xiamen maternal and Child Health Hospital, Xiamen, Fujian, 361003, China|The Third Affiliated Hospital of Guangzhou Medical University, Guangdong, Guangdong, 510150, China|Guangdong Maternal and Child Health Care Hospital, Guangzhou, Guangdong, 511442, China|University of Chinese Academy of Sciense Shenzhen Hospital, Shenzhen, Guangdong, 518000, China|Affiliated Hospital of Guilin Medical University, Guilin, Guangxi, 541001, China|LiuZhou People's Hospital, Liuzhou, Guangxi, 545006, China|Maternity and Child Health Care of Guangxi Zhuang Autonomous Region, Nanning, Guangxi, 530002, China|HaiNan Women and Children's Medical Center, Haikou, Hainan, 570312, China|Hebei Petro China Central Hospital, Langfang, Hebei, 065000, China|The Fourth Hospital of Hebei Medical University, Shijia Zhuang, Hebei, 050000, China|The Second Hospital of HeBei Medical University (HBMU), Shijia Zhuang, Hebei, 050000, China|Tangshan Maternal and Child Health Hospitaltangshan Maternal and Child Health Hospital, Tangshan, Hebei, 063000, China|Sanmenxia Central Hospital, Sanmenxia, Henan, 472000, China|Xinxiang First People's Hospital, Xinxiang, Henan, 453000, China|Henan (Zhengzhou) Children's Hospital, Zhengzhou, Henan, 450052, China|Renmin Hospital of Wuhan University, Wuhan, Hubei, 430060, China|The Central Hospital of Wuhan, Wuhan, Hubei, 430060, China|The First People'S Hospital of Changde City, Changde, Hunan, 415000, China|The Maternal and Child Health Hospital of Hunan Province, Changsha, Hunan, 410008, China|Xiangya Hospital Central South University, Changsha, Hunan, 410008, China|The Third Xiangya Hospital of Central South University, Changsha, Hunan, 410013, China|The Second Hospital University of South China, Hengyang, Hunan, 421001, China|Loudi Central Hospital, Loudi, Hunan, 417099, China|The First Affiliated Hospital of Shaoyang University, Shaoyang, Hunan, 422000, China|Jiangxi Maternal and Child Health Hospital, Nanchang, Jiangxi, 330000, China|Children's Hospital Affiliated to Shandong University, Jinan, Shandong, 250022, China|The affiliated children'shospital fudan university, Shanghai, Shanghai, 201102, China|Linfen Central Hospital, Linfen, Shanxi, 041000, China|Linfen People's Hospital, Linfen, Shanxi, 041000, China|Yuncheng Central Hospital, Yuncheng, Shanxi, 044000, China|Chengdu Women's and Children's Central Hospital, Chengdu, Sichuan, 610000, China|West China Second University Hospital, Sichuan University, Chengdu, Sichuan, 610000, China|Children's Hospital of Chongqing Medical University, Chongqing, Sichuan, 404100, China|Mianyang Peoples Hospital, Mianyang, Sichuan, 621000, China|Affiliated Hangzhou First People's Hospital, Zhejiang University School of Medicine/Hangzhou First People's Hospital, Hangzhou, Zhejiang, 310006, China|Ningbo Women&Children's Hospital, Ningbo, Zhejiang, 315012, China\"],\n",
              " 'Study Documents': [nan]}"
            ]
          },
          "metadata": {},
          "execution_count": 78
        }
      ]
    },
    {
      "cell_type": "code",
      "source": [
        "for k, v in Z.items():\n",
        "  print(v)\n",
        "  text_rus = translator.translate(v)\n",
        "  print(text_rus)\n"
      ],
      "metadata": {
        "colab": {
          "base_uri": "https://localhost:8080/",
          "height": 390
        },
        "id": "DwwT-R12ycBy",
        "outputId": "5c0a8954-10af-407c-acbc-d20007118cd9"
      },
      "execution_count": 77,
      "outputs": [
        {
          "output_type": "stream",
          "name": "stdout",
          "text": [
            "['NCT06083623']\n"
          ]
        },
        {
          "output_type": "error",
          "ename": "AttributeError",
          "evalue": "ignored",
          "traceback": [
            "\u001b[0;31m---------------------------------------------------------------------------\u001b[0m",
            "\u001b[0;31mAttributeError\u001b[0m                            Traceback (most recent call last)",
            "\u001b[0;32m<ipython-input-77-77e58200f979>\u001b[0m in \u001b[0;36m<cell line: 1>\u001b[0;34m()\u001b[0m\n\u001b[1;32m      1\u001b[0m \u001b[0;32mfor\u001b[0m \u001b[0mk\u001b[0m\u001b[0;34m,\u001b[0m \u001b[0mv\u001b[0m \u001b[0;32min\u001b[0m \u001b[0mZ\u001b[0m\u001b[0;34m.\u001b[0m\u001b[0mitems\u001b[0m\u001b[0;34m(\u001b[0m\u001b[0;34m)\u001b[0m\u001b[0;34m:\u001b[0m\u001b[0;34m\u001b[0m\u001b[0;34m\u001b[0m\u001b[0m\n\u001b[1;32m      2\u001b[0m   \u001b[0mprint\u001b[0m\u001b[0;34m(\u001b[0m\u001b[0mv\u001b[0m\u001b[0;34m)\u001b[0m\u001b[0;34m\u001b[0m\u001b[0;34m\u001b[0m\u001b[0m\n\u001b[0;32m----> 3\u001b[0;31m   \u001b[0mtext_rus\u001b[0m \u001b[0;34m=\u001b[0m \u001b[0mtranslator\u001b[0m\u001b[0;34m.\u001b[0m\u001b[0mtranslate\u001b[0m\u001b[0;34m(\u001b[0m\u001b[0mv\u001b[0m\u001b[0;34m)\u001b[0m\u001b[0;34m\u001b[0m\u001b[0;34m\u001b[0m\u001b[0m\n\u001b[0m\u001b[1;32m      4\u001b[0m   \u001b[0mprint\u001b[0m\u001b[0;34m(\u001b[0m\u001b[0mtext_rus\u001b[0m\u001b[0;34m)\u001b[0m\u001b[0;34m\u001b[0m\u001b[0;34m\u001b[0m\u001b[0m\n",
            "\u001b[0;32m/usr/local/lib/python3.10/dist-packages/translate/translate.py\u001b[0m in \u001b[0;36mtranslate\u001b[0;34m(self, text)\u001b[0m\n\u001b[1;32m     42\u001b[0m             \u001b[0;32mreturn\u001b[0m \u001b[0mtext\u001b[0m\u001b[0;34m\u001b[0m\u001b[0;34m\u001b[0m\u001b[0m\n\u001b[1;32m     43\u001b[0m \u001b[0;34m\u001b[0m\u001b[0m\n\u001b[0;32m---> 44\u001b[0;31m         \u001b[0mtext_list\u001b[0m \u001b[0;34m=\u001b[0m \u001b[0mwrap\u001b[0m\u001b[0;34m(\u001b[0m\u001b[0mtext\u001b[0m\u001b[0;34m,\u001b[0m \u001b[0mTRANSLATION_API_MAX_LENGHT\u001b[0m\u001b[0;34m,\u001b[0m \u001b[0mreplace_whitespace\u001b[0m\u001b[0;34m=\u001b[0m\u001b[0;32mFalse\u001b[0m\u001b[0;34m)\u001b[0m\u001b[0;34m\u001b[0m\u001b[0;34m\u001b[0m\u001b[0m\n\u001b[0m\u001b[1;32m     45\u001b[0m         \u001b[0;32mreturn\u001b[0m \u001b[0;34m' '\u001b[0m\u001b[0;34m.\u001b[0m\u001b[0mjoin\u001b[0m\u001b[0;34m(\u001b[0m\u001b[0mself\u001b[0m\u001b[0;34m.\u001b[0m\u001b[0mprovider\u001b[0m\u001b[0;34m.\u001b[0m\u001b[0mget_translation\u001b[0m\u001b[0;34m(\u001b[0m\u001b[0mtext_wraped\u001b[0m\u001b[0;34m)\u001b[0m \u001b[0;32mfor\u001b[0m \u001b[0mtext_wraped\u001b[0m \u001b[0;32min\u001b[0m \u001b[0mtext_list\u001b[0m\u001b[0;34m)\u001b[0m\u001b[0;34m\u001b[0m\u001b[0;34m\u001b[0m\u001b[0m\n",
            "\u001b[0;32m/usr/lib/python3.10/textwrap.py\u001b[0m in \u001b[0;36mwrap\u001b[0;34m(text, width, **kwargs)\u001b[0m\n\u001b[1;32m    385\u001b[0m     \"\"\"\n\u001b[1;32m    386\u001b[0m     \u001b[0mw\u001b[0m \u001b[0;34m=\u001b[0m \u001b[0mTextWrapper\u001b[0m\u001b[0;34m(\u001b[0m\u001b[0mwidth\u001b[0m\u001b[0;34m=\u001b[0m\u001b[0mwidth\u001b[0m\u001b[0;34m,\u001b[0m \u001b[0;34m**\u001b[0m\u001b[0mkwargs\u001b[0m\u001b[0;34m)\u001b[0m\u001b[0;34m\u001b[0m\u001b[0;34m\u001b[0m\u001b[0m\n\u001b[0;32m--> 387\u001b[0;31m     \u001b[0;32mreturn\u001b[0m \u001b[0mw\u001b[0m\u001b[0;34m.\u001b[0m\u001b[0mwrap\u001b[0m\u001b[0;34m(\u001b[0m\u001b[0mtext\u001b[0m\u001b[0;34m)\u001b[0m\u001b[0;34m\u001b[0m\u001b[0;34m\u001b[0m\u001b[0m\n\u001b[0m\u001b[1;32m    388\u001b[0m \u001b[0;34m\u001b[0m\u001b[0m\n\u001b[1;32m    389\u001b[0m \u001b[0;32mdef\u001b[0m \u001b[0mfill\u001b[0m\u001b[0;34m(\u001b[0m\u001b[0mtext\u001b[0m\u001b[0;34m,\u001b[0m \u001b[0mwidth\u001b[0m\u001b[0;34m=\u001b[0m\u001b[0;36m70\u001b[0m\u001b[0;34m,\u001b[0m \u001b[0;34m**\u001b[0m\u001b[0mkwargs\u001b[0m\u001b[0;34m)\u001b[0m\u001b[0;34m:\u001b[0m\u001b[0;34m\u001b[0m\u001b[0;34m\u001b[0m\u001b[0m\n",
            "\u001b[0;32m/usr/lib/python3.10/textwrap.py\u001b[0m in \u001b[0;36mwrap\u001b[0;34m(self, text)\u001b[0m\n\u001b[1;32m    357\u001b[0m         \u001b[0mconverted\u001b[0m \u001b[0mto\u001b[0m \u001b[0mspace\u001b[0m\u001b[0;34m.\u001b[0m\u001b[0;34m\u001b[0m\u001b[0;34m\u001b[0m\u001b[0m\n\u001b[1;32m    358\u001b[0m         \"\"\"\n\u001b[0;32m--> 359\u001b[0;31m         \u001b[0mchunks\u001b[0m \u001b[0;34m=\u001b[0m \u001b[0mself\u001b[0m\u001b[0;34m.\u001b[0m\u001b[0m_split_chunks\u001b[0m\u001b[0;34m(\u001b[0m\u001b[0mtext\u001b[0m\u001b[0;34m)\u001b[0m\u001b[0;34m\u001b[0m\u001b[0;34m\u001b[0m\u001b[0m\n\u001b[0m\u001b[1;32m    360\u001b[0m         \u001b[0;32mif\u001b[0m \u001b[0mself\u001b[0m\u001b[0;34m.\u001b[0m\u001b[0mfix_sentence_endings\u001b[0m\u001b[0;34m:\u001b[0m\u001b[0;34m\u001b[0m\u001b[0;34m\u001b[0m\u001b[0m\n\u001b[1;32m    361\u001b[0m             \u001b[0mself\u001b[0m\u001b[0;34m.\u001b[0m\u001b[0m_fix_sentence_endings\u001b[0m\u001b[0;34m(\u001b[0m\u001b[0mchunks\u001b[0m\u001b[0;34m)\u001b[0m\u001b[0;34m\u001b[0m\u001b[0;34m\u001b[0m\u001b[0m\n",
            "\u001b[0;32m/usr/lib/python3.10/textwrap.py\u001b[0m in \u001b[0;36m_split_chunks\u001b[0;34m(self, text)\u001b[0m\n\u001b[1;32m    343\u001b[0m \u001b[0;34m\u001b[0m\u001b[0m\n\u001b[1;32m    344\u001b[0m     \u001b[0;32mdef\u001b[0m \u001b[0m_split_chunks\u001b[0m\u001b[0;34m(\u001b[0m\u001b[0mself\u001b[0m\u001b[0;34m,\u001b[0m \u001b[0mtext\u001b[0m\u001b[0;34m)\u001b[0m\u001b[0;34m:\u001b[0m\u001b[0;34m\u001b[0m\u001b[0;34m\u001b[0m\u001b[0m\n\u001b[0;32m--> 345\u001b[0;31m         \u001b[0mtext\u001b[0m \u001b[0;34m=\u001b[0m \u001b[0mself\u001b[0m\u001b[0;34m.\u001b[0m\u001b[0m_munge_whitespace\u001b[0m\u001b[0;34m(\u001b[0m\u001b[0mtext\u001b[0m\u001b[0;34m)\u001b[0m\u001b[0;34m\u001b[0m\u001b[0;34m\u001b[0m\u001b[0m\n\u001b[0m\u001b[1;32m    346\u001b[0m         \u001b[0;32mreturn\u001b[0m \u001b[0mself\u001b[0m\u001b[0;34m.\u001b[0m\u001b[0m_split\u001b[0m\u001b[0;34m(\u001b[0m\u001b[0mtext\u001b[0m\u001b[0;34m)\u001b[0m\u001b[0;34m\u001b[0m\u001b[0;34m\u001b[0m\u001b[0m\n\u001b[1;32m    347\u001b[0m \u001b[0;34m\u001b[0m\u001b[0m\n",
            "\u001b[0;32m/usr/lib/python3.10/textwrap.py\u001b[0m in \u001b[0;36m_munge_whitespace\u001b[0;34m(self, text)\u001b[0m\n\u001b[1;32m    152\u001b[0m         \"\"\"\n\u001b[1;32m    153\u001b[0m         \u001b[0;32mif\u001b[0m \u001b[0mself\u001b[0m\u001b[0;34m.\u001b[0m\u001b[0mexpand_tabs\u001b[0m\u001b[0;34m:\u001b[0m\u001b[0;34m\u001b[0m\u001b[0;34m\u001b[0m\u001b[0m\n\u001b[0;32m--> 154\u001b[0;31m             \u001b[0mtext\u001b[0m \u001b[0;34m=\u001b[0m \u001b[0mtext\u001b[0m\u001b[0;34m.\u001b[0m\u001b[0mexpandtabs\u001b[0m\u001b[0;34m(\u001b[0m\u001b[0mself\u001b[0m\u001b[0;34m.\u001b[0m\u001b[0mtabsize\u001b[0m\u001b[0;34m)\u001b[0m\u001b[0;34m\u001b[0m\u001b[0;34m\u001b[0m\u001b[0m\n\u001b[0m\u001b[1;32m    155\u001b[0m         \u001b[0;32mif\u001b[0m \u001b[0mself\u001b[0m\u001b[0;34m.\u001b[0m\u001b[0mreplace_whitespace\u001b[0m\u001b[0;34m:\u001b[0m\u001b[0;34m\u001b[0m\u001b[0;34m\u001b[0m\u001b[0m\n\u001b[1;32m    156\u001b[0m             \u001b[0mtext\u001b[0m \u001b[0;34m=\u001b[0m \u001b[0mtext\u001b[0m\u001b[0;34m.\u001b[0m\u001b[0mtranslate\u001b[0m\u001b[0;34m(\u001b[0m\u001b[0mself\u001b[0m\u001b[0;34m.\u001b[0m\u001b[0municode_whitespace_trans\u001b[0m\u001b[0;34m)\u001b[0m\u001b[0;34m\u001b[0m\u001b[0;34m\u001b[0m\u001b[0m\n",
            "\u001b[0;31mAttributeError\u001b[0m: 'list' object has no attribute 'expandtabs'"
          ]
        }
      ]
    },
    {
      "cell_type": "code",
      "source": [
        "# Z = study.to_dict('series', index= False)\n",
        "# Z"
      ],
      "metadata": {
        "id": "ydd1WupWwt5v"
      },
      "execution_count": 70,
      "outputs": []
    },
    {
      "cell_type": "code",
      "source": [
        "for name, values in df.iteritems ():\n",
        " print(name)"
      ],
      "metadata": {
        "id": "6CGc19mKcjx0"
      },
      "execution_count": null,
      "outputs": []
    },
    {
      "cell_type": "code",
      "source": [
        "\n",
        "for row, values in study.iterrows():\n",
        "  text_eng = row,values\n",
        "\n",
        "text_eng\n",
        "\n",
        "  # text_rus = translator.translate(text_eng)\n",
        "  # X_Rus.add(text_rus, axis=1)"
      ],
      "metadata": {
        "colab": {
          "base_uri": "https://localhost:8080/"
        },
        "id": "5ZjJhx3Vns03",
        "outputId": "b90a5540-8c53-421e-e7d2-75a397c597c9"
      },
      "execution_count": 65,
      "outputs": [
        {
          "output_type": "execute_result",
          "data": {
            "text/plain": [
              "(0,\n",
              " NCT Number                                                          NCT06083623\n",
              " Study Title                   A Trial to Evaluate the Efficacy and Safety of...\n",
              " Study URL                          https://clinicaltrials.gov/study/NCT06083623\n",
              " Acronym                                                                     NaN\n",
              " Study Status                                                 NOT_YET_RECRUITING\n",
              " Brief Summary                 The purpose of this study is to evaluate the e...\n",
              " Study Results                                                                NO\n",
              " Conditions                               Respiratory Syncytial Virus Infections\n",
              " Interventions                            BIOLOGICAL: TNM001|BIOLOGICAL: placebo\n",
              " Primary Outcome Measures      Incidence of medically attended LRTI due to RT...\n",
              " Secondary Outcome Measures    Incidence of hospitalization due to RT-PCR con...\n",
              " Other Outcome Measures                                                      NaN\n",
              " Sponsor                                Zhuhai Trinomab Pharmaceutical Co., Ltd.\n",
              " Collaborators                                                               NaN\n",
              " Sex                                                                         ALL\n",
              " Age                                                                       CHILD\n",
              " Phases                                                            PHASE2|PHASE3\n",
              " Enrollment                                                                 2250\n",
              " Funder Type                                                            INDUSTRY\n",
              " Study Type                                                       INTERVENTIONAL\n",
              " Study Design                  Allocation: RANDOMIZED|Intervention Model: PAR...\n",
              " Other IDs                                                TNM001-301|CTR20232792\n",
              " Start Date                                                           2023-10-06\n",
              " Primary Completion Date                                              2026-05-31\n",
              " Completion Date                                                      2026-08-31\n",
              " First Posted                                                         2023-10-16\n",
              " Results First Posted                                                        NaN\n",
              " Last Update Posted                                                   2023-10-16\n",
              " Locations                     Peking University Third Hospital, Beijing, Bei...\n",
              " Study Documents                                                             NaN\n",
              " Name: 0, dtype: object)"
            ]
          },
          "metadata": {},
          "execution_count": 65
        }
      ]
    },
    {
      "cell_type": "code",
      "source": [
        "for values in study.itertuples():\n",
        "  text_eng = values\n",
        "  print(text_eng)\n",
        "  # text_rus = translator.translate(text_eng)\n",
        "  # X_Rus.add(text_rus, axis=1)"
      ],
      "metadata": {
        "colab": {
          "base_uri": "https://localhost:8080/"
        },
        "id": "nZfadYKKrYI_",
        "outputId": "a0bd1629-67c5-409a-c0f0-9f4dfc06ea1f"
      },
      "execution_count": 53,
      "outputs": [
        {
          "output_type": "stream",
          "name": "stdout",
          "text": [
            "Pandas(Index=0, _1='NCT06083623', _2='A Trial to Evaluate the Efficacy and Safety of TNM001 for the Prevention of Lower Respiratory Tract Infection Caused by Respiratory Syncytial Virus in Infants', _3='https://clinicaltrials.gov/study/NCT06083623', Acronym=nan, _5='NOT_YET_RECRUITING', _6='The purpose of this study is to evaluate the efficacy, safety, pharmacokinetics (PK), neutralizing antibody and antidrug antibody (ADA) response for TNM001 in infants entering their first RSV season.', _7='NO', Conditions='Respiratory Syncytial Virus Infections', Interventions='BIOLOGICAL: TNM001|BIOLOGICAL: placebo', _10='Incidence of medically attended LRTI due to RT-PCR confirmed RSV, 150 days post dose', _11='Incidence of hospitalization due to RT-PCR confirmed RSV LRTI, 150 days post dose|Occurrence of adverse events (AEs), 240 days post dose|Change in body temperature (celsius), 240 days post dose|Change in blood pressure (mmHg), 240 days post dose|Change in heart rate (beats per minute), 240 days post dose|Change in respiratory rate (breaths per min), 240 days post dose|Number of subjects with clinical significant abnormality in physical examinations, 240 days post dose|Serum concentration of single dose TNM001 at pre-specified timepoints, 240 days post dose|Serum level of neutralizing antibody to RSV, 240 days post dose|Positive rate of anti-drug antibody (ADA) to TNM001 in serum, 240 days post dose', _12=nan, Sponsor='Zhuhai Trinomab Pharmaceutical Co., Ltd.', Collaborators=nan, Sex='ALL', Age='CHILD', Phases='PHASE2|PHASE3', Enrollment=2250, _19='INDUSTRY', _20='INTERVENTIONAL', _21='Allocation: RANDOMIZED|Intervention Model: PARALLEL|Masking: QUADRUPLE (PARTICIPANT, CARE_PROVIDER, INVESTIGATOR, OUTCOMES_ASSESSOR)|Primary Purpose: PREVENTION', _22='TNM001-301|CTR20232792', _23='2023-10-06', _24='2026-05-31', _25='2026-08-31', _26='2023-10-16', _27=nan, _28='2023-10-16', Locations=\"Peking University Third Hospital, Beijing, Beijing, 100000, China|Children's Hospital Capital Institute Pediatrics, Beijing, Beijing, 100020, China|Jiangjin Central Hospital, Chongqing, Chongqing, 400000, China|Xiamen maternal and Child Health Hospital, Xiamen, Fujian, 361003, China|The Third Affiliated Hospital of Guangzhou Medical University, Guangdong, Guangdong, 510150, China|Guangdong Maternal and Child Health Care Hospital, Guangzhou, Guangdong, 511442, China|University of Chinese Academy of Sciense Shenzhen Hospital, Shenzhen, Guangdong, 518000, China|Affiliated Hospital of Guilin Medical University, Guilin, Guangxi, 541001, China|LiuZhou People's Hospital, Liuzhou, Guangxi, 545006, China|Maternity and Child Health Care of Guangxi Zhuang Autonomous Region, Nanning, Guangxi, 530002, China|HaiNan Women and Children's Medical Center, Haikou, Hainan, 570312, China|Hebei Petro China Central Hospital, Langfang, Hebei, 065000, China|The Fourth Hospital of Hebei Medical University, Shijia Zhuang, Hebei, 050000, China|The Second Hospital of HeBei Medical University (HBMU), Shijia Zhuang, Hebei, 050000, China|Tangshan Maternal and Child Health Hospitaltangshan Maternal and Child Health Hospital, Tangshan, Hebei, 063000, China|Sanmenxia Central Hospital, Sanmenxia, Henan, 472000, China|Xinxiang First People's Hospital, Xinxiang, Henan, 453000, China|Henan (Zhengzhou) Children's Hospital, Zhengzhou, Henan, 450052, China|Renmin Hospital of Wuhan University, Wuhan, Hubei, 430060, China|The Central Hospital of Wuhan, Wuhan, Hubei, 430060, China|The First People'S Hospital of Changde City, Changde, Hunan, 415000, China|The Maternal and Child Health Hospital of Hunan Province, Changsha, Hunan, 410008, China|Xiangya Hospital Central South University, Changsha, Hunan, 410008, China|The Third Xiangya Hospital of Central South University, Changsha, Hunan, 410013, China|The Second Hospital University of South China, Hengyang, Hunan, 421001, China|Loudi Central Hospital, Loudi, Hunan, 417099, China|The First Affiliated Hospital of Shaoyang University, Shaoyang, Hunan, 422000, China|Jiangxi Maternal and Child Health Hospital, Nanchang, Jiangxi, 330000, China|Children's Hospital Affiliated to Shandong University, Jinan, Shandong, 250022, China|The affiliated children'shospital fudan university, Shanghai, Shanghai, 201102, China|Linfen Central Hospital, Linfen, Shanxi, 041000, China|Linfen People's Hospital, Linfen, Shanxi, 041000, China|Yuncheng Central Hospital, Yuncheng, Shanxi, 044000, China|Chengdu Women's and Children's Central Hospital, Chengdu, Sichuan, 610000, China|West China Second University Hospital, Sichuan University, Chengdu, Sichuan, 610000, China|Children's Hospital of Chongqing Medical University, Chongqing, Sichuan, 404100, China|Mianyang Peoples Hospital, Mianyang, Sichuan, 621000, China|Affiliated Hangzhou First People's Hospital, Zhejiang University School of Medicine/Hangzhou First People's Hospital, Hangzhou, Zhejiang, 310006, China|Ningbo Women&Children's Hospital, Ningbo, Zhejiang, 315012, China\", _30=nan)\n"
          ]
        }
      ]
    },
    {
      "cell_type": "code",
      "source": [
        "for name, values in study.iteritems():\n",
        "  n=0\n",
        "  values\n",
        "  print(name, '-->', values)"
      ],
      "metadata": {
        "colab": {
          "base_uri": "https://localhost:8080/"
        },
        "id": "VJW3SV3Ucueb",
        "outputId": "9a007cbd-fb7c-4069-ec21-0aec4772edb8"
      },
      "execution_count": 32,
      "outputs": [
        {
          "output_type": "stream",
          "name": "stdout",
          "text": [
            "NCT Number --> 0    NCT06083623\n",
            "Name: NCT Number, dtype: object\n",
            "Study Title --> 0    A Trial to Evaluate the Efficacy and Safety of...\n",
            "Name: Study Title, dtype: object\n",
            "Study URL --> 0    https://clinicaltrials.gov/study/NCT06083623\n",
            "Name: Study URL, dtype: object\n",
            "Acronym --> 0   NaN\n",
            "Name: Acronym, dtype: float64\n",
            "Study Status --> 0    NOT_YET_RECRUITING\n",
            "Name: Study Status, dtype: object\n",
            "Brief Summary --> 0    The purpose of this study is to evaluate the e...\n",
            "Name: Brief Summary, dtype: object\n",
            "Study Results --> 0    NO\n",
            "Name: Study Results, dtype: object\n",
            "Conditions --> 0    Respiratory Syncytial Virus Infections\n",
            "Name: Conditions, dtype: object\n",
            "Interventions --> 0    BIOLOGICAL: TNM001|BIOLOGICAL: placebo\n",
            "Name: Interventions, dtype: object\n",
            "Primary Outcome Measures --> 0    Incidence of medically attended LRTI due to RT...\n",
            "Name: Primary Outcome Measures, dtype: object\n",
            "Secondary Outcome Measures --> 0    Incidence of hospitalization due to RT-PCR con...\n",
            "Name: Secondary Outcome Measures, dtype: object\n",
            "Other Outcome Measures --> 0   NaN\n",
            "Name: Other Outcome Measures, dtype: float64\n",
            "Sponsor --> 0    Zhuhai Trinomab Pharmaceutical Co., Ltd.\n",
            "Name: Sponsor, dtype: object\n",
            "Collaborators --> 0   NaN\n",
            "Name: Collaborators, dtype: float64\n",
            "Sex --> 0    ALL\n",
            "Name: Sex, dtype: object\n",
            "Age --> 0    CHILD\n",
            "Name: Age, dtype: object\n",
            "Phases --> 0    PHASE2|PHASE3\n",
            "Name: Phases, dtype: object\n",
            "Enrollment --> 0    2250\n",
            "Name: Enrollment, dtype: int64\n",
            "Funder Type --> 0    INDUSTRY\n",
            "Name: Funder Type, dtype: object\n",
            "Study Type --> 0    INTERVENTIONAL\n",
            "Name: Study Type, dtype: object\n",
            "Study Design --> 0    Allocation: RANDOMIZED|Intervention Model: PAR...\n",
            "Name: Study Design, dtype: object\n",
            "Other IDs --> 0    TNM001-301|CTR20232792\n",
            "Name: Other IDs, dtype: object\n",
            "Start Date --> 0    2023-10-06\n",
            "Name: Start Date, dtype: object\n",
            "Primary Completion Date --> 0    2026-05-31\n",
            "Name: Primary Completion Date, dtype: object\n",
            "Completion Date --> 0    2026-08-31\n",
            "Name: Completion Date, dtype: object\n",
            "First Posted --> 0    2023-10-16\n",
            "Name: First Posted, dtype: object\n",
            "Results First Posted --> 0   NaN\n",
            "Name: Results First Posted, dtype: float64\n",
            "Last Update Posted --> 0    2023-10-16\n",
            "Name: Last Update Posted, dtype: object\n",
            "Locations --> 0    Peking University Third Hospital, Beijing, Bei...\n",
            "Name: Locations, dtype: object\n",
            "Study Documents --> 0   NaN\n",
            "Name: Study Documents, dtype: float64\n"
          ]
        },
        {
          "output_type": "stream",
          "name": "stderr",
          "text": [
            "<ipython-input-32-27b412b07ba4>:1: FutureWarning: iteritems is deprecated and will be removed in a future version. Use .items instead.\n",
            "  for name, values in study.iteritems():\n"
          ]
        }
      ]
    },
    {
      "cell_type": "code",
      "source": [
        "X_rus = pd.DataFrame(columns=['Номер исследования',\n",
        "                              'Наименование исследования',\n",
        "                              'Cсылка на первоисточник',\n",
        "                              'Краткое описание',\n",
        "                              'Стадия исследования',\n",
        "                              'Краткое содержание',\n",
        "                              'Результаты исследования',\n",
        "                              'Условия',\n",
        "                              'Вмешательства',\n",
        "                              'Первичные результаты',\n",
        "                              'Вторичные результаты',\n",
        "                              'Другие рзультаты',\n",
        "                              'Спонсор (заказчик)',\n",
        "                              'Соавторы',\n",
        "                              'Пол',\n",
        "                              'Возраст',\n",
        "                              'Фазы исследования',\n",
        "                              'Регистрация',\n",
        "                              'Тип спонсора',\n",
        "                              'Тип исследования',\n",
        "                              'Дизайн исследования',\n",
        "                              'Идентефикаторы',\n",
        "                              'Дата начала',\n",
        "                              'Дата подведения предварительных итогов',\n",
        "                              'Дата подведения окончательных итогов',\n",
        "                              'Первое сообщение',\n",
        "                              'Результаты',\n",
        "                              'Последнее опубликованное сообщение',\n",
        "                              'Местоположение',\n",
        "                              'Документы по исследованию'])\n",
        "X_rus"
      ],
      "metadata": {
        "colab": {
          "base_uri": "https://localhost:8080/",
          "height": 151
        },
        "id": "QrT3m_M7eM0k",
        "outputId": "88a02c2d-4cf9-471b-8baa-c6cf4c3b8c49"
      },
      "execution_count": 34,
      "outputs": [
        {
          "output_type": "execute_result",
          "data": {
            "text/plain": [
              "Empty DataFrame\n",
              "Columns: [Номер исследования, Наименование исследования, Cсылка на первоисточник, Краткое описание, Стадия исследования, Краткое содержание, Результаты исследования, Условия, Вмешательства, Первичные результаты, Вторичные результаты, Другие рзультаты, Спонсор (заказчик), Соавторы, Пол, Возраст, Фазы исследования, Регистрация, Тип спонсора, Тип исследования, Дизайн исследования, Идентефикаторы, Дата начала, Дата подведения предварительных итогов, Дата подведения окончательных итогов, Первое сообщение, Результаты, Последнее опубликованное сообщение, Местоположение, Документы по исследованию]\n",
              "Index: []\n",
              "\n",
              "[0 rows x 30 columns]"
            ],
            "text/html": [
              "\n",
              "  <div id=\"df-682270b4-325c-49bc-8d07-6fe8bcc9446f\" class=\"colab-df-container\">\n",
              "    <div>\n",
              "<style scoped>\n",
              "    .dataframe tbody tr th:only-of-type {\n",
              "        vertical-align: middle;\n",
              "    }\n",
              "\n",
              "    .dataframe tbody tr th {\n",
              "        vertical-align: top;\n",
              "    }\n",
              "\n",
              "    .dataframe thead th {\n",
              "        text-align: right;\n",
              "    }\n",
              "</style>\n",
              "<table border=\"1\" class=\"dataframe\">\n",
              "  <thead>\n",
              "    <tr style=\"text-align: right;\">\n",
              "      <th></th>\n",
              "      <th>Номер исследования</th>\n",
              "      <th>Наименование исследования</th>\n",
              "      <th>Cсылка на первоисточник</th>\n",
              "      <th>Краткое описание</th>\n",
              "      <th>Стадия исследования</th>\n",
              "      <th>Краткое содержание</th>\n",
              "      <th>Результаты исследования</th>\n",
              "      <th>Условия</th>\n",
              "      <th>Вмешательства</th>\n",
              "      <th>Первичные результаты</th>\n",
              "      <th>...</th>\n",
              "      <th>Дизайн исследования</th>\n",
              "      <th>Идентефикаторы</th>\n",
              "      <th>Дата начала</th>\n",
              "      <th>Дата подведения предварительных итогов</th>\n",
              "      <th>Дата подведения окончательных итогов</th>\n",
              "      <th>Первое сообщение</th>\n",
              "      <th>Результаты</th>\n",
              "      <th>Последнее опубликованное сообщение</th>\n",
              "      <th>Местоположение</th>\n",
              "      <th>Документы по исследованию</th>\n",
              "    </tr>\n",
              "  </thead>\n",
              "  <tbody>\n",
              "  </tbody>\n",
              "</table>\n",
              "<p>0 rows × 30 columns</p>\n",
              "</div>\n",
              "    <div class=\"colab-df-buttons\">\n",
              "\n",
              "  <div class=\"colab-df-container\">\n",
              "    <button class=\"colab-df-convert\" onclick=\"convertToInteractive('df-682270b4-325c-49bc-8d07-6fe8bcc9446f')\"\n",
              "            title=\"Convert this dataframe to an interactive table.\"\n",
              "            style=\"display:none;\">\n",
              "\n",
              "  <svg xmlns=\"http://www.w3.org/2000/svg\" height=\"24px\" viewBox=\"0 -960 960 960\">\n",
              "    <path d=\"M120-120v-720h720v720H120Zm60-500h600v-160H180v160Zm220 220h160v-160H400v160Zm0 220h160v-160H400v160ZM180-400h160v-160H180v160Zm440 0h160v-160H620v160ZM180-180h160v-160H180v160Zm440 0h160v-160H620v160Z\"/>\n",
              "  </svg>\n",
              "    </button>\n",
              "\n",
              "  <style>\n",
              "    .colab-df-container {\n",
              "      display:flex;\n",
              "      gap: 12px;\n",
              "    }\n",
              "\n",
              "    .colab-df-convert {\n",
              "      background-color: #E8F0FE;\n",
              "      border: none;\n",
              "      border-radius: 50%;\n",
              "      cursor: pointer;\n",
              "      display: none;\n",
              "      fill: #1967D2;\n",
              "      height: 32px;\n",
              "      padding: 0 0 0 0;\n",
              "      width: 32px;\n",
              "    }\n",
              "\n",
              "    .colab-df-convert:hover {\n",
              "      background-color: #E2EBFA;\n",
              "      box-shadow: 0px 1px 2px rgba(60, 64, 67, 0.3), 0px 1px 3px 1px rgba(60, 64, 67, 0.15);\n",
              "      fill: #174EA6;\n",
              "    }\n",
              "\n",
              "    .colab-df-buttons div {\n",
              "      margin-bottom: 4px;\n",
              "    }\n",
              "\n",
              "    [theme=dark] .colab-df-convert {\n",
              "      background-color: #3B4455;\n",
              "      fill: #D2E3FC;\n",
              "    }\n",
              "\n",
              "    [theme=dark] .colab-df-convert:hover {\n",
              "      background-color: #434B5C;\n",
              "      box-shadow: 0px 1px 3px 1px rgba(0, 0, 0, 0.15);\n",
              "      filter: drop-shadow(0px 1px 2px rgba(0, 0, 0, 0.3));\n",
              "      fill: #FFFFFF;\n",
              "    }\n",
              "  </style>\n",
              "\n",
              "    <script>\n",
              "      const buttonEl =\n",
              "        document.querySelector('#df-682270b4-325c-49bc-8d07-6fe8bcc9446f button.colab-df-convert');\n",
              "      buttonEl.style.display =\n",
              "        google.colab.kernel.accessAllowed ? 'block' : 'none';\n",
              "\n",
              "      async function convertToInteractive(key) {\n",
              "        const element = document.querySelector('#df-682270b4-325c-49bc-8d07-6fe8bcc9446f');\n",
              "        const dataTable =\n",
              "          await google.colab.kernel.invokeFunction('convertToInteractive',\n",
              "                                                    [key], {});\n",
              "        if (!dataTable) return;\n",
              "\n",
              "        const docLinkHtml = 'Like what you see? Visit the ' +\n",
              "          '<a target=\"_blank\" href=https://colab.research.google.com/notebooks/data_table.ipynb>data table notebook</a>'\n",
              "          + ' to learn more about interactive tables.';\n",
              "        element.innerHTML = '';\n",
              "        dataTable['output_type'] = 'display_data';\n",
              "        await google.colab.output.renderOutput(dataTable, element);\n",
              "        const docLink = document.createElement('div');\n",
              "        docLink.innerHTML = docLinkHtml;\n",
              "        element.appendChild(docLink);\n",
              "      }\n",
              "    </script>\n",
              "  </div>\n",
              "\n",
              "    </div>\n",
              "  </div>\n"
            ]
          },
          "metadata": {},
          "execution_count": 34
        }
      ]
    }
  ]
}