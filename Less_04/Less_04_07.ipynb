{
  "nbformat": 4,
  "nbformat_minor": 0,
  "metadata": {
    "colab": {
      "provenance": [],
      "authorship_tag": "ABX9TyOSNqN4D3eTAfYZmRgFrtit",
      "include_colab_link": true
    },
    "kernelspec": {
      "name": "python3",
      "display_name": "Python 3"
    },
    "language_info": {
      "name": "python"
    }
  },
  "cells": [
    {
      "cell_type": "markdown",
      "metadata": {
        "id": "view-in-github",
        "colab_type": "text"
      },
      "source": [
        "<a href=\"https://colab.research.google.com/github/MaximTislenko/DS_in_MED/blob/main/Less_04/Less_04_07.ipynb\" target=\"_parent\"><img src=\"https://colab.research.google.com/assets/colab-badge.svg\" alt=\"Open In Colab\"/></a>"
      ]
    },
    {
      "cell_type": "code",
      "source": [
        "import os\n",
        "import pandas as pd\n",
        "import numpy as np"
      ],
      "metadata": {
        "id": "kSOzlEoe7srZ"
      },
      "execution_count": 1,
      "outputs": []
    },
    {
      "cell_type": "code",
      "source": [
        "!wget https://raw.githubusercontent.com/MaximTislenko/DS_in_MED/main/Less_04/NCT06083623.csv"
      ],
      "metadata": {
        "colab": {
          "base_uri": "https://localhost:8080/"
        },
        "id": "VBHb1L8OEubh",
        "outputId": "d92e3e4e-6614-4882-f7fa-e4347d2d481a"
      },
      "execution_count": 2,
      "outputs": [
        {
          "output_type": "stream",
          "name": "stdout",
          "text": [
            "--2023-10-19 12:23:45--  https://raw.githubusercontent.com/MaximTislenko/DS_in_MED/main/Less_04/NCT06083623.csv\n",
            "Resolving raw.githubusercontent.com (raw.githubusercontent.com)... 185.199.108.133, 185.199.109.133, 185.199.110.133, ...\n",
            "Connecting to raw.githubusercontent.com (raw.githubusercontent.com)|185.199.108.133|:443... connected.\n",
            "HTTP request sent, awaiting response... 200 OK\n",
            "Length: 5126 (5.0K) [text/plain]\n",
            "Saving to: ‘NCT06083623.csv’\n",
            "\n",
            "\rNCT06083623.csv       0%[                    ]       0  --.-KB/s               \rNCT06083623.csv     100%[===================>]   5.01K  --.-KB/s    in 0s      \n",
            "\n",
            "2023-10-19 12:23:45 (38.9 MB/s) - ‘NCT06083623.csv’ saved [5126/5126]\n",
            "\n"
          ]
        }
      ]
    },
    {
      "cell_type": "code",
      "source": [
        "study = pd.read_csv('/content/NCT06083623.csv')\n",
        "study"
      ],
      "metadata": {
        "colab": {
          "base_uri": "https://localhost:8080/",
          "height": 269
        },
        "id": "tPwwBoT0Ezag",
        "outputId": "233358f4-98d7-4890-f9cf-573898f1f744"
      },
      "execution_count": 3,
      "outputs": [
        {
          "output_type": "execute_result",
          "data": {
            "text/plain": [
              "    NCT Number                                        Study Title  \\\n",
              "0  NCT06083623  A Trial to Evaluate the Efficacy and Safety of...   \n",
              "\n",
              "                                      Study URL  Acronym        Study Status  \\\n",
              "0  https://clinicaltrials.gov/study/NCT06083623      NaN  NOT_YET_RECRUITING   \n",
              "\n",
              "                                       Brief Summary Study Results  \\\n",
              "0  The purpose of this study is to evaluate the e...            NO   \n",
              "\n",
              "                               Conditions  \\\n",
              "0  Respiratory Syncytial Virus Infections   \n",
              "\n",
              "                            Interventions  \\\n",
              "0  BIOLOGICAL: TNM001|BIOLOGICAL: placebo   \n",
              "\n",
              "                            Primary Outcome Measures  ...  \\\n",
              "0  Incidence of medically attended LRTI due to RT...  ...   \n",
              "\n",
              "                                        Study Design               Other IDs  \\\n",
              "0  Allocation: RANDOMIZED|Intervention Model: PAR...  TNM001-301|CTR20232792   \n",
              "\n",
              "   Start Date  Primary Completion Date Completion Date First Posted  \\\n",
              "0  2023-10-06               2026-05-31      2026-08-31   2023-10-16   \n",
              "\n",
              "  Results First Posted  Last Update Posted  \\\n",
              "0                  NaN          2023-10-16   \n",
              "\n",
              "                                           Locations Study Documents  \n",
              "0  Peking University Third Hospital, Beijing, Bei...             NaN  \n",
              "\n",
              "[1 rows x 30 columns]"
            ],
            "text/html": [
              "\n",
              "  <div id=\"df-d985776e-186e-4f41-8fe3-211e38c236d1\" class=\"colab-df-container\">\n",
              "    <div>\n",
              "<style scoped>\n",
              "    .dataframe tbody tr th:only-of-type {\n",
              "        vertical-align: middle;\n",
              "    }\n",
              "\n",
              "    .dataframe tbody tr th {\n",
              "        vertical-align: top;\n",
              "    }\n",
              "\n",
              "    .dataframe thead th {\n",
              "        text-align: right;\n",
              "    }\n",
              "</style>\n",
              "<table border=\"1\" class=\"dataframe\">\n",
              "  <thead>\n",
              "    <tr style=\"text-align: right;\">\n",
              "      <th></th>\n",
              "      <th>NCT Number</th>\n",
              "      <th>Study Title</th>\n",
              "      <th>Study URL</th>\n",
              "      <th>Acronym</th>\n",
              "      <th>Study Status</th>\n",
              "      <th>Brief Summary</th>\n",
              "      <th>Study Results</th>\n",
              "      <th>Conditions</th>\n",
              "      <th>Interventions</th>\n",
              "      <th>Primary Outcome Measures</th>\n",
              "      <th>...</th>\n",
              "      <th>Study Design</th>\n",
              "      <th>Other IDs</th>\n",
              "      <th>Start Date</th>\n",
              "      <th>Primary Completion Date</th>\n",
              "      <th>Completion Date</th>\n",
              "      <th>First Posted</th>\n",
              "      <th>Results First Posted</th>\n",
              "      <th>Last Update Posted</th>\n",
              "      <th>Locations</th>\n",
              "      <th>Study Documents</th>\n",
              "    </tr>\n",
              "  </thead>\n",
              "  <tbody>\n",
              "    <tr>\n",
              "      <th>0</th>\n",
              "      <td>NCT06083623</td>\n",
              "      <td>A Trial to Evaluate the Efficacy and Safety of...</td>\n",
              "      <td>https://clinicaltrials.gov/study/NCT06083623</td>\n",
              "      <td>NaN</td>\n",
              "      <td>NOT_YET_RECRUITING</td>\n",
              "      <td>The purpose of this study is to evaluate the e...</td>\n",
              "      <td>NO</td>\n",
              "      <td>Respiratory Syncytial Virus Infections</td>\n",
              "      <td>BIOLOGICAL: TNM001|BIOLOGICAL: placebo</td>\n",
              "      <td>Incidence of medically attended LRTI due to RT...</td>\n",
              "      <td>...</td>\n",
              "      <td>Allocation: RANDOMIZED|Intervention Model: PAR...</td>\n",
              "      <td>TNM001-301|CTR20232792</td>\n",
              "      <td>2023-10-06</td>\n",
              "      <td>2026-05-31</td>\n",
              "      <td>2026-08-31</td>\n",
              "      <td>2023-10-16</td>\n",
              "      <td>NaN</td>\n",
              "      <td>2023-10-16</td>\n",
              "      <td>Peking University Third Hospital, Beijing, Bei...</td>\n",
              "      <td>NaN</td>\n",
              "    </tr>\n",
              "  </tbody>\n",
              "</table>\n",
              "<p>1 rows × 30 columns</p>\n",
              "</div>\n",
              "    <div class=\"colab-df-buttons\">\n",
              "\n",
              "  <div class=\"colab-df-container\">\n",
              "    <button class=\"colab-df-convert\" onclick=\"convertToInteractive('df-d985776e-186e-4f41-8fe3-211e38c236d1')\"\n",
              "            title=\"Convert this dataframe to an interactive table.\"\n",
              "            style=\"display:none;\">\n",
              "\n",
              "  <svg xmlns=\"http://www.w3.org/2000/svg\" height=\"24px\" viewBox=\"0 -960 960 960\">\n",
              "    <path d=\"M120-120v-720h720v720H120Zm60-500h600v-160H180v160Zm220 220h160v-160H400v160Zm0 220h160v-160H400v160ZM180-400h160v-160H180v160Zm440 0h160v-160H620v160ZM180-180h160v-160H180v160Zm440 0h160v-160H620v160Z\"/>\n",
              "  </svg>\n",
              "    </button>\n",
              "\n",
              "  <style>\n",
              "    .colab-df-container {\n",
              "      display:flex;\n",
              "      gap: 12px;\n",
              "    }\n",
              "\n",
              "    .colab-df-convert {\n",
              "      background-color: #E8F0FE;\n",
              "      border: none;\n",
              "      border-radius: 50%;\n",
              "      cursor: pointer;\n",
              "      display: none;\n",
              "      fill: #1967D2;\n",
              "      height: 32px;\n",
              "      padding: 0 0 0 0;\n",
              "      width: 32px;\n",
              "    }\n",
              "\n",
              "    .colab-df-convert:hover {\n",
              "      background-color: #E2EBFA;\n",
              "      box-shadow: 0px 1px 2px rgba(60, 64, 67, 0.3), 0px 1px 3px 1px rgba(60, 64, 67, 0.15);\n",
              "      fill: #174EA6;\n",
              "    }\n",
              "\n",
              "    .colab-df-buttons div {\n",
              "      margin-bottom: 4px;\n",
              "    }\n",
              "\n",
              "    [theme=dark] .colab-df-convert {\n",
              "      background-color: #3B4455;\n",
              "      fill: #D2E3FC;\n",
              "    }\n",
              "\n",
              "    [theme=dark] .colab-df-convert:hover {\n",
              "      background-color: #434B5C;\n",
              "      box-shadow: 0px 1px 3px 1px rgba(0, 0, 0, 0.15);\n",
              "      filter: drop-shadow(0px 1px 2px rgba(0, 0, 0, 0.3));\n",
              "      fill: #FFFFFF;\n",
              "    }\n",
              "  </style>\n",
              "\n",
              "    <script>\n",
              "      const buttonEl =\n",
              "        document.querySelector('#df-d985776e-186e-4f41-8fe3-211e38c236d1 button.colab-df-convert');\n",
              "      buttonEl.style.display =\n",
              "        google.colab.kernel.accessAllowed ? 'block' : 'none';\n",
              "\n",
              "      async function convertToInteractive(key) {\n",
              "        const element = document.querySelector('#df-d985776e-186e-4f41-8fe3-211e38c236d1');\n",
              "        const dataTable =\n",
              "          await google.colab.kernel.invokeFunction('convertToInteractive',\n",
              "                                                    [key], {});\n",
              "        if (!dataTable) return;\n",
              "\n",
              "        const docLinkHtml = 'Like what you see? Visit the ' +\n",
              "          '<a target=\"_blank\" href=https://colab.research.google.com/notebooks/data_table.ipynb>data table notebook</a>'\n",
              "          + ' to learn more about interactive tables.';\n",
              "        element.innerHTML = '';\n",
              "        dataTable['output_type'] = 'display_data';\n",
              "        await google.colab.output.renderOutput(dataTable, element);\n",
              "        const docLink = document.createElement('div');\n",
              "        docLink.innerHTML = docLinkHtml;\n",
              "        element.appendChild(docLink);\n",
              "      }\n",
              "    </script>\n",
              "  </div>\n",
              "\n",
              "    </div>\n",
              "  </div>\n"
            ]
          },
          "metadata": {},
          "execution_count": 3
        }
      ]
    },
    {
      "cell_type": "code",
      "source": [
        "X = study.columns.values.tolist()\n",
        "X"
      ],
      "metadata": {
        "colab": {
          "base_uri": "https://localhost:8080/"
        },
        "id": "iWPFSiMdKeBC",
        "outputId": "78913f08-abde-4e7f-9c37-1657bde18c4a"
      },
      "execution_count": 4,
      "outputs": [
        {
          "output_type": "execute_result",
          "data": {
            "text/plain": [
              "['NCT Number',\n",
              " 'Study Title',\n",
              " 'Study URL',\n",
              " 'Acronym',\n",
              " 'Study Status',\n",
              " 'Brief Summary',\n",
              " 'Study Results',\n",
              " 'Conditions',\n",
              " 'Interventions',\n",
              " 'Primary Outcome Measures',\n",
              " 'Secondary Outcome Measures',\n",
              " 'Other Outcome Measures',\n",
              " 'Sponsor',\n",
              " 'Collaborators',\n",
              " 'Sex',\n",
              " 'Age',\n",
              " 'Phases',\n",
              " 'Enrollment',\n",
              " 'Funder Type',\n",
              " 'Study Type',\n",
              " 'Study Design',\n",
              " 'Other IDs',\n",
              " 'Start Date',\n",
              " 'Primary Completion Date',\n",
              " 'Completion Date',\n",
              " 'First Posted',\n",
              " 'Results First Posted',\n",
              " 'Last Update Posted',\n",
              " 'Locations',\n",
              " 'Study Documents']"
            ]
          },
          "metadata": {},
          "execution_count": 4
        }
      ]
    },
    {
      "cell_type": "code",
      "source": [
        "X_rus = pd.DataFrame(columns=['Номер исследования',\n",
        "                              'Наименование исследования',\n",
        "                              'Cсылка на первоисточник',\n",
        "                              'Сокращение',\n",
        "                              'Стадия исследования',\n",
        "                              'Краткое резюме',\n",
        "                              'Результаты исследования',\n",
        "                              'Условия',\n",
        "                              'Вмешательства',\n",
        "                              'Первичные результаты',\n",
        "                              'Вторичные результаты',\n",
        "                              'Другие рзультаты',\n",
        "                              'Спонсор (заказчик)',\n",
        "                              'Соавторы',\n",
        "                              'Пол',\n",
        "                              'Возраст',\n",
        "                              'Фазы исследования',\n",
        "                              'Регистрация',\n",
        "                              'Тип спонсора',\n",
        "                              'Тип исследования',\n",
        "                              'Дизайн исследования',\n",
        "                              'Идентефикаторы',\n",
        "                              'Дата начала',\n",
        "                              'Дата подведения предварительных итогов',\n",
        "                              'Дата подведения окончательных итогов',\n",
        "                              'Первое сообщение',\n",
        "                              'Результаты',\n",
        "                              'Последнее опубликованное сообщение',\n",
        "                              'Местоположение',\n",
        "                              'Документы по исследованию'])\n",
        "# X_rus"
      ],
      "metadata": {
        "id": "An1JJUVt05Ik"
      },
      "execution_count": 5,
      "outputs": []
    },
    {
      "cell_type": "code",
      "source": [
        "# study.to_dict('list')"
      ],
      "metadata": {
        "id": "yQksCAQU1qBe"
      },
      "execution_count": 6,
      "outputs": []
    },
    {
      "cell_type": "code",
      "source": [
        "X_rus.at [0, 'Номер исследования'] = 'NCT06083623'\n",
        "X_rus.at [0, 'Наименование исследования'] = 'Испытание по оценке эффективности и безопасности TNM001 для профилактики инфекций нижних дыхательных путей, вызванных респираторно-синцитиальным вирусом, у младенцев'\n",
        "X_rus.at [0, 'Cсылка на первоисточник'] = 'https://clinicaltrials.gov/study/NCT06083623'\n",
        "X_rus.at [0, 'Стадия исследования'] = 'Пока не набран материал'\n",
        "X_rus.at [0, 'Краткое резюме'] = 'Цель этого исследования — оценить эффективность, безопасность, фармакокинетику (ФК), реакцию нейтрализующих антител и антилекарственных антител (ADA) на TNM001 у младенцев, вступающих в первый сезон RSV.'\n",
        "X_rus.at [0, 'Результаты исследования'] = 'No'\n",
        "X_rus.at [0, 'Условия'] = 'Респираторно-синцитиальные вирусные инфекции'\n",
        "X_rus.at [0, 'Вмешательства'] = 'БИОЛОГИЧЕСКИЙ: TNM001|БИОЛОГИЧЕСКИЙ: плацебо'\n",
        "X_rus.at [0, 'Первичные результаты'] = 'Частота случаев Инфекции Нижних Дыхательных Путей, требующих медицинского вмешательства, вследствие Бронхиолита, подтвержденного ПЦР, через 150 дней после введения дозы'\n",
        "X_rus.at [0, 'Вторичные результаты'] = 'Частота госпитализаций в связи с подтвержденным ПЦР риносинтициального вируса дыхательных путей, через 150 дней после введения | Возникновение нежелательных явлений (НЯ), через 240 дней после введения | Изменение температуры тела (по Цельсию), через 240 дней после введения | Изменение артериального давления (мм рт. ст.) , через 240 дней после введения дозы | Изменение частоты сердечных сокращений (ударов в минуту), через 240 дней после введения дозы | Изменение частоты дыхания (дыханий в минуту), через 240 дней после введения дозы | Число субъектов с клинически значимыми отклонениями при физикальном обследовании, через 240 дней после введения дозы доза | Концентрация однократной дозы TNM001 в сыворотке в заранее определенные моменты времени, через 240 дней после введения | Уровень нейтрализующих антител к RSV (РеспироаторноСентициальному вирусу) в сыворотке, через 240 дней после введения дозы | Положительный уровень антилекарственных антител (ADA) к TNM001 в сыворотке, через 240 дней после введения доза'\n",
        "X_rus.at [0, 'Другие рзультаты'] = None\n",
        "X_rus.at [0, 'Спонсор (заказчик)'] = 'Zhuhai Trinomab Pharmaceutical Co., Ltd.'\n",
        "X_rus.at [0, 'Пол'] = 'Любой'\n",
        "X_rus.at [0, 'Возраст'] = 'CHILD - NB! Вообще интерес представляют дети до 2 - 3 лет'\n",
        "X_rus.at [0, 'Фазы исследования'] = 'PHASE2|PHASE3'\n",
        "X_rus.at [0, 'Регистрация'] = 2250\n",
        "X_rus.at [0, 'Тип спонсора'] = 'INDUSTRY - скорее производитель'\n",
        "X_rus.at [0, 'Тип исследования'] = 'INTERVENTIONAL'\n",
        "X_rus.at [0, 'Дизайн исследования'] = 'Распределение: СЛУЧАЙНОЕ|Модель вмешательства: ПАРАЛЛЕЛЬНОЕ|Маскирование: ЧЕТЫРЕХОДНОЕ (УЧАСТНИК, ПОСТАВЩИК_ПОМОЩИ, ИССЛЕДОВАТЕЛЬ, ОЦЕНЧИК РЕЗУЛЬТАТОВ)|Основная цель: ПРЕДУПРЕЖДЕНИЕ'\n",
        "X_rus.at [0, 'Идентефикаторы'] = 'TNM001-301|CTR20232792'\n",
        "X_rus.at [0, 'Дата начала'] = '2023-10-06'\n",
        "X_rus.at [0, 'Дата подведения предварительных итогов'] = '2026-05-31'\n",
        "X_rus.at [0, 'Дата подведения окончательных итогов'] = '2026-08-31'\n",
        "X_rus.at [0, 'Первое сообщение'] = '2023-10-16'\n",
        "X_rus.at [0, 'Результаты'] = None\n",
        "X_rus.at [0, 'Последнее опубликованное сообщение'] = '2023-10-16'\n",
        "X_rus.at [0, 'Местоположение'] = \"Peking University Third Hospital, Beijing, Beijing, 100000, China|Children's Hospital Capital Institute Pediatrics, Beijing, Beijing, 100020, China|Jiangjin Central Hospital, Chongqing, Chongqing, 400000, China|Xiamen maternal and Child Health Hospital, Xiamen, Fujian, 361003, China|The Third Affiliated Hospital of Guangzhou Medical University, Guangdong, Guangdong, 510150, China|Guangdong Maternal and Child Health Care Hospital, Guangzhou, Guangdong, 511442, China|University of Chinese Academy of Sciense Shenzhen Hospital, Shenzhen, Guangdong, 518000, China|Affiliated Hospital of Guilin Medical University, Guilin, Guangxi, 541001, China|LiuZhou People's Hospital, Liuzhou, Guangxi, 545006, China|Maternity and Child Health Care of Guangxi Zhuang Autonomous Region, Nanning, Guangxi, 530002, China|HaiNan Women and Children's Medical Center, Haikou, Hainan, 570312, China|Hebei Petro China Central Hospital, Langfang, Hebei, 065000, China|The Fourth Hospital of Hebei Medical University, Shijia Zhuang, Hebei, 050000, China|The Second Hospital of HeBei Medical University (HBMU), Shijia Zhuang, Hebei, 050000, China|Tangshan Maternal and Child Health Hospitaltangshan Maternal and Child Health Hospital, Tangshan, Hebei, 063000, China|Sanmenxia Central Hospital, Sanmenxia, Henan, 472000, China|Xinxiang First People's Hospital, Xinxiang, Henan, 453000, China|Henan (Zhengzhou) Children's Hospital, Zhengzhou, Henan, 450052, China|Renmin Hospital of Wuhan University, Wuhan, Hubei, 430060, China|The Central Hospital of Wuhan, Wuhan, Hubei, 430060, China|The First People'S Hospital of Changde City, Changde, Hunan, 415000, China|The Maternal and Child Health Hospital of Hunan Province, Changsha, Hunan, 410008, China|Xiangya Hospital Central South University, Changsha, Hunan, 410008, China|The Third Xiangya Hospital of Central South University, Changsha, Hunan, 410013, China|The Second Hospital University of South China, Hengyang, Hunan, 421001, China|Loudi Central Hospital, Loudi, Hunan, 417099, China|The First Affiliated Hospital of Shaoyang University, Shaoyang, Hunan, 422000, China|Jiangxi Maternal and Child Health Hospital, Nanchang, Jiangxi, 330000, China|Children's Hospital Affiliated to Shandong University, Jinan, Shandong, 250022, China|The affiliated children'shospital fudan university, Shanghai, Shanghai, 201102, China|Linfen Central Hospital, Linfen, Shanxi, 041000, China|Linfen People's Hospital, Linfen, Shanxi, 041000, China|Yuncheng Central Hospital, Yuncheng, Shanxi, 044000, China|Chengdu Women's and Children's Central Hospital, Chengdu, Sichuan, 610000, China|West China Second University Hospital, Sichuan University, Chengdu, Sichuan, 610000, China|Children's Hospital of Chongqing Medical University, Chongqing, Sichuan, 404100, China|Mianyang Peoples Hospital, Mianyang, Sichuan, 621000, China|Affiliated Hangzhou First People's Hospital, Zhejiang University School of Medicine/Hangzhou First People's Hospital, Hangzhou, Zhejiang, 310006, China|Ningbo Women&Children's Hospital, Ningbo, Zhejiang, 315012, China\"\n",
        "X_rus.at [0, 'Документы по исследованию'] = None"
      ],
      "metadata": {
        "id": "zphVL2wS1oN2"
      },
      "execution_count": 7,
      "outputs": []
    },
    {
      "cell_type": "code",
      "source": [
        "X_rus.to_dict('list')"
      ],
      "metadata": {
        "id": "Bx9aM4I73clB",
        "outputId": "0da241a5-831e-441f-c828-88a363bef857",
        "colab": {
          "base_uri": "https://localhost:8080/"
        }
      },
      "execution_count": 8,
      "outputs": [
        {
          "output_type": "execute_result",
          "data": {
            "text/plain": [
              "{'Номер исследования': ['NCT06083623'],\n",
              " 'Наименование исследования': ['Испытание по оценке эффективности и безопасности TNM001 для профилактики инфекций нижних дыхательных путей, вызванных респираторно-синцитиальным вирусом, у младенцев'],\n",
              " 'Cсылка на первоисточник': ['https://clinicaltrials.gov/study/NCT06083623'],\n",
              " 'Сокращение': [nan],\n",
              " 'Стадия исследования': ['Пока не набран материал'],\n",
              " 'Краткое резюме': ['Цель этого исследования — оценить эффективность, безопасность, фармакокинетику (ФК), реакцию нейтрализующих антител и антилекарственных антител (ADA) на TNM001 у младенцев, вступающих в первый сезон RSV.'],\n",
              " 'Результаты исследования': ['No'],\n",
              " 'Условия': ['Респираторно-синцитиальные вирусные инфекции'],\n",
              " 'Вмешательства': ['БИОЛОГИЧЕСКИЙ: TNM001|БИОЛОГИЧЕСКИЙ: плацебо'],\n",
              " 'Первичные результаты': ['Частота случаев Инфекции Нижних Дыхательных Путей, требующих медицинского вмешательства, вследствие Бронхиолита, подтвержденного ПЦР, через 150 дней после введения дозы'],\n",
              " 'Вторичные результаты': ['Частота госпитализаций в связи с подтвержденным ПЦР риносинтициального вируса дыхательных путей, через 150 дней после введения | Возникновение нежелательных явлений (НЯ), через 240 дней после введения | Изменение температуры тела (по Цельсию), через 240 дней после введения | Изменение артериального давления (мм рт. ст.) , через 240 дней после введения дозы | Изменение частоты сердечных сокращений (ударов в минуту), через 240 дней после введения дозы | Изменение частоты дыхания (дыханий в минуту), через 240 дней после введения дозы | Число субъектов с клинически значимыми отклонениями при физикальном обследовании, через 240 дней после введения дозы доза | Концентрация однократной дозы TNM001 в сыворотке в заранее определенные моменты времени, через 240 дней после введения | Уровень нейтрализующих антител к RSV (РеспироаторноСентициальному вирусу) в сыворотке, через 240 дней после введения дозы | Положительный уровень антилекарственных антител (ADA) к TNM001 в сыворотке, через 240 дней после введения доза'],\n",
              " 'Другие рзультаты': [None],\n",
              " 'Спонсор (заказчик)': ['Zhuhai Trinomab Pharmaceutical Co., Ltd.'],\n",
              " 'Соавторы': [nan],\n",
              " 'Пол': ['Любой'],\n",
              " 'Возраст': ['CHILD - NB! Вообще интерес представляют дети до 2 - 3 лет'],\n",
              " 'Фазы исследования': ['PHASE2|PHASE3'],\n",
              " 'Регистрация': [2250],\n",
              " 'Тип спонсора': ['INDUSTRY - скорее производитель'],\n",
              " 'Тип исследования': ['INTERVENTIONAL'],\n",
              " 'Дизайн исследования': ['Распределение: СЛУЧАЙНОЕ|Модель вмешательства: ПАРАЛЛЕЛЬНОЕ|Маскирование: ЧЕТЫРЕХОДНОЕ (УЧАСТНИК, ПОСТАВЩИК_ПОМОЩИ, ИССЛЕДОВАТЕЛЬ, ОЦЕНЧИК РЕЗУЛЬТАТОВ)|Основная цель: ПРЕДУПРЕЖДЕНИЕ'],\n",
              " 'Идентефикаторы': ['TNM001-301|CTR20232792'],\n",
              " 'Дата начала': ['2023-10-06'],\n",
              " 'Дата подведения предварительных итогов': ['2026-05-31'],\n",
              " 'Дата подведения окончательных итогов': ['2026-08-31'],\n",
              " 'Первое сообщение': ['2023-10-16'],\n",
              " 'Результаты': [None],\n",
              " 'Последнее опубликованное сообщение': ['2023-10-16'],\n",
              " 'Местоположение': [\"Peking University Third Hospital, Beijing, Beijing, 100000, China|Children's Hospital Capital Institute Pediatrics, Beijing, Beijing, 100020, China|Jiangjin Central Hospital, Chongqing, Chongqing, 400000, China|Xiamen maternal and Child Health Hospital, Xiamen, Fujian, 361003, China|The Third Affiliated Hospital of Guangzhou Medical University, Guangdong, Guangdong, 510150, China|Guangdong Maternal and Child Health Care Hospital, Guangzhou, Guangdong, 511442, China|University of Chinese Academy of Sciense Shenzhen Hospital, Shenzhen, Guangdong, 518000, China|Affiliated Hospital of Guilin Medical University, Guilin, Guangxi, 541001, China|LiuZhou People's Hospital, Liuzhou, Guangxi, 545006, China|Maternity and Child Health Care of Guangxi Zhuang Autonomous Region, Nanning, Guangxi, 530002, China|HaiNan Women and Children's Medical Center, Haikou, Hainan, 570312, China|Hebei Petro China Central Hospital, Langfang, Hebei, 065000, China|The Fourth Hospital of Hebei Medical University, Shijia Zhuang, Hebei, 050000, China|The Second Hospital of HeBei Medical University (HBMU), Shijia Zhuang, Hebei, 050000, China|Tangshan Maternal and Child Health Hospitaltangshan Maternal and Child Health Hospital, Tangshan, Hebei, 063000, China|Sanmenxia Central Hospital, Sanmenxia, Henan, 472000, China|Xinxiang First People's Hospital, Xinxiang, Henan, 453000, China|Henan (Zhengzhou) Children's Hospital, Zhengzhou, Henan, 450052, China|Renmin Hospital of Wuhan University, Wuhan, Hubei, 430060, China|The Central Hospital of Wuhan, Wuhan, Hubei, 430060, China|The First People'S Hospital of Changde City, Changde, Hunan, 415000, China|The Maternal and Child Health Hospital of Hunan Province, Changsha, Hunan, 410008, China|Xiangya Hospital Central South University, Changsha, Hunan, 410008, China|The Third Xiangya Hospital of Central South University, Changsha, Hunan, 410013, China|The Second Hospital University of South China, Hengyang, Hunan, 421001, China|Loudi Central Hospital, Loudi, Hunan, 417099, China|The First Affiliated Hospital of Shaoyang University, Shaoyang, Hunan, 422000, China|Jiangxi Maternal and Child Health Hospital, Nanchang, Jiangxi, 330000, China|Children's Hospital Affiliated to Shandong University, Jinan, Shandong, 250022, China|The affiliated children'shospital fudan university, Shanghai, Shanghai, 201102, China|Linfen Central Hospital, Linfen, Shanxi, 041000, China|Linfen People's Hospital, Linfen, Shanxi, 041000, China|Yuncheng Central Hospital, Yuncheng, Shanxi, 044000, China|Chengdu Women's and Children's Central Hospital, Chengdu, Sichuan, 610000, China|West China Second University Hospital, Sichuan University, Chengdu, Sichuan, 610000, China|Children's Hospital of Chongqing Medical University, Chongqing, Sichuan, 404100, China|Mianyang Peoples Hospital, Mianyang, Sichuan, 621000, China|Affiliated Hangzhou First People's Hospital, Zhejiang University School of Medicine/Hangzhou First People's Hospital, Hangzhou, Zhejiang, 310006, China|Ningbo Women&Children's Hospital, Ningbo, Zhejiang, 315012, China\"],\n",
              " 'Документы по исследованию': [None]}"
            ]
          },
          "metadata": {},
          "execution_count": 8
        }
      ]
    },
    {
      "cell_type": "markdown",
      "source": [
        "#Заключение:\n",
        "##К сожалению я сразу не изучил документ, мне было просто интересно это исследование. Потому что я неоднократно сталкивался с грудничками в стационаре. Течение бронхиолита всегда стресс для ребенка и его лечащего врача. Приступы спонтанны, венозный доступ затруднен, увлажненного килорода (есть сухой, который вызывает пересыхание слизистых).\n",
        "Зато заморочился с переводом.\n",
        "### Данное исследование проводится в данный момент объявлены Вид и план исследования. Начинается сбор материала."
      ],
      "metadata": {
        "id": "EN6AEfjEYwbG"
      }
    }
  ]
}