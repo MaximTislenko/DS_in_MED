{
  "nbformat": 4,
  "nbformat_minor": 0,
  "metadata": {
    "colab": {
      "provenance": [],
      "authorship_tag": "ABX9TyOR36a4xv2//wL1XadOKr+3",
      "include_colab_link": true
    },
    "kernelspec": {
      "name": "python3",
      "display_name": "Python 3"
    },
    "language_info": {
      "name": "python"
    }
  },
  "cells": [
    {
      "cell_type": "markdown",
      "metadata": {
        "id": "view-in-github",
        "colab_type": "text"
      },
      "source": [
        "<a href=\"https://colab.research.google.com/github/MaximTislenko/DS_in_MED/blob/main/Less_04/Less_04_05.ipynb\" target=\"_parent\"><img src=\"https://colab.research.google.com/assets/colab-badge.svg\" alt=\"Open In Colab\"/></a>"
      ]
    },
    {
      "cell_type": "code",
      "execution_count": 1,
      "metadata": {
        "colab": {
          "base_uri": "https://localhost:8080/"
        },
        "id": "LfZnnmLU7VRJ",
        "outputId": "3a0e4ce2-dafb-474b-936d-26aeba526140"
      },
      "outputs": [
        {
          "output_type": "stream",
          "name": "stdout",
          "text": [
            "Collecting translate\n",
            "  Downloading translate-3.6.1-py2.py3-none-any.whl (12 kB)\n",
            "Requirement already satisfied: click in /usr/local/lib/python3.10/dist-packages (from translate) (8.1.7)\n",
            "Requirement already satisfied: lxml in /usr/local/lib/python3.10/dist-packages (from translate) (4.9.3)\n",
            "Requirement already satisfied: requests in /usr/local/lib/python3.10/dist-packages (from translate) (2.31.0)\n",
            "Collecting libretranslatepy==2.1.1 (from translate)\n",
            "  Downloading libretranslatepy-2.1.1-py3-none-any.whl (3.2 kB)\n",
            "Requirement already satisfied: charset-normalizer<4,>=2 in /usr/local/lib/python3.10/dist-packages (from requests->translate) (3.3.0)\n",
            "Requirement already satisfied: idna<4,>=2.5 in /usr/local/lib/python3.10/dist-packages (from requests->translate) (3.4)\n",
            "Requirement already satisfied: urllib3<3,>=1.21.1 in /usr/local/lib/python3.10/dist-packages (from requests->translate) (2.0.6)\n",
            "Requirement already satisfied: certifi>=2017.4.17 in /usr/local/lib/python3.10/dist-packages (from requests->translate) (2023.7.22)\n",
            "Installing collected packages: libretranslatepy, translate\n",
            "Successfully installed libretranslatepy-2.1.1 translate-3.6.1\n"
          ]
        }
      ],
      "source": [
        "!pip install translate"
      ]
    },
    {
      "cell_type": "code",
      "source": [
        "from translate import Translator\n",
        "import os\n",
        "import pandas as pd\n",
        "import numpy as np"
      ],
      "metadata": {
        "id": "kSOzlEoe7srZ"
      },
      "execution_count": 2,
      "outputs": []
    },
    {
      "cell_type": "code",
      "source": [
        "!wget https://raw.githubusercontent.com/MaximTislenko/DS_in_MED/main/Less_04/NCT06083623.csv"
      ],
      "metadata": {
        "colab": {
          "base_uri": "https://localhost:8080/"
        },
        "id": "VBHb1L8OEubh",
        "outputId": "18e03f1d-8371-40d6-f5c9-e71b911b3090"
      },
      "execution_count": 3,
      "outputs": [
        {
          "output_type": "stream",
          "name": "stdout",
          "text": [
            "--2023-10-19 05:09:39--  https://raw.githubusercontent.com/MaximTislenko/DS_in_MED/main/Less_04/NCT06083623.csv\n",
            "Resolving raw.githubusercontent.com (raw.githubusercontent.com)... 185.199.108.133, 185.199.109.133, 185.199.110.133, ...\n",
            "Connecting to raw.githubusercontent.com (raw.githubusercontent.com)|185.199.108.133|:443... connected.\n",
            "HTTP request sent, awaiting response... 200 OK\n",
            "Length: 5126 (5.0K) [text/plain]\n",
            "Saving to: ‘NCT06083623.csv’\n",
            "\n",
            "\rNCT06083623.csv       0%[                    ]       0  --.-KB/s               \rNCT06083623.csv     100%[===================>]   5.01K  --.-KB/s    in 0s      \n",
            "\n",
            "2023-10-19 05:09:39 (59.3 MB/s) - ‘NCT06083623.csv’ saved [5126/5126]\n",
            "\n"
          ]
        }
      ]
    },
    {
      "cell_type": "code",
      "source": [
        "study = pd.read_csv('/content/NCT06083623.csv')\n",
        "study"
      ],
      "metadata": {
        "colab": {
          "base_uri": "https://localhost:8080/",
          "height": 269
        },
        "id": "tPwwBoT0Ezag",
        "outputId": "6d18cf4f-63ee-4d4f-cdfb-5c0ca1a0806f"
      },
      "execution_count": 4,
      "outputs": [
        {
          "output_type": "execute_result",
          "data": {
            "text/plain": [
              "    NCT Number                                        Study Title  \\\n",
              "0  NCT06083623  A Trial to Evaluate the Efficacy and Safety of...   \n",
              "\n",
              "                                      Study URL  Acronym        Study Status  \\\n",
              "0  https://clinicaltrials.gov/study/NCT06083623      NaN  NOT_YET_RECRUITING   \n",
              "\n",
              "                                       Brief Summary Study Results  \\\n",
              "0  The purpose of this study is to evaluate the e...            NO   \n",
              "\n",
              "                               Conditions  \\\n",
              "0  Respiratory Syncytial Virus Infections   \n",
              "\n",
              "                            Interventions  \\\n",
              "0  BIOLOGICAL: TNM001|BIOLOGICAL: placebo   \n",
              "\n",
              "                            Primary Outcome Measures  ...  \\\n",
              "0  Incidence of medically attended LRTI due to RT...  ...   \n",
              "\n",
              "                                        Study Design               Other IDs  \\\n",
              "0  Allocation: RANDOMIZED|Intervention Model: PAR...  TNM001-301|CTR20232792   \n",
              "\n",
              "   Start Date  Primary Completion Date Completion Date First Posted  \\\n",
              "0  2023-10-06               2026-05-31      2026-08-31   2023-10-16   \n",
              "\n",
              "  Results First Posted  Last Update Posted  \\\n",
              "0                  NaN          2023-10-16   \n",
              "\n",
              "                                           Locations Study Documents  \n",
              "0  Peking University Third Hospital, Beijing, Bei...             NaN  \n",
              "\n",
              "[1 rows x 30 columns]"
            ],
            "text/html": [
              "\n",
              "  <div id=\"df-c19cf382-0d4b-4ca8-a372-22469d94cf98\" class=\"colab-df-container\">\n",
              "    <div>\n",
              "<style scoped>\n",
              "    .dataframe tbody tr th:only-of-type {\n",
              "        vertical-align: middle;\n",
              "    }\n",
              "\n",
              "    .dataframe tbody tr th {\n",
              "        vertical-align: top;\n",
              "    }\n",
              "\n",
              "    .dataframe thead th {\n",
              "        text-align: right;\n",
              "    }\n",
              "</style>\n",
              "<table border=\"1\" class=\"dataframe\">\n",
              "  <thead>\n",
              "    <tr style=\"text-align: right;\">\n",
              "      <th></th>\n",
              "      <th>NCT Number</th>\n",
              "      <th>Study Title</th>\n",
              "      <th>Study URL</th>\n",
              "      <th>Acronym</th>\n",
              "      <th>Study Status</th>\n",
              "      <th>Brief Summary</th>\n",
              "      <th>Study Results</th>\n",
              "      <th>Conditions</th>\n",
              "      <th>Interventions</th>\n",
              "      <th>Primary Outcome Measures</th>\n",
              "      <th>...</th>\n",
              "      <th>Study Design</th>\n",
              "      <th>Other IDs</th>\n",
              "      <th>Start Date</th>\n",
              "      <th>Primary Completion Date</th>\n",
              "      <th>Completion Date</th>\n",
              "      <th>First Posted</th>\n",
              "      <th>Results First Posted</th>\n",
              "      <th>Last Update Posted</th>\n",
              "      <th>Locations</th>\n",
              "      <th>Study Documents</th>\n",
              "    </tr>\n",
              "  </thead>\n",
              "  <tbody>\n",
              "    <tr>\n",
              "      <th>0</th>\n",
              "      <td>NCT06083623</td>\n",
              "      <td>A Trial to Evaluate the Efficacy and Safety of...</td>\n",
              "      <td>https://clinicaltrials.gov/study/NCT06083623</td>\n",
              "      <td>NaN</td>\n",
              "      <td>NOT_YET_RECRUITING</td>\n",
              "      <td>The purpose of this study is to evaluate the e...</td>\n",
              "      <td>NO</td>\n",
              "      <td>Respiratory Syncytial Virus Infections</td>\n",
              "      <td>BIOLOGICAL: TNM001|BIOLOGICAL: placebo</td>\n",
              "      <td>Incidence of medically attended LRTI due to RT...</td>\n",
              "      <td>...</td>\n",
              "      <td>Allocation: RANDOMIZED|Intervention Model: PAR...</td>\n",
              "      <td>TNM001-301|CTR20232792</td>\n",
              "      <td>2023-10-06</td>\n",
              "      <td>2026-05-31</td>\n",
              "      <td>2026-08-31</td>\n",
              "      <td>2023-10-16</td>\n",
              "      <td>NaN</td>\n",
              "      <td>2023-10-16</td>\n",
              "      <td>Peking University Third Hospital, Beijing, Bei...</td>\n",
              "      <td>NaN</td>\n",
              "    </tr>\n",
              "  </tbody>\n",
              "</table>\n",
              "<p>1 rows × 30 columns</p>\n",
              "</div>\n",
              "    <div class=\"colab-df-buttons\">\n",
              "\n",
              "  <div class=\"colab-df-container\">\n",
              "    <button class=\"colab-df-convert\" onclick=\"convertToInteractive('df-c19cf382-0d4b-4ca8-a372-22469d94cf98')\"\n",
              "            title=\"Convert this dataframe to an interactive table.\"\n",
              "            style=\"display:none;\">\n",
              "\n",
              "  <svg xmlns=\"http://www.w3.org/2000/svg\" height=\"24px\" viewBox=\"0 -960 960 960\">\n",
              "    <path d=\"M120-120v-720h720v720H120Zm60-500h600v-160H180v160Zm220 220h160v-160H400v160Zm0 220h160v-160H400v160ZM180-400h160v-160H180v160Zm440 0h160v-160H620v160ZM180-180h160v-160H180v160Zm440 0h160v-160H620v160Z\"/>\n",
              "  </svg>\n",
              "    </button>\n",
              "\n",
              "  <style>\n",
              "    .colab-df-container {\n",
              "      display:flex;\n",
              "      gap: 12px;\n",
              "    }\n",
              "\n",
              "    .colab-df-convert {\n",
              "      background-color: #E8F0FE;\n",
              "      border: none;\n",
              "      border-radius: 50%;\n",
              "      cursor: pointer;\n",
              "      display: none;\n",
              "      fill: #1967D2;\n",
              "      height: 32px;\n",
              "      padding: 0 0 0 0;\n",
              "      width: 32px;\n",
              "    }\n",
              "\n",
              "    .colab-df-convert:hover {\n",
              "      background-color: #E2EBFA;\n",
              "      box-shadow: 0px 1px 2px rgba(60, 64, 67, 0.3), 0px 1px 3px 1px rgba(60, 64, 67, 0.15);\n",
              "      fill: #174EA6;\n",
              "    }\n",
              "\n",
              "    .colab-df-buttons div {\n",
              "      margin-bottom: 4px;\n",
              "    }\n",
              "\n",
              "    [theme=dark] .colab-df-convert {\n",
              "      background-color: #3B4455;\n",
              "      fill: #D2E3FC;\n",
              "    }\n",
              "\n",
              "    [theme=dark] .colab-df-convert:hover {\n",
              "      background-color: #434B5C;\n",
              "      box-shadow: 0px 1px 3px 1px rgba(0, 0, 0, 0.15);\n",
              "      filter: drop-shadow(0px 1px 2px rgba(0, 0, 0, 0.3));\n",
              "      fill: #FFFFFF;\n",
              "    }\n",
              "  </style>\n",
              "\n",
              "    <script>\n",
              "      const buttonEl =\n",
              "        document.querySelector('#df-c19cf382-0d4b-4ca8-a372-22469d94cf98 button.colab-df-convert');\n",
              "      buttonEl.style.display =\n",
              "        google.colab.kernel.accessAllowed ? 'block' : 'none';\n",
              "\n",
              "      async function convertToInteractive(key) {\n",
              "        const element = document.querySelector('#df-c19cf382-0d4b-4ca8-a372-22469d94cf98');\n",
              "        const dataTable =\n",
              "          await google.colab.kernel.invokeFunction('convertToInteractive',\n",
              "                                                    [key], {});\n",
              "        if (!dataTable) return;\n",
              "\n",
              "        const docLinkHtml = 'Like what you see? Visit the ' +\n",
              "          '<a target=\"_blank\" href=https://colab.research.google.com/notebooks/data_table.ipynb>data table notebook</a>'\n",
              "          + ' to learn more about interactive tables.';\n",
              "        element.innerHTML = '';\n",
              "        dataTable['output_type'] = 'display_data';\n",
              "        await google.colab.output.renderOutput(dataTable, element);\n",
              "        const docLink = document.createElement('div');\n",
              "        docLink.innerHTML = docLinkHtml;\n",
              "        element.appendChild(docLink);\n",
              "      }\n",
              "    </script>\n",
              "  </div>\n",
              "\n",
              "    </div>\n",
              "  </div>\n"
            ]
          },
          "metadata": {},
          "execution_count": 4
        }
      ]
    },
    {
      "cell_type": "code",
      "source": [
        "X = study.columns.values.tolist()\n",
        "type(X)"
      ],
      "metadata": {
        "colab": {
          "base_uri": "https://localhost:8080/"
        },
        "id": "iWPFSiMdKeBC",
        "outputId": "ae798f72-13c8-4d8b-b790-74942bbd069a"
      },
      "execution_count": 5,
      "outputs": [
        {
          "output_type": "execute_result",
          "data": {
            "text/plain": [
              "list"
            ]
          },
          "metadata": {},
          "execution_count": 5
        }
      ]
    },
    {
      "cell_type": "code",
      "source": [
        "translator = Translator(from_lang=\"English\",to_lang=\"russian\")"
      ],
      "metadata": {
        "id": "HD5ENtiK7w4_"
      },
      "execution_count": 6,
      "outputs": []
    },
    {
      "cell_type": "code",
      "source": [
        "X[0]"
      ],
      "metadata": {
        "colab": {
          "base_uri": "https://localhost:8080/",
          "height": 35
        },
        "id": "R6VwjvXAL1ch",
        "outputId": "0ad31c5c-cd77-4471-9edd-cb8da919101b"
      },
      "execution_count": 7,
      "outputs": [
        {
          "output_type": "execute_result",
          "data": {
            "text/plain": [
              "'NCT Number'"
            ],
            "application/vnd.google.colaboratory.intrinsic+json": {
              "type": "string"
            }
          },
          "metadata": {},
          "execution_count": 7
        }
      ]
    },
    {
      "cell_type": "code",
      "source": [
        "list_Eng = X\n",
        "list_Rus = translator.translate(X[4])\n",
        "print(list_Rus)"
      ],
      "metadata": {
        "colab": {
          "base_uri": "https://localhost:8080/"
        },
        "id": "POJvYqc0KrT5",
        "outputId": "7c90aa93-349e-4133-98df-3528f9b95d77"
      },
      "execution_count": 8,
      "outputs": [
        {
          "output_type": "stream",
          "name": "stdout",
          "text": [
            "Статус исследования\n"
          ]
        }
      ]
    },
    {
      "cell_type": "code",
      "source": [
        "X_Rus = []\n",
        "for i in range(0, len(X)):\n",
        "  text_Rus = translator.translate(X[i])\n",
        "  X_Rus.append(text_Rus)\n",
        "print(X_Rus)\n"
      ],
      "metadata": {
        "colab": {
          "base_uri": "https://localhost:8080/"
        },
        "id": "zYqrFn2gNIJS",
        "outputId": "392dde95-8a53-4121-a33f-c43adaac576b"
      },
      "execution_count": 38,
      "outputs": [
        {
          "output_type": "stream",
          "name": "stdout",
          "text": [
            "['Номер NCT:<g id=\"1\">\\t</g>156967', 'Название исследования', 'URL', 'Сокращение', 'Статус исследования', 'Краткое резюме', 'Результаты исследования', 'Условия', 'Меры воздействия', 'Основные критерии оценки эффективности:', 'Вспомогательные критерии оценки эффективности:', 'Оценка исхода', 'Заказчик клинического исследования', 'Соисполнители', 'Пол', 'Возраст', 'Фазы', 'Регистрация', 'Финансирующая сторона', 'Тип исследования', 'План исследования', '<x id=\"1\"/>Другое', 'Дата начала', 'Первичный срок выполнения', 'Дата выполнения', 'Первое сообщение', 'Первое сообщение', 'Обновление опубликовано.', 'Локации', 'Первичная документация по исследованию']\n"
          ]
        }
      ]
    },
    {
      "cell_type": "code",
      "source": [
        "X"
      ],
      "metadata": {
        "colab": {
          "base_uri": "https://localhost:8080/"
        },
        "id": "BSrwaiUs5Na6",
        "outputId": "94b30455-f15c-43ef-ed9c-fe2ae1d23cb4"
      },
      "execution_count": 13,
      "outputs": [
        {
          "output_type": "execute_result",
          "data": {
            "text/plain": [
              "['NCT Number',\n",
              " 'Study Title',\n",
              " 'Study URL',\n",
              " 'Acronym',\n",
              " 'Study Status',\n",
              " 'Brief Summary',\n",
              " 'Study Results',\n",
              " 'Conditions',\n",
              " 'Interventions',\n",
              " 'Primary Outcome Measures',\n",
              " 'Secondary Outcome Measures',\n",
              " 'Other Outcome Measures',\n",
              " 'Sponsor',\n",
              " 'Collaborators',\n",
              " 'Sex',\n",
              " 'Age',\n",
              " 'Phases',\n",
              " 'Enrollment',\n",
              " 'Funder Type',\n",
              " 'Study Type',\n",
              " 'Study Design',\n",
              " 'Other IDs',\n",
              " 'Start Date',\n",
              " 'Primary Completion Date',\n",
              " 'Completion Date',\n",
              " 'First Posted',\n",
              " 'Results First Posted',\n",
              " 'Last Update Posted',\n",
              " 'Locations',\n",
              " 'Study Documents']"
            ]
          },
          "metadata": {},
          "execution_count": 13
        }
      ]
    },
    {
      "cell_type": "code",
      "source": [
        "Z = study.values.tolist()\n",
        "# type(Z)\n",
        "list_eng = Z[0]\n",
        "list_eng"
      ],
      "metadata": {
        "id": "owBDC6NNzcUS",
        "outputId": "302ce506-3910-4659-808a-124ef2967944",
        "colab": {
          "base_uri": "https://localhost:8080/"
        }
      },
      "execution_count": 16,
      "outputs": [
        {
          "output_type": "execute_result",
          "data": {
            "text/plain": [
              "['NCT06083623',\n",
              " 'A Trial to Evaluate the Efficacy and Safety of TNM001 for the Prevention of Lower Respiratory Tract Infection Caused by Respiratory Syncytial Virus in Infants',\n",
              " 'https://clinicaltrials.gov/study/NCT06083623',\n",
              " nan,\n",
              " 'NOT_YET_RECRUITING',\n",
              " 'The purpose of this study is to evaluate the efficacy, safety, pharmacokinetics (PK), neutralizing antibody and antidrug antibody (ADA) response for TNM001 in infants entering their first RSV season.',\n",
              " 'NO',\n",
              " 'Respiratory Syncytial Virus Infections',\n",
              " 'BIOLOGICAL: TNM001|BIOLOGICAL: placebo',\n",
              " 'Incidence of medically attended LRTI due to RT-PCR confirmed RSV, 150 days post dose',\n",
              " 'Incidence of hospitalization due to RT-PCR confirmed RSV LRTI, 150 days post dose|Occurrence of adverse events (AEs), 240 days post dose|Change in body temperature (celsius), 240 days post dose|Change in blood pressure (mmHg), 240 days post dose|Change in heart rate (beats per minute), 240 days post dose|Change in respiratory rate (breaths per min), 240 days post dose|Number of subjects with clinical significant abnormality in physical examinations, 240 days post dose|Serum concentration of single dose TNM001 at pre-specified timepoints, 240 days post dose|Serum level of neutralizing antibody to RSV, 240 days post dose|Positive rate of anti-drug antibody (ADA) to TNM001 in serum, 240 days post dose',\n",
              " nan,\n",
              " 'Zhuhai Trinomab Pharmaceutical Co., Ltd.',\n",
              " nan,\n",
              " 'ALL',\n",
              " 'CHILD',\n",
              " 'PHASE2|PHASE3',\n",
              " 2250,\n",
              " 'INDUSTRY',\n",
              " 'INTERVENTIONAL',\n",
              " 'Allocation: RANDOMIZED|Intervention Model: PARALLEL|Masking: QUADRUPLE (PARTICIPANT, CARE_PROVIDER, INVESTIGATOR, OUTCOMES_ASSESSOR)|Primary Purpose: PREVENTION',\n",
              " 'TNM001-301|CTR20232792',\n",
              " '2023-10-06',\n",
              " '2026-05-31',\n",
              " '2026-08-31',\n",
              " '2023-10-16',\n",
              " nan,\n",
              " '2023-10-16',\n",
              " \"Peking University Third Hospital, Beijing, Beijing, 100000, China|Children's Hospital Capital Institute Pediatrics, Beijing, Beijing, 100020, China|Jiangjin Central Hospital, Chongqing, Chongqing, 400000, China|Xiamen maternal and Child Health Hospital, Xiamen, Fujian, 361003, China|The Third Affiliated Hospital of Guangzhou Medical University, Guangdong, Guangdong, 510150, China|Guangdong Maternal and Child Health Care Hospital, Guangzhou, Guangdong, 511442, China|University of Chinese Academy of Sciense Shenzhen Hospital, Shenzhen, Guangdong, 518000, China|Affiliated Hospital of Guilin Medical University, Guilin, Guangxi, 541001, China|LiuZhou People's Hospital, Liuzhou, Guangxi, 545006, China|Maternity and Child Health Care of Guangxi Zhuang Autonomous Region, Nanning, Guangxi, 530002, China|HaiNan Women and Children's Medical Center, Haikou, Hainan, 570312, China|Hebei Petro China Central Hospital, Langfang, Hebei, 065000, China|The Fourth Hospital of Hebei Medical University, Shijia Zhuang, Hebei, 050000, China|The Second Hospital of HeBei Medical University (HBMU), Shijia Zhuang, Hebei, 050000, China|Tangshan Maternal and Child Health Hospitaltangshan Maternal and Child Health Hospital, Tangshan, Hebei, 063000, China|Sanmenxia Central Hospital, Sanmenxia, Henan, 472000, China|Xinxiang First People's Hospital, Xinxiang, Henan, 453000, China|Henan (Zhengzhou) Children's Hospital, Zhengzhou, Henan, 450052, China|Renmin Hospital of Wuhan University, Wuhan, Hubei, 430060, China|The Central Hospital of Wuhan, Wuhan, Hubei, 430060, China|The First People'S Hospital of Changde City, Changde, Hunan, 415000, China|The Maternal and Child Health Hospital of Hunan Province, Changsha, Hunan, 410008, China|Xiangya Hospital Central South University, Changsha, Hunan, 410008, China|The Third Xiangya Hospital of Central South University, Changsha, Hunan, 410013, China|The Second Hospital University of South China, Hengyang, Hunan, 421001, China|Loudi Central Hospital, Loudi, Hunan, 417099, China|The First Affiliated Hospital of Shaoyang University, Shaoyang, Hunan, 422000, China|Jiangxi Maternal and Child Health Hospital, Nanchang, Jiangxi, 330000, China|Children's Hospital Affiliated to Shandong University, Jinan, Shandong, 250022, China|The affiliated children'shospital fudan university, Shanghai, Shanghai, 201102, China|Linfen Central Hospital, Linfen, Shanxi, 041000, China|Linfen People's Hospital, Linfen, Shanxi, 041000, China|Yuncheng Central Hospital, Yuncheng, Shanxi, 044000, China|Chengdu Women's and Children's Central Hospital, Chengdu, Sichuan, 610000, China|West China Second University Hospital, Sichuan University, Chengdu, Sichuan, 610000, China|Children's Hospital of Chongqing Medical University, Chongqing, Sichuan, 404100, China|Mianyang Peoples Hospital, Mianyang, Sichuan, 621000, China|Affiliated Hangzhou First People's Hospital, Zhejiang University School of Medicine/Hangzhou First People's Hospital, Hangzhou, Zhejiang, 310006, China|Ningbo Women&Children's Hospital, Ningbo, Zhejiang, 315012, China\",\n",
              " nan]"
            ]
          },
          "metadata": {},
          "execution_count": 16
        }
      ]
    },
    {
      "cell_type": "code",
      "source": [
        "list_eng[4]"
      ],
      "metadata": {
        "id": "4_6YpsF5XuXG",
        "outputId": "cbf117b3-d1b9-4802-fd9b-5898a7837507",
        "colab": {
          "base_uri": "https://localhost:8080/",
          "height": 35
        }
      },
      "execution_count": 25,
      "outputs": [
        {
          "output_type": "execute_result",
          "data": {
            "text/plain": [
              "'NOT_YET_RECRUITING'"
            ],
            "application/vnd.google.colaboratory.intrinsic+json": {
              "type": "string"
            }
          },
          "metadata": {},
          "execution_count": 25
        }
      ]
    },
    {
      "cell_type": "code",
      "source": [
        "for x in list_eng:\n",
        "  print(x)"
      ],
      "metadata": {
        "id": "zH_GYrrXaf0W",
        "outputId": "0ab92c3e-4576-46b0-b05f-184f43a469b1",
        "colab": {
          "base_uri": "https://localhost:8080/"
        }
      },
      "execution_count": 26,
      "outputs": [
        {
          "output_type": "stream",
          "name": "stdout",
          "text": [
            "NCT06083623\n",
            "A Trial to Evaluate the Efficacy and Safety of TNM001 for the Prevention of Lower Respiratory Tract Infection Caused by Respiratory Syncytial Virus in Infants\n",
            "https://clinicaltrials.gov/study/NCT06083623\n",
            "nan\n",
            "NOT_YET_RECRUITING\n",
            "The purpose of this study is to evaluate the efficacy, safety, pharmacokinetics (PK), neutralizing antibody and antidrug antibody (ADA) response for TNM001 in infants entering their first RSV season.\n",
            "NO\n",
            "Respiratory Syncytial Virus Infections\n",
            "BIOLOGICAL: TNM001|BIOLOGICAL: placebo\n",
            "Incidence of medically attended LRTI due to RT-PCR confirmed RSV, 150 days post dose\n",
            "Incidence of hospitalization due to RT-PCR confirmed RSV LRTI, 150 days post dose|Occurrence of adverse events (AEs), 240 days post dose|Change in body temperature (celsius), 240 days post dose|Change in blood pressure (mmHg), 240 days post dose|Change in heart rate (beats per minute), 240 days post dose|Change in respiratory rate (breaths per min), 240 days post dose|Number of subjects with clinical significant abnormality in physical examinations, 240 days post dose|Serum concentration of single dose TNM001 at pre-specified timepoints, 240 days post dose|Serum level of neutralizing antibody to RSV, 240 days post dose|Positive rate of anti-drug antibody (ADA) to TNM001 in serum, 240 days post dose\n",
            "nan\n",
            "Zhuhai Trinomab Pharmaceutical Co., Ltd.\n",
            "nan\n",
            "ALL\n",
            "CHILD\n",
            "PHASE2|PHASE3\n",
            "2250\n",
            "INDUSTRY\n",
            "INTERVENTIONAL\n",
            "Allocation: RANDOMIZED|Intervention Model: PARALLEL|Masking: QUADRUPLE (PARTICIPANT, CARE_PROVIDER, INVESTIGATOR, OUTCOMES_ASSESSOR)|Primary Purpose: PREVENTION\n",
            "TNM001-301|CTR20232792\n",
            "2023-10-06\n",
            "2026-05-31\n",
            "2026-08-31\n",
            "2023-10-16\n",
            "nan\n",
            "2023-10-16\n",
            "Peking University Third Hospital, Beijing, Beijing, 100000, China|Children's Hospital Capital Institute Pediatrics, Beijing, Beijing, 100020, China|Jiangjin Central Hospital, Chongqing, Chongqing, 400000, China|Xiamen maternal and Child Health Hospital, Xiamen, Fujian, 361003, China|The Third Affiliated Hospital of Guangzhou Medical University, Guangdong, Guangdong, 510150, China|Guangdong Maternal and Child Health Care Hospital, Guangzhou, Guangdong, 511442, China|University of Chinese Academy of Sciense Shenzhen Hospital, Shenzhen, Guangdong, 518000, China|Affiliated Hospital of Guilin Medical University, Guilin, Guangxi, 541001, China|LiuZhou People's Hospital, Liuzhou, Guangxi, 545006, China|Maternity and Child Health Care of Guangxi Zhuang Autonomous Region, Nanning, Guangxi, 530002, China|HaiNan Women and Children's Medical Center, Haikou, Hainan, 570312, China|Hebei Petro China Central Hospital, Langfang, Hebei, 065000, China|The Fourth Hospital of Hebei Medical University, Shijia Zhuang, Hebei, 050000, China|The Second Hospital of HeBei Medical University (HBMU), Shijia Zhuang, Hebei, 050000, China|Tangshan Maternal and Child Health Hospitaltangshan Maternal and Child Health Hospital, Tangshan, Hebei, 063000, China|Sanmenxia Central Hospital, Sanmenxia, Henan, 472000, China|Xinxiang First People's Hospital, Xinxiang, Henan, 453000, China|Henan (Zhengzhou) Children's Hospital, Zhengzhou, Henan, 450052, China|Renmin Hospital of Wuhan University, Wuhan, Hubei, 430060, China|The Central Hospital of Wuhan, Wuhan, Hubei, 430060, China|The First People'S Hospital of Changde City, Changde, Hunan, 415000, China|The Maternal and Child Health Hospital of Hunan Province, Changsha, Hunan, 410008, China|Xiangya Hospital Central South University, Changsha, Hunan, 410008, China|The Third Xiangya Hospital of Central South University, Changsha, Hunan, 410013, China|The Second Hospital University of South China, Hengyang, Hunan, 421001, China|Loudi Central Hospital, Loudi, Hunan, 417099, China|The First Affiliated Hospital of Shaoyang University, Shaoyang, Hunan, 422000, China|Jiangxi Maternal and Child Health Hospital, Nanchang, Jiangxi, 330000, China|Children's Hospital Affiliated to Shandong University, Jinan, Shandong, 250022, China|The affiliated children'shospital fudan university, Shanghai, Shanghai, 201102, China|Linfen Central Hospital, Linfen, Shanxi, 041000, China|Linfen People's Hospital, Linfen, Shanxi, 041000, China|Yuncheng Central Hospital, Yuncheng, Shanxi, 044000, China|Chengdu Women's and Children's Central Hospital, Chengdu, Sichuan, 610000, China|West China Second University Hospital, Sichuan University, Chengdu, Sichuan, 610000, China|Children's Hospital of Chongqing Medical University, Chongqing, Sichuan, 404100, China|Mianyang Peoples Hospital, Mianyang, Sichuan, 621000, China|Affiliated Hangzhou First People's Hospital, Zhejiang University School of Medicine/Hangzhou First People's Hospital, Hangzhou, Zhejiang, 310006, China|Ningbo Women&Children's Hospital, Ningbo, Zhejiang, 315012, China\n",
            "nan\n"
          ]
        }
      ]
    },
    {
      "cell_type": "code",
      "source": [],
      "metadata": {
        "id": "aqVVL8m9ccou"
      },
      "execution_count": null,
      "outputs": []
    },
    {
      "cell_type": "code",
      "source": [
        "list_eng_x = []\n",
        "for i in list_eng:\n",
        "  i = str(i)\n",
        "  # text_rus = translator.translate(i)\n",
        "  list_eng_x.append(i)\n",
        "list_eng_x"
      ],
      "metadata": {
        "colab": {
          "base_uri": "https://localhost:8080/"
        },
        "id": "v1B7bvlg2mNZ",
        "outputId": "45e621f6-6d13-425b-b99d-25b79c5b92a0"
      },
      "execution_count": 33,
      "outputs": [
        {
          "output_type": "execute_result",
          "data": {
            "text/plain": [
              "['NCT06083623',\n",
              " 'A Trial to Evaluate the Efficacy and Safety of TNM001 for the Prevention of Lower Respiratory Tract Infection Caused by Respiratory Syncytial Virus in Infants',\n",
              " 'https://clinicaltrials.gov/study/NCT06083623',\n",
              " 'nan',\n",
              " 'NOT_YET_RECRUITING',\n",
              " 'The purpose of this study is to evaluate the efficacy, safety, pharmacokinetics (PK), neutralizing antibody and antidrug antibody (ADA) response for TNM001 in infants entering their first RSV season.',\n",
              " 'NO',\n",
              " 'Respiratory Syncytial Virus Infections',\n",
              " 'BIOLOGICAL: TNM001|BIOLOGICAL: placebo',\n",
              " 'Incidence of medically attended LRTI due to RT-PCR confirmed RSV, 150 days post dose',\n",
              " 'Incidence of hospitalization due to RT-PCR confirmed RSV LRTI, 150 days post dose|Occurrence of adverse events (AEs), 240 days post dose|Change in body temperature (celsius), 240 days post dose|Change in blood pressure (mmHg), 240 days post dose|Change in heart rate (beats per minute), 240 days post dose|Change in respiratory rate (breaths per min), 240 days post dose|Number of subjects with clinical significant abnormality in physical examinations, 240 days post dose|Serum concentration of single dose TNM001 at pre-specified timepoints, 240 days post dose|Serum level of neutralizing antibody to RSV, 240 days post dose|Positive rate of anti-drug antibody (ADA) to TNM001 in serum, 240 days post dose',\n",
              " 'nan',\n",
              " 'Zhuhai Trinomab Pharmaceutical Co., Ltd.',\n",
              " 'nan',\n",
              " 'ALL',\n",
              " 'CHILD',\n",
              " 'PHASE2|PHASE3',\n",
              " '2250',\n",
              " 'INDUSTRY',\n",
              " 'INTERVENTIONAL',\n",
              " 'Allocation: RANDOMIZED|Intervention Model: PARALLEL|Masking: QUADRUPLE (PARTICIPANT, CARE_PROVIDER, INVESTIGATOR, OUTCOMES_ASSESSOR)|Primary Purpose: PREVENTION',\n",
              " 'TNM001-301|CTR20232792',\n",
              " '2023-10-06',\n",
              " '2026-05-31',\n",
              " '2026-08-31',\n",
              " '2023-10-16',\n",
              " 'nan',\n",
              " '2023-10-16',\n",
              " \"Peking University Third Hospital, Beijing, Beijing, 100000, China|Children's Hospital Capital Institute Pediatrics, Beijing, Beijing, 100020, China|Jiangjin Central Hospital, Chongqing, Chongqing, 400000, China|Xiamen maternal and Child Health Hospital, Xiamen, Fujian, 361003, China|The Third Affiliated Hospital of Guangzhou Medical University, Guangdong, Guangdong, 510150, China|Guangdong Maternal and Child Health Care Hospital, Guangzhou, Guangdong, 511442, China|University of Chinese Academy of Sciense Shenzhen Hospital, Shenzhen, Guangdong, 518000, China|Affiliated Hospital of Guilin Medical University, Guilin, Guangxi, 541001, China|LiuZhou People's Hospital, Liuzhou, Guangxi, 545006, China|Maternity and Child Health Care of Guangxi Zhuang Autonomous Region, Nanning, Guangxi, 530002, China|HaiNan Women and Children's Medical Center, Haikou, Hainan, 570312, China|Hebei Petro China Central Hospital, Langfang, Hebei, 065000, China|The Fourth Hospital of Hebei Medical University, Shijia Zhuang, Hebei, 050000, China|The Second Hospital of HeBei Medical University (HBMU), Shijia Zhuang, Hebei, 050000, China|Tangshan Maternal and Child Health Hospitaltangshan Maternal and Child Health Hospital, Tangshan, Hebei, 063000, China|Sanmenxia Central Hospital, Sanmenxia, Henan, 472000, China|Xinxiang First People's Hospital, Xinxiang, Henan, 453000, China|Henan (Zhengzhou) Children's Hospital, Zhengzhou, Henan, 450052, China|Renmin Hospital of Wuhan University, Wuhan, Hubei, 430060, China|The Central Hospital of Wuhan, Wuhan, Hubei, 430060, China|The First People'S Hospital of Changde City, Changde, Hunan, 415000, China|The Maternal and Child Health Hospital of Hunan Province, Changsha, Hunan, 410008, China|Xiangya Hospital Central South University, Changsha, Hunan, 410008, China|The Third Xiangya Hospital of Central South University, Changsha, Hunan, 410013, China|The Second Hospital University of South China, Hengyang, Hunan, 421001, China|Loudi Central Hospital, Loudi, Hunan, 417099, China|The First Affiliated Hospital of Shaoyang University, Shaoyang, Hunan, 422000, China|Jiangxi Maternal and Child Health Hospital, Nanchang, Jiangxi, 330000, China|Children's Hospital Affiliated to Shandong University, Jinan, Shandong, 250022, China|The affiliated children'shospital fudan university, Shanghai, Shanghai, 201102, China|Linfen Central Hospital, Linfen, Shanxi, 041000, China|Linfen People's Hospital, Linfen, Shanxi, 041000, China|Yuncheng Central Hospital, Yuncheng, Shanxi, 044000, China|Chengdu Women's and Children's Central Hospital, Chengdu, Sichuan, 610000, China|West China Second University Hospital, Sichuan University, Chengdu, Sichuan, 610000, China|Children's Hospital of Chongqing Medical University, Chongqing, Sichuan, 404100, China|Mianyang Peoples Hospital, Mianyang, Sichuan, 621000, China|Affiliated Hangzhou First People's Hospital, Zhejiang University School of Medicine/Hangzhou First People's Hospital, Hangzhou, Zhejiang, 310006, China|Ningbo Women&Children's Hospital, Ningbo, Zhejiang, 315012, China\",\n",
              " 'nan']"
            ]
          },
          "metadata": {},
          "execution_count": 33
        }
      ]
    },
    {
      "cell_type": "code",
      "source": [
        "list_rus = []\n",
        "for i in list_eng_x:\n",
        "  text_rus = translator.translate(i)\n",
        "  print(text_rus)"
      ],
      "metadata": {
        "id": "eTA24AMTtx16",
        "outputId": "a4372364-1b21-4663-d2c0-dd5d7d60bd43",
        "colab": {
          "base_uri": "https://localhost:8080/",
          "height": 390
        }
      },
      "execution_count": 50,
      "outputs": [
        {
          "output_type": "error",
          "ename": "RuntimeError",
          "evalue": "ignored",
          "traceback": [
            "\u001b[0;31m---------------------------------------------------------------------------\u001b[0m",
            "\u001b[0;31mStopIteration\u001b[0m                             Traceback (most recent call last)",
            "\u001b[0;32m/usr/local/lib/python3.10/dist-packages/translate/translate.py\u001b[0m in \u001b[0;36m<genexpr>\u001b[0;34m(.0)\u001b[0m\n\u001b[1;32m     44\u001b[0m         \u001b[0mtext_list\u001b[0m \u001b[0;34m=\u001b[0m \u001b[0mwrap\u001b[0m\u001b[0;34m(\u001b[0m\u001b[0mtext\u001b[0m\u001b[0;34m,\u001b[0m \u001b[0mTRANSLATION_API_MAX_LENGHT\u001b[0m\u001b[0;34m,\u001b[0m \u001b[0mreplace_whitespace\u001b[0m\u001b[0;34m=\u001b[0m\u001b[0;32mFalse\u001b[0m\u001b[0;34m)\u001b[0m\u001b[0;34m\u001b[0m\u001b[0;34m\u001b[0m\u001b[0m\n\u001b[0;32m---> 45\u001b[0;31m         \u001b[0;32mreturn\u001b[0m \u001b[0;34m' '\u001b[0m\u001b[0;34m.\u001b[0m\u001b[0mjoin\u001b[0m\u001b[0;34m(\u001b[0m\u001b[0mself\u001b[0m\u001b[0;34m.\u001b[0m\u001b[0mprovider\u001b[0m\u001b[0;34m.\u001b[0m\u001b[0mget_translation\u001b[0m\u001b[0;34m(\u001b[0m\u001b[0mtext_wraped\u001b[0m\u001b[0;34m)\u001b[0m \u001b[0;32mfor\u001b[0m \u001b[0mtext_wraped\u001b[0m \u001b[0;32min\u001b[0m \u001b[0mtext_list\u001b[0m\u001b[0;34m)\u001b[0m\u001b[0;34m\u001b[0m\u001b[0;34m\u001b[0m\u001b[0m\n\u001b[0m",
            "\u001b[0;32m/usr/local/lib/python3.10/dist-packages/translate/providers/mymemory_translated.py\u001b[0m in \u001b[0;36mget_translation\u001b[0;34m(self, text)\u001b[0m\n\u001b[1;32m     48\u001b[0m             \u001b[0mmatches\u001b[0m \u001b[0;34m=\u001b[0m \u001b[0mdata\u001b[0m\u001b[0;34m[\u001b[0m\u001b[0;34m'matches'\u001b[0m\u001b[0;34m]\u001b[0m\u001b[0;34m\u001b[0m\u001b[0;34m\u001b[0m\u001b[0m\n\u001b[0;32m---> 49\u001b[0;31m             \u001b[0mnext_best_match\u001b[0m \u001b[0;34m=\u001b[0m \u001b[0mnext\u001b[0m\u001b[0;34m(\u001b[0m\u001b[0mmatch\u001b[0m \u001b[0;32mfor\u001b[0m \u001b[0mmatch\u001b[0m \u001b[0;32min\u001b[0m \u001b[0mmatches\u001b[0m\u001b[0;34m)\u001b[0m\u001b[0;34m\u001b[0m\u001b[0;34m\u001b[0m\u001b[0m\n\u001b[0m\u001b[1;32m     50\u001b[0m             \u001b[0;32mreturn\u001b[0m \u001b[0mnext_best_match\u001b[0m\u001b[0;34m[\u001b[0m\u001b[0;34m'translation'\u001b[0m\u001b[0;34m]\u001b[0m\u001b[0;34m\u001b[0m\u001b[0;34m\u001b[0m\u001b[0m\n",
            "\u001b[0;31mStopIteration\u001b[0m: ",
            "\nThe above exception was the direct cause of the following exception:\n",
            "\u001b[0;31mRuntimeError\u001b[0m                              Traceback (most recent call last)",
            "\u001b[0;32m<ipython-input-50-4ccf7145c5a9>\u001b[0m in \u001b[0;36m<cell line: 2>\u001b[0;34m()\u001b[0m\n\u001b[1;32m      1\u001b[0m \u001b[0mlist_rus\u001b[0m \u001b[0;34m=\u001b[0m \u001b[0;34m[\u001b[0m\u001b[0;34m]\u001b[0m\u001b[0;34m\u001b[0m\u001b[0;34m\u001b[0m\u001b[0m\n\u001b[1;32m      2\u001b[0m \u001b[0;32mfor\u001b[0m \u001b[0mi\u001b[0m \u001b[0;32min\u001b[0m \u001b[0mlist_eng_x\u001b[0m\u001b[0;34m:\u001b[0m\u001b[0;34m\u001b[0m\u001b[0;34m\u001b[0m\u001b[0m\n\u001b[0;32m----> 3\u001b[0;31m   \u001b[0mtext_rus\u001b[0m \u001b[0;34m=\u001b[0m \u001b[0mtranslator\u001b[0m\u001b[0;34m.\u001b[0m\u001b[0mtranslate\u001b[0m\u001b[0;34m(\u001b[0m\u001b[0mi\u001b[0m\u001b[0;34m)\u001b[0m\u001b[0;34m\u001b[0m\u001b[0;34m\u001b[0m\u001b[0m\n\u001b[0m\u001b[1;32m      4\u001b[0m   \u001b[0mprint\u001b[0m\u001b[0;34m(\u001b[0m\u001b[0mtext_rus\u001b[0m\u001b[0;34m)\u001b[0m\u001b[0;34m\u001b[0m\u001b[0;34m\u001b[0m\u001b[0m\n",
            "\u001b[0;32m/usr/local/lib/python3.10/dist-packages/translate/translate.py\u001b[0m in \u001b[0;36mtranslate\u001b[0;34m(self, text)\u001b[0m\n\u001b[1;32m     43\u001b[0m \u001b[0;34m\u001b[0m\u001b[0m\n\u001b[1;32m     44\u001b[0m         \u001b[0mtext_list\u001b[0m \u001b[0;34m=\u001b[0m \u001b[0mwrap\u001b[0m\u001b[0;34m(\u001b[0m\u001b[0mtext\u001b[0m\u001b[0;34m,\u001b[0m \u001b[0mTRANSLATION_API_MAX_LENGHT\u001b[0m\u001b[0;34m,\u001b[0m \u001b[0mreplace_whitespace\u001b[0m\u001b[0;34m=\u001b[0m\u001b[0;32mFalse\u001b[0m\u001b[0;34m)\u001b[0m\u001b[0;34m\u001b[0m\u001b[0;34m\u001b[0m\u001b[0m\n\u001b[0;32m---> 45\u001b[0;31m         \u001b[0;32mreturn\u001b[0m \u001b[0;34m' '\u001b[0m\u001b[0;34m.\u001b[0m\u001b[0mjoin\u001b[0m\u001b[0;34m(\u001b[0m\u001b[0mself\u001b[0m\u001b[0;34m.\u001b[0m\u001b[0mprovider\u001b[0m\u001b[0;34m.\u001b[0m\u001b[0mget_translation\u001b[0m\u001b[0;34m(\u001b[0m\u001b[0mtext_wraped\u001b[0m\u001b[0;34m)\u001b[0m \u001b[0;32mfor\u001b[0m \u001b[0mtext_wraped\u001b[0m \u001b[0;32min\u001b[0m \u001b[0mtext_list\u001b[0m\u001b[0;34m)\u001b[0m\u001b[0;34m\u001b[0m\u001b[0;34m\u001b[0m\u001b[0m\n\u001b[0m",
            "\u001b[0;31mRuntimeError\u001b[0m: generator raised StopIteration"
          ]
        }
      ]
    },
    {
      "cell_type": "code",
      "source": [
        "list_rus = []\n",
        "for i in range(1, 4):\n",
        "  text_rus = translator.translate(list_eng_x[i])\n",
        "  list_rus.append(text_rus)\n",
        "list_rus"
      ],
      "metadata": {
        "id": "n-qoTDvbdSVF",
        "outputId": "7dd38c4d-7776-494d-9fee-48dd4a191dcc",
        "colab": {
          "base_uri": "https://localhost:8080/"
        }
      },
      "execution_count": 45,
      "outputs": [
        {
          "output_type": "execute_result",
          "data": {
            "text/plain": [
              "['Цель данного систематического обзора заключалась в оценке данных об эффективности и безопасности применения прогестерона при профилактике преждевременных родов, начиная с 2003 года.',\n",
              " 'ClinicalTrials.gov:<g id=\"1\"> https://clinicaltrials.gov/</g>',\n",
              " 'nan']"
            ]
          },
          "metadata": {},
          "execution_count": 45
        }
      ]
    },
    {
      "cell_type": "code",
      "source": [
        "list_rus = []\n",
        "for i in range(6, 7):\n",
        "  text_rus = translator.translate(list_eng_x[i])\n",
        "  list_rus.append(text_rus)\n",
        "list_rus"
      ],
      "metadata": {
        "id": "qXaLw_B9tZsw",
        "outputId": "1d1177eb-c480-4d67-a715-8e6f886b3b79",
        "colab": {
          "base_uri": "https://localhost:8080/"
        }
      },
      "execution_count": 47,
      "outputs": [
        {
          "output_type": "execute_result",
          "data": {
            "text/plain": [
              "['НЕТ']"
            ]
          },
          "metadata": {},
          "execution_count": 47
        }
      ]
    },
    {
      "cell_type": "code",
      "source": [
        "text_Eng = 'medical pedagogical commission'\n",
        "text_Rus = translator.translate(text_Eng)\n",
        "print(text_Rus)"
      ],
      "metadata": {
        "id": "0kZtM2Iz7z2m"
      },
      "execution_count": null,
      "outputs": []
    },
    {
      "cell_type": "code",
      "source": [
        "Y = study.to_dict()\n",
        "Y"
      ],
      "metadata": {
        "id": "LYh_8dgzaIe7"
      },
      "execution_count": null,
      "outputs": []
    },
    {
      "cell_type": "code",
      "source": [
        "Z = study.to_dict('list')\n",
        "Z"
      ],
      "metadata": {
        "id": "-Vy8E58ga7dm"
      },
      "execution_count": null,
      "outputs": []
    },
    {
      "cell_type": "code",
      "source": [
        "for k, v in Z.items():\n",
        "  print(v)\n",
        "  text_rus = translator.translate(v)\n",
        "  print(text_rus)\n"
      ],
      "metadata": {
        "id": "DwwT-R12ycBy"
      },
      "execution_count": null,
      "outputs": []
    },
    {
      "cell_type": "code",
      "source": [
        "# Z = study.to_dict('series', index= False)\n",
        "# Z"
      ],
      "metadata": {
        "id": "ydd1WupWwt5v"
      },
      "execution_count": null,
      "outputs": []
    },
    {
      "cell_type": "code",
      "source": [
        "for name, values in df.iteritems ():\n",
        " print(name)"
      ],
      "metadata": {
        "id": "6CGc19mKcjx0"
      },
      "execution_count": null,
      "outputs": []
    },
    {
      "cell_type": "code",
      "source": [
        "\n",
        "for row, values in study.iterrows():\n",
        "  text_eng = row,values\n",
        "\n",
        "text_eng\n",
        "\n",
        "  # text_rus = translator.translate(text_eng)\n",
        "  # X_Rus.add(text_rus, axis=1)"
      ],
      "metadata": {
        "id": "5ZjJhx3Vns03"
      },
      "execution_count": null,
      "outputs": []
    },
    {
      "cell_type": "code",
      "source": [
        "for values in study.itertuples():\n",
        "  text_eng = values\n",
        "  print(text_eng)\n",
        "  # text_rus = translator.translate(text_eng)\n",
        "  # X_Rus.add(text_rus, axis=1)"
      ],
      "metadata": {
        "id": "nZfadYKKrYI_"
      },
      "execution_count": null,
      "outputs": []
    },
    {
      "cell_type": "code",
      "source": [
        "for name, values in study.iteritems():\n",
        "  n=0\n",
        "  values\n",
        "  print(name, '-->', values)"
      ],
      "metadata": {
        "id": "VJW3SV3Ucueb"
      },
      "execution_count": null,
      "outputs": []
    },
    {
      "cell_type": "code",
      "source": [
        "X_rus = pd.DataFrame(columns=['Номер исследования',\n",
        "                              'Наименование исследования',\n",
        "                              'Cсылка на первоисточник',\n",
        "                              'Краткое описание',\n",
        "                              'Стадия исследования',\n",
        "                              'Краткое содержание',\n",
        "                              'Результаты исследования',\n",
        "                              'Условия',\n",
        "                              'Вмешательства',\n",
        "                              'Первичные результаты',\n",
        "                              'Вторичные результаты',\n",
        "                              'Другие рзультаты',\n",
        "                              'Спонсор (заказчик)',\n",
        "                              'Соавторы',\n",
        "                              'Пол',\n",
        "                              'Возраст',\n",
        "                              'Фазы исследования',\n",
        "                              'Регистрация',\n",
        "                              'Тип спонсора',\n",
        "                              'Тип исследования',\n",
        "                              'Дизайн исследования',\n",
        "                              'Идентефикаторы',\n",
        "                              'Дата начала',\n",
        "                              'Дата подведения предварительных итогов',\n",
        "                              'Дата подведения окончательных итогов',\n",
        "                              'Первое сообщение',\n",
        "                              'Результаты',\n",
        "                              'Последнее опубликованное сообщение',\n",
        "                              'Местоположение',\n",
        "                              'Документы по исследованию'])\n",
        "X_rus"
      ],
      "metadata": {
        "id": "QrT3m_M7eM0k"
      },
      "execution_count": null,
      "outputs": []
    }
  ]
}