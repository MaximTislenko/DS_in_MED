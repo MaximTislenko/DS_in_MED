{
  "nbformat": 4,
  "nbformat_minor": 0,
  "metadata": {
    "colab": {
      "provenance": [],
      "include_colab_link": true
    },
    "kernelspec": {
      "name": "python3",
      "display_name": "Python 3"
    },
    "language_info": {
      "name": "python"
    }
  },
  "cells": [
    {
      "cell_type": "markdown",
      "metadata": {
        "id": "view-in-github",
        "colab_type": "text"
      },
      "source": [
        "<a href=\"https://colab.research.google.com/github/MaximTislenko/DS_in_MED/blob/main/googletrans.ipynb\" target=\"_parent\"><img src=\"https://colab.research.google.com/assets/colab-badge.svg\" alt=\"Open In Colab\"/></a>"
      ]
    },
    {
      "cell_type": "code",
      "metadata": {
        "colab": {
          "base_uri": "https://localhost:8080/"
        },
        "id": "fIQEdFyiRK2T",
        "outputId": "92ff1dad-80bd-4cb9-8fa0-c2c8a20b5ad3"
      },
      "source": [
        "# https://towardsdatascience.com/translate-a-pandas-data-frame-using-googletrans-library-fb0aa7fca592\n",
        "# install googletrans using pip\n",
        "!pip install googletrans==3.1.0a0"
      ],
      "execution_count": null,
      "outputs": [
        {
          "output_type": "stream",
          "name": "stdout",
          "text": [
            "Collecting googletrans==3.1.0a0\n",
            "  Downloading googletrans-3.1.0a0.tar.gz (19 kB)\n",
            "Collecting httpx==0.13.3\n",
            "  Downloading httpx-0.13.3-py3-none-any.whl (55 kB)\n",
            "\u001b[K     |████████████████████████████████| 55 kB 2.8 MB/s \n",
            "\u001b[?25hCollecting rfc3986<2,>=1.3\n",
            "  Downloading rfc3986-1.5.0-py2.py3-none-any.whl (31 kB)\n",
            "Collecting hstspreload\n",
            "  Downloading hstspreload-2021.12.1-py3-none-any.whl (1.3 MB)\n",
            "\u001b[K     |████████████████████████████████| 1.3 MB 18.7 MB/s \n",
            "\u001b[?25hCollecting sniffio\n",
            "  Downloading sniffio-1.2.0-py3-none-any.whl (10 kB)\n",
            "Requirement already satisfied: idna==2.* in /usr/local/lib/python3.7/dist-packages (from httpx==0.13.3->googletrans==3.1.0a0) (2.10)\n",
            "Collecting httpcore==0.9.*\n",
            "  Downloading httpcore-0.9.1-py3-none-any.whl (42 kB)\n",
            "\u001b[K     |████████████████████████████████| 42 kB 1.2 MB/s \n",
            "\u001b[?25hRequirement already satisfied: certifi in /usr/local/lib/python3.7/dist-packages (from httpx==0.13.3->googletrans==3.1.0a0) (2021.10.8)\n",
            "Requirement already satisfied: chardet==3.* in /usr/local/lib/python3.7/dist-packages (from httpx==0.13.3->googletrans==3.1.0a0) (3.0.4)\n",
            "Collecting h11<0.10,>=0.8\n",
            "  Downloading h11-0.9.0-py2.py3-none-any.whl (53 kB)\n",
            "\u001b[K     |████████████████████████████████| 53 kB 1.5 MB/s \n",
            "\u001b[?25hCollecting h2==3.*\n",
            "  Downloading h2-3.2.0-py2.py3-none-any.whl (65 kB)\n",
            "\u001b[K     |████████████████████████████████| 65 kB 3.4 MB/s \n",
            "\u001b[?25hCollecting hpack<4,>=3.0\n",
            "  Downloading hpack-3.0.0-py2.py3-none-any.whl (38 kB)\n",
            "Collecting hyperframe<6,>=5.2.0\n",
            "  Downloading hyperframe-5.2.0-py2.py3-none-any.whl (12 kB)\n",
            "Building wheels for collected packages: googletrans\n",
            "  Building wheel for googletrans (setup.py) ... \u001b[?25l\u001b[?25hdone\n",
            "  Created wheel for googletrans: filename=googletrans-3.1.0a0-py3-none-any.whl size=16367 sha256=da4ab97dee5e39d2cab43633bc1393647c70feb3157063f0acca9e64ac6be365\n",
            "  Stored in directory: /root/.cache/pip/wheels/0c/be/fe/93a6a40ffe386e16089e44dad9018ebab9dc4cb9eb7eab65ae\n",
            "Successfully built googletrans\n",
            "Installing collected packages: hyperframe, hpack, sniffio, h2, h11, rfc3986, httpcore, hstspreload, httpx, googletrans\n",
            "Successfully installed googletrans-3.1.0a0 h11-0.9.0 h2-3.2.0 hpack-3.0.0 hstspreload-2021.12.1 httpcore-0.9.1 httpx-0.13.3 hyperframe-5.2.0 rfc3986-1.5.0 sniffio-1.2.0\n"
          ]
        }
      ]
    },
    {
      "cell_type": "code",
      "metadata": {
        "id": "fyRIeHMFQ_NA"
      },
      "source": [
        "# import libraries\n",
        "import googletrans\n",
        "from googletrans import Translator\n",
        "import pandas as pd"
      ],
      "execution_count": null,
      "outputs": []
    },
    {
      "cell_type": "code",
      "metadata": {
        "colab": {
          "base_uri": "https://localhost:8080/"
        },
        "id": "qa8p0H8O-Dzh",
        "outputId": "8456e8ed-a4a1-4677-b2fc-eca0e89bce69"
      },
      "source": [
        "# show languages\n",
        "print(googletrans.LANGUAGES)"
      ],
      "execution_count": null,
      "outputs": [
        {
          "output_type": "stream",
          "name": "stdout",
          "text": [
            "{'af': 'afrikaans', 'sq': 'albanian', 'am': 'amharic', 'ar': 'arabic', 'hy': 'armenian', 'az': 'azerbaijani', 'eu': 'basque', 'be': 'belarusian', 'bn': 'bengali', 'bs': 'bosnian', 'bg': 'bulgarian', 'ca': 'catalan', 'ceb': 'cebuano', 'ny': 'chichewa', 'zh-cn': 'chinese (simplified)', 'zh-tw': 'chinese (traditional)', 'co': 'corsican', 'hr': 'croatian', 'cs': 'czech', 'da': 'danish', 'nl': 'dutch', 'en': 'english', 'eo': 'esperanto', 'et': 'estonian', 'tl': 'filipino', 'fi': 'finnish', 'fr': 'french', 'fy': 'frisian', 'gl': 'galician', 'ka': 'georgian', 'de': 'german', 'el': 'greek', 'gu': 'gujarati', 'ht': 'haitian creole', 'ha': 'hausa', 'haw': 'hawaiian', 'iw': 'hebrew', 'he': 'hebrew', 'hi': 'hindi', 'hmn': 'hmong', 'hu': 'hungarian', 'is': 'icelandic', 'ig': 'igbo', 'id': 'indonesian', 'ga': 'irish', 'it': 'italian', 'ja': 'japanese', 'jw': 'javanese', 'kn': 'kannada', 'kk': 'kazakh', 'km': 'khmer', 'ko': 'korean', 'ku': 'kurdish (kurmanji)', 'ky': 'kyrgyz', 'lo': 'lao', 'la': 'latin', 'lv': 'latvian', 'lt': 'lithuanian', 'lb': 'luxembourgish', 'mk': 'macedonian', 'mg': 'malagasy', 'ms': 'malay', 'ml': 'malayalam', 'mt': 'maltese', 'mi': 'maori', 'mr': 'marathi', 'mn': 'mongolian', 'my': 'myanmar (burmese)', 'ne': 'nepali', 'no': 'norwegian', 'or': 'odia', 'ps': 'pashto', 'fa': 'persian', 'pl': 'polish', 'pt': 'portuguese', 'pa': 'punjabi', 'ro': 'romanian', 'ru': 'russian', 'sm': 'samoan', 'gd': 'scots gaelic', 'sr': 'serbian', 'st': 'sesotho', 'sn': 'shona', 'sd': 'sindhi', 'si': 'sinhala', 'sk': 'slovak', 'sl': 'slovenian', 'so': 'somali', 'es': 'spanish', 'su': 'sundanese', 'sw': 'swahili', 'sv': 'swedish', 'tg': 'tajik', 'ta': 'tamil', 'te': 'telugu', 'th': 'thai', 'tr': 'turkish', 'uk': 'ukrainian', 'ur': 'urdu', 'ug': 'uyghur', 'uz': 'uzbek', 'vi': 'vietnamese', 'cy': 'welsh', 'xh': 'xhosa', 'yi': 'yiddish', 'yo': 'yoruba', 'zu': 'zulu'}\n"
          ]
        }
      ]
    },
    {
      "cell_type": "code",
      "metadata": {
        "id": "8Gf-IBg_RHEE",
        "colab": {
          "base_uri": "https://localhost:8080/",
          "height": 73
        },
        "outputId": "d063d0e4-5724-414c-ea46-bf0bb9622057"
      },
      "source": [
        "# create a translator object\n",
        "translator = Translator()\n",
        "\n",
        "# use translate method to translate a string - by default, the destination language is english\n",
        "translated = translator.translate('おはようございます。今日は晴れです。')\n",
        "\n",
        "# the translate method returns an object\n",
        "print(translated)\n",
        "# Translated(src=es, dest=en, text=Hello World, pronunciation=Hello World, extra_data=\"{'translat...\")\n",
        "\n",
        "# obtain translated string by using attribute .text\n",
        "translated.text"
      ],
      "execution_count": null,
      "outputs": [
        {
          "output_type": "stream",
          "name": "stdout",
          "text": [
            "Translated(src=ja, dest=en, text=good morning. It's sunny today., pronunciation=None, extra_data=\"{'translat...\")\n"
          ]
        },
        {
          "output_type": "execute_result",
          "data": {
            "application/vnd.google.colaboratory.intrinsic+json": {
              "type": "string"
            },
            "text/plain": [
              "\"good morning. It's sunny today.\""
            ]
          },
          "metadata": {},
          "execution_count": 4
        }
      ]
    },
    {
      "cell_type": "code",
      "metadata": {
        "colab": {
          "base_uri": "https://localhost:8080/",
          "height": 35
        },
        "id": "9W1NXeCmhxUW",
        "outputId": "c1600e45-5083-49cf-f71f-333c2157d3d5"
      },
      "source": [
        "# use method translate to translate english into japanese\n",
        "# create a translator object\n",
        "translator = Translator()\n",
        "translated_ita = translator.translate('おはようございます。', src='ja', dest='en')\n",
        "translated_ita.text"
      ],
      "execution_count": null,
      "outputs": [
        {
          "output_type": "execute_result",
          "data": {
            "application/vnd.google.colaboratory.intrinsic+json": {
              "type": "string"
            },
            "text/plain": [
              "'good morning.'"
            ]
          },
          "metadata": {},
          "execution_count": 5
        }
      ]
    },
    {
      "cell_type": "code",
      "metadata": {
        "colab": {
          "base_uri": "https://localhost:8080/"
        },
        "id": "8gkkmbq_-s9i",
        "outputId": "98b9fa63-8d5e-4289-db3c-64bb45be9379"
      },
      "source": [
        "# from english to german\n",
        "translator = Translator()\n",
        "translated = translator.translate('Good morning.', src='en', dest='de')\n",
        "print(translated.text)"
      ],
      "execution_count": null,
      "outputs": [
        {
          "output_type": "stream",
          "name": "stdout",
          "text": [
            "Guten Morgen.\n"
          ]
        }
      ]
    },
    {
      "cell_type": "code",
      "metadata": {
        "colab": {
          "base_uri": "https://localhost:8080/",
          "height": 381
        },
        "id": "7bDRhQSz6akN",
        "outputId": "9372c2b6-a393-4d95-8bbb-ff3313165a04"
      },
      "source": [
        "## load the data and translate its columns' names into english\n",
        "# sample 1 from spanish to english\n",
        "df_es = pd.read_csv('/content/inmigrantes_curso_español_2021.csv',sep=';',encoding='latin-1')\n",
        "# print first rows of the data frame\n",
        "df_es.head()"
      ],
      "execution_count": null,
      "outputs": [
        {
          "output_type": "error",
          "ename": "FileNotFoundError",
          "evalue": "ignored",
          "traceback": [
            "\u001b[0;31m---------------------------------------------------------------------------\u001b[0m",
            "\u001b[0;31mFileNotFoundError\u001b[0m                         Traceback (most recent call last)",
            "\u001b[0;32m<ipython-input-7-793b37382e7c>\u001b[0m in \u001b[0;36m<module>\u001b[0;34m()\u001b[0m\n\u001b[1;32m      1\u001b[0m \u001b[0;31m## load the data and translate its columns' names into english\u001b[0m\u001b[0;34m\u001b[0m\u001b[0;34m\u001b[0m\u001b[0;34m\u001b[0m\u001b[0m\n\u001b[1;32m      2\u001b[0m \u001b[0;31m# sample 1 from spanish to english\u001b[0m\u001b[0;34m\u001b[0m\u001b[0;34m\u001b[0m\u001b[0;34m\u001b[0m\u001b[0m\n\u001b[0;32m----> 3\u001b[0;31m \u001b[0mdf_es\u001b[0m \u001b[0;34m=\u001b[0m \u001b[0mpd\u001b[0m\u001b[0;34m.\u001b[0m\u001b[0mread_csv\u001b[0m\u001b[0;34m(\u001b[0m\u001b[0;34m'/content/inmigrantes_curso_español_2021.csv'\u001b[0m\u001b[0;34m,\u001b[0m\u001b[0msep\u001b[0m\u001b[0;34m=\u001b[0m\u001b[0;34m';'\u001b[0m\u001b[0;34m,\u001b[0m\u001b[0mencoding\u001b[0m\u001b[0;34m=\u001b[0m\u001b[0;34m'latin-1'\u001b[0m\u001b[0;34m)\u001b[0m\u001b[0;34m\u001b[0m\u001b[0;34m\u001b[0m\u001b[0m\n\u001b[0m\u001b[1;32m      4\u001b[0m \u001b[0;31m# print first rows of the data frame\u001b[0m\u001b[0;34m\u001b[0m\u001b[0;34m\u001b[0m\u001b[0;34m\u001b[0m\u001b[0m\n\u001b[1;32m      5\u001b[0m \u001b[0mdf_es\u001b[0m\u001b[0;34m.\u001b[0m\u001b[0mhead\u001b[0m\u001b[0;34m(\u001b[0m\u001b[0;34m)\u001b[0m\u001b[0;34m\u001b[0m\u001b[0;34m\u001b[0m\u001b[0m\n",
            "\u001b[0;32m/usr/local/lib/python3.7/dist-packages/pandas/io/parsers.py\u001b[0m in \u001b[0;36mread_csv\u001b[0;34m(filepath_or_buffer, sep, delimiter, header, names, index_col, usecols, squeeze, prefix, mangle_dupe_cols, dtype, engine, converters, true_values, false_values, skipinitialspace, skiprows, skipfooter, nrows, na_values, keep_default_na, na_filter, verbose, skip_blank_lines, parse_dates, infer_datetime_format, keep_date_col, date_parser, dayfirst, cache_dates, iterator, chunksize, compression, thousands, decimal, lineterminator, quotechar, quoting, doublequote, escapechar, comment, encoding, dialect, error_bad_lines, warn_bad_lines, delim_whitespace, low_memory, memory_map, float_precision)\u001b[0m\n\u001b[1;32m    686\u001b[0m     )\n\u001b[1;32m    687\u001b[0m \u001b[0;34m\u001b[0m\u001b[0m\n\u001b[0;32m--> 688\u001b[0;31m     \u001b[0;32mreturn\u001b[0m \u001b[0m_read\u001b[0m\u001b[0;34m(\u001b[0m\u001b[0mfilepath_or_buffer\u001b[0m\u001b[0;34m,\u001b[0m \u001b[0mkwds\u001b[0m\u001b[0;34m)\u001b[0m\u001b[0;34m\u001b[0m\u001b[0;34m\u001b[0m\u001b[0m\n\u001b[0m\u001b[1;32m    689\u001b[0m \u001b[0;34m\u001b[0m\u001b[0m\n\u001b[1;32m    690\u001b[0m \u001b[0;34m\u001b[0m\u001b[0m\n",
            "\u001b[0;32m/usr/local/lib/python3.7/dist-packages/pandas/io/parsers.py\u001b[0m in \u001b[0;36m_read\u001b[0;34m(filepath_or_buffer, kwds)\u001b[0m\n\u001b[1;32m    452\u001b[0m \u001b[0;34m\u001b[0m\u001b[0m\n\u001b[1;32m    453\u001b[0m     \u001b[0;31m# Create the parser.\u001b[0m\u001b[0;34m\u001b[0m\u001b[0;34m\u001b[0m\u001b[0;34m\u001b[0m\u001b[0m\n\u001b[0;32m--> 454\u001b[0;31m     \u001b[0mparser\u001b[0m \u001b[0;34m=\u001b[0m \u001b[0mTextFileReader\u001b[0m\u001b[0;34m(\u001b[0m\u001b[0mfp_or_buf\u001b[0m\u001b[0;34m,\u001b[0m \u001b[0;34m**\u001b[0m\u001b[0mkwds\u001b[0m\u001b[0;34m)\u001b[0m\u001b[0;34m\u001b[0m\u001b[0;34m\u001b[0m\u001b[0m\n\u001b[0m\u001b[1;32m    455\u001b[0m \u001b[0;34m\u001b[0m\u001b[0m\n\u001b[1;32m    456\u001b[0m     \u001b[0;32mif\u001b[0m \u001b[0mchunksize\u001b[0m \u001b[0;32mor\u001b[0m \u001b[0miterator\u001b[0m\u001b[0;34m:\u001b[0m\u001b[0;34m\u001b[0m\u001b[0;34m\u001b[0m\u001b[0m\n",
            "\u001b[0;32m/usr/local/lib/python3.7/dist-packages/pandas/io/parsers.py\u001b[0m in \u001b[0;36m__init__\u001b[0;34m(self, f, engine, **kwds)\u001b[0m\n\u001b[1;32m    946\u001b[0m             \u001b[0mself\u001b[0m\u001b[0;34m.\u001b[0m\u001b[0moptions\u001b[0m\u001b[0;34m[\u001b[0m\u001b[0;34m\"has_index_names\"\u001b[0m\u001b[0;34m]\u001b[0m \u001b[0;34m=\u001b[0m \u001b[0mkwds\u001b[0m\u001b[0;34m[\u001b[0m\u001b[0;34m\"has_index_names\"\u001b[0m\u001b[0;34m]\u001b[0m\u001b[0;34m\u001b[0m\u001b[0;34m\u001b[0m\u001b[0m\n\u001b[1;32m    947\u001b[0m \u001b[0;34m\u001b[0m\u001b[0m\n\u001b[0;32m--> 948\u001b[0;31m         \u001b[0mself\u001b[0m\u001b[0;34m.\u001b[0m\u001b[0m_make_engine\u001b[0m\u001b[0;34m(\u001b[0m\u001b[0mself\u001b[0m\u001b[0;34m.\u001b[0m\u001b[0mengine\u001b[0m\u001b[0;34m)\u001b[0m\u001b[0;34m\u001b[0m\u001b[0;34m\u001b[0m\u001b[0m\n\u001b[0m\u001b[1;32m    949\u001b[0m \u001b[0;34m\u001b[0m\u001b[0m\n\u001b[1;32m    950\u001b[0m     \u001b[0;32mdef\u001b[0m \u001b[0mclose\u001b[0m\u001b[0;34m(\u001b[0m\u001b[0mself\u001b[0m\u001b[0;34m)\u001b[0m\u001b[0;34m:\u001b[0m\u001b[0;34m\u001b[0m\u001b[0;34m\u001b[0m\u001b[0m\n",
            "\u001b[0;32m/usr/local/lib/python3.7/dist-packages/pandas/io/parsers.py\u001b[0m in \u001b[0;36m_make_engine\u001b[0;34m(self, engine)\u001b[0m\n\u001b[1;32m   1178\u001b[0m     \u001b[0;32mdef\u001b[0m \u001b[0m_make_engine\u001b[0m\u001b[0;34m(\u001b[0m\u001b[0mself\u001b[0m\u001b[0;34m,\u001b[0m \u001b[0mengine\u001b[0m\u001b[0;34m=\u001b[0m\u001b[0;34m\"c\"\u001b[0m\u001b[0;34m)\u001b[0m\u001b[0;34m:\u001b[0m\u001b[0;34m\u001b[0m\u001b[0;34m\u001b[0m\u001b[0m\n\u001b[1;32m   1179\u001b[0m         \u001b[0;32mif\u001b[0m \u001b[0mengine\u001b[0m \u001b[0;34m==\u001b[0m \u001b[0;34m\"c\"\u001b[0m\u001b[0;34m:\u001b[0m\u001b[0;34m\u001b[0m\u001b[0;34m\u001b[0m\u001b[0m\n\u001b[0;32m-> 1180\u001b[0;31m             \u001b[0mself\u001b[0m\u001b[0;34m.\u001b[0m\u001b[0m_engine\u001b[0m \u001b[0;34m=\u001b[0m \u001b[0mCParserWrapper\u001b[0m\u001b[0;34m(\u001b[0m\u001b[0mself\u001b[0m\u001b[0;34m.\u001b[0m\u001b[0mf\u001b[0m\u001b[0;34m,\u001b[0m \u001b[0;34m**\u001b[0m\u001b[0mself\u001b[0m\u001b[0;34m.\u001b[0m\u001b[0moptions\u001b[0m\u001b[0;34m)\u001b[0m\u001b[0;34m\u001b[0m\u001b[0;34m\u001b[0m\u001b[0m\n\u001b[0m\u001b[1;32m   1181\u001b[0m         \u001b[0;32melse\u001b[0m\u001b[0;34m:\u001b[0m\u001b[0;34m\u001b[0m\u001b[0;34m\u001b[0m\u001b[0m\n\u001b[1;32m   1182\u001b[0m             \u001b[0;32mif\u001b[0m \u001b[0mengine\u001b[0m \u001b[0;34m==\u001b[0m \u001b[0;34m\"python\"\u001b[0m\u001b[0;34m:\u001b[0m\u001b[0;34m\u001b[0m\u001b[0;34m\u001b[0m\u001b[0m\n",
            "\u001b[0;32m/usr/local/lib/python3.7/dist-packages/pandas/io/parsers.py\u001b[0m in \u001b[0;36m__init__\u001b[0;34m(self, src, **kwds)\u001b[0m\n\u001b[1;32m   1991\u001b[0m         \u001b[0;32mif\u001b[0m \u001b[0mkwds\u001b[0m\u001b[0;34m.\u001b[0m\u001b[0mget\u001b[0m\u001b[0;34m(\u001b[0m\u001b[0;34m\"compression\"\u001b[0m\u001b[0;34m)\u001b[0m \u001b[0;32mis\u001b[0m \u001b[0;32mNone\u001b[0m \u001b[0;32mand\u001b[0m \u001b[0mencoding\u001b[0m\u001b[0;34m:\u001b[0m\u001b[0;34m\u001b[0m\u001b[0;34m\u001b[0m\u001b[0m\n\u001b[1;32m   1992\u001b[0m             \u001b[0;32mif\u001b[0m \u001b[0misinstance\u001b[0m\u001b[0;34m(\u001b[0m\u001b[0msrc\u001b[0m\u001b[0;34m,\u001b[0m \u001b[0mstr\u001b[0m\u001b[0;34m)\u001b[0m\u001b[0;34m:\u001b[0m\u001b[0;34m\u001b[0m\u001b[0;34m\u001b[0m\u001b[0m\n\u001b[0;32m-> 1993\u001b[0;31m                 \u001b[0msrc\u001b[0m \u001b[0;34m=\u001b[0m \u001b[0mopen\u001b[0m\u001b[0;34m(\u001b[0m\u001b[0msrc\u001b[0m\u001b[0;34m,\u001b[0m \u001b[0;34m\"rb\"\u001b[0m\u001b[0;34m)\u001b[0m\u001b[0;34m\u001b[0m\u001b[0;34m\u001b[0m\u001b[0m\n\u001b[0m\u001b[1;32m   1994\u001b[0m                 \u001b[0mself\u001b[0m\u001b[0;34m.\u001b[0m\u001b[0mhandles\u001b[0m\u001b[0;34m.\u001b[0m\u001b[0mappend\u001b[0m\u001b[0;34m(\u001b[0m\u001b[0msrc\u001b[0m\u001b[0;34m)\u001b[0m\u001b[0;34m\u001b[0m\u001b[0;34m\u001b[0m\u001b[0m\n\u001b[1;32m   1995\u001b[0m \u001b[0;34m\u001b[0m\u001b[0m\n",
            "\u001b[0;31mFileNotFoundError\u001b[0m: [Errno 2] No such file or directory: '/content/inmigrantes_curso_español_2021.csv'"
          ]
        }
      ]
    },
    {
      "cell_type": "code",
      "metadata": {
        "id": "XO7IS8zp7pGB"
      },
      "source": [
        "# make a deep copy of the data frame\n",
        "df_en = df_es.copy()\n",
        "\n",
        "# translate columns' name using rename function\n",
        "df_en.rename(columns=lambda x: translator.translate(x).text, inplace=True)\n",
        "\n",
        "# translated column names\n",
        "df_en.columns"
      ],
      "execution_count": null,
      "outputs": []
    },
    {
      "cell_type": "code",
      "metadata": {
        "id": "L9Eezml6LhLi"
      },
      "source": [
        "# translate columns' name using rename function\n",
        "df_tokyo.rename(columns=lambda x: translator.translate(x).text, inplace=True)\n",
        "# translated column names\n",
        "df_tokyo.columns"
      ],
      "execution_count": null,
      "outputs": []
    },
    {
      "cell_type": "code",
      "metadata": {
        "id": "zyXGR0Hn716E"
      },
      "source": [
        "translations = {}\n",
        "for column in df_en.columns:\n",
        "    # unique elements of the column\n",
        "    unique_elements = df_en[column].unique()\n",
        "    for element in unique_elements:\n",
        "        # add translation to the dictionary\n",
        "        translations[element] = translator.translate(element).text\n",
        "\n",
        "print(translations)\n",
        "#{'A2': 'Aa', 'B1': 'B1', 'A2 DELE': 'A2 PARTS', 'B1 conversación': 'B1 conversation', 'A1': 'A1', 'Alfabetización': 'literacy', 'B2': 'B2', 'Lectoescritura': 'literacy', 'Hombre': 'Man', 'Mujer': 'Woman', 'hombre': 'man', '31 a 50 años': '31 to 50 years', '18 a 30 años': '18 to 30 years', '51 a 65 años': '51 to 65 years', '4 a 17 años': '4 to 17 years', '65': '65', 'Familiar Comunitario': 'family Community', 'Irregular': 'Irregular', 'Otros': 'Others', 'A R ': 'A R', 'Comunitario': 'Community', 'ART': 'ART', 'Estudiante': 'student', 'Asilo / Refugio': 'Asylum / Shelter', 'Familiar comunitario': 'family Community', 'Egipto': 'Egypt', 'Guinea': 'Guinea', 'Marruecos': 'Morocco', 'Filipinas': 'Philippines', 'República Checa': 'Czech Republic', 'Italia': 'Italy', 'Irán': 'Iran', 'Azerbaiyán': 'Azerbaijan', 'Rusia': 'Russia', 'Mongolia': 'Mongolia', 'China': 'China', 'Senegal': 'Senegal', 'Brasil': 'Brazil', 'Kazajstán': 'Kazakhstan', 'Nigeria': 'Nigeria', 'Camerún': 'Cameroon', 'República Árabe Siria': 'Syrian Arab Republic', 'República Federal Democrática de Nepal': 'Federal Democratic Republic of Nepal', 'Costa de Marfil': 'Ivory Coast', 'Rumania': 'Romania', 'Ucrania': 'Ukraine', 'Taiwán': 'Taiwan', 'Lituania': 'Lithuania', 'Bulgaria': 'Bulgaria', 'República de Moldova': 'Republic of Moldova', 'Túnez': 'Tunisia', 'India': 'India', 'Gambia': 'Gambia', 'Viet Nam': 'Vietnam', 'Portugal': 'Portugal', 'Irlanda': 'Ireland', 'Hungría': 'Hungary', 'Malta': 'Malta', 'Tailandia': 'Thailand', 'Malí': 'Mali', 'Reino Unido de Gran Bretaña e Irlanda del Norte': 'United Kingdom of Great Britain and Ireland of the North', 'Chad': 'Chad', 'Argelia': 'Algeria', 'Bangladesh': 'Bangladesh', 'Turquía': 'Turkey', 'Sahara': 'Sahara', 'Etiopía': 'Ethiopia', 'Cabo Verde': 'Cape Verde', 'Ghana': 'Ghana', 'Liberia': 'Liberia', 'Sudán': 'Sudan', 'Polonia': 'Poland', 'Jordania': 'Jordan', 'Alemania': 'Germany', 'Indonesia': 'Indonesia', 'Georgia': 'Georgia', 'República Centroafricana': 'Central African Republic', 'Sierra Leona': 'Sierra Leone', 'Grecia': 'Greece', 'Estados Unidos de América': 'United States of America', 'Yemen': 'Yemen', 'Líbano': 'Lebanon', 'Francia': 'France', 'Pakistán': 'Pakistan', 'Kenya': 'Kenya', 'Canadá': 'Canada', 'Guinea Bissau': 'Guinea Bissau', 'Camboya': 'Cambodia', 'Myanmar': 'Myanmar', 'Iraq': 'Iraq', 'Burkina Faso': 'Burkina Faso', 'Palestina': 'Palestine', 'Ecuador': 'Ecuador', 'república Federal Democrática de Nepal': 'Federal Democratic Republic of Nepal', 'República Dominicana': 'Dominican Republic', 'España': 'Spain', 'Belarús': 'Belarus', 'filipinas': 'Philippines', 'Afganistán': 'Afghanistan', 'Sri Lanka': 'Sri Lanka', 'Singapur': 'Singapore', 'Magreb': 'Magreb', 'África Subsahariana': 'Sub-Saharan Africa', 'Asia': 'Asia', 'Unión Europea': 'European Union', 'Europa Extracomunitaria': 'Europe outside the EU', 'América Latina': 'Latin America', 'África subsahariana': 'Sub-Saharan Africa', 'Norte América': 'North America', 'Desempleado sin prestación': 'Unemployed without benefits', 'Empleado': 'Employee', 'Desempleado con prestación': 'Unemployed with benefit', 'Bachillerato': 'baccalaureate', 'Secundaria': 'High school', 'Universitario': 'academic', 'Primaria': 'Primary', 'F.P': 'F.P', 'Sin estudios': 'uneducated', 'sin estudios': 'uneducated', 'No consta': 'Not included or provided'}\n"
      ],
      "execution_count": null,
      "outputs": []
    },
    {
      "cell_type": "code",
      "metadata": {
        "id": "SDfnUPei7-Tc"
      },
      "source": [
        "# modify wrong translation\n",
        "translations['A2'] = 'A2'\n",
        "translations['A2 DELE'] = 'A2 DELE'\n",
        "\n",
        "# check modifications\n",
        "print(translations)\n",
        "# {'A2': 'A2', 'B1': 'B1', 'A2 DELE': 'A2 DELE', 'B1 conversación': 'B1 conversation', 'A1': 'A1', 'Alfabetización': 'literacy', 'B2': 'B2', 'Lectoescritura': 'literacy', 'Hombre': 'Man', 'Mujer': 'Woman', 'hombre': 'man', '31 a 50 años': '31 to 50 years', '18 a 30 años': '18 to 30 years', '51 a 65 años': '51 to 65 years', '4 a 17 años': '4 to 17 years', '65': '65', 'Familiar Comunitario': 'family Community', 'Irregular': 'Irregular', 'Otros': 'Others', 'A R ': 'A R', 'Comunitario': 'Community', 'ART': 'ART', 'Estudiante': 'student', 'Asilo / Refugio': 'Asylum / Shelter', 'Familiar comunitario': 'family Community', 'Egipto': 'Egypt', 'Guinea': 'Guinea', 'Marruecos': 'Morocco', 'Filipinas': 'Philippines', 'República Checa': 'Czech Republic', 'Italia': 'Italy', 'Irán': 'Iran', 'Azerbaiyán': 'Azerbaijan', 'Rusia': 'Russia', 'Mongolia': 'Mongolia', 'China': 'China', 'Senegal': 'Senegal', 'Brasil': 'Brazil', 'Kazajstán': 'Kazakhstan', 'Nigeria': 'Nigeria', 'Camerún': 'Cameroon', 'República Árabe Siria': 'Syrian Arab Republic', 'República Federal Democrática de Nepal': 'Federal Democratic Republic of Nepal', 'Costa de Marfil': 'Ivory Coast', 'Rumania': 'Romania', 'Ucrania': 'Ukraine', 'Taiwán': 'Taiwan', 'Lituania': 'Lithuania', 'Bulgaria': 'Bulgaria', 'República de Moldova': 'Republic of Moldova', 'Túnez': 'Tunisia', 'India': 'India', 'Gambia': 'Gambia', 'Viet Nam': 'Vietnam', 'Portugal': 'Portugal', 'Irlanda': 'Ireland', 'Hungría': 'Hungary', 'Malta': 'Malta', 'Tailandia': 'Thailand', 'Malí': 'Mali', 'Reino Unido de Gran Bretaña e Irlanda del Norte': 'United Kingdom of Great Britain and Ireland of the North', 'Chad': 'Chad', 'Argelia': 'Algeria', 'Bangladesh': 'Bangladesh', 'Turquía': 'Turkey', 'Sahara': 'Sahara', 'Etiopía': 'Ethiopia', 'Cabo Verde': 'Cape Verde', 'Ghana': 'Ghana', 'Liberia': 'Liberia', 'Sudán': 'Sudan', 'Polonia': 'Poland', 'Jordania': 'Jordan', 'Alemania': 'Germany', 'Indonesia': 'Indonesia', 'Georgia': 'Georgia', 'República Centroafricana': 'Central African Republic', 'Sierra Leona': 'Sierra Leone', 'Grecia': 'Greece', 'Estados Unidos de América': 'United States of America', 'Yemen': 'Yemen', 'Líbano': 'Lebanon', 'Francia': 'France', 'Pakistán': 'Pakistan', 'Kenya': 'Kenya', 'Canadá': 'Canada', 'Guinea Bissau': 'Guinea Bissau', 'Camboya': 'Cambodia', 'Myanmar': 'Myanmar', 'Iraq': 'Iraq', 'Burkina Faso': 'Burkina Faso', 'Palestina': 'Palestine', 'Ecuador': 'Ecuador', 'república Federal Democrática de Nepal': 'Federal Democratic Republic of Nepal', 'República Dominicana': 'Dominican Republic', 'España': 'Spain', 'Belarús': 'Belarus', 'filipinas': 'Philippines', 'Afganistán': 'Afghanistan', 'Sri Lanka': 'Sri Lanka', 'Singapur': 'Singapore', 'Magreb': 'Magreb', 'África Subsahariana': 'Sub-Saharan Africa', 'Asia': 'Asia', 'Unión Europea': 'European Union', 'Europa Extracomunitaria': 'Europe outside the EU', 'América Latina': 'Latin America', 'África subsahariana': 'Sub-Saharan Africa', 'Norte América': 'North America', 'Desempleado sin prestación': 'Unemployed without benefits', 'Empleado': 'Employee', 'Desempleado con prestación': 'Unemployed with benefit', 'Bachillerato': 'baccalaureate', 'Secundaria': 'High school', 'Universitario': 'academic', 'Primaria': 'Primary', 'F.P': 'F.P', 'Sin estudios': 'uneducated', 'sin estudios': 'uneducated', 'No consta': 'Not included or provided'}"
      ],
      "execution_count": null,
      "outputs": []
    },
    {
      "cell_type": "code",
      "metadata": {
        "id": "lsQgtUCJ8E8B"
      },
      "source": [
        "# modify all the terms of the data frame by using the previously created dictionary\n",
        "df_en.replace(translations, inplace = True)\n",
        "\n",
        "# check translation\n",
        "df_en.head()"
      ],
      "execution_count": null,
      "outputs": []
    },
    {
      "cell_type": "code",
      "metadata": {
        "id": "LPOdYgYBLNTA"
      },
      "source": [
        "# sample 2 from japanese to english\n",
        "## load the data and translate its columns' names into english\n",
        "df_tokyo = pd.read_csv('https://pastebin.com/raw/sABRzBd3')\n",
        "df_tokyo.head(1)"
      ],
      "execution_count": null,
      "outputs": []
    },
    {
      "cell_type": "code",
      "source": [],
      "metadata": {
        "id": "qH5Ruf8549pT"
      },
      "execution_count": null,
      "outputs": []
    },
    {
      "cell_type": "code",
      "source": [
        "df_exam = pd.read_csv('https://pastebin.com/raw/cSZ8pYWh')\n",
        "df_exam.head()"
      ],
      "metadata": {
        "id": "gnK5E2X549v-"
      },
      "execution_count": null,
      "outputs": []
    },
    {
      "cell_type": "code",
      "source": [
        "# translate columns' name using rename function\n",
        "df_exam.rename(columns=lambda x: translator.translate(x, src='en', dest='ja').text, inplace=True)\n",
        "# translated column names\n",
        "df_exam.columns"
      ],
      "metadata": {
        "id": "e5bLlHme5M3j"
      },
      "execution_count": null,
      "outputs": []
    },
    {
      "cell_type": "code",
      "source": [
        "df_text = pd.read_csv('https://pastebin.com/raw/UJXwdY9A')\n",
        "df_text"
      ],
      "metadata": {
        "id": "GiC7XL2SDhlk"
      },
      "execution_count": null,
      "outputs": []
    },
    {
      "cell_type": "code",
      "source": [
        "# https://towardsdatascience.com/translate-a-pandas-data-frame-using-googletrans-library-fb0aa7fca592\n",
        "# install googletrans using pip\n",
        "!pip install googletrans==3.1.0a0\n",
        "# import libraries\n",
        "import googletrans\n",
        "from googletrans import Translator\n",
        "import pandas as pd"
      ],
      "metadata": {
        "id": "0ua6ZMboGs53"
      },
      "execution_count": null,
      "outputs": []
    },
    {
      "cell_type": "code",
      "source": [
        "myls = ['emilia', 'clarke', 'singing', 'last', 'christmas', 'better', 'maybe', 'full-length']\n",
        "myls"
      ],
      "metadata": {
        "id": "0JEa1dzLEncF"
      },
      "execution_count": null,
      "outputs": []
    },
    {
      "cell_type": "code",
      "source": [
        "[translator.translate(word, src='en', dest='ja').text for word in myls]"
      ],
      "metadata": {
        "id": "sfi4mrzBGA-2"
      },
      "execution_count": null,
      "outputs": []
    },
    {
      "cell_type": "code",
      "source": [],
      "metadata": {
        "id": "RYGCXKXiGMj5"
      },
      "execution_count": null,
      "outputs": []
    }
  ]
}