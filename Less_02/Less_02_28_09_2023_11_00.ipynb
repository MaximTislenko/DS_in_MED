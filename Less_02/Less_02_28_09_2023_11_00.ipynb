{
  "nbformat": 4,
  "nbformat_minor": 0,
  "metadata": {
    "colab": {
      "provenance": [],
      "authorship_tag": "ABX9TyOCHjCeNje9VYcgA2eA36TS"
    },
    "kernelspec": {
      "name": "python3",
      "display_name": "Python 3"
    },
    "language_info": {
      "name": "python"
    }
  },
  "cells": [
    {
      "cell_type": "code",
      "execution_count": 25,
      "metadata": {
        "id": "tmvZVfW6uBrU"
      },
      "outputs": [],
      "source": [
        "import os\n",
        "import pandas as pd\n",
        "import numpy as np"
      ]
    },
    {
      "cell_type": "code",
      "source": [
        "!wget https://github.com/MaximTislenko/DS_in_MED/raw/main/clinical.project-tcga-dlbc.2023-09-20.tar.gz"
      ],
      "metadata": {
        "colab": {
          "base_uri": "https://localhost:8080/"
        },
        "id": "wHXbDLjxBoaX",
        "outputId": "e14579e5-d6d7-467f-b52a-9f56fe8b9421"
      },
      "execution_count": 26,
      "outputs": [
        {
          "output_type": "stream",
          "name": "stdout",
          "text": [
            "--2023-09-28 06:11:26--  https://github.com/MaximTislenko/DS_in_MED/raw/main/clinical.project-tcga-dlbc.2023-09-20.tar.gz\n",
            "Resolving github.com (github.com)... 140.82.113.4\n",
            "Connecting to github.com (github.com)|140.82.113.4|:443... connected.\n",
            "HTTP request sent, awaiting response... 302 Found\n",
            "Location: https://raw.githubusercontent.com/MaximTislenko/DS_in_MED/main/clinical.project-tcga-dlbc.2023-09-20.tar.gz [following]\n",
            "--2023-09-28 06:11:27--  https://raw.githubusercontent.com/MaximTislenko/DS_in_MED/main/clinical.project-tcga-dlbc.2023-09-20.tar.gz\n",
            "Resolving raw.githubusercontent.com (raw.githubusercontent.com)... 185.199.111.133, 185.199.110.133, 185.199.108.133, ...\n",
            "Connecting to raw.githubusercontent.com (raw.githubusercontent.com)|185.199.111.133|:443... connected.\n",
            "HTTP request sent, awaiting response... 200 OK\n",
            "Length: 9344 (9.1K) [application/octet-stream]\n",
            "Saving to: ‘clinical.project-tcga-dlbc.2023-09-20.tar.gz’\n",
            "\n",
            "clinical.project-tc 100%[===================>]   9.12K  --.-KB/s    in 0s      \n",
            "\n",
            "2023-09-28 06:11:27 (103 MB/s) - ‘clinical.project-tcga-dlbc.2023-09-20.tar.gz’ saved [9344/9344]\n",
            "\n"
          ]
        }
      ]
    },
    {
      "cell_type": "code",
      "source": [
        "import tarfile\n",
        "zipfile = '/content/clinical.project-tcga-dlbc.2023-09-20.tar.gz'\n",
        "if zipfile.endswith(\"tar.gz\"):\n",
        "    tar = tarfile.open(zipfile, \"r:gz\")\n",
        "elif zipfile.endswith(\"tar\"):\n",
        "    tar = tarfile.open(zipfile, \"r:\")\n",
        "tar.extractall()\n",
        "tar.close()"
      ],
      "metadata": {
        "id": "Xq17gvE0KVbI"
      },
      "execution_count": 27,
      "outputs": []
    },
    {
      "cell_type": "markdown",
      "source": [
        "##Видимо клиническая картина\n",
        "Столбцы:\n",
        "* 'case_id' - **идентификатор амбулаторной/стационарной карты**,\n",
        "* 'case_submitter_id'- **идентификатор источника данных**,\n",
        "* 'project_id' - **идентификатор проекта**,\n",
        "* 'age_at_index' - **возраст на момент описания клиники**,\n",
        "* 'age_is_obfuscated' - **возраст неизвестен?**,\n",
        "* 'cause_of_death' - **причина смерти**,\n",
        "* 'cause_of_death_source' - **причина смерти источник**,\n",
        "* 'country_of_residence_at_enrollment' - **страна проживания на момент регистрации**,\n",
        "* 'days_to_birth' - **дата рождения**,\n",
        "* 'days_to_death' - **дата смерти**,\n",
        "* 'ethnicity' - **этническая принадлежность**,\n",
        "* 'gender' - **пол**,\n",
        "* 'occupation_duration_years' - **трудовой стаж, лет**,\n",
        "* 'premature_at_birth' - **недоношенный при рождении**,\n",
        "* 'race' - **расса**,\n",
        "* 'vital_status' - **жизненый уровень**,\n",
        "* 'weeks_gestation_at_birth' - **неделя гестации при рождении**,\n",
        "* 'year_of_birth',\n",
        "* 'year_of_death',\n",
        "* 'adrenal_hormone',\n",
        "* 'age_at_diagnosis',\n",
        "* 'ajcc_clinical_m',\n",
        "* 'ajcc_clinical_n',\n",
        "* 'ajcc_clinical_stage',\n",
        "* 'ajcc_clinical_t',\n",
        "* 'ajcc_pathologic_m',\n",
        "* 'ajcc_pathologic_n',\n",
        "* 'ajcc_pathologic_stage',\n",
        "* 'ajcc_pathologic_t',\n",
        "* 'ajcc_staging_system_edition',\n",
        "* 'anaplasia_present',\n",
        "* 'anaplasia_present_type',\n",
        "* 'ann_arbor_b_symptoms',\n",
        "* 'ann_arbor_b_symptoms_described',\n",
        "* 'ann_arbor_clinical_stage',\n",
        "* 'ann_arbor_extranodal_involvement',\n",
        "* 'ann_arbor_pathologic_stage',\n",
        "* 'best_overall_response',\n",
        "* 'breslow_thickness',\n",
        "* 'burkitt_lymphoma_clinical_variant',\n",
        "* 'child_pugh_classification',\n",
        "* 'circumferential_resection_margin',\n",
        "* 'classification_of_tumor',\n",
        "* 'cog_liver_stage',\n",
        "* 'cog_neuroblastoma_risk_group',\n",
        "* 'cog_renal_stage',\n",
        "* 'cog_rhabdomyosarcoma_risk_group',\n",
        "* 'days_to_best_overall_response',\n",
        "* 'days_to_diagnosis',\n",
        "* 'days_to_last_follow_up',\n",
        "* 'days_to_last_known_disease_status',\n",
        "* 'days_to_recurrence',\n",
        "* 'eln_risk_classification',\n",
        "* 'enneking_msts_grade',\n",
        "* 'enneking_msts_metastasis',\n",
        "* 'enneking_msts_stage',\n",
        "* 'enneking_msts_tumor_site',\n",
        "* 'esophageal_columnar_dysplasia_degree',\n",
        "* 'esophageal_columnar_metaplasia_present',\n",
        "* 'figo_stage',\n",
        "* 'figo_staging_edition_year',\n",
        "* 'first_symptom_prior_to_diagnosis',\n",
        "* 'gastric_esophageal_junction_involvement',\n",
        "* 'gleason_grade_group',\n",
        "* 'gleason_grade_tertiary',\n",
        "* 'gleason_patterns_percent',\n",
        "* 'goblet_cells_columnar_mucosa_present',\n",
        "* 'greatest_tumor_dimension',\n",
        "* 'gross_tumor_weight',\n",
        "* 'icd_10_code',\n",
        "* 'igcccg_stage',\n",
        "* 'inpc_grade',\n",
        "* 'inpc_histologic_group',\n",
        "* 'inrg_stage',\n",
        "* 'inss_stage',\n",
        "* 'international_prognostic_index',\n",
        "* 'irs_group',\n",
        "* 'irs_stage',\n",
        "* 'ishak_fibrosis_score',\n",
        "* 'iss_stage',\n",
        "* 'largest_extrapelvic_peritoneal_focus',\n",
        "* 'last_known_disease_status',\n",
        "* 'laterality',\n",
        "* 'lymph_node_involved_site',\n",
        "* 'lymph_nodes_positive',\n",
        "* 'lymph_nodes_tested',\n",
        "* 'lymphatic_invasion_present',\n",
        "* 'margin_distance',\n",
        "* 'margins_involved_site',\n",
        "* 'masaoka_stage',\n",
        "* 'medulloblastoma_molecular_classification',\n",
        "* 'metastasis_at_diagnosis',\n",
        "* 'metastasis_at_diagnosis_site',\n",
        "* 'method_of_diagnosis',\n",
        "* 'micropapillary_features',\n",
        "* 'mitosis_karyorrhexis_index',\n",
        "* 'mitotic_count',\n",
        "* 'morphology',\n",
        "* 'non_nodal_regional_disease',\n",
        "* 'non_nodal_tumor_deposits',\n",
        "* 'ovarian_specimen_status',\n",
        "* 'ovarian_surface_involvement',\n",
        "* 'papillary_renal_cell_type',\n",
        "* 'percent_tumor_invasion',\n",
        "* 'perineural_invasion_present',\n",
        "* 'peripancreatic_lymph_nodes_positive',\n",
        "* 'peripancreatic_lymph_nodes_tested',\n",
        "* 'peritoneal_fluid_cytological_status',\n",
        "* 'pregnant_at_diagnosis',\n",
        "* 'primary_diagnosis',\n",
        "* 'primary_disease',\n",
        "* 'primary_gleason_grade',\n",
        "* 'prior_malignancy',\n",
        "* 'prior_treatment',\n",
        "* 'progression_or_recurrence',\n",
        "* 'residual_disease',\n",
        "* 'satellite_nodule_present',\n",
        "* 'secondary_gleason_grade',\n",
        "* 'site_of_resection_or_biopsy',\n",
        "* 'sites_of_involvement',\n",
        "* 'supratentorial_localization',\n",
        "* 'synchronous_malignancy',\n",
        "* 'tissue_or_organ_of_origin',\n",
        "* 'transglottic_ex*tension',\n",
        "* 'tumor_confined_to_organ_of_origin',\n",
        "* 'tumor_depth',\n",
        "* 'tumor_focality',\n",
        "* 'tumor_grade',\n",
        "* 'tumor_largest_dimension_diameter',\n",
        "* 'tumor_regression_grade',\n",
        "* 'tumor_stage',\n",
        "* 'vascular_invasion_present',\n",
        "* 'vascular_invasion_type',\n",
        "* 'weiss_assessment_score',\n",
        "* 'who_cns_grade',\n",
        "* 'who_nte_grade',\n",
        "* 'wilms_tumor_histologic_subtype',\n",
        "* 'year_of_diagnosis',\n",
        "* 'chemo_concurrent_to_radiation',\n",
        "* 'days_to_treatment_end',\n",
        "* 'days_to_treatment_start',\n",
        "* 'initial_disease_status',\n",
        "* 'number_of_cycles',\n",
        "* 'reason_treatment_ended',\n",
        "* 'regimen_or_line_of_therapy',\n",
        "* 'route_of_administration',\n",
        "* 'therapeutic_agents',\n",
        "* 'treatment_anatomic_site',\n",
        "* 'treatment_arm',\n",
        "* 'treatment_dose',\n",
        "* 'treatment_dose_units',\n",
        "* 'treatment_effect',\n",
        "* 'treatment_effect_indicator',\n",
        "* 'treatment_frequency',\n",
        "* 'treatment_intent_type',\n",
        "* 'treatment_or_therapy',\n",
        "* 'treatment_outcome',\n",
        "* 'treatment_type'"
      ],
      "metadata": {
        "id": "jPkdlPFzPr-Z"
      }
    },
    {
      "cell_type": "code",
      "source": [
        "clin = pd.read_csv('/content/clinical.tsv', sep=None)\n",
        "# clin"
      ],
      "metadata": {
        "colab": {
          "base_uri": "https://localhost:8080/"
        },
        "id": "ah_wBIJHK4n4",
        "outputId": "149f7d38-a54b-44d8-a258-e17b9a4f31c5"
      },
      "execution_count": 54,
      "outputs": [
        {
          "output_type": "stream",
          "name": "stderr",
          "text": [
            "<ipython-input-54-8e2fd7ee7e50>:1: ParserWarning: Falling back to the 'python' engine because the 'c' engine does not support sep=None with delim_whitespace=False; you can avoid this warning by specifying engine='python'.\n",
            "  clin = pd.read_csv('/content/clinical.tsv', sep=None)\n"
          ]
        }
      ]
    },
    {
      "cell_type": "code",
      "source": [
        "# clin.columns.values.tolist ()"
      ],
      "metadata": {
        "id": "2HCaHv2uPad5"
      },
      "execution_count": 55,
      "outputs": []
    },
    {
      "cell_type": "code",
      "source": [
        "clin['weeks_gestation_at_birth']"
      ],
      "metadata": {
        "id": "vV3aS61rvN6a",
        "outputId": "5406decd-88d2-4336-c5e0-07dd13dde40a",
        "colab": {
          "base_uri": "https://localhost:8080/"
        }
      },
      "execution_count": 62,
      "outputs": [
        {
          "output_type": "execute_result",
          "data": {
            "text/plain": [
              "0      '--\n",
              "1      '--\n",
              "2      '--\n",
              "3      '--\n",
              "4      '--\n",
              "      ... \n",
              "101    '--\n",
              "102    '--\n",
              "103    '--\n",
              "104    '--\n",
              "105    '--\n",
              "Name: weeks_gestation_at_birth, Length: 106, dtype: object"
            ]
          },
          "metadata": {},
          "execution_count": 62
        }
      ]
    },
    {
      "cell_type": "markdown",
      "source": [
        "##Видимо Группы риска (вредные привычки).\n",
        "#!NB Самая старая женьщина в Мире всю жизнь курила и лопала шоколад (прожила 120 лет)\n",
        "\n",
        "Колонки:\n",
        "* 'case_id' ,\n",
        "* 'case_submitter_id',\n",
        "* 'project_id',\n",
        "* 'age_at_onset',\n",
        "* 'alcohol_days_per_week',\n",
        "* 'alcohol_drinks_per_day',\n",
        "* 'alcohol_history',\n",
        "* 'alcohol_intensity',\n",
        "* 'alcohol_type',\n",
        "* 'asbestos_exposure',\n",
        "* 'bmi',\n",
        "* 'cigarettes_per_day',\n",
        "* 'coal_dust_exposure',\n",
        "* 'environmental_tobacco_smoke_exposure',\n",
        "* 'exposure_duration',\n",
        "* 'exposure_duration_years',\n",
        "* 'exposure_type',\n",
        "* 'height',\n",
        "* 'marijuana_use_per_week',\n",
        "* 'pack_years_smoked',\n",
        "* 'parent_with_radiation_exposure',\n",
        "* 'radon_exposure',\n",
        "* 'respirable_crystalline_silica_exposure',\n",
        "* 'secondhand_smoke_as_child',\n",
        "* 'smokeless_tobacco_quit_age',\n",
        "* 'smoking_frequency',\n",
        "* 'time_between_waking_and_first_smoke',\n",
        "* 'tobacco_smoking_onset_year',\n",
        "* 'tobacco_smoking_quit_year',\n",
        "* 'tobacco_smoking_status',\n",
        "* 'tobacco_use_per_day',\n",
        "* 'type_of_smoke_exposure',\n",
        "* 'type_of_tobacco_used',\n",
        "* 'weight',\n",
        "* 'years_smoked'"
      ],
      "metadata": {
        "id": "B40qyn82N_p5"
      }
    },
    {
      "cell_type": "code",
      "source": [
        "exposure = pd.read_csv('/content/exposure.tsv', sep=None)\n",
        "# exposure"
      ],
      "metadata": {
        "colab": {
          "base_uri": "https://localhost:8080/"
        },
        "id": "Y77P4vHRNIkA",
        "outputId": "a3d0e135-8645-4a20-d301-8aa6c65e376a"
      },
      "execution_count": 46,
      "outputs": [
        {
          "output_type": "stream",
          "name": "stderr",
          "text": [
            "<ipython-input-46-91fbf7ee888d>:1: ParserWarning: Falling back to the 'python' engine because the 'c' engine does not support sep=None with delim_whitespace=False; you can avoid this warning by specifying engine='python'.\n",
            "  exposure = pd.read_csv('/content/exposure.tsv', sep=None)\n"
          ]
        }
      ]
    },
    {
      "cell_type": "code",
      "source": [
        "# exposure.columns.values.tolist ()"
      ],
      "metadata": {
        "id": "B6MAc8i_Ofbb"
      },
      "execution_count": 47,
      "outputs": []
    },
    {
      "cell_type": "code",
      "source": [
        "# exposure.info()"
      ],
      "metadata": {
        "id": "1SFOxsHNXhNG"
      },
      "execution_count": 48,
      "outputs": []
    },
    {
      "cell_type": "markdown",
      "source": [
        "##Видимо Семейный анамнез (история семьи)\n",
        "Но записей нет\n",
        "Столбцы:\n",
        "* 'case_id',\n",
        "* 'case_submitter_id',\n",
        "* 'project_id',\n",
        "* 'relationship_age_at_diagnosis',\n",
        "* 'relationship_gender',\n",
        "* 'relationship_primary_diagnosis',\n",
        "* 'relationship_type',\n",
        "* 'relative_with_cancer_history',\n",
        "* 'relatives_with_cancer_history_count'"
      ],
      "metadata": {
        "id": "8xDuhbTHX6__"
      }
    },
    {
      "cell_type": "code",
      "source": [
        "fam_hist = pd.read_csv('/content/family_history.tsv', sep= None)\n",
        "# fam_hist.info()"
      ],
      "metadata": {
        "id": "4VwUy1qUrxMo",
        "outputId": "38d1cc85-83b8-4f02-ae95-a49cfc26ba20",
        "colab": {
          "base_uri": "https://localhost:8080/"
        }
      },
      "execution_count": 53,
      "outputs": [
        {
          "output_type": "stream",
          "name": "stderr",
          "text": [
            "<ipython-input-53-b54e295bc04e>:1: ParserWarning: Falling back to the 'python' engine because the 'c' engine does not support sep=None with delim_whitespace=False; you can avoid this warning by specifying engine='python'.\n",
            "  fam_hist = pd.read_csv('/content/family_history.tsv', sep= None)\n"
          ]
        }
      ]
    },
    {
      "cell_type": "markdown",
      "source": [
        "##Видимо Исход (дальнейшее наблюдение, диспансеризация)\n",
        "Но записей нет\n",
        "\n",
        "Столбцы:\n",
        "* 'case_id',\n",
        "* 'case_submitter_id',\n",
        "* 'project_id',\n",
        "* 'adverse_event',\n",
        "* 'adverse_event_grade',\n",
        "* 'aids_risk_factors',\n",
        "* 'barretts_esophagus_goblet_cells_present',\n",
        "* 'bmi',\n",
        "* 'body_surface_area',\n",
        "* 'cause_of_response',\n",
        "* 'cd4_count',\n",
        "* 'cdc_hiv_risk_factors',\n",
        "* 'comorbidity',\n",
        "* 'comorbidity_method_of_diagnosis',\n",
        "* 'days_to_adverse_event',\n",
        "* 'days_to_comorbidity',\n",
        "* 'days_to_follow_up',\n",
        "* 'days_to_imaging',\n",
        "* 'days_to_progression',\n",
        "* 'days_to_progression_free',\n",
        "* 'days_to_recurrence',\n",
        "* 'diabetes_treatment_type',\n",
        "* 'disease_response',\n",
        "* 'dlco_ref_predictive_percent',\n",
        "* 'ecog_performance_status',\n",
        "* 'evidence_of_recurrence_type',\n",
        "* 'eye_color',\n",
        "* 'fev1_fvc_post_bronch_percent',\n",
        "* 'fev1_fvc_pre_bronch_percent',\n",
        "* 'fev1_ref_post_bronch_percent',\n",
        "* 'fev1_ref_pre_bronch_percent',\n",
        "* 'follow_up_id',\n",
        "* 'follow_up_submitter_id',\n",
        "* 'haart_treatment_indicator',\n",
        "* 'height',\n",
        "* 'hepatitis_sustained_virological_response',\n",
        "* 'history_of_tumor',\n",
        "* 'history_of_tumor_type',\n",
        "* 'hiv_viral_load',\n",
        "* 'hormonal_contraceptive_type',\n",
        "* 'hormonal_contraceptive_use',\n",
        "* 'hormone_replacement_therapy_type',\n",
        "* 'hpv_positive_type',\n",
        "* 'hysterectomy_margins_involved',\n",
        "* 'hysterectomy_type',\n",
        "* 'imaging_result',\n",
        "* 'imaging_type',\n",
        "* 'immunosuppressive_treatment_type',\n",
        "* 'karnofsky_performance_status',\n",
        "* 'menopause_status',\n",
        "* 'nadir_cd4_count',\n",
        "* 'pancreatitis_onset_year',\n",
        "* 'pregnancy_outcome',\n",
        "* 'procedures_performed',\n",
        "* 'progression_or_recurrence',\n",
        "* 'progression_or_recurrence_anatomic_site',\n",
        "* 'progression_or_recurrence_type',\n",
        "* 'recist_targeted_regions_number',\n",
        "* 'recist_targeted_regions_sum',\n",
        "* 'reflux_treatment_type',\n",
        "* 'risk_factor',\n",
        "* 'risk_factor_treatment',\n",
        "* 'scan_tracer_used',\n",
        "* 'undescended_testis_corrected',\n",
        "* 'undescended_testis_corrected_age',\n",
        "* 'undescended_testis_corrected_laterality',\n",
        "* 'undescended_testis_corrected_method',\n",
        "* 'undescended_testis_history',\n",
        "* 'undescended_testis_history_laterality',\n",
        "* 'viral_hepatitis_serologies',\n",
        "* 'weight',\n",
        "* 'aa_change',\n",
        "* 'antigen',\n",
        "* 'biospecimen_type',\n",
        "* 'biospecimen_volume',\n",
        "* 'blood_test_normal_range_lower',\n",
        "* 'blood_test_normal_range_upper',\n",
        "* 'cell_count',\n",
        "* 'chromosome',\n",
        "* 'clonality',\n",
        "* 'copy_number',\n",
        "* 'cytoband',\n",
        "* 'days_to_test',\n",
        "* 'exon',\n",
        "* 'gene_symbol',\n",
        "* 'histone_family',\n",
        "* 'histone_variant',\n",
        "* 'intron',\n",
        "* 'laboratory_test',\n",
        "* 'loci_abnormal_count',\n",
        "* 'loci_count',\n",
        "* 'locus',\n",
        "* 'mismatch_repair_mutation',\n",
        "* 'mitotic_count',\n",
        "* 'mitotic_total_area',\n",
        "* 'molecular_analysis_method',\n",
        "* 'molecular_consequence',\n",
        "* 'molecular_test_id',\n",
        "* 'molecular_test_submitter_id',\n",
        "* 'pathogenicity',\n",
        "* 'ploidy',\n",
        "* 'second_exon',\n",
        "* 'second_gene_symbol',\n",
        "* 'specialized_molecular_test',\n",
        "* 'test_analyte_type',\n",
        "* 'test_result',\n",
        "* 'test_units',\n",
        "* 'test_value',\n",
        "* 'transcript',\n",
        "* 'variant_origin',\n",
        "* 'variant_type',\n",
        "* 'zygosity'\n"
      ],
      "metadata": {
        "id": "1WxBV0V_emm3"
      }
    },
    {
      "cell_type": "code",
      "source": [
        "foll_up = pd.read_csv('/content/follow_up.tsv', sep= None)\n",
        "# foll_up"
      ],
      "metadata": {
        "id": "HiBWgKzBYU-Y",
        "outputId": "c19dad99-b24f-46ec-b1bd-25f94736fbb1",
        "colab": {
          "base_uri": "https://localhost:8080/"
        }
      },
      "execution_count": 49,
      "outputs": [
        {
          "output_type": "stream",
          "name": "stderr",
          "text": [
            "<ipython-input-49-f5634306870d>:1: ParserWarning: Falling back to the 'python' engine because the 'c' engine does not support sep=None with delim_whitespace=False; you can avoid this warning by specifying engine='python'.\n",
            "  foll_up = pd.read_csv('/content/follow_up.tsv', sep= None)\n"
          ]
        }
      ]
    },
    {
      "cell_type": "code",
      "source": [
        "# foll_up.columns.values.tolist()"
      ],
      "metadata": {
        "id": "FPxy3RaiZNwn"
      },
      "execution_count": 50,
      "outputs": []
    },
    {
      "cell_type": "code",
      "source": [
        "# foll_up.info()"
      ],
      "metadata": {
        "id": "jfI6Cam7Zrlv"
      },
      "execution_count": 51,
      "outputs": []
    },
    {
      "cell_type": "markdown",
      "source": [
        "##Видимо Подробности патологии\n",
        "Но тоже пустая\n",
        "\n",
        "Столбцы:\n",
        "* 'case_id',\n",
        "* 'case_submitter_id',\n",
        "* 'project_id',\n",
        "* 'diagnosis_id',\n",
        "* 'diagnosis_submitter_id',\n",
        "* 'additional_pathology_findings',\n",
        "* 'anaplasia_present',\n",
        "* 'anaplasia_present_type',\n",
        "* 'bone_marrow_malignant_cells',\n",
        "* 'breslow_thickness',\n",
        "* 'circumferential_resection_margin',\n",
        "* 'columnar_mucosa_present',\n",
        "* 'consistent_pathology_review',\n",
        "* 'dysplasia_degree',\n",
        "* 'dysplasia_type',\n",
        "* 'greatest_tumor_dimension',\n",
        "* 'gross_tumor_weight',\n",
        "* 'largest_extrapelvic_peritoneal_focus',\n",
        "* 'lymph_node_involved_site',\n",
        "* 'lymph_node_involvement',\n",
        "* 'lymph_nodes_positive',\n",
        "* 'lymph_nodes_tested',\n",
        "* 'lymphatic_invasion_present',\n",
        "* 'margin_status',\n",
        "* 'metaplasia_present',\n",
        "* 'morphologic_architectural_pattern',\n",
        "* 'necrosis_percent',\n",
        "* 'necrosis_present',\n",
        "* 'non_nodal_regional_disease',\n",
        "* 'non_nodal_tumor_deposits',\n",
        "* 'number_proliferating_cells',\n",
        "* 'pathology_detail_id',\n",
        "* 'pathology_detail_submitter_id',\n",
        "* 'percent_tumor_invasion',\n",
        "* 'perineural_invasion_present',\n",
        "* 'peripancreatic_lymph_nodes_positive',\n",
        "* 'peripancreatic_lymph_nodes_tested',\n",
        "* 'prostatic_chips_positive_count',\n",
        "* 'prostatic_chips_total_count',\n",
        "* 'prostatic_involvement_percent',\n",
        "* 'residual_tumor',\n",
        "* 'rhabdoid_percent',\n",
        "* 'rhabdoid_present',\n",
        "* 'sarcomatoid_percent',\n",
        "* 'sarcomatoid_present',\n",
        "* 'size_extraocular_nodule',\n",
        "* 'transglottic_extension',\n",
        "* 'tumor_largest_dimension_diameter',\n",
        "* 'tumor_thickness',\n",
        "* 'vascular_invasion_present',\n",
        "* 'vascular_invasion_type'"
      ],
      "metadata": {
        "id": "Og_XNZUyiYEx"
      }
    },
    {
      "cell_type": "code",
      "source": [
        "# path_det = pd.read_csv('/content/pathology_detail.tsv', sep=None)\n",
        "# path_det"
      ],
      "metadata": {
        "id": "VaQC-f0xfQIP"
      },
      "execution_count": 40,
      "outputs": []
    },
    {
      "cell_type": "code",
      "source": [
        "# path_det.columns.values.tolist()"
      ],
      "metadata": {
        "id": "CiipC8ebh3dn"
      },
      "execution_count": 41,
      "outputs": []
    },
    {
      "cell_type": "code",
      "source": [
        "# path_det.info()"
      ],
      "metadata": {
        "id": "RxVmbJZOiOf3"
      },
      "execution_count": 39,
      "outputs": []
    },
    {
      "cell_type": "markdown",
      "source": [
        "#Заключение\n",
        "В архиве представлено 5 таблиц (Клиника, Группы риска, Семейный анамнез, Исход, Подробности патологии), 3 таблицы не заполнены. Поэтому в работу их не беру. Итого в работе 2 таблицы (Клиника(***clinical.tsv***) и Группы риска(***exposure.tsv***)).\n",
        "Для началы выберу столбцы в каждой таблице и объединю их по ***case_id***"
      ],
      "metadata": {
        "id": "nn2_wwV7jOeZ"
      }
    }
  ]
}
