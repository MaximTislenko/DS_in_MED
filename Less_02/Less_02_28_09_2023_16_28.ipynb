{
  "nbformat": 4,
  "nbformat_minor": 0,
  "metadata": {
    "colab": {
      "provenance": [],
      "authorship_tag": "ABX9TyNKrjksPhjYfCCZO7n1ZiOF"
    },
    "kernelspec": {
      "name": "python3",
      "display_name": "Python 3"
    },
    "language_info": {
      "name": "python"
    }
  },
  "cells": [
    {
      "cell_type": "code",
      "execution_count": 1,
      "metadata": {
        "id": "tmvZVfW6uBrU"
      },
      "outputs": [],
      "source": [
        "import os\n",
        "import pandas as pd\n",
        "import numpy as np"
      ]
    },
    {
      "cell_type": "code",
      "source": [
        "!wget https://github.com/MaximTislenko/DS_in_MED/raw/main/clinical.project-tcga-dlbc.2023-09-20.tar.gz"
      ],
      "metadata": {
        "colab": {
          "base_uri": "https://localhost:8080/"
        },
        "id": "wHXbDLjxBoaX",
        "outputId": "4dc94240-4887-4562-8c76-ac1470ffab9d"
      },
      "execution_count": 2,
      "outputs": [
        {
          "output_type": "stream",
          "name": "stdout",
          "text": [
            "--2023-09-28 11:57:59--  https://github.com/MaximTislenko/DS_in_MED/raw/main/clinical.project-tcga-dlbc.2023-09-20.tar.gz\n",
            "Resolving github.com (github.com)... 140.82.114.3\n",
            "Connecting to github.com (github.com)|140.82.114.3|:443... connected.\n",
            "HTTP request sent, awaiting response... 302 Found\n",
            "Location: https://raw.githubusercontent.com/MaximTislenko/DS_in_MED/main/clinical.project-tcga-dlbc.2023-09-20.tar.gz [following]\n",
            "--2023-09-28 11:57:59--  https://raw.githubusercontent.com/MaximTislenko/DS_in_MED/main/clinical.project-tcga-dlbc.2023-09-20.tar.gz\n",
            "Resolving raw.githubusercontent.com (raw.githubusercontent.com)... 185.199.108.133, 185.199.109.133, 185.199.110.133, ...\n",
            "Connecting to raw.githubusercontent.com (raw.githubusercontent.com)|185.199.108.133|:443... connected.\n",
            "HTTP request sent, awaiting response... 200 OK\n",
            "Length: 9344 (9.1K) [application/octet-stream]\n",
            "Saving to: ‘clinical.project-tcga-dlbc.2023-09-20.tar.gz’\n",
            "\n",
            "clinical.project-tc 100%[===================>]   9.12K  --.-KB/s    in 0s      \n",
            "\n",
            "2023-09-28 11:57:59 (44.6 MB/s) - ‘clinical.project-tcga-dlbc.2023-09-20.tar.gz’ saved [9344/9344]\n",
            "\n"
          ]
        }
      ]
    },
    {
      "cell_type": "code",
      "source": [
        "import tarfile\n",
        "zipfile = '/content/clinical.project-tcga-dlbc.2023-09-20.tar.gz'\n",
        "if zipfile.endswith(\"tar.gz\"):\n",
        "    tar = tarfile.open(zipfile, \"r:gz\")\n",
        "elif zipfile.endswith(\"tar\"):\n",
        "    tar = tarfile.open(zipfile, \"r:\")\n",
        "tar.extractall()\n",
        "tar.close()"
      ],
      "metadata": {
        "id": "Xq17gvE0KVbI"
      },
      "execution_count": 3,
      "outputs": []
    },
    {
      "cell_type": "markdown",
      "source": [
        "##Видимо клиническая картина\n",
        "Столбцы:\n",
        "* 'case_id' - **идентификатор амбулаторной/стационарной карты**,\n",
        "* 'case_submitter_id'- **идентификатор источника данных**,\n",
        "* 'project_id' - **идентификатор проекта**,\n",
        "* 'age_at_index' - **возраст на момент описания клиники**,\n",
        "* 'age_is_obfuscated' - **возраст неизвестен?**,\n",
        "* 'cause_of_death' - **причина смерти**,\n",
        "* 'cause_of_death_source' - **причина смерти источник**,\n",
        "* 'country_of_residence_at_enrollment' - **страна проживания на момент регистрации**,\n",
        "* 'days_to_birth' - **дата рождения**,\n",
        "* 'days_to_death' - **дата смерти**,\n",
        "* 'ethnicity' - **этническая принадлежность**,\n",
        "* 'gender' - **пол**,\n",
        "* 'occupation_duration_years' - **трудовой стаж, лет**,\n",
        "* 'premature_at_birth' - **недоношенный при рождении**,\n",
        "* 'race' - **расса**,\n",
        "* 'vital_status' - **жизненый уровень**,\n",
        "* 'weeks_gestation_at_birth' - **неделя гестации при рождении**,\n",
        "* 'year_of_birth' - **год рождения**,\n",
        "* 'year_of_death' - **год смерти**,\n",
        "* 'adrenal_hormone' - **гормоны надпочечников** ,\n",
        "* 'age_at_diagnosis' - **продолжительность болезни**,\n",
        "\n",
        "#AJCC - Американский объединенный комитет по раку\n",
        "* 'ajcc_clinical_m'- **продолжительность проявления клин.проявлений, мес??**,\n",
        "* 'ajcc_clinical_n'- **продолжительность проявления клин.проявлений, нед??**,\n",
        "* 'ajcc_clinical_stage' - **продолжительность стадии клин.проявлений??**\n",
        "* 'ajcc_clinical_t' - **продолжительность проявления клин.проявлений, час??**,\n",
        "* 'ajcc_pathologic_m'- **продолжительность заболевания, мес**,\n",
        "* 'ajcc_pathologic_n'- **продолжительность заболевания, нед**,\n",
        "* 'ajcc_pathologic_stage - **продолжительность стадии заболевания**',\n",
        "* 'ajcc_pathologic_t'- **продолжительность заболевания, час**,\n",
        "* 'ajcc_staging_system_edition - ',\n",
        "* 'anaplasia_present',\n",
        "* 'anaplasia_present_type',\n",
        "* 'ann_arbor_b_symptoms',\n",
        "* 'ann_arbor_b_symptoms_described',\n",
        "* 'ann_arbor_clinical_stage',\n",
        "* 'ann_arbor_extranodal_involvement',\n",
        "* 'ann_arbor_pathologic_stage',\n",
        "* 'best_overall_response',\n",
        "* 'breslow_thickness',\n",
        "* 'burkitt_lymphoma_clinical_variant',\n",
        "* 'child_pugh_classification',\n",
        "* 'circumferential_resection_margin',\n",
        "* 'classification_of_tumor',\n",
        "* 'cog_liver_stage',\n",
        "* 'cog_neuroblastoma_risk_group',\n",
        "* 'cog_renal_stage',\n",
        "* 'cog_rhabdomyosarcoma_risk_group',\n",
        "* 'days_to_best_overall_response',\n",
        "* 'days_to_diagnosis',\n",
        "* 'days_to_last_follow_up',\n",
        "* 'days_to_last_known_disease_status',\n",
        "* 'days_to_recurrence',\n",
        "* 'eln_risk_classification',\n",
        "* 'enneking_msts_grade',\n",
        "* 'enneking_msts_metastasis',\n",
        "* 'enneking_msts_stage',\n",
        "* 'enneking_msts_tumor_site',\n",
        "* 'esophageal_columnar_dysplasia_degree',\n",
        "* 'esophageal_columnar_metaplasia_present',\n",
        "* 'figo_stage',\n",
        "* 'figo_staging_edition_year',\n",
        "* 'first_symptom_prior_to_diagnosis',\n",
        "* 'gastric_esophageal_junction_involvement',\n",
        "* 'gleason_grade_group',\n",
        "* 'gleason_grade_tertiary',\n",
        "* 'gleason_patterns_percent',\n",
        "* 'goblet_cells_columnar_mucosa_present',\n",
        "* 'greatest_tumor_dimension',\n",
        "* 'gross_tumor_weight',\n",
        "* 'icd_10_code',\n",
        "* 'igcccg_stage',\n",
        "* 'inpc_grade',\n",
        "* 'inpc_histologic_group',\n",
        "* 'inrg_stage',\n",
        "* 'inss_stage',\n",
        "* 'international_prognostic_index',\n",
        "* 'irs_group',\n",
        "* 'irs_stage',\n",
        "* 'ishak_fibrosis_score',\n",
        "* 'iss_stage',\n",
        "* 'largest_extrapelvic_peritoneal_focus',\n",
        "* 'last_known_disease_status',\n",
        "* 'laterality',\n",
        "* 'lymph_node_involved_site',\n",
        "* 'lymph_nodes_positive',\n",
        "* 'lymph_nodes_tested',\n",
        "* 'lymphatic_invasion_present',\n",
        "* 'margin_distance',\n",
        "* 'margins_involved_site',\n",
        "* 'masaoka_stage',\n",
        "* 'medulloblastoma_molecular_classification',\n",
        "* 'metastasis_at_diagnosis',\n",
        "* 'metastasis_at_diagnosis_site',\n",
        "* 'method_of_diagnosis',\n",
        "* 'micropapillary_features',\n",
        "* 'mitosis_karyorrhexis_index',\n",
        "* 'mitotic_count',\n",
        "* 'morphology',\n",
        "* 'non_nodal_regional_disease',\n",
        "* 'non_nodal_tumor_deposits',\n",
        "* 'ovarian_specimen_status',\n",
        "* 'ovarian_surface_involvement',\n",
        "* 'papillary_renal_cell_type',\n",
        "* 'percent_tumor_invasion',\n",
        "* 'perineural_invasion_present',\n",
        "* 'peripancreatic_lymph_nodes_positive',\n",
        "* 'peripancreatic_lymph_nodes_tested',\n",
        "* 'peritoneal_fluid_cytological_status',\n",
        "* 'pregnant_at_diagnosis',\n",
        "* 'primary_diagnosis',\n",
        "* 'primary_disease',\n",
        "* 'primary_gleason_grade',\n",
        "* 'prior_malignancy',\n",
        "* 'prior_treatment',\n",
        "* 'progression_or_recurrence',\n",
        "* 'residual_disease',\n",
        "* 'satellite_nodule_present',\n",
        "* 'secondary_gleason_grade',\n",
        "* 'site_of_resection_or_biopsy',\n",
        "* 'sites_of_involvement',\n",
        "* 'supratentorial_localization',\n",
        "* 'synchronous_malignancy',\n",
        "* 'tissue_or_organ_of_origin',\n",
        "* 'transglottic_ex*tension',\n",
        "* 'tumor_confined_to_organ_of_origin',\n",
        "* 'tumor_depth',\n",
        "* 'tumor_focality',\n",
        "* 'tumor_grade',\n",
        "* 'tumor_largest_dimension_diameter',\n",
        "* 'tumor_regression_grade',\n",
        "* 'tumor_stage',\n",
        "* 'vascular_invasion_present',\n",
        "* 'vascular_invasion_type',\n",
        "* 'weiss_assessment_score',\n",
        "* 'who_cns_grade',\n",
        "* 'who_nte_grade',\n",
        "* 'wilms_tumor_histologic_subtype',\n",
        "* 'year_of_diagnosis',\n",
        "* 'chemo_concurrent_to_radiation',\n",
        "* 'days_to_treatment_end',\n",
        "* 'days_to_treatment_start',\n",
        "* 'initial_disease_status',\n",
        "* 'number_of_cycles',\n",
        "* 'reason_treatment_ended',\n",
        "* 'regimen_or_line_of_therapy',\n",
        "* 'route_of_administration',\n",
        "* 'therapeutic_agents',\n",
        "* 'treatment_anatomic_site',\n",
        "* 'treatment_arm',\n",
        "* 'treatment_dose',\n",
        "* 'treatment_dose_units',\n",
        "* 'treatment_effect',\n",
        "* 'treatment_effect_indicator',\n",
        "* 'treatment_frequency',\n",
        "* 'treatment_intent_type',\n",
        "* 'treatment_or_therapy',\n",
        "* 'treatment_outcome',\n",
        "* 'treatment_type'"
      ],
      "metadata": {
        "id": "jPkdlPFzPr-Z"
      }
    },
    {
      "cell_type": "code",
      "source": [
        "clin = pd.read_csv('/content/clinical.tsv', sep=None)\n",
        "# clin"
      ],
      "metadata": {
        "colab": {
          "base_uri": "https://localhost:8080/"
        },
        "id": "ah_wBIJHK4n4",
        "outputId": "48b1b741-f015-499e-b819-9d442be8a022"
      },
      "execution_count": 26,
      "outputs": [
        {
          "output_type": "stream",
          "name": "stderr",
          "text": [
            "<ipython-input-26-8e2fd7ee7e50>:1: ParserWarning: Falling back to the 'python' engine because the 'c' engine does not support sep=None with delim_whitespace=False; you can avoid this warning by specifying engine='python'.\n",
            "  clin = pd.read_csv('/content/clinical.tsv', sep=None)\n"
          ]
        }
      ]
    },
    {
      "cell_type": "code",
      "source": [
        "# clin.columns.values.tolist ()"
      ],
      "metadata": {
        "id": "2HCaHv2uPad5"
      },
      "execution_count": 5,
      "outputs": []
    },
    {
      "cell_type": "code",
      "source": [
        "# clin.loc[clin['ajcc_staging_system_edition'] == \"'--\", 'ajcc_staging_system_edition'] = ''"
      ],
      "metadata": {
        "id": "RtLYPe0gzS09"
      },
      "execution_count": 24,
      "outputs": []
    },
    {
      "cell_type": "code",
      "source": [
        "clin['ajcc_staging_system_edition']"
      ],
      "metadata": {
        "colab": {
          "base_uri": "https://localhost:8080/"
        },
        "id": "vV3aS61rvN6a",
        "outputId": "4f299a4b-14cd-4aeb-8c8c-e7cf0f4b8a75"
      },
      "execution_count": 27,
      "outputs": [
        {
          "output_type": "execute_result",
          "data": {
            "text/plain": [
              "0      '--\n",
              "1      '--\n",
              "2      '--\n",
              "3      '--\n",
              "4      '--\n",
              "      ... \n",
              "101    '--\n",
              "102    '--\n",
              "103    '--\n",
              "104    '--\n",
              "105    '--\n",
              "Name: ajcc_staging_system_edition, Length: 106, dtype: object"
            ]
          },
          "metadata": {},
          "execution_count": 27
        }
      ]
    },
    {
      "cell_type": "code",
      "source": [
        "n = 0\n",
        "for name, values in clin.iteritems ():\n",
        "  if values == \"'--\":\n",
        "    values = ''\n",
        "    n += 1\n",
        "print (n)\n"
      ],
      "metadata": {
        "id": "3OR_t6-u1f7P"
      },
      "execution_count": null,
      "outputs": []
    },
    {
      "cell_type": "code",
      "source": [
        "\n",
        "for name, values in clin.iteritems ():\n",
        "  if values.any(\"'--\"):\n",
        "    print (name)\n"
      ],
      "metadata": {
        "id": "s-k5W70K26f3",
        "outputId": "1611c165-5c6e-4978-93f4-6a04f61ce0ed",
        "colab": {
          "base_uri": "https://localhost:8080/",
          "height": 477
        }
      },
      "execution_count": 37,
      "outputs": [
        {
          "output_type": "stream",
          "name": "stderr",
          "text": [
            "<ipython-input-37-80e5395a451f>:1: FutureWarning: iteritems is deprecated and will be removed in a future version. Use .items instead.\n",
            "  for name, values in clin.iteritems ():\n"
          ]
        },
        {
          "output_type": "error",
          "ename": "ValueError",
          "evalue": "ignored",
          "traceback": [
            "\u001b[0;31m---------------------------------------------------------------------------\u001b[0m",
            "\u001b[0;31mKeyError\u001b[0m                                  Traceback (most recent call last)",
            "\u001b[0;32m/usr/local/lib/python3.10/dist-packages/pandas/core/generic.py\u001b[0m in \u001b[0;36m_get_axis_number\u001b[0;34m(cls, axis)\u001b[0m\n\u001b[1;32m    553\u001b[0m         \u001b[0;32mtry\u001b[0m\u001b[0;34m:\u001b[0m\u001b[0;34m\u001b[0m\u001b[0;34m\u001b[0m\u001b[0m\n\u001b[0;32m--> 554\u001b[0;31m             \u001b[0;32mreturn\u001b[0m \u001b[0mcls\u001b[0m\u001b[0;34m.\u001b[0m\u001b[0m_AXIS_TO_AXIS_NUMBER\u001b[0m\u001b[0;34m[\u001b[0m\u001b[0maxis\u001b[0m\u001b[0;34m]\u001b[0m\u001b[0;34m\u001b[0m\u001b[0;34m\u001b[0m\u001b[0m\n\u001b[0m\u001b[1;32m    555\u001b[0m         \u001b[0;32mexcept\u001b[0m \u001b[0mKeyError\u001b[0m\u001b[0;34m:\u001b[0m\u001b[0;34m\u001b[0m\u001b[0;34m\u001b[0m\u001b[0m\n",
            "\u001b[0;31mKeyError\u001b[0m: \"'--\"",
            "\nDuring handling of the above exception, another exception occurred:\n",
            "\u001b[0;31mValueError\u001b[0m                                Traceback (most recent call last)",
            "\u001b[0;32m<ipython-input-37-80e5395a451f>\u001b[0m in \u001b[0;36m<cell line: 1>\u001b[0;34m()\u001b[0m\n\u001b[1;32m      1\u001b[0m \u001b[0;32mfor\u001b[0m \u001b[0mname\u001b[0m\u001b[0;34m,\u001b[0m \u001b[0mvalues\u001b[0m \u001b[0;32min\u001b[0m \u001b[0mclin\u001b[0m\u001b[0;34m.\u001b[0m\u001b[0miteritems\u001b[0m \u001b[0;34m(\u001b[0m\u001b[0;34m)\u001b[0m\u001b[0;34m:\u001b[0m\u001b[0;34m\u001b[0m\u001b[0;34m\u001b[0m\u001b[0m\n\u001b[0;32m----> 2\u001b[0;31m   \u001b[0;32mif\u001b[0m \u001b[0mvalues\u001b[0m\u001b[0;34m.\u001b[0m\u001b[0mall\u001b[0m\u001b[0;34m(\u001b[0m\u001b[0;34m\"'--\"\u001b[0m\u001b[0;34m)\u001b[0m\u001b[0;34m:\u001b[0m\u001b[0;34m\u001b[0m\u001b[0;34m\u001b[0m\u001b[0m\n\u001b[0m\u001b[1;32m      3\u001b[0m     \u001b[0mprint\u001b[0m \u001b[0;34m(\u001b[0m\u001b[0mname\u001b[0m\u001b[0;34m)\u001b[0m\u001b[0;34m\u001b[0m\u001b[0;34m\u001b[0m\u001b[0m\n",
            "\u001b[0;32m/usr/local/lib/python3.10/dist-packages/pandas/core/generic.py\u001b[0m in \u001b[0;36mall\u001b[0;34m(self, axis, bool_only, skipna, level, **kwargs)\u001b[0m\n\u001b[1;32m  11627\u001b[0m         )\n\u001b[1;32m  11628\u001b[0m         \u001b[0;32mdef\u001b[0m \u001b[0mall\u001b[0m\u001b[0;34m(\u001b[0m\u001b[0mself\u001b[0m\u001b[0;34m,\u001b[0m \u001b[0maxis\u001b[0m\u001b[0;34m=\u001b[0m\u001b[0;36m0\u001b[0m\u001b[0;34m,\u001b[0m \u001b[0mbool_only\u001b[0m\u001b[0;34m=\u001b[0m\u001b[0;32mNone\u001b[0m\u001b[0;34m,\u001b[0m \u001b[0mskipna\u001b[0m\u001b[0;34m=\u001b[0m\u001b[0;32mTrue\u001b[0m\u001b[0;34m,\u001b[0m \u001b[0mlevel\u001b[0m\u001b[0;34m=\u001b[0m\u001b[0;32mNone\u001b[0m\u001b[0;34m,\u001b[0m \u001b[0;34m**\u001b[0m\u001b[0mkwargs\u001b[0m\u001b[0;34m)\u001b[0m\u001b[0;34m:\u001b[0m\u001b[0;34m\u001b[0m\u001b[0;34m\u001b[0m\u001b[0m\n\u001b[0;32m> 11629\u001b[0;31m             \u001b[0;32mreturn\u001b[0m \u001b[0mNDFrame\u001b[0m\u001b[0;34m.\u001b[0m\u001b[0mall\u001b[0m\u001b[0;34m(\u001b[0m\u001b[0mself\u001b[0m\u001b[0;34m,\u001b[0m \u001b[0maxis\u001b[0m\u001b[0;34m,\u001b[0m \u001b[0mbool_only\u001b[0m\u001b[0;34m,\u001b[0m \u001b[0mskipna\u001b[0m\u001b[0;34m,\u001b[0m \u001b[0mlevel\u001b[0m\u001b[0;34m,\u001b[0m \u001b[0;34m**\u001b[0m\u001b[0mkwargs\u001b[0m\u001b[0;34m)\u001b[0m\u001b[0;34m\u001b[0m\u001b[0;34m\u001b[0m\u001b[0m\n\u001b[0m\u001b[1;32m  11630\u001b[0m \u001b[0;34m\u001b[0m\u001b[0m\n\u001b[1;32m  11631\u001b[0m         \u001b[0msetattr\u001b[0m\u001b[0;34m(\u001b[0m\u001b[0mcls\u001b[0m\u001b[0;34m,\u001b[0m \u001b[0;34m\"all\"\u001b[0m\u001b[0;34m,\u001b[0m \u001b[0mall\u001b[0m\u001b[0;34m)\u001b[0m\u001b[0;34m\u001b[0m\u001b[0;34m\u001b[0m\u001b[0m\n",
            "\u001b[0;32m/usr/local/lib/python3.10/dist-packages/pandas/core/generic.py\u001b[0m in \u001b[0;36mall\u001b[0;34m(self, axis, bool_only, skipna, level, **kwargs)\u001b[0m\n\u001b[1;32m  11184\u001b[0m         \u001b[0;34m**\u001b[0m\u001b[0mkwargs\u001b[0m\u001b[0;34m,\u001b[0m\u001b[0;34m\u001b[0m\u001b[0;34m\u001b[0m\u001b[0m\n\u001b[1;32m  11185\u001b[0m     ) -> Series | bool_t:\n\u001b[0;32m> 11186\u001b[0;31m         return self._logical_func(\n\u001b[0m\u001b[1;32m  11187\u001b[0m             \u001b[0;34m\"all\"\u001b[0m\u001b[0;34m,\u001b[0m \u001b[0mnanops\u001b[0m\u001b[0;34m.\u001b[0m\u001b[0mnanall\u001b[0m\u001b[0;34m,\u001b[0m \u001b[0maxis\u001b[0m\u001b[0;34m,\u001b[0m \u001b[0mbool_only\u001b[0m\u001b[0;34m,\u001b[0m \u001b[0mskipna\u001b[0m\u001b[0;34m,\u001b[0m \u001b[0mlevel\u001b[0m\u001b[0;34m,\u001b[0m \u001b[0;34m**\u001b[0m\u001b[0mkwargs\u001b[0m\u001b[0;34m\u001b[0m\u001b[0;34m\u001b[0m\u001b[0m\n\u001b[1;32m  11188\u001b[0m         )\n",
            "\u001b[0;32m/usr/local/lib/python3.10/dist-packages/pandas/core/generic.py\u001b[0m in \u001b[0;36m_logical_func\u001b[0;34m(self, name, func, axis, bool_only, skipna, level, **kwargs)\u001b[0m\n\u001b[1;32m  11155\u001b[0m             \u001b[0;32mreturn\u001b[0m \u001b[0mobj\u001b[0m\u001b[0;34m.\u001b[0m\u001b[0m_reduce_axis1\u001b[0m\u001b[0;34m(\u001b[0m\u001b[0mname\u001b[0m\u001b[0;34m,\u001b[0m \u001b[0mfunc\u001b[0m\u001b[0;34m,\u001b[0m \u001b[0mskipna\u001b[0m\u001b[0;34m=\u001b[0m\u001b[0mskipna\u001b[0m\u001b[0;34m)\u001b[0m\u001b[0;34m\u001b[0m\u001b[0;34m\u001b[0m\u001b[0m\n\u001b[1;32m  11156\u001b[0m \u001b[0;34m\u001b[0m\u001b[0m\n\u001b[0;32m> 11157\u001b[0;31m         return self._reduce(\n\u001b[0m\u001b[1;32m  11158\u001b[0m             \u001b[0mfunc\u001b[0m\u001b[0;34m,\u001b[0m\u001b[0;34m\u001b[0m\u001b[0;34m\u001b[0m\u001b[0m\n\u001b[1;32m  11159\u001b[0m             \u001b[0mname\u001b[0m\u001b[0;34m=\u001b[0m\u001b[0mname\u001b[0m\u001b[0;34m,\u001b[0m\u001b[0;34m\u001b[0m\u001b[0;34m\u001b[0m\u001b[0m\n",
            "\u001b[0;32m/usr/local/lib/python3.10/dist-packages/pandas/core/series.py\u001b[0m in \u001b[0;36m_reduce\u001b[0;34m(self, op, name, axis, skipna, numeric_only, filter_type, **kwds)\u001b[0m\n\u001b[1;32m   4791\u001b[0m \u001b[0;34m\u001b[0m\u001b[0m\n\u001b[1;32m   4792\u001b[0m         \u001b[0;32mif\u001b[0m \u001b[0maxis\u001b[0m \u001b[0;32mis\u001b[0m \u001b[0;32mnot\u001b[0m \u001b[0;32mNone\u001b[0m\u001b[0;34m:\u001b[0m\u001b[0;34m\u001b[0m\u001b[0;34m\u001b[0m\u001b[0m\n\u001b[0;32m-> 4793\u001b[0;31m             \u001b[0mself\u001b[0m\u001b[0;34m.\u001b[0m\u001b[0m_get_axis_number\u001b[0m\u001b[0;34m(\u001b[0m\u001b[0maxis\u001b[0m\u001b[0;34m)\u001b[0m\u001b[0;34m\u001b[0m\u001b[0;34m\u001b[0m\u001b[0m\n\u001b[0m\u001b[1;32m   4794\u001b[0m \u001b[0;34m\u001b[0m\u001b[0m\n\u001b[1;32m   4795\u001b[0m         \u001b[0;32mif\u001b[0m \u001b[0misinstance\u001b[0m\u001b[0;34m(\u001b[0m\u001b[0mdelegate\u001b[0m\u001b[0;34m,\u001b[0m \u001b[0mExtensionArray\u001b[0m\u001b[0;34m)\u001b[0m\u001b[0;34m:\u001b[0m\u001b[0;34m\u001b[0m\u001b[0;34m\u001b[0m\u001b[0m\n",
            "\u001b[0;32m/usr/local/lib/python3.10/dist-packages/pandas/core/generic.py\u001b[0m in \u001b[0;36m_get_axis_number\u001b[0;34m(cls, axis)\u001b[0m\n\u001b[1;32m    554\u001b[0m             \u001b[0;32mreturn\u001b[0m \u001b[0mcls\u001b[0m\u001b[0;34m.\u001b[0m\u001b[0m_AXIS_TO_AXIS_NUMBER\u001b[0m\u001b[0;34m[\u001b[0m\u001b[0maxis\u001b[0m\u001b[0;34m]\u001b[0m\u001b[0;34m\u001b[0m\u001b[0;34m\u001b[0m\u001b[0m\n\u001b[1;32m    555\u001b[0m         \u001b[0;32mexcept\u001b[0m \u001b[0mKeyError\u001b[0m\u001b[0;34m:\u001b[0m\u001b[0;34m\u001b[0m\u001b[0;34m\u001b[0m\u001b[0m\n\u001b[0;32m--> 556\u001b[0;31m             \u001b[0;32mraise\u001b[0m \u001b[0mValueError\u001b[0m\u001b[0;34m(\u001b[0m\u001b[0;34mf\"No axis named {axis} for object type {cls.__name__}\"\u001b[0m\u001b[0;34m)\u001b[0m\u001b[0;34m\u001b[0m\u001b[0;34m\u001b[0m\u001b[0m\n\u001b[0m\u001b[1;32m    557\u001b[0m \u001b[0;34m\u001b[0m\u001b[0m\n\u001b[1;32m    558\u001b[0m     \u001b[0;34m@\u001b[0m\u001b[0mfinal\u001b[0m\u001b[0;34m\u001b[0m\u001b[0;34m\u001b[0m\u001b[0m\n",
            "\u001b[0;31mValueError\u001b[0m: No axis named '-- for object type Series"
          ]
        }
      ]
    },
    {
      "cell_type": "code",
      "source": [
        "\n",
        "clin.loc[clin['ajcc_staging_system_edition'] != \"'--\"]"
      ],
      "metadata": {
        "id": "VyX6KJ4rMS0w",
        "outputId": "c3de784b-30cb-4c7c-c3de-36a8dad64d0d",
        "colab": {
          "base_uri": "https://localhost:8080/",
          "height": 99
        }
      },
      "execution_count": 18,
      "outputs": [
        {
          "output_type": "execute_result",
          "data": {
            "text/plain": [
              "Empty DataFrame\n",
              "Columns: [case_id, case_submitter_id, project_id, age_at_index, age_is_obfuscated, cause_of_death, cause_of_death_source, country_of_residence_at_enrollment, days_to_birth, days_to_death, ethnicity, gender, occupation_duration_years, premature_at_birth, race, vital_status, weeks_gestation_at_birth, year_of_birth, year_of_death, adrenal_hormone, age_at_diagnosis, ajcc_clinical_m, ajcc_clinical_n, ajcc_clinical_stage, ajcc_clinical_t, ajcc_pathologic_m, ajcc_pathologic_n, ajcc_pathologic_stage, ajcc_pathologic_t, ajcc_staging_system_edition, anaplasia_present, anaplasia_present_type, ann_arbor_b_symptoms, ann_arbor_b_symptoms_described, ann_arbor_clinical_stage, ann_arbor_extranodal_involvement, ann_arbor_pathologic_stage, best_overall_response, breslow_thickness, burkitt_lymphoma_clinical_variant, child_pugh_classification, circumferential_resection_margin, classification_of_tumor, cog_liver_stage, cog_neuroblastoma_risk_group, cog_renal_stage, cog_rhabdomyosarcoma_risk_group, days_to_best_overall_response, days_to_diagnosis, days_to_last_follow_up, days_to_last_known_disease_status, days_to_recurrence, eln_risk_classification, enneking_msts_grade, enneking_msts_metastasis, enneking_msts_stage, enneking_msts_tumor_site, esophageal_columnar_dysplasia_degree, esophageal_columnar_metaplasia_present, figo_stage, figo_staging_edition_year, first_symptom_prior_to_diagnosis, gastric_esophageal_junction_involvement, gleason_grade_group, gleason_grade_tertiary, gleason_patterns_percent, goblet_cells_columnar_mucosa_present, greatest_tumor_dimension, gross_tumor_weight, icd_10_code, igcccg_stage, inpc_grade, inpc_histologic_group, inrg_stage, inss_stage, international_prognostic_index, irs_group, irs_stage, ishak_fibrosis_score, iss_stage, largest_extrapelvic_peritoneal_focus, last_known_disease_status, laterality, lymph_node_involved_site, lymph_nodes_positive, lymph_nodes_tested, lymphatic_invasion_present, margin_distance, margins_involved_site, masaoka_stage, medulloblastoma_molecular_classification, metastasis_at_diagnosis, metastasis_at_diagnosis_site, method_of_diagnosis, micropapillary_features, mitosis_karyorrhexis_index, mitotic_count, morphology, non_nodal_regional_disease, non_nodal_tumor_deposits, ...]\n",
              "Index: []\n",
              "\n",
              "[0 rows x 158 columns]"
            ],
            "text/html": [
              "\n",
              "  <div id=\"df-15750d8f-84b9-4d22-b4fc-6be85c5d1e1c\" class=\"colab-df-container\">\n",
              "    <div>\n",
              "<style scoped>\n",
              "    .dataframe tbody tr th:only-of-type {\n",
              "        vertical-align: middle;\n",
              "    }\n",
              "\n",
              "    .dataframe tbody tr th {\n",
              "        vertical-align: top;\n",
              "    }\n",
              "\n",
              "    .dataframe thead th {\n",
              "        text-align: right;\n",
              "    }\n",
              "</style>\n",
              "<table border=\"1\" class=\"dataframe\">\n",
              "  <thead>\n",
              "    <tr style=\"text-align: right;\">\n",
              "      <th></th>\n",
              "      <th>case_id</th>\n",
              "      <th>case_submitter_id</th>\n",
              "      <th>project_id</th>\n",
              "      <th>age_at_index</th>\n",
              "      <th>age_is_obfuscated</th>\n",
              "      <th>cause_of_death</th>\n",
              "      <th>cause_of_death_source</th>\n",
              "      <th>country_of_residence_at_enrollment</th>\n",
              "      <th>days_to_birth</th>\n",
              "      <th>days_to_death</th>\n",
              "      <th>...</th>\n",
              "      <th>treatment_arm</th>\n",
              "      <th>treatment_dose</th>\n",
              "      <th>treatment_dose_units</th>\n",
              "      <th>treatment_effect</th>\n",
              "      <th>treatment_effect_indicator</th>\n",
              "      <th>treatment_frequency</th>\n",
              "      <th>treatment_intent_type</th>\n",
              "      <th>treatment_or_therapy</th>\n",
              "      <th>treatment_outcome</th>\n",
              "      <th>treatment_type</th>\n",
              "    </tr>\n",
              "  </thead>\n",
              "  <tbody>\n",
              "  </tbody>\n",
              "</table>\n",
              "<p>0 rows × 158 columns</p>\n",
              "</div>\n",
              "    <div class=\"colab-df-buttons\">\n",
              "\n",
              "  <div class=\"colab-df-container\">\n",
              "    <button class=\"colab-df-convert\" onclick=\"convertToInteractive('df-15750d8f-84b9-4d22-b4fc-6be85c5d1e1c')\"\n",
              "            title=\"Convert this dataframe to an interactive table.\"\n",
              "            style=\"display:none;\">\n",
              "\n",
              "  <svg xmlns=\"http://www.w3.org/2000/svg\" height=\"24px\" viewBox=\"0 -960 960 960\">\n",
              "    <path d=\"M120-120v-720h720v720H120Zm60-500h600v-160H180v160Zm220 220h160v-160H400v160Zm0 220h160v-160H400v160ZM180-400h160v-160H180v160Zm440 0h160v-160H620v160ZM180-180h160v-160H180v160Zm440 0h160v-160H620v160Z\"/>\n",
              "  </svg>\n",
              "    </button>\n",
              "\n",
              "  <style>\n",
              "    .colab-df-container {\n",
              "      display:flex;\n",
              "      gap: 12px;\n",
              "    }\n",
              "\n",
              "    .colab-df-convert {\n",
              "      background-color: #E8F0FE;\n",
              "      border: none;\n",
              "      border-radius: 50%;\n",
              "      cursor: pointer;\n",
              "      display: none;\n",
              "      fill: #1967D2;\n",
              "      height: 32px;\n",
              "      padding: 0 0 0 0;\n",
              "      width: 32px;\n",
              "    }\n",
              "\n",
              "    .colab-df-convert:hover {\n",
              "      background-color: #E2EBFA;\n",
              "      box-shadow: 0px 1px 2px rgba(60, 64, 67, 0.3), 0px 1px 3px 1px rgba(60, 64, 67, 0.15);\n",
              "      fill: #174EA6;\n",
              "    }\n",
              "\n",
              "    .colab-df-buttons div {\n",
              "      margin-bottom: 4px;\n",
              "    }\n",
              "\n",
              "    [theme=dark] .colab-df-convert {\n",
              "      background-color: #3B4455;\n",
              "      fill: #D2E3FC;\n",
              "    }\n",
              "\n",
              "    [theme=dark] .colab-df-convert:hover {\n",
              "      background-color: #434B5C;\n",
              "      box-shadow: 0px 1px 3px 1px rgba(0, 0, 0, 0.15);\n",
              "      filter: drop-shadow(0px 1px 2px rgba(0, 0, 0, 0.3));\n",
              "      fill: #FFFFFF;\n",
              "    }\n",
              "  </style>\n",
              "\n",
              "    <script>\n",
              "      const buttonEl =\n",
              "        document.querySelector('#df-15750d8f-84b9-4d22-b4fc-6be85c5d1e1c button.colab-df-convert');\n",
              "      buttonEl.style.display =\n",
              "        google.colab.kernel.accessAllowed ? 'block' : 'none';\n",
              "\n",
              "      async function convertToInteractive(key) {\n",
              "        const element = document.querySelector('#df-15750d8f-84b9-4d22-b4fc-6be85c5d1e1c');\n",
              "        const dataTable =\n",
              "          await google.colab.kernel.invokeFunction('convertToInteractive',\n",
              "                                                    [key], {});\n",
              "        if (!dataTable) return;\n",
              "\n",
              "        const docLinkHtml = 'Like what you see? Visit the ' +\n",
              "          '<a target=\"_blank\" href=https://colab.research.google.com/notebooks/data_table.ipynb>data table notebook</a>'\n",
              "          + ' to learn more about interactive tables.';\n",
              "        element.innerHTML = '';\n",
              "        dataTable['output_type'] = 'display_data';\n",
              "        await google.colab.output.renderOutput(dataTable, element);\n",
              "        const docLink = document.createElement('div');\n",
              "        docLink.innerHTML = docLinkHtml;\n",
              "        element.appendChild(docLink);\n",
              "      }\n",
              "    </script>\n",
              "  </div>\n",
              "\n",
              "    </div>\n",
              "  </div>\n"
            ]
          },
          "metadata": {},
          "execution_count": 18
        }
      ]
    },
    {
      "cell_type": "markdown",
      "source": [
        "##Видимо Группы риска (вредные привычки).\n",
        "#!NB Самая старая женьщина в Мире всю жизнь курила и лопала шоколад (прожила 120 лет)\n",
        "\n",
        "Колонки:\n",
        "* 'case_id' ,\n",
        "* 'case_submitter_id',\n",
        "* 'project_id',\n",
        "* 'age_at_onset',\n",
        "* 'alcohol_days_per_week',\n",
        "* 'alcohol_drinks_per_day',\n",
        "* 'alcohol_history',\n",
        "* 'alcohol_intensity',\n",
        "* 'alcohol_type',\n",
        "* 'asbestos_exposure',\n",
        "* 'bmi',\n",
        "* 'cigarettes_per_day',\n",
        "* 'coal_dust_exposure',\n",
        "* 'environmental_tobacco_smoke_exposure',\n",
        "* 'exposure_duration',\n",
        "* 'exposure_duration_years',\n",
        "* 'exposure_type',\n",
        "* 'height',\n",
        "* 'marijuana_use_per_week',\n",
        "* 'pack_years_smoked',\n",
        "* 'parent_with_radiation_exposure',\n",
        "* 'radon_exposure',\n",
        "* 'respirable_crystalline_silica_exposure',\n",
        "* 'secondhand_smoke_as_child',\n",
        "* 'smokeless_tobacco_quit_age',\n",
        "* 'smoking_frequency',\n",
        "* 'time_between_waking_and_first_smoke',\n",
        "* 'tobacco_smoking_onset_year',\n",
        "* 'tobacco_smoking_quit_year',\n",
        "* 'tobacco_smoking_status',\n",
        "* 'tobacco_use_per_day',\n",
        "* 'type_of_smoke_exposure',\n",
        "* 'type_of_tobacco_used',\n",
        "* 'weight',\n",
        "* 'years_smoked'"
      ],
      "metadata": {
        "id": "B40qyn82N_p5"
      }
    },
    {
      "cell_type": "code",
      "source": [
        "exposure = pd.read_csv('/content/exposure.tsv', sep=None)\n",
        "# exposure"
      ],
      "metadata": {
        "colab": {
          "base_uri": "https://localhost:8080/"
        },
        "id": "Y77P4vHRNIkA",
        "outputId": "30f4c666-6a21-46ac-c80e-0e136b09e5f6"
      },
      "execution_count": 8,
      "outputs": [
        {
          "output_type": "stream",
          "name": "stderr",
          "text": [
            "<ipython-input-8-91fbf7ee888d>:1: ParserWarning: Falling back to the 'python' engine because the 'c' engine does not support sep=None with delim_whitespace=False; you can avoid this warning by specifying engine='python'.\n",
            "  exposure = pd.read_csv('/content/exposure.tsv', sep=None)\n"
          ]
        }
      ]
    },
    {
      "cell_type": "code",
      "source": [
        "# exposure.columns.values.tolist ()"
      ],
      "metadata": {
        "id": "B6MAc8i_Ofbb"
      },
      "execution_count": 9,
      "outputs": []
    },
    {
      "cell_type": "code",
      "source": [
        "# exposure.info()"
      ],
      "metadata": {
        "id": "1SFOxsHNXhNG"
      },
      "execution_count": 10,
      "outputs": []
    },
    {
      "cell_type": "markdown",
      "source": [
        "##Видимо Семейный анамнез (история семьи)\n",
        "Но записей нет\n",
        "Столбцы:\n",
        "* 'case_id',\n",
        "* 'case_submitter_id',\n",
        "* 'project_id',\n",
        "* 'relationship_age_at_diagnosis',\n",
        "* 'relationship_gender',\n",
        "* 'relationship_primary_diagnosis',\n",
        "* 'relationship_type',\n",
        "* 'relative_with_cancer_history',\n",
        "* 'relatives_with_cancer_history_count'"
      ],
      "metadata": {
        "id": "8xDuhbTHX6__"
      }
    },
    {
      "cell_type": "code",
      "source": [
        "fam_hist = pd.read_csv('/content/family_history.tsv', sep= None)\n",
        "# fam_hist.info()"
      ],
      "metadata": {
        "colab": {
          "base_uri": "https://localhost:8080/"
        },
        "id": "4VwUy1qUrxMo",
        "outputId": "c998fd37-c3e8-4ef7-c70b-658ef6c96571"
      },
      "execution_count": 11,
      "outputs": [
        {
          "output_type": "stream",
          "name": "stderr",
          "text": [
            "<ipython-input-11-b54e295bc04e>:1: ParserWarning: Falling back to the 'python' engine because the 'c' engine does not support sep=None with delim_whitespace=False; you can avoid this warning by specifying engine='python'.\n",
            "  fam_hist = pd.read_csv('/content/family_history.tsv', sep= None)\n"
          ]
        }
      ]
    },
    {
      "cell_type": "markdown",
      "source": [
        "##Видимо Исход (дальнейшее наблюдение, диспансеризация)\n",
        "Но записей нет\n",
        "\n",
        "Столбцы:\n",
        "* 'case_id',\n",
        "* 'case_submitter_id',\n",
        "* 'project_id',\n",
        "* 'adverse_event',\n",
        "* 'adverse_event_grade',\n",
        "* 'aids_risk_factors',\n",
        "* 'barretts_esophagus_goblet_cells_present',\n",
        "* 'bmi',\n",
        "* 'body_surface_area',\n",
        "* 'cause_of_response',\n",
        "* 'cd4_count',\n",
        "* 'cdc_hiv_risk_factors',\n",
        "* 'comorbidity',\n",
        "* 'comorbidity_method_of_diagnosis',\n",
        "* 'days_to_adverse_event',\n",
        "* 'days_to_comorbidity',\n",
        "* 'days_to_follow_up',\n",
        "* 'days_to_imaging',\n",
        "* 'days_to_progression',\n",
        "* 'days_to_progression_free',\n",
        "* 'days_to_recurrence',\n",
        "* 'diabetes_treatment_type',\n",
        "* 'disease_response',\n",
        "* 'dlco_ref_predictive_percent',\n",
        "* 'ecog_performance_status',\n",
        "* 'evidence_of_recurrence_type',\n",
        "* 'eye_color',\n",
        "* 'fev1_fvc_post_bronch_percent',\n",
        "* 'fev1_fvc_pre_bronch_percent',\n",
        "* 'fev1_ref_post_bronch_percent',\n",
        "* 'fev1_ref_pre_bronch_percent',\n",
        "* 'follow_up_id',\n",
        "* 'follow_up_submitter_id',\n",
        "* 'haart_treatment_indicator',\n",
        "* 'height',\n",
        "* 'hepatitis_sustained_virological_response',\n",
        "* 'history_of_tumor',\n",
        "* 'history_of_tumor_type',\n",
        "* 'hiv_viral_load',\n",
        "* 'hormonal_contraceptive_type',\n",
        "* 'hormonal_contraceptive_use',\n",
        "* 'hormone_replacement_therapy_type',\n",
        "* 'hpv_positive_type',\n",
        "* 'hysterectomy_margins_involved',\n",
        "* 'hysterectomy_type',\n",
        "* 'imaging_result',\n",
        "* 'imaging_type',\n",
        "* 'immunosuppressive_treatment_type',\n",
        "* 'karnofsky_performance_status',\n",
        "* 'menopause_status',\n",
        "* 'nadir_cd4_count',\n",
        "* 'pancreatitis_onset_year',\n",
        "* 'pregnancy_outcome',\n",
        "* 'procedures_performed',\n",
        "* 'progression_or_recurrence',\n",
        "* 'progression_or_recurrence_anatomic_site',\n",
        "* 'progression_or_recurrence_type',\n",
        "* 'recist_targeted_regions_number',\n",
        "* 'recist_targeted_regions_sum',\n",
        "* 'reflux_treatment_type',\n",
        "* 'risk_factor',\n",
        "* 'risk_factor_treatment',\n",
        "* 'scan_tracer_used',\n",
        "* 'undescended_testis_corrected',\n",
        "* 'undescended_testis_corrected_age',\n",
        "* 'undescended_testis_corrected_laterality',\n",
        "* 'undescended_testis_corrected_method',\n",
        "* 'undescended_testis_history',\n",
        "* 'undescended_testis_history_laterality',\n",
        "* 'viral_hepatitis_serologies',\n",
        "* 'weight',\n",
        "* 'aa_change',\n",
        "* 'antigen',\n",
        "* 'biospecimen_type',\n",
        "* 'biospecimen_volume',\n",
        "* 'blood_test_normal_range_lower',\n",
        "* 'blood_test_normal_range_upper',\n",
        "* 'cell_count',\n",
        "* 'chromosome',\n",
        "* 'clonality',\n",
        "* 'copy_number',\n",
        "* 'cytoband',\n",
        "* 'days_to_test',\n",
        "* 'exon',\n",
        "* 'gene_symbol',\n",
        "* 'histone_family',\n",
        "* 'histone_variant',\n",
        "* 'intron',\n",
        "* 'laboratory_test',\n",
        "* 'loci_abnormal_count',\n",
        "* 'loci_count',\n",
        "* 'locus',\n",
        "* 'mismatch_repair_mutation',\n",
        "* 'mitotic_count',\n",
        "* 'mitotic_total_area',\n",
        "* 'molecular_analysis_method',\n",
        "* 'molecular_consequence',\n",
        "* 'molecular_test_id',\n",
        "* 'molecular_test_submitter_id',\n",
        "* 'pathogenicity',\n",
        "* 'ploidy',\n",
        "* 'second_exon',\n",
        "* 'second_gene_symbol',\n",
        "* 'specialized_molecular_test',\n",
        "* 'test_analyte_type',\n",
        "* 'test_result',\n",
        "* 'test_units',\n",
        "* 'test_value',\n",
        "* 'transcript',\n",
        "* 'variant_origin',\n",
        "* 'variant_type',\n",
        "* 'zygosity'\n"
      ],
      "metadata": {
        "id": "1WxBV0V_emm3"
      }
    },
    {
      "cell_type": "code",
      "source": [
        "foll_up = pd.read_csv('/content/follow_up.tsv', sep= None)\n",
        "# foll_up"
      ],
      "metadata": {
        "colab": {
          "base_uri": "https://localhost:8080/"
        },
        "id": "HiBWgKzBYU-Y",
        "outputId": "90422676-8e7f-4668-8afc-635d05e4ecd6"
      },
      "execution_count": 12,
      "outputs": [
        {
          "output_type": "stream",
          "name": "stderr",
          "text": [
            "<ipython-input-12-f5634306870d>:1: ParserWarning: Falling back to the 'python' engine because the 'c' engine does not support sep=None with delim_whitespace=False; you can avoid this warning by specifying engine='python'.\n",
            "  foll_up = pd.read_csv('/content/follow_up.tsv', sep= None)\n"
          ]
        }
      ]
    },
    {
      "cell_type": "code",
      "source": [
        "# foll_up.columns.values.tolist()"
      ],
      "metadata": {
        "id": "FPxy3RaiZNwn"
      },
      "execution_count": 13,
      "outputs": []
    },
    {
      "cell_type": "code",
      "source": [
        "# foll_up.info()"
      ],
      "metadata": {
        "id": "jfI6Cam7Zrlv"
      },
      "execution_count": 14,
      "outputs": []
    },
    {
      "cell_type": "markdown",
      "source": [
        "##Видимо Подробности патологии\n",
        "Но тоже пустая\n",
        "\n",
        "Столбцы:\n",
        "* 'case_id',\n",
        "* 'case_submitter_id',\n",
        "* 'project_id',\n",
        "* 'diagnosis_id',\n",
        "* 'diagnosis_submitter_id',\n",
        "* 'additional_pathology_findings',\n",
        "* 'anaplasia_present',\n",
        "* 'anaplasia_present_type',\n",
        "* 'bone_marrow_malignant_cells',\n",
        "* 'breslow_thickness',\n",
        "* 'circumferential_resection_margin',\n",
        "* 'columnar_mucosa_present',\n",
        "* 'consistent_pathology_review',\n",
        "* 'dysplasia_degree',\n",
        "* 'dysplasia_type',\n",
        "* 'greatest_tumor_dimension',\n",
        "* 'gross_tumor_weight',\n",
        "* 'largest_extrapelvic_peritoneal_focus',\n",
        "* 'lymph_node_involved_site',\n",
        "* 'lymph_node_involvement',\n",
        "* 'lymph_nodes_positive',\n",
        "* 'lymph_nodes_tested',\n",
        "* 'lymphatic_invasion_present',\n",
        "* 'margin_status',\n",
        "* 'metaplasia_present',\n",
        "* 'morphologic_architectural_pattern',\n",
        "* 'necrosis_percent',\n",
        "* 'necrosis_present',\n",
        "* 'non_nodal_regional_disease',\n",
        "* 'non_nodal_tumor_deposits',\n",
        "* 'number_proliferating_cells',\n",
        "* 'pathology_detail_id',\n",
        "* 'pathology_detail_submitter_id',\n",
        "* 'percent_tumor_invasion',\n",
        "* 'perineural_invasion_present',\n",
        "* 'peripancreatic_lymph_nodes_positive',\n",
        "* 'peripancreatic_lymph_nodes_tested',\n",
        "* 'prostatic_chips_positive_count',\n",
        "* 'prostatic_chips_total_count',\n",
        "* 'prostatic_involvement_percent',\n",
        "* 'residual_tumor',\n",
        "* 'rhabdoid_percent',\n",
        "* 'rhabdoid_present',\n",
        "* 'sarcomatoid_percent',\n",
        "* 'sarcomatoid_present',\n",
        "* 'size_extraocular_nodule',\n",
        "* 'transglottic_extension',\n",
        "* 'tumor_largest_dimension_diameter',\n",
        "* 'tumor_thickness',\n",
        "* 'vascular_invasion_present',\n",
        "* 'vascular_invasion_type'"
      ],
      "metadata": {
        "id": "Og_XNZUyiYEx"
      }
    },
    {
      "cell_type": "code",
      "source": [
        "# path_det = pd.read_csv('/content/pathology_detail.tsv', sep=None)\n",
        "# path_det"
      ],
      "metadata": {
        "id": "VaQC-f0xfQIP"
      },
      "execution_count": 15,
      "outputs": []
    },
    {
      "cell_type": "code",
      "source": [
        "# path_det.columns.values.tolist()"
      ],
      "metadata": {
        "id": "CiipC8ebh3dn"
      },
      "execution_count": 16,
      "outputs": []
    },
    {
      "cell_type": "code",
      "source": [
        "# path_det.info()"
      ],
      "metadata": {
        "id": "RxVmbJZOiOf3"
      },
      "execution_count": 17,
      "outputs": []
    },
    {
      "cell_type": "markdown",
      "source": [
        "#Заключение\n",
        "В архиве представлено 5 таблиц (Клиника, Группы риска, Семейный анамнез, Исход, Подробности патологии), 3 таблицы не заполнены. Поэтому в работу их не беру. Итого в работе 2 таблицы (Клиника(***clinical.tsv***) и Группы риска(***exposure.tsv***)).\n",
        "Для началы выберу столбцы в каждой таблице и объединю их по ***case_id***"
      ],
      "metadata": {
        "id": "nn2_wwV7jOeZ"
      }
    }
  ]
}
